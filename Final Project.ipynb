{
 "cells": [
  {
   "cell_type": "markdown",
   "id": "96a7f30d",
   "metadata": {},
   "source": [
    "# What Makes a Hit?\n",
    "# Predicting the Popularity of a Songs on Spotify"
   ]
  },
  {
   "cell_type": "markdown",
   "id": "c7b9d49c",
   "metadata": {},
   "source": [
    "### Presented by Malachi Hale"
   ]
  },
  {
   "cell_type": "markdown",
   "id": "01515320",
   "metadata": {},
   "source": [
    "## Executive Summary\n",
    "### Background"
   ]
  },
  {
   "cell_type": "markdown",
   "id": "f17b9e06",
   "metadata": {},
   "source": [
    "Spotify is the world's largest music and audio streaming service provider. Spotify has a library of over 70 million tracks. Each of the tracks in Spotify's library receives a number indicating that track's popularity index. The popularity index is structured such that 0 is the least popular and 100 is the most popular. \n",
    "\n",
    "Spotify has an algorithm which calculates each tracks popularity index score based on how many plays the track receives, as well as how recent those plays were. \n",
    "\n",
    "To begin with, we acquired a sample of Spotify library as of April 2021. Our data contains:\n",
    " - 586,672 tracks in the Spotify library, \n",
    " - descriptive features of each track, and \n",
    " - the songs popularity index as of April 16, 2021.\n",
    "\n",
    "Our data sources is located here: \n",
    " - https://www.kaggle.com/subhaskumarray/spotify-tracks-data\n",
    " \n",
    "**A Note on Spotify's Descriptive Features**\n",
    "\n",
    "Many of the descriptive features that Spotify assigns to some of its tracks are questionable. For example, audiobooks often get a high \"danceability\" score. Clearly, it is not reasonable to call an audiobook with no music \"danceable\". It is not clear how Spotify assigns each descriptive feature to each track in their API.\n",
    "\n",
    "The purpose of this project, however, is to use Spotify's own attributes to predict Spotify's own popularity index score. Thus, we will use the attributes from Spotify's own API to build our models, even when we may personally disagree that these attributes accurately describe the tracks.\n",
    "\n",
    "**Project Goal**\n",
    "\n",
    "In this project, we pose the question: can we use features of each track to predict where the track is likely to place on the popularity index? More specifically, can we build a model that uses features of tracks to predict that tracks placement on the popularity index?\n",
    "\n",
    "**Outline** \n",
    "\n",
    "We will take the following steps:\n",
    " - **Acquire** data from the Spotify API from April 2021. \n",
    " - **Prepare** the data by \n",
    "     - imputing null values, \n",
    "     - making columns easier to process, \n",
    "     - removing outliers, \n",
    "     - splitting data into train, validate, and test datasets, \n",
    "     - and adding scaled columns.\n",
    " - **Explore** the data by creating visualizations, running feature engineering, and creating cluster groupings. \n",
    " - **Model** the data to predict popularity of each song. \n",
    " \n",
    "**Key findings**\n",
    "\n",
    "We will demonstrate that it is possible to use the features of each track to predict that track's popularity, with a higher validity than the baseline model. \n",
    "\n",
    "**Recommendation**\n",
    "\n",
    "In this project, I used the models I was familiar with to make predictions about each track's popularity. There may be more effective models with which I am not familiar. This is worth exploring to predict a song's popularity. "
   ]
  },
  {
   "cell_type": "markdown",
   "id": "94a16bac",
   "metadata": {},
   "source": [
    "## Import Libraries"
   ]
  },
  {
   "cell_type": "code",
   "execution_count": 1,
   "id": "12b1481b",
   "metadata": {},
   "outputs": [],
   "source": [
    "#Disable Warnings\n",
    "import warnings\n",
    "warnings.filterwarnings(\"ignore\")\n",
    "\n",
    "#Import pandas for dataframes\n",
    "import pandas as pd\n",
    "\n",
    "#Graphing imports\n",
    "import seaborn as sns\n",
    "import matplotlib.pyplot as plt\n",
    "\n",
    "#Prepare functions \n",
    "from prepare import prepare_data\n",
    "from prepare import data_no_outliers\n",
    "from prepare import split_data\n",
    "from prepare import add_scaled_columns\n",
    "\n",
    "#Import for Clustering \n",
    "from sklearn.cluster import KMeans\n",
    "\n",
    "#Import stastitics\n",
    "from scipy import stats\n",
    "\n",
    "#Sklearn imports for processing data\n",
    "from sklearn.model_selection import train_test_split\n",
    "from sklearn.impute import SimpleImputer\n",
    "import sklearn.preprocessing\n",
    "from sklearn.feature_selection import SelectKBest, f_regression, RFE\n",
    "from sklearn.preprocessing import PolynomialFeatures\n",
    "from sklearn.linear_model import LinearRegression, LassoLars, TweedieRegressor\n",
    "from sklearn.metrics import mean_squared_error\n",
    "\n",
    "import opendatasets as od"
   ]
  },
  {
   "cell_type": "markdown",
   "id": "80f61455",
   "metadata": {},
   "source": [
    "## Acquire Data"
   ]
  },
  {
   "cell_type": "markdown",
   "id": "97da52f0",
   "metadata": {},
   "source": [
    "We have previously downloaded the data into a CSV file in this repository. We will read that CSV into a DataFrame below."
   ]
  },
  {
   "cell_type": "code",
   "execution_count": null,
   "id": "39019842",
   "metadata": {},
   "outputs": [],
   "source": [
    "df = pd.read_csv(r'/Users/malachihale/codeup-data-science/End-to-End-Project/tracks.csv')"
   ]
  },
  {
   "cell_type": "code",
   "execution_count": 113,
   "id": "852553f3",
   "metadata": {},
   "outputs": [
    {
     "data": {
      "text/html": [
       "<div>\n",
       "<style scoped>\n",
       "    .dataframe tbody tr th:only-of-type {\n",
       "        vertical-align: middle;\n",
       "    }\n",
       "\n",
       "    .dataframe tbody tr th {\n",
       "        vertical-align: top;\n",
       "    }\n",
       "\n",
       "    .dataframe thead th {\n",
       "        text-align: right;\n",
       "    }\n",
       "</style>\n",
       "<table border=\"1\" class=\"dataframe\">\n",
       "  <thead>\n",
       "    <tr style=\"text-align: right;\">\n",
       "      <th></th>\n",
       "      <th>id</th>\n",
       "      <th>name</th>\n",
       "      <th>popularity</th>\n",
       "      <th>duration_ms</th>\n",
       "      <th>explicit</th>\n",
       "      <th>artists</th>\n",
       "      <th>id_artists</th>\n",
       "      <th>release_date</th>\n",
       "      <th>danceability</th>\n",
       "      <th>energy</th>\n",
       "      <th>key</th>\n",
       "      <th>loudness</th>\n",
       "      <th>mode</th>\n",
       "      <th>speechiness</th>\n",
       "      <th>acousticness</th>\n",
       "      <th>instrumentalness</th>\n",
       "      <th>liveness</th>\n",
       "      <th>valence</th>\n",
       "      <th>tempo</th>\n",
       "      <th>time_signature</th>\n",
       "    </tr>\n",
       "  </thead>\n",
       "  <tbody>\n",
       "    <tr>\n",
       "      <th>0</th>\n",
       "      <td>35iwgR4jXetI318WEWsa1Q</td>\n",
       "      <td>Carve</td>\n",
       "      <td>6</td>\n",
       "      <td>126903</td>\n",
       "      <td>0</td>\n",
       "      <td>['Uli']</td>\n",
       "      <td>['45tIt06XoI0Iio4LBEVpls']</td>\n",
       "      <td>1922-02-22</td>\n",
       "      <td>0.645</td>\n",
       "      <td>0.4450</td>\n",
       "      <td>0</td>\n",
       "      <td>-13.338</td>\n",
       "      <td>1</td>\n",
       "      <td>0.4510</td>\n",
       "      <td>0.674</td>\n",
       "      <td>0.7440</td>\n",
       "      <td>0.151</td>\n",
       "      <td>0.127</td>\n",
       "      <td>104.851</td>\n",
       "      <td>3</td>\n",
       "    </tr>\n",
       "    <tr>\n",
       "      <th>1</th>\n",
       "      <td>021ht4sdgPcrDgSk7JTbKY</td>\n",
       "      <td>Capítulo 2.16 - Banquero Anarquista</td>\n",
       "      <td>0</td>\n",
       "      <td>98200</td>\n",
       "      <td>0</td>\n",
       "      <td>['Fernando Pessoa']</td>\n",
       "      <td>['14jtPCOoNZwquk5wd9DxrY']</td>\n",
       "      <td>1922-06-01</td>\n",
       "      <td>0.695</td>\n",
       "      <td>0.2630</td>\n",
       "      <td>0</td>\n",
       "      <td>-22.136</td>\n",
       "      <td>1</td>\n",
       "      <td>0.9570</td>\n",
       "      <td>0.797</td>\n",
       "      <td>0.0000</td>\n",
       "      <td>0.148</td>\n",
       "      <td>0.655</td>\n",
       "      <td>102.009</td>\n",
       "      <td>1</td>\n",
       "    </tr>\n",
       "    <tr>\n",
       "      <th>2</th>\n",
       "      <td>07A5yehtSnoedViJAZkNnc</td>\n",
       "      <td>Vivo para Quererte - Remasterizado</td>\n",
       "      <td>0</td>\n",
       "      <td>181640</td>\n",
       "      <td>0</td>\n",
       "      <td>['Ignacio Corsini']</td>\n",
       "      <td>['5LiOoJbxVSAMkBS2fUm3X2']</td>\n",
       "      <td>1922-03-21</td>\n",
       "      <td>0.434</td>\n",
       "      <td>0.1770</td>\n",
       "      <td>1</td>\n",
       "      <td>-21.180</td>\n",
       "      <td>1</td>\n",
       "      <td>0.0512</td>\n",
       "      <td>0.994</td>\n",
       "      <td>0.0218</td>\n",
       "      <td>0.212</td>\n",
       "      <td>0.457</td>\n",
       "      <td>130.418</td>\n",
       "      <td>5</td>\n",
       "    </tr>\n",
       "    <tr>\n",
       "      <th>3</th>\n",
       "      <td>08FmqUhxtyLTn6pAh6bk45</td>\n",
       "      <td>El Prisionero - Remasterizado</td>\n",
       "      <td>0</td>\n",
       "      <td>176907</td>\n",
       "      <td>0</td>\n",
       "      <td>['Ignacio Corsini']</td>\n",
       "      <td>['5LiOoJbxVSAMkBS2fUm3X2']</td>\n",
       "      <td>1922-03-21</td>\n",
       "      <td>0.321</td>\n",
       "      <td>0.0946</td>\n",
       "      <td>7</td>\n",
       "      <td>-27.961</td>\n",
       "      <td>1</td>\n",
       "      <td>0.0504</td>\n",
       "      <td>0.995</td>\n",
       "      <td>0.9180</td>\n",
       "      <td>0.104</td>\n",
       "      <td>0.397</td>\n",
       "      <td>169.980</td>\n",
       "      <td>3</td>\n",
       "    </tr>\n",
       "    <tr>\n",
       "      <th>4</th>\n",
       "      <td>08y9GfoqCWfOGsKdwojr5e</td>\n",
       "      <td>Lady of the Evening</td>\n",
       "      <td>0</td>\n",
       "      <td>163080</td>\n",
       "      <td>0</td>\n",
       "      <td>['Dick Haymes']</td>\n",
       "      <td>['3BiJGZsyX9sJchTqcSA7Su']</td>\n",
       "      <td>1922</td>\n",
       "      <td>0.402</td>\n",
       "      <td>0.1580</td>\n",
       "      <td>3</td>\n",
       "      <td>-16.900</td>\n",
       "      <td>0</td>\n",
       "      <td>0.0390</td>\n",
       "      <td>0.989</td>\n",
       "      <td>0.1300</td>\n",
       "      <td>0.311</td>\n",
       "      <td>0.196</td>\n",
       "      <td>103.220</td>\n",
       "      <td>4</td>\n",
       "    </tr>\n",
       "  </tbody>\n",
       "</table>\n",
       "</div>"
      ],
      "text/plain": [
       "                       id                                 name  popularity  \\\n",
       "0  35iwgR4jXetI318WEWsa1Q                                Carve           6   \n",
       "1  021ht4sdgPcrDgSk7JTbKY  Capítulo 2.16 - Banquero Anarquista           0   \n",
       "2  07A5yehtSnoedViJAZkNnc   Vivo para Quererte - Remasterizado           0   \n",
       "3  08FmqUhxtyLTn6pAh6bk45        El Prisionero - Remasterizado           0   \n",
       "4  08y9GfoqCWfOGsKdwojr5e                  Lady of the Evening           0   \n",
       "\n",
       "   duration_ms  explicit              artists                  id_artists  \\\n",
       "0       126903         0              ['Uli']  ['45tIt06XoI0Iio4LBEVpls']   \n",
       "1        98200         0  ['Fernando Pessoa']  ['14jtPCOoNZwquk5wd9DxrY']   \n",
       "2       181640         0  ['Ignacio Corsini']  ['5LiOoJbxVSAMkBS2fUm3X2']   \n",
       "3       176907         0  ['Ignacio Corsini']  ['5LiOoJbxVSAMkBS2fUm3X2']   \n",
       "4       163080         0      ['Dick Haymes']  ['3BiJGZsyX9sJchTqcSA7Su']   \n",
       "\n",
       "  release_date  danceability  energy  key  loudness  mode  speechiness  \\\n",
       "0   1922-02-22         0.645  0.4450    0   -13.338     1       0.4510   \n",
       "1   1922-06-01         0.695  0.2630    0   -22.136     1       0.9570   \n",
       "2   1922-03-21         0.434  0.1770    1   -21.180     1       0.0512   \n",
       "3   1922-03-21         0.321  0.0946    7   -27.961     1       0.0504   \n",
       "4         1922         0.402  0.1580    3   -16.900     0       0.0390   \n",
       "\n",
       "   acousticness  instrumentalness  liveness  valence    tempo  time_signature  \n",
       "0         0.674            0.7440     0.151    0.127  104.851               3  \n",
       "1         0.797            0.0000     0.148    0.655  102.009               1  \n",
       "2         0.994            0.0218     0.212    0.457  130.418               5  \n",
       "3         0.995            0.9180     0.104    0.397  169.980               3  \n",
       "4         0.989            0.1300     0.311    0.196  103.220               4  "
      ]
     },
     "execution_count": 113,
     "metadata": {},
     "output_type": "execute_result"
    }
   ],
   "source": [
    "df.head()"
   ]
  },
  {
   "cell_type": "code",
   "execution_count": 114,
   "id": "a1e5dfdc",
   "metadata": {},
   "outputs": [
    {
     "data": {
      "text/plain": [
       "586672"
      ]
     },
     "execution_count": 114,
     "metadata": {},
     "output_type": "execute_result"
    }
   ],
   "source": [
    "len(df)"
   ]
  },
  {
   "cell_type": "markdown",
   "id": "b27f50d9",
   "metadata": {},
   "source": [
    "We have 58,672 tracks in our dataset."
   ]
  },
  {
   "cell_type": "code",
   "execution_count": 115,
   "id": "ff5ff9e8",
   "metadata": {},
   "outputs": [
    {
     "data": {
      "text/html": [
       "<div>\n",
       "<style scoped>\n",
       "    .dataframe tbody tr th:only-of-type {\n",
       "        vertical-align: middle;\n",
       "    }\n",
       "\n",
       "    .dataframe tbody tr th {\n",
       "        vertical-align: top;\n",
       "    }\n",
       "\n",
       "    .dataframe thead th {\n",
       "        text-align: right;\n",
       "    }\n",
       "</style>\n",
       "<table border=\"1\" class=\"dataframe\">\n",
       "  <thead>\n",
       "    <tr style=\"text-align: right;\">\n",
       "      <th></th>\n",
       "      <th>id</th>\n",
       "      <th>name</th>\n",
       "      <th>popularity</th>\n",
       "      <th>duration_ms</th>\n",
       "      <th>explicit</th>\n",
       "      <th>artists</th>\n",
       "      <th>id_artists</th>\n",
       "      <th>release_date</th>\n",
       "      <th>danceability</th>\n",
       "      <th>energy</th>\n",
       "      <th>key</th>\n",
       "      <th>loudness</th>\n",
       "      <th>mode</th>\n",
       "      <th>speechiness</th>\n",
       "      <th>acousticness</th>\n",
       "      <th>instrumentalness</th>\n",
       "      <th>liveness</th>\n",
       "      <th>valence</th>\n",
       "      <th>tempo</th>\n",
       "      <th>time_signature</th>\n",
       "    </tr>\n",
       "  </thead>\n",
       "  <tbody>\n",
       "    <tr>\n",
       "      <th>86695</th>\n",
       "      <td>0usLN2VpccZQwWkGLm3Odm</td>\n",
       "      <td>2013 Will Be My Year</td>\n",
       "      <td>0</td>\n",
       "      <td>161045</td>\n",
       "      <td>0</td>\n",
       "      <td>['Jay and Others :&gt;']</td>\n",
       "      <td>['3pwVqfe1xCnGTTnbVjYf74']</td>\n",
       "      <td>2021-04-16</td>\n",
       "      <td>0.347</td>\n",
       "      <td>0.965</td>\n",
       "      <td>10</td>\n",
       "      <td>-6.014</td>\n",
       "      <td>1</td>\n",
       "      <td>0.1420</td>\n",
       "      <td>0.05040</td>\n",
       "      <td>0.000000</td>\n",
       "      <td>0.3430</td>\n",
       "      <td>0.392</td>\n",
       "      <td>90.987</td>\n",
       "      <td>4</td>\n",
       "    </tr>\n",
       "    <tr>\n",
       "      <th>92864</th>\n",
       "      <td>1Nlstdx5q4GVUyaQqHYvqh</td>\n",
       "      <td>Inner City Life - 2020 Remaster</td>\n",
       "      <td>0</td>\n",
       "      <td>422183</td>\n",
       "      <td>0</td>\n",
       "      <td>['Goldie']</td>\n",
       "      <td>['2SYqJ3uDLLXZNyZdLKBy4M']</td>\n",
       "      <td>2021-04-16</td>\n",
       "      <td>0.384</td>\n",
       "      <td>0.889</td>\n",
       "      <td>7</td>\n",
       "      <td>-6.548</td>\n",
       "      <td>1</td>\n",
       "      <td>0.0936</td>\n",
       "      <td>0.00226</td>\n",
       "      <td>0.425000</td>\n",
       "      <td>0.0728</td>\n",
       "      <td>0.112</td>\n",
       "      <td>154.886</td>\n",
       "      <td>4</td>\n",
       "    </tr>\n",
       "    <tr>\n",
       "      <th>93915</th>\n",
       "      <td>4BvreMl8IerW37NLYtBZ9e</td>\n",
       "      <td>Blow Your Mind (Mwah)</td>\n",
       "      <td>0</td>\n",
       "      <td>178583</td>\n",
       "      <td>0</td>\n",
       "      <td>['Dua Lipa']</td>\n",
       "      <td>['6M2wZ9GZgrQXHCFfjv46we']</td>\n",
       "      <td>2021-04-16</td>\n",
       "      <td>0.677</td>\n",
       "      <td>0.796</td>\n",
       "      <td>2</td>\n",
       "      <td>-4.761</td>\n",
       "      <td>0</td>\n",
       "      <td>0.1170</td>\n",
       "      <td>0.01880</td>\n",
       "      <td>0.000000</td>\n",
       "      <td>0.0948</td>\n",
       "      <td>0.494</td>\n",
       "      <td>108.851</td>\n",
       "      <td>4</td>\n",
       "    </tr>\n",
       "    <tr>\n",
       "      <th>93916</th>\n",
       "      <td>4K9PNGfQMYnMsY9zEDKDLC</td>\n",
       "      <td>Break My Heart</td>\n",
       "      <td>0</td>\n",
       "      <td>352453</td>\n",
       "      <td>0</td>\n",
       "      <td>['Dua Lipa', 'Moodymann']</td>\n",
       "      <td>['6M2wZ9GZgrQXHCFfjv46we', '6pohviZSNRueSX7uNu...</td>\n",
       "      <td>2021-04-16</td>\n",
       "      <td>0.772</td>\n",
       "      <td>0.637</td>\n",
       "      <td>4</td>\n",
       "      <td>-7.846</td>\n",
       "      <td>0</td>\n",
       "      <td>0.0494</td>\n",
       "      <td>0.02200</td>\n",
       "      <td>0.035300</td>\n",
       "      <td>0.0898</td>\n",
       "      <td>0.409</td>\n",
       "      <td>113.022</td>\n",
       "      <td>4</td>\n",
       "    </tr>\n",
       "    <tr>\n",
       "      <th>93917</th>\n",
       "      <td>5xZAMT6xqi8sXUHcccwzK2</td>\n",
       "      <td>Love Again</td>\n",
       "      <td>0</td>\n",
       "      <td>258004</td>\n",
       "      <td>0</td>\n",
       "      <td>['Dua Lipa']</td>\n",
       "      <td>['6M2wZ9GZgrQXHCFfjv46we']</td>\n",
       "      <td>2021-04-16</td>\n",
       "      <td>0.659</td>\n",
       "      <td>0.667</td>\n",
       "      <td>11</td>\n",
       "      <td>-4.668</td>\n",
       "      <td>0</td>\n",
       "      <td>0.0339</td>\n",
       "      <td>0.00173</td>\n",
       "      <td>0.000029</td>\n",
       "      <td>0.1000</td>\n",
       "      <td>0.468</td>\n",
       "      <td>115.982</td>\n",
       "      <td>4</td>\n",
       "    </tr>\n",
       "  </tbody>\n",
       "</table>\n",
       "</div>"
      ],
      "text/plain": [
       "                           id                             name  popularity  \\\n",
       "86695  0usLN2VpccZQwWkGLm3Odm             2013 Will Be My Year           0   \n",
       "92864  1Nlstdx5q4GVUyaQqHYvqh  Inner City Life - 2020 Remaster           0   \n",
       "93915  4BvreMl8IerW37NLYtBZ9e            Blow Your Mind (Mwah)           0   \n",
       "93916  4K9PNGfQMYnMsY9zEDKDLC                   Break My Heart           0   \n",
       "93917  5xZAMT6xqi8sXUHcccwzK2                       Love Again           0   \n",
       "\n",
       "       duration_ms  explicit                    artists  \\\n",
       "86695       161045         0      ['Jay and Others :>']   \n",
       "92864       422183         0                 ['Goldie']   \n",
       "93915       178583         0               ['Dua Lipa']   \n",
       "93916       352453         0  ['Dua Lipa', 'Moodymann']   \n",
       "93917       258004         0               ['Dua Lipa']   \n",
       "\n",
       "                                              id_artists release_date  \\\n",
       "86695                         ['3pwVqfe1xCnGTTnbVjYf74']   2021-04-16   \n",
       "92864                         ['2SYqJ3uDLLXZNyZdLKBy4M']   2021-04-16   \n",
       "93915                         ['6M2wZ9GZgrQXHCFfjv46we']   2021-04-16   \n",
       "93916  ['6M2wZ9GZgrQXHCFfjv46we', '6pohviZSNRueSX7uNu...   2021-04-16   \n",
       "93917                         ['6M2wZ9GZgrQXHCFfjv46we']   2021-04-16   \n",
       "\n",
       "       danceability  energy  key  loudness  mode  speechiness  acousticness  \\\n",
       "86695         0.347   0.965   10    -6.014     1       0.1420       0.05040   \n",
       "92864         0.384   0.889    7    -6.548     1       0.0936       0.00226   \n",
       "93915         0.677   0.796    2    -4.761     0       0.1170       0.01880   \n",
       "93916         0.772   0.637    4    -7.846     0       0.0494       0.02200   \n",
       "93917         0.659   0.667   11    -4.668     0       0.0339       0.00173   \n",
       "\n",
       "       instrumentalness  liveness  valence    tempo  time_signature  \n",
       "86695          0.000000    0.3430    0.392   90.987               4  \n",
       "92864          0.425000    0.0728    0.112  154.886               4  \n",
       "93915          0.000000    0.0948    0.494  108.851               4  \n",
       "93916          0.035300    0.0898    0.409  113.022               4  \n",
       "93917          0.000029    0.1000    0.468  115.982               4  "
      ]
     },
     "execution_count": 115,
     "metadata": {},
     "output_type": "execute_result"
    }
   ],
   "source": [
    "df[df.release_date == df.release_date.max()].head()"
   ]
  },
  {
   "cell_type": "markdown",
   "id": "f23fc306",
   "metadata": {},
   "source": [
    "Above are some of the most recent songs in our dataset. Recall this is data from April 2021. Perhaps you may recognize some of the titles. "
   ]
  },
  {
   "cell_type": "code",
   "execution_count": 116,
   "id": "b545f5c4",
   "metadata": {},
   "outputs": [
    {
     "data": {
      "text/html": [
       "<div>\n",
       "<style scoped>\n",
       "    .dataframe tbody tr th:only-of-type {\n",
       "        vertical-align: middle;\n",
       "    }\n",
       "\n",
       "    .dataframe tbody tr th {\n",
       "        vertical-align: top;\n",
       "    }\n",
       "\n",
       "    .dataframe thead th {\n",
       "        text-align: right;\n",
       "    }\n",
       "</style>\n",
       "<table border=\"1\" class=\"dataframe\">\n",
       "  <thead>\n",
       "    <tr style=\"text-align: right;\">\n",
       "      <th></th>\n",
       "      <th>id</th>\n",
       "      <th>name</th>\n",
       "      <th>popularity</th>\n",
       "      <th>duration_ms</th>\n",
       "      <th>explicit</th>\n",
       "      <th>artists</th>\n",
       "      <th>id_artists</th>\n",
       "      <th>release_date</th>\n",
       "      <th>danceability</th>\n",
       "      <th>energy</th>\n",
       "      <th>key</th>\n",
       "      <th>loudness</th>\n",
       "      <th>mode</th>\n",
       "      <th>speechiness</th>\n",
       "      <th>acousticness</th>\n",
       "      <th>instrumentalness</th>\n",
       "      <th>liveness</th>\n",
       "      <th>valence</th>\n",
       "      <th>tempo</th>\n",
       "      <th>time_signature</th>\n",
       "    </tr>\n",
       "  </thead>\n",
       "  <tbody>\n",
       "    <tr>\n",
       "      <th>93802</th>\n",
       "      <td>4iJyoBOLtHqaGxP12qzhQI</td>\n",
       "      <td>Peaches (feat. Daniel Caesar &amp; Giveon)</td>\n",
       "      <td>100</td>\n",
       "      <td>198082</td>\n",
       "      <td>1</td>\n",
       "      <td>['Justin Bieber', 'Daniel Caesar', 'Giveon']</td>\n",
       "      <td>['1uNFoZAHBGtllmzznpCI3s', '20wkVLutqVOYrc0kxF...</td>\n",
       "      <td>2021-03-19</td>\n",
       "      <td>0.677</td>\n",
       "      <td>0.696</td>\n",
       "      <td>0</td>\n",
       "      <td>-6.181</td>\n",
       "      <td>1</td>\n",
       "      <td>0.1190</td>\n",
       "      <td>0.32100</td>\n",
       "      <td>0.000000</td>\n",
       "      <td>0.4200</td>\n",
       "      <td>0.464</td>\n",
       "      <td>90.030</td>\n",
       "      <td>4</td>\n",
       "    </tr>\n",
       "    <tr>\n",
       "      <th>93803</th>\n",
       "      <td>7lPN2DXiMsVn7XUKtOW1CS</td>\n",
       "      <td>drivers license</td>\n",
       "      <td>99</td>\n",
       "      <td>242014</td>\n",
       "      <td>1</td>\n",
       "      <td>['Olivia Rodrigo']</td>\n",
       "      <td>['1McMsnEElThX1knmY4oliG']</td>\n",
       "      <td>2021-01-08</td>\n",
       "      <td>0.585</td>\n",
       "      <td>0.436</td>\n",
       "      <td>10</td>\n",
       "      <td>-8.761</td>\n",
       "      <td>1</td>\n",
       "      <td>0.0601</td>\n",
       "      <td>0.72100</td>\n",
       "      <td>0.000013</td>\n",
       "      <td>0.1050</td>\n",
       "      <td>0.132</td>\n",
       "      <td>143.874</td>\n",
       "      <td>4</td>\n",
       "    </tr>\n",
       "    <tr>\n",
       "      <th>93804</th>\n",
       "      <td>3Ofmpyhv5UAQ70mENzB277</td>\n",
       "      <td>Astronaut In The Ocean</td>\n",
       "      <td>98</td>\n",
       "      <td>132780</td>\n",
       "      <td>0</td>\n",
       "      <td>['Masked Wolf']</td>\n",
       "      <td>['1uU7g3DNSbsu0QjSEqZtEd']</td>\n",
       "      <td>2021-01-06</td>\n",
       "      <td>0.778</td>\n",
       "      <td>0.695</td>\n",
       "      <td>4</td>\n",
       "      <td>-6.865</td>\n",
       "      <td>0</td>\n",
       "      <td>0.0913</td>\n",
       "      <td>0.17500</td>\n",
       "      <td>0.000000</td>\n",
       "      <td>0.1500</td>\n",
       "      <td>0.472</td>\n",
       "      <td>149.996</td>\n",
       "      <td>4</td>\n",
       "    </tr>\n",
       "    <tr>\n",
       "      <th>92810</th>\n",
       "      <td>5QO79kh1waicV47BqGRL3g</td>\n",
       "      <td>Save Your Tears</td>\n",
       "      <td>97</td>\n",
       "      <td>215627</td>\n",
       "      <td>1</td>\n",
       "      <td>['The Weeknd']</td>\n",
       "      <td>['1Xyo4u8uXC1ZmMpatF05PJ']</td>\n",
       "      <td>2020-03-20</td>\n",
       "      <td>0.680</td>\n",
       "      <td>0.826</td>\n",
       "      <td>0</td>\n",
       "      <td>-5.487</td>\n",
       "      <td>1</td>\n",
       "      <td>0.0309</td>\n",
       "      <td>0.02120</td>\n",
       "      <td>0.000012</td>\n",
       "      <td>0.5430</td>\n",
       "      <td>0.644</td>\n",
       "      <td>118.051</td>\n",
       "      <td>4</td>\n",
       "    </tr>\n",
       "    <tr>\n",
       "      <th>92811</th>\n",
       "      <td>6tDDoYIxWvMLTdKpjFkc1B</td>\n",
       "      <td>telepatía</td>\n",
       "      <td>97</td>\n",
       "      <td>160191</td>\n",
       "      <td>0</td>\n",
       "      <td>['Kali Uchis']</td>\n",
       "      <td>['1U1el3k54VvEUzo3ybLPlM']</td>\n",
       "      <td>2020-12-04</td>\n",
       "      <td>0.653</td>\n",
       "      <td>0.524</td>\n",
       "      <td>11</td>\n",
       "      <td>-9.016</td>\n",
       "      <td>0</td>\n",
       "      <td>0.0502</td>\n",
       "      <td>0.11200</td>\n",
       "      <td>0.000000</td>\n",
       "      <td>0.2030</td>\n",
       "      <td>0.553</td>\n",
       "      <td>83.970</td>\n",
       "      <td>4</td>\n",
       "    </tr>\n",
       "    <tr>\n",
       "      <th>93805</th>\n",
       "      <td>7MAibcTli4IisCtbHKrGMh</td>\n",
       "      <td>Leave The Door Open</td>\n",
       "      <td>96</td>\n",
       "      <td>242096</td>\n",
       "      <td>0</td>\n",
       "      <td>['Bruno Mars', 'Anderson .Paak', 'Silk Sonic']</td>\n",
       "      <td>['0du5cEVh5yTK9QJze8zA0C', '3jK9MiCrA42lLAdMGU...</td>\n",
       "      <td>2021-03-05</td>\n",
       "      <td>0.586</td>\n",
       "      <td>0.616</td>\n",
       "      <td>5</td>\n",
       "      <td>-7.964</td>\n",
       "      <td>1</td>\n",
       "      <td>0.0324</td>\n",
       "      <td>0.18200</td>\n",
       "      <td>0.000000</td>\n",
       "      <td>0.0927</td>\n",
       "      <td>0.719</td>\n",
       "      <td>148.088</td>\n",
       "      <td>4</td>\n",
       "    </tr>\n",
       "    <tr>\n",
       "      <th>92813</th>\n",
       "      <td>0VjIjW4GlUZAMYd2vXMi3b</td>\n",
       "      <td>Blinding Lights</td>\n",
       "      <td>96</td>\n",
       "      <td>200040</td>\n",
       "      <td>0</td>\n",
       "      <td>['The Weeknd']</td>\n",
       "      <td>['1Xyo4u8uXC1ZmMpatF05PJ']</td>\n",
       "      <td>2020-03-20</td>\n",
       "      <td>0.514</td>\n",
       "      <td>0.730</td>\n",
       "      <td>1</td>\n",
       "      <td>-5.934</td>\n",
       "      <td>1</td>\n",
       "      <td>0.0598</td>\n",
       "      <td>0.00146</td>\n",
       "      <td>0.000095</td>\n",
       "      <td>0.0897</td>\n",
       "      <td>0.334</td>\n",
       "      <td>171.005</td>\n",
       "      <td>4</td>\n",
       "    </tr>\n",
       "    <tr>\n",
       "      <th>92814</th>\n",
       "      <td>6f3Slt0GbA2bPZlz0aIFXN</td>\n",
       "      <td>The Business</td>\n",
       "      <td>95</td>\n",
       "      <td>164000</td>\n",
       "      <td>0</td>\n",
       "      <td>['Tiësto']</td>\n",
       "      <td>['2o5jDhtHVPhrJdv3cEQ99Z']</td>\n",
       "      <td>2020-09-16</td>\n",
       "      <td>0.798</td>\n",
       "      <td>0.620</td>\n",
       "      <td>8</td>\n",
       "      <td>-7.079</td>\n",
       "      <td>0</td>\n",
       "      <td>0.2320</td>\n",
       "      <td>0.41400</td>\n",
       "      <td>0.019200</td>\n",
       "      <td>0.1120</td>\n",
       "      <td>0.235</td>\n",
       "      <td>120.031</td>\n",
       "      <td>4</td>\n",
       "    </tr>\n",
       "    <tr>\n",
       "      <th>92816</th>\n",
       "      <td>3FAJ6O0NOHQV8Mc5Ri6ENp</td>\n",
       "      <td>Heartbreak Anniversary</td>\n",
       "      <td>94</td>\n",
       "      <td>198371</td>\n",
       "      <td>0</td>\n",
       "      <td>['Giveon']</td>\n",
       "      <td>['4fxd5Ee7UefO4CUXgwJ7IP']</td>\n",
       "      <td>2020-03-27</td>\n",
       "      <td>0.449</td>\n",
       "      <td>0.465</td>\n",
       "      <td>0</td>\n",
       "      <td>-8.964</td>\n",
       "      <td>1</td>\n",
       "      <td>0.0791</td>\n",
       "      <td>0.52400</td>\n",
       "      <td>0.000001</td>\n",
       "      <td>0.3030</td>\n",
       "      <td>0.543</td>\n",
       "      <td>89.087</td>\n",
       "      <td>3</td>\n",
       "    </tr>\n",
       "    <tr>\n",
       "      <th>92819</th>\n",
       "      <td>1xK1Gg9SxG8fy2Ya373oqb</td>\n",
       "      <td>Bandido</td>\n",
       "      <td>94</td>\n",
       "      <td>232853</td>\n",
       "      <td>0</td>\n",
       "      <td>['Myke Towers', 'Juhn']</td>\n",
       "      <td>['7iK8PXO48WeuP03g8YR51W', '2LmcxBak1alK1bf7d1...</td>\n",
       "      <td>2020-12-10</td>\n",
       "      <td>0.713</td>\n",
       "      <td>0.617</td>\n",
       "      <td>8</td>\n",
       "      <td>-4.637</td>\n",
       "      <td>1</td>\n",
       "      <td>0.0887</td>\n",
       "      <td>0.12200</td>\n",
       "      <td>0.000000</td>\n",
       "      <td>0.0962</td>\n",
       "      <td>0.682</td>\n",
       "      <td>168.021</td>\n",
       "      <td>4</td>\n",
       "    </tr>\n",
       "  </tbody>\n",
       "</table>\n",
       "</div>"
      ],
      "text/plain": [
       "                           id                                    name  \\\n",
       "93802  4iJyoBOLtHqaGxP12qzhQI  Peaches (feat. Daniel Caesar & Giveon)   \n",
       "93803  7lPN2DXiMsVn7XUKtOW1CS                         drivers license   \n",
       "93804  3Ofmpyhv5UAQ70mENzB277                  Astronaut In The Ocean   \n",
       "92810  5QO79kh1waicV47BqGRL3g                         Save Your Tears   \n",
       "92811  6tDDoYIxWvMLTdKpjFkc1B                               telepatía   \n",
       "93805  7MAibcTli4IisCtbHKrGMh                     Leave The Door Open   \n",
       "92813  0VjIjW4GlUZAMYd2vXMi3b                         Blinding Lights   \n",
       "92814  6f3Slt0GbA2bPZlz0aIFXN                            The Business   \n",
       "92816  3FAJ6O0NOHQV8Mc5Ri6ENp                  Heartbreak Anniversary   \n",
       "92819  1xK1Gg9SxG8fy2Ya373oqb                                 Bandido   \n",
       "\n",
       "       popularity  duration_ms  explicit  \\\n",
       "93802         100       198082         1   \n",
       "93803          99       242014         1   \n",
       "93804          98       132780         0   \n",
       "92810          97       215627         1   \n",
       "92811          97       160191         0   \n",
       "93805          96       242096         0   \n",
       "92813          96       200040         0   \n",
       "92814          95       164000         0   \n",
       "92816          94       198371         0   \n",
       "92819          94       232853         0   \n",
       "\n",
       "                                              artists  \\\n",
       "93802    ['Justin Bieber', 'Daniel Caesar', 'Giveon']   \n",
       "93803                              ['Olivia Rodrigo']   \n",
       "93804                                 ['Masked Wolf']   \n",
       "92810                                  ['The Weeknd']   \n",
       "92811                                  ['Kali Uchis']   \n",
       "93805  ['Bruno Mars', 'Anderson .Paak', 'Silk Sonic']   \n",
       "92813                                  ['The Weeknd']   \n",
       "92814                                      ['Tiësto']   \n",
       "92816                                      ['Giveon']   \n",
       "92819                         ['Myke Towers', 'Juhn']   \n",
       "\n",
       "                                              id_artists release_date  \\\n",
       "93802  ['1uNFoZAHBGtllmzznpCI3s', '20wkVLutqVOYrc0kxF...   2021-03-19   \n",
       "93803                         ['1McMsnEElThX1knmY4oliG']   2021-01-08   \n",
       "93804                         ['1uU7g3DNSbsu0QjSEqZtEd']   2021-01-06   \n",
       "92810                         ['1Xyo4u8uXC1ZmMpatF05PJ']   2020-03-20   \n",
       "92811                         ['1U1el3k54VvEUzo3ybLPlM']   2020-12-04   \n",
       "93805  ['0du5cEVh5yTK9QJze8zA0C', '3jK9MiCrA42lLAdMGU...   2021-03-05   \n",
       "92813                         ['1Xyo4u8uXC1ZmMpatF05PJ']   2020-03-20   \n",
       "92814                         ['2o5jDhtHVPhrJdv3cEQ99Z']   2020-09-16   \n",
       "92816                         ['4fxd5Ee7UefO4CUXgwJ7IP']   2020-03-27   \n",
       "92819  ['7iK8PXO48WeuP03g8YR51W', '2LmcxBak1alK1bf7d1...   2020-12-10   \n",
       "\n",
       "       danceability  energy  key  loudness  mode  speechiness  acousticness  \\\n",
       "93802         0.677   0.696    0    -6.181     1       0.1190       0.32100   \n",
       "93803         0.585   0.436   10    -8.761     1       0.0601       0.72100   \n",
       "93804         0.778   0.695    4    -6.865     0       0.0913       0.17500   \n",
       "92810         0.680   0.826    0    -5.487     1       0.0309       0.02120   \n",
       "92811         0.653   0.524   11    -9.016     0       0.0502       0.11200   \n",
       "93805         0.586   0.616    5    -7.964     1       0.0324       0.18200   \n",
       "92813         0.514   0.730    1    -5.934     1       0.0598       0.00146   \n",
       "92814         0.798   0.620    8    -7.079     0       0.2320       0.41400   \n",
       "92816         0.449   0.465    0    -8.964     1       0.0791       0.52400   \n",
       "92819         0.713   0.617    8    -4.637     1       0.0887       0.12200   \n",
       "\n",
       "       instrumentalness  liveness  valence    tempo  time_signature  \n",
       "93802          0.000000    0.4200    0.464   90.030               4  \n",
       "93803          0.000013    0.1050    0.132  143.874               4  \n",
       "93804          0.000000    0.1500    0.472  149.996               4  \n",
       "92810          0.000012    0.5430    0.644  118.051               4  \n",
       "92811          0.000000    0.2030    0.553   83.970               4  \n",
       "93805          0.000000    0.0927    0.719  148.088               4  \n",
       "92813          0.000095    0.0897    0.334  171.005               4  \n",
       "92814          0.019200    0.1120    0.235  120.031               4  \n",
       "92816          0.000001    0.3030    0.543   89.087               3  \n",
       "92819          0.000000    0.0962    0.682  168.021               4  "
      ]
     },
     "execution_count": 116,
     "metadata": {},
     "output_type": "execute_result"
    }
   ],
   "source": [
    "df.sort_values(by = \"popularity\", ascending = False).head(10)"
   ]
  },
  {
   "cell_type": "markdown",
   "id": "163f65b8",
   "metadata": {},
   "source": [
    "Above are the most popular songs in our dataset. \"Peaches\" by Justin Bieber featuring Daniel Caesar and Giveon is the most popular song as of the week of April 16, 2021."
   ]
  },
  {
   "cell_type": "markdown",
   "id": "c72fac27",
   "metadata": {},
   "source": [
    "### Visualizations of Univariate Data"
   ]
  },
  {
   "cell_type": "markdown",
   "id": "31b23cfc",
   "metadata": {},
   "source": [
    "Below are the distributions of each of the variables in our dataset."
   ]
  },
  {
   "cell_type": "markdown",
   "id": "52af114a",
   "metadata": {},
   "source": [
    "#### Popularity"
   ]
  },
  {
   "cell_type": "code",
   "execution_count": 117,
   "id": "500783a4",
   "metadata": {},
   "outputs": [
    {
     "data": {
      "image/png": "[encoded data removed]",
      "text/plain": [
       "<Figure size 432x288 with 1 Axes>"
      ]
     },
     "metadata": {
      "needs_background": "light"
     },
     "output_type": "display_data"
    }
   ],
   "source": [
    "sns.set_palette('bright')\n",
    "popularity = sns.histplot(x = df.popularity)\n",
    "labels = popularity.set(ylabel = \"Number of Songs\", xlabel = \"Popularity Index\", title = \"Number of Songs by Popularity Index\")"
   ]
  },
  {
   "cell_type": "markdown",
   "id": "404f16bc",
   "metadata": {},
   "source": [
    "The score 0 appears to be most common on the popularity index."
   ]
  },
  {
   "cell_type": "code",
   "execution_count": 118,
   "id": "16b1b916",
   "metadata": {},
   "outputs": [
    {
     "data": {
      "text/plain": [
       "0.07617544385960127"
      ]
     },
     "execution_count": 118,
     "metadata": {},
     "output_type": "execute_result"
    }
   ],
   "source": [
    "len(df[df.popularity == 0])/len(df)"
   ]
  },
  {
   "cell_type": "markdown",
   "id": "11d5e4da",
   "metadata": {},
   "source": [
    "**Note**\n",
    "\n",
    "Our data represents a sample of some of the most popular songs on Spotify. The majority of Spotify's 70 million tracks of a popularity index of 0. In our data, only around 7.6% of the tracks have a popularity index of 0."
   ]
  },
  {
   "cell_type": "markdown",
   "id": "df4a4de9",
   "metadata": {},
   "source": [
    "#### Duration"
   ]
  },
  {
   "cell_type": "code",
   "execution_count": 119,
   "id": "8ca59067",
   "metadata": {},
   "outputs": [
    {
     "data": {
      "image/png": "[encoded data removed]",
      "text/plain": [
       "<Figure size 432x288 with 1 Axes>"
      ]
     },
     "metadata": {
      "needs_background": "light"
     },
     "output_type": "display_data"
    }
   ],
   "source": [
    "duration = sns.histplot(df.duration_ms)\n",
    "duration.ticklabel_format(useOffset=False, style='plain')\n",
    "labels = duration.set(title = \"Duration Distribution\", xlabel = \"Time in Milliseconds\")"
   ]
  },
  {
   "cell_type": "markdown",
   "id": "37991b70",
   "metadata": {},
   "source": [
    "There appears to be some extreme outliers in length in our dataset."
   ]
  },
  {
   "cell_type": "code",
   "execution_count": 120,
   "id": "fa7479f0",
   "metadata": {},
   "outputs": [
    {
     "data": {
      "text/html": [
       "<div>\n",
       "<style scoped>\n",
       "    .dataframe tbody tr th:only-of-type {\n",
       "        vertical-align: middle;\n",
       "    }\n",
       "\n",
       "    .dataframe tbody tr th {\n",
       "        vertical-align: top;\n",
       "    }\n",
       "\n",
       "    .dataframe thead th {\n",
       "        text-align: right;\n",
       "    }\n",
       "</style>\n",
       "<table border=\"1\" class=\"dataframe\">\n",
       "  <thead>\n",
       "    <tr style=\"text-align: right;\">\n",
       "      <th></th>\n",
       "      <th>id</th>\n",
       "      <th>name</th>\n",
       "      <th>popularity</th>\n",
       "      <th>duration_ms</th>\n",
       "      <th>explicit</th>\n",
       "      <th>artists</th>\n",
       "      <th>id_artists</th>\n",
       "      <th>release_date</th>\n",
       "      <th>danceability</th>\n",
       "      <th>energy</th>\n",
       "      <th>key</th>\n",
       "      <th>loudness</th>\n",
       "      <th>mode</th>\n",
       "      <th>speechiness</th>\n",
       "      <th>acousticness</th>\n",
       "      <th>instrumentalness</th>\n",
       "      <th>liveness</th>\n",
       "      <th>valence</th>\n",
       "      <th>tempo</th>\n",
       "      <th>time_signature</th>\n",
       "    </tr>\n",
       "  </thead>\n",
       "  <tbody>\n",
       "    <tr>\n",
       "      <th>326329</th>\n",
       "      <td>3EEv9UCeZdn4MVFv8tsO1E</td>\n",
       "      <td>โครงสร้างแห่งสิ่งที่เรียกว่าชีวิต</td>\n",
       "      <td>3</td>\n",
       "      <td>5621218</td>\n",
       "      <td>0</td>\n",
       "      <td>['ท่านพุทธทาส']</td>\n",
       "      <td>['2ySk9zib3PuomvMGmCqdTA']</td>\n",
       "      <td>1979-07-28</td>\n",
       "      <td>0.638</td>\n",
       "      <td>0.537</td>\n",
       "      <td>8</td>\n",
       "      <td>-13.365</td>\n",
       "      <td>1</td>\n",
       "      <td>0.775</td>\n",
       "      <td>0.825</td>\n",
       "      <td>0.0</td>\n",
       "      <td>0.345</td>\n",
       "      <td>0.401</td>\n",
       "      <td>131.446</td>\n",
       "      <td>3</td>\n",
       "    </tr>\n",
       "  </tbody>\n",
       "</table>\n",
       "</div>"
      ],
      "text/plain": [
       "                            id                               name  popularity  \\\n",
       "326329  3EEv9UCeZdn4MVFv8tsO1E  โครงสร้างแห่งสิ่งที่เรียกว่าชีวิต           3   \n",
       "\n",
       "        duration_ms  explicit          artists                  id_artists  \\\n",
       "326329      5621218         0  ['ท่านพุทธทาส']  ['2ySk9zib3PuomvMGmCqdTA']   \n",
       "\n",
       "       release_date  danceability  energy  key  loudness  mode  speechiness  \\\n",
       "326329   1979-07-28         0.638   0.537    8   -13.365     1        0.775   \n",
       "\n",
       "        acousticness  instrumentalness  liveness  valence    tempo  \\\n",
       "326329         0.825               0.0     0.345    0.401  131.446   \n",
       "\n",
       "        time_signature  \n",
       "326329               3  "
      ]
     },
     "execution_count": 120,
     "metadata": {},
     "output_type": "execute_result"
    }
   ],
   "source": [
    "df.sort_values(by = 'duration_ms', ascending = False).head(1)"
   ]
  },
  {
   "cell_type": "code",
   "execution_count": 121,
   "id": "157cf454",
   "metadata": {},
   "outputs": [
    {
     "data": {
      "text/plain": [
       "214893.0"
      ]
     },
     "execution_count": 121,
     "metadata": {},
     "output_type": "execute_result"
    }
   ],
   "source": [
    "df.duration_ms.median()"
   ]
  },
  {
   "cell_type": "markdown",
   "id": "2a03c643",
   "metadata": {},
   "source": [
    "The longest track is around 90 minutes long (it appears to be an extended religious prayer), whereas the median song is only around 3 and a half minutes long. "
   ]
  },
  {
   "cell_type": "markdown",
   "id": "f252427a",
   "metadata": {},
   "source": [
    "#### Explicit"
   ]
  },
  {
   "cell_type": "code",
   "execution_count": 122,
   "id": "b47914a1",
   "metadata": {},
   "outputs": [
    {
     "data": {
      "image/png": "[encoded data removed]",
      "text/plain": [
       "<Figure size 432x288 with 1 Axes>"
      ]
     },
     "metadata": {
      "needs_background": "light"
     },
     "output_type": "display_data"
    }
   ],
   "source": [
    "explicit = sns.countplot(df.explicit)\n",
    "explicit.set_xticklabels(['Non-explict','Explicit'])\n",
    "labels = explicit.set(ylabel = \"Number of songs\", xlabel = \"Non-explicit or Explicit\", title = \"Song Counts Explicit vs. Non explicit\")"
   ]
  },
  {
   "cell_type": "markdown",
   "id": "33a6aef3",
   "metadata": {},
   "source": [
    "There are far more non-explicit songs that explicit songs."
   ]
  },
  {
   "cell_type": "markdown",
   "id": "c1ee4455",
   "metadata": {},
   "source": [
    "#### Artist"
   ]
  },
  {
   "cell_type": "markdown",
   "id": "d10adec4",
   "metadata": {},
   "source": [
    "Below is a chart of the the top twenty artists with the most tracks in the dataset."
   ]
  },
  {
   "cell_type": "code",
   "execution_count": 123,
   "id": "7f3b7a08",
   "metadata": {},
   "outputs": [
    {
     "data": {
      "text/html": [
       "<div>\n",
       "<style scoped>\n",
       "    .dataframe tbody tr th:only-of-type {\n",
       "        vertical-align: middle;\n",
       "    }\n",
       "\n",
       "    .dataframe tbody tr th {\n",
       "        vertical-align: top;\n",
       "    }\n",
       "\n",
       "    .dataframe thead th {\n",
       "        text-align: right;\n",
       "    }\n",
       "</style>\n",
       "<table border=\"1\" class=\"dataframe\">\n",
       "  <thead>\n",
       "    <tr style=\"text-align: right;\">\n",
       "      <th></th>\n",
       "      <th>id</th>\n",
       "    </tr>\n",
       "    <tr>\n",
       "      <th>artists</th>\n",
       "      <th></th>\n",
       "    </tr>\n",
       "  </thead>\n",
       "  <tbody>\n",
       "    <tr>\n",
       "      <th>['Die drei ???']</th>\n",
       "      <td>3856</td>\n",
       "    </tr>\n",
       "    <tr>\n",
       "      <th>['TKKG Retro-Archiv']</th>\n",
       "      <td>2006</td>\n",
       "    </tr>\n",
       "    <tr>\n",
       "      <th>['Benjamin Blümchen']</th>\n",
       "      <td>1503</td>\n",
       "    </tr>\n",
       "    <tr>\n",
       "      <th>['Bibi Blocksberg']</th>\n",
       "      <td>1472</td>\n",
       "    </tr>\n",
       "    <tr>\n",
       "      <th>['Lata Mangeshkar']</th>\n",
       "      <td>1373</td>\n",
       "    </tr>\n",
       "    <tr>\n",
       "      <th>['Bibi und Tina']</th>\n",
       "      <td>927</td>\n",
       "    </tr>\n",
       "    <tr>\n",
       "      <th>['Tintin', 'Tomas Bolme', 'Bert-Åke Varg']</th>\n",
       "      <td>905</td>\n",
       "    </tr>\n",
       "    <tr>\n",
       "      <th>['Francisco Canaro']</th>\n",
       "      <td>891</td>\n",
       "    </tr>\n",
       "    <tr>\n",
       "      <th>['Ella Fitzgerald']</th>\n",
       "      <td>870</td>\n",
       "    </tr>\n",
       "    <tr>\n",
       "      <th>['Tadeusz Dolega Mostowicz']</th>\n",
       "      <td>838</td>\n",
       "    </tr>\n",
       "    <tr>\n",
       "      <th>['Fünf Freunde']</th>\n",
       "      <td>812</td>\n",
       "    </tr>\n",
       "    <tr>\n",
       "      <th>['Mohammed Rafi']</th>\n",
       "      <td>787</td>\n",
       "    </tr>\n",
       "    <tr>\n",
       "      <th>['Queen']</th>\n",
       "      <td>777</td>\n",
       "    </tr>\n",
       "    <tr>\n",
       "      <th>['Elvis Presley']</th>\n",
       "      <td>680</td>\n",
       "    </tr>\n",
       "    <tr>\n",
       "      <th>['Frank Sinatra']</th>\n",
       "      <td>680</td>\n",
       "    </tr>\n",
       "    <tr>\n",
       "      <th>['The Rolling Stones']</th>\n",
       "      <td>654</td>\n",
       "    </tr>\n",
       "    <tr>\n",
       "      <th>['Die Originale']</th>\n",
       "      <td>638</td>\n",
       "    </tr>\n",
       "    <tr>\n",
       "      <th>['Billie Holiday']</th>\n",
       "      <td>609</td>\n",
       "    </tr>\n",
       "    <tr>\n",
       "      <th>['Julio Iglesias']</th>\n",
       "      <td>595</td>\n",
       "    </tr>\n",
       "    <tr>\n",
       "      <th>['Globi']</th>\n",
       "      <td>584</td>\n",
       "    </tr>\n",
       "  </tbody>\n",
       "</table>\n",
       "</div>"
      ],
      "text/plain": [
       "                                              id\n",
       "artists                                         \n",
       "['Die drei ???']                            3856\n",
       "['TKKG Retro-Archiv']                       2006\n",
       "['Benjamin Blümchen']                       1503\n",
       "['Bibi Blocksberg']                         1472\n",
       "['Lata Mangeshkar']                         1373\n",
       "['Bibi und Tina']                            927\n",
       "['Tintin', 'Tomas Bolme', 'Bert-Åke Varg']   905\n",
       "['Francisco Canaro']                         891\n",
       "['Ella Fitzgerald']                          870\n",
       "['Tadeusz Dolega Mostowicz']                 838\n",
       "['Fünf Freunde']                             812\n",
       "['Mohammed Rafi']                            787\n",
       "['Queen']                                    777\n",
       "['Elvis Presley']                            680\n",
       "['Frank Sinatra']                            680\n",
       "['The Rolling Stones']                       654\n",
       "['Die Originale']                            638\n",
       "['Billie Holiday']                           609\n",
       "['Julio Iglesias']                           595\n",
       "['Globi']                                    584"
      ]
     },
     "execution_count": 123,
     "metadata": {},
     "output_type": "execute_result"
    }
   ],
   "source": [
    "df[['artists', 'id']].groupby('artists').count().sort_values(by = \"id\", ascending = False).head(20)"
   ]
  },
  {
   "cell_type": "markdown",
   "id": "4fe6a013",
   "metadata": {},
   "source": [
    "#### Release date"
   ]
  },
  {
   "cell_type": "code",
   "execution_count": 124,
   "id": "feaacddb",
   "metadata": {},
   "outputs": [],
   "source": [
    "df.release_date = pd.to_datetime(df.release_date)\n"
   ]
  },
  {
   "cell_type": "code",
   "execution_count": 125,
   "id": "bcf3759e",
   "metadata": {},
   "outputs": [
    {
     "data": {
      "image/png": "[encoded data removed]",
      "text/plain": [
       "<Figure size 432x288 with 1 Axes>"
      ]
     },
     "metadata": {
      "needs_background": "light"
     },
     "output_type": "display_data"
    }
   ],
   "source": [
    "release_dates = sns.histplot(df.release_date.dt.year)\n",
    "labels = release_dates.set(xlabel = \"Release Date of Song\", title = \"Number of Songs by Year of Release\")"
   ]
  },
  {
   "cell_type": "markdown",
   "id": "4bf61b8f",
   "metadata": {},
   "source": [
    "Our sample includes more modern songs. However, there seems to be many 90s and modern songs in particular."
   ]
  },
  {
   "cell_type": "markdown",
   "id": "616113bd",
   "metadata": {},
   "source": [
    "#### Danceability"
   ]
  },
  {
   "cell_type": "code",
   "execution_count": 126,
   "id": "0cb8c670",
   "metadata": {},
   "outputs": [
    {
     "data": {
      "image/png": "[encoded data removed]",
      "text/plain": [
       "<Figure size 432x288 with 1 Axes>"
      ]
     },
     "metadata": {
      "needs_background": "light"
     },
     "output_type": "display_data"
    }
   ],
   "source": [
    "danceability = sns.histplot(df.danceability)\n",
    "labels = danceability.set(xlabel = \"danceability score\", ylabel = \"Number of Songs\", title = \"Distribution of Danceability\")"
   ]
  },
  {
   "cell_type": "markdown",
   "id": "3d5ecc42",
   "metadata": {},
   "source": [
    "Danceability of the tracks is roughly normally distributed."
   ]
  },
  {
   "cell_type": "markdown",
   "id": "75c2b3de",
   "metadata": {},
   "source": [
    "#### Energy "
   ]
  },
  {
   "cell_type": "code",
   "execution_count": 127,
   "id": "539d1967",
   "metadata": {},
   "outputs": [
    {
     "data": {
      "image/png": "[encoded data removed]",
      "text/plain": [
       "<Figure size 432x288 with 1 Axes>"
      ]
     },
     "metadata": {
      "needs_background": "light"
     },
     "output_type": "display_data"
    }
   ],
   "source": [
    "energy = sns.histplot(df.energy)\n",
    "labels = energy.set(xlabel = \"Energy score\", ylabel = \"Number of Songs\", title = \"Distribution of Energy\")"
   ]
  },
  {
   "cell_type": "markdown",
   "id": "028581a9",
   "metadata": {},
   "source": [
    "Energy of each song is roughyl normally distributed."
   ]
  },
  {
   "cell_type": "markdown",
   "id": "d66e868d",
   "metadata": {},
   "source": [
    "#### Key"
   ]
  },
  {
   "cell_type": "code",
   "execution_count": 128,
   "id": "f75f2598",
   "metadata": {},
   "outputs": [
    {
     "data": {
      "image/png": "[encoded data removed]",
      "text/plain": [
       "<Figure size 432x288 with 1 Axes>"
      ]
     },
     "metadata": {
      "needs_background": "light"
     },
     "output_type": "display_data"
    }
   ],
   "source": [
    "key = sns.countplot(df.key)\n",
    "labels = key.set(xlabel = \"Key\", ylabel = \"Number of Songs\", title = \"Number of Songs per Key\")"
   ]
  },
  {
   "cell_type": "markdown",
   "id": "7375601d",
   "metadata": {},
   "source": [
    "#### Loudness"
   ]
  },
  {
   "cell_type": "code",
   "execution_count": 129,
   "id": "948eeb18",
   "metadata": {},
   "outputs": [
    {
     "data": {
      "image/png": "[encoded data removed]",
      "text/plain": [
       "<Figure size 432x288 with 1 Axes>"
      ]
     },
     "metadata": {
      "needs_background": "light"
     },
     "output_type": "display_data"
    }
   ],
   "source": [
    "loudness = sns.histplot(df.loudness)\n",
    "labels = loudness.set(xlabel = \"Loudness\", ylabel = \"Number of Songs\", title = \"Number of Songs per Loudness Score\")"
   ]
  },
  {
   "cell_type": "markdown",
   "id": "bee76cf9",
   "metadata": {},
   "source": [
    "Loudness is roughly normally distributed with a left skew."
   ]
  },
  {
   "cell_type": "markdown",
   "id": "54e4cc00",
   "metadata": {},
   "source": [
    "#### Mode"
   ]
  },
  {
   "cell_type": "code",
   "execution_count": 130,
   "id": "ea2b2073",
   "metadata": {},
   "outputs": [
    {
     "data": {
      "image/png": "[encoded data removed]",
      "text/plain": [
       "<Figure size 432x288 with 1 Axes>"
      ]
     },
     "metadata": {
      "needs_background": "light"
     },
     "output_type": "display_data"
    }
   ],
   "source": [
    "mode = sns.countplot(df['mode'])\n",
    "mode.set_xticklabels(['Minor','Major'])\n",
    "labels = mode.set(xlabel = \"Mode of the Songs\", ylabel = \"Number of Songs\", title = \"Number of Songs per Mode (Minor or Major)\")"
   ]
  },
  {
   "cell_type": "markdown",
   "id": "d103f0ae",
   "metadata": {},
   "source": [
    "#### Speechiness"
   ]
  },
  {
   "cell_type": "code",
   "execution_count": 131,
   "id": "96073635",
   "metadata": {},
   "outputs": [
    {
     "data": {
      "image/png": "[encoded data removed]",
      "text/plain": [
       "<Figure size 432x288 with 1 Axes>"
      ]
     },
     "metadata": {
      "needs_background": "light"
     },
     "output_type": "display_data"
    }
   ],
   "source": [
    "speechiness = sns.histplot(df['speechiness'])\n",
    "labels = speechiness.set(xlabel = \"Speechiness Score of the Songs\", ylabel = \"Number of Songs\", title = \"Number of Songs per Speechiness\")"
   ]
  },
  {
   "cell_type": "markdown",
   "id": "880837f6",
   "metadata": {},
   "source": [
    "#### Acousticness"
   ]
  },
  {
   "cell_type": "code",
   "execution_count": 132,
   "id": "de2ef770",
   "metadata": {},
   "outputs": [
    {
     "data": {
      "image/png": "[encoded data removed]",
      "text/plain": [
       "<Figure size 432x288 with 1 Axes>"
      ]
     },
     "metadata": {
      "needs_background": "light"
     },
     "output_type": "display_data"
    }
   ],
   "source": [
    "acousticness = sns.histplot(df.acousticness)\n",
    "labels = acousticness.set(xlabel = \"Acousticness Score\", title = \"Number of Songs by Acousticness\")"
   ]
  },
  {
   "cell_type": "markdown",
   "id": "50873579",
   "metadata": {},
   "source": [
    "#### Instrumentalness"
   ]
  },
  {
   "cell_type": "markdown",
   "id": "7dde7739",
   "metadata": {},
   "source": [
    "**Note**\n",
    "\n",
    "There were so many tracks with instrumentalness at 0 that the graph appeared empty if we simply graphed the raw data. Below we only graph the tracks with instrumentalness above 0.01."
   ]
  },
  {
   "cell_type": "code",
   "execution_count": 133,
   "id": "8df64e6e",
   "metadata": {},
   "outputs": [
    {
     "data": {
      "image/png": "[encoded data removed]",
      "text/plain": [
       "<Figure size 432x288 with 1 Axes>"
      ]
     },
     "metadata": {
      "needs_background": "light"
     },
     "output_type": "display_data"
    }
   ],
   "source": [
    "instrumentalness = sns.histplot(df[df.instrumentalness > 0.01].instrumentalness)\n",
    "labels = instrumentalness.set(title = \"Instrumentalness Distribution\")"
   ]
  },
  {
   "cell_type": "markdown",
   "id": "b2427c79",
   "metadata": {},
   "source": [
    "#### Liveness"
   ]
  },
  {
   "cell_type": "code",
   "execution_count": 134,
   "id": "f3a026a3",
   "metadata": {},
   "outputs": [
    {
     "data": {
      "image/png": "[encoded data removed]",
      "text/plain": [
       "<Figure size 432x288 with 1 Axes>"
      ]
     },
     "metadata": {
      "needs_background": "light"
     },
     "output_type": "display_data"
    }
   ],
   "source": [
    "liveness = sns.histplot(df.liveness)\n",
    "labels = liveness.set(title = \"Liveness Distribution\")"
   ]
  },
  {
   "cell_type": "markdown",
   "id": "2982f3b9",
   "metadata": {},
   "source": [
    "Liveness is right skew."
   ]
  },
  {
   "cell_type": "markdown",
   "id": "4ed393fd",
   "metadata": {},
   "source": [
    "#### Tempo"
   ]
  },
  {
   "cell_type": "code",
   "execution_count": 135,
   "id": "deb811f8",
   "metadata": {},
   "outputs": [
    {
     "data": {
      "image/png": "[encoded data removed]",
      "text/plain": [
       "<Figure size 432x288 with 1 Axes>"
      ]
     },
     "metadata": {
      "needs_background": "light"
     },
     "output_type": "display_data"
    }
   ],
   "source": [
    "tempo = sns.histplot(df.tempo)\n",
    "labels = tempo.set(title = \"Tempo Distribution\")"
   ]
  },
  {
   "cell_type": "markdown",
   "id": "78df70c2",
   "metadata": {},
   "source": [
    "Tempo is roughly normally distributed."
   ]
  },
  {
   "cell_type": "markdown",
   "id": "867b563c",
   "metadata": {},
   "source": [
    "#### Time Signature"
   ]
  },
  {
   "cell_type": "code",
   "execution_count": 136,
   "id": "ba4309bf",
   "metadata": {},
   "outputs": [
    {
     "data": {
      "image/png": "[encoded data removed]",
      "text/plain": [
       "<Figure size 432x288 with 1 Axes>"
      ]
     },
     "metadata": {
      "needs_background": "light"
     },
     "output_type": "display_data"
    }
   ],
   "source": [
    "time_signature = sns.countplot(df.time_signature)\n",
    "labels = time_signature.set(title = \"Number of Songs by Time Signature\")"
   ]
  },
  {
   "cell_type": "markdown",
   "id": "d7534817",
   "metadata": {},
   "source": [
    "Unsurprisingly, 4/4 beats are most common."
   ]
  },
  {
   "cell_type": "markdown",
   "id": "80505d35",
   "metadata": {},
   "source": [
    "## Prepare Data"
   ]
  },
  {
   "cell_type": "markdown",
   "id": "f6049b4a",
   "metadata": {},
   "source": [
    "Please see the `prepare.py` file in this repository for more information about the functions used to prepare the data in this section."
   ]
  },
  {
   "cell_type": "markdown",
   "id": "848b4f6e",
   "metadata": {},
   "source": [
    "### Handle Missing Values"
   ]
  },
  {
   "cell_type": "code",
   "execution_count": 137,
   "id": "a4ab6c64",
   "metadata": {},
   "outputs": [
    {
     "ename": "ValueError",
     "evalue": "SimpleImputer does not support data with dtype datetime64[ns]. Please provide either a numeric array (with a floating point or integer dtype) or categorical data represented either as an array with integer dtype or an array of string values with an object dtype.",
     "output_type": "error",
     "traceback": [
      "\u001b[0;31m---------------------------------------------------------------------------\u001b[0m",
      "\u001b[0;31mValueError\u001b[0m                                Traceback (most recent call last)",
      "\u001b[0;32m<ipython-input-137-cb6fb8abdaf4>\u001b[0m in \u001b[0;36m<module>\u001b[0;34m\u001b[0m\n\u001b[0;32m----> 1\u001b[0;31m \u001b[0mdf\u001b[0m \u001b[0;34m=\u001b[0m \u001b[0mprepare_data\u001b[0m\u001b[0;34m(\u001b[0m\u001b[0mdf\u001b[0m\u001b[0;34m)\u001b[0m\u001b[0;34m\u001b[0m\u001b[0;34m\u001b[0m\u001b[0m\n\u001b[0m",
      "\u001b[0;32m~/codeup-data-science/End-to-End-Project/prepare.py\u001b[0m in \u001b[0;36mprepare_data\u001b[0;34m(df)\u001b[0m\n\u001b[1;32m     61\u001b[0m     \u001b[0mdf\u001b[0m \u001b[0;34m=\u001b[0m \u001b[0mhandle_missing_values\u001b[0m\u001b[0;34m(\u001b[0m\u001b[0mdf\u001b[0m\u001b[0;34m)\u001b[0m\u001b[0;34m\u001b[0m\u001b[0;34m\u001b[0m\u001b[0m\n\u001b[1;32m     62\u001b[0m \u001b[0;34m\u001b[0m\u001b[0m\n\u001b[0;32m---> 63\u001b[0;31m     \u001b[0mdf\u001b[0m \u001b[0;34m=\u001b[0m \u001b[0mimpute_null_values\u001b[0m\u001b[0;34m(\u001b[0m\u001b[0mdf\u001b[0m\u001b[0;34m)\u001b[0m\u001b[0;34m\u001b[0m\u001b[0;34m\u001b[0m\u001b[0m\n\u001b[0m\u001b[1;32m     64\u001b[0m \u001b[0;34m\u001b[0m\u001b[0m\n\u001b[1;32m     65\u001b[0m     \u001b[0;32mreturn\u001b[0m \u001b[0mdf\u001b[0m\u001b[0;34m\u001b[0m\u001b[0;34m\u001b[0m\u001b[0m\n",
      "\u001b[0;32m~/codeup-data-science/End-to-End-Project/prepare.py\u001b[0m in \u001b[0;36mimpute_null_values\u001b[0;34m(df)\u001b[0m\n\u001b[1;32m     28\u001b[0m     \u001b[0;31m#We will create a for loop that will impute all the null values in each one of our columns.\u001b[0m\u001b[0;34m\u001b[0m\u001b[0;34m\u001b[0m\u001b[0;34m\u001b[0m\u001b[0m\n\u001b[1;32m     29\u001b[0m     \u001b[0;32mfor\u001b[0m \u001b[0mcol\u001b[0m \u001b[0;32min\u001b[0m \u001b[0mdf\u001b[0m\u001b[0;34m.\u001b[0m\u001b[0mcolumns\u001b[0m\u001b[0;34m:\u001b[0m\u001b[0;34m\u001b[0m\u001b[0;34m\u001b[0m\u001b[0m\n\u001b[0;32m---> 30\u001b[0;31m         \u001b[0mdf\u001b[0m\u001b[0;34m[\u001b[0m\u001b[0;34m[\u001b[0m\u001b[0mcol\u001b[0m\u001b[0;34m]\u001b[0m\u001b[0;34m]\u001b[0m \u001b[0;34m=\u001b[0m \u001b[0mimputer\u001b[0m\u001b[0;34m.\u001b[0m\u001b[0mfit_transform\u001b[0m\u001b[0;34m(\u001b[0m\u001b[0mdf\u001b[0m\u001b[0;34m[\u001b[0m\u001b[0;34m[\u001b[0m\u001b[0mcol\u001b[0m\u001b[0;34m]\u001b[0m\u001b[0;34m]\u001b[0m\u001b[0;34m)\u001b[0m\u001b[0;34m\u001b[0m\u001b[0;34m\u001b[0m\u001b[0m\n\u001b[0m\u001b[1;32m     31\u001b[0m \u001b[0;34m\u001b[0m\u001b[0m\n\u001b[1;32m     32\u001b[0m     \u001b[0;32mreturn\u001b[0m \u001b[0mdf\u001b[0m\u001b[0;34m\u001b[0m\u001b[0;34m\u001b[0m\u001b[0m\n",
      "\u001b[0;32m/usr/local/anaconda3/lib/python3.8/site-packages/sklearn/base.py\u001b[0m in \u001b[0;36mfit_transform\u001b[0;34m(self, X, y, **fit_params)\u001b[0m\n\u001b[1;32m    697\u001b[0m         \u001b[0;32mif\u001b[0m \u001b[0my\u001b[0m \u001b[0;32mis\u001b[0m \u001b[0;32mNone\u001b[0m\u001b[0;34m:\u001b[0m\u001b[0;34m\u001b[0m\u001b[0;34m\u001b[0m\u001b[0m\n\u001b[1;32m    698\u001b[0m             \u001b[0;31m# fit method of arity 1 (unsupervised transformation)\u001b[0m\u001b[0;34m\u001b[0m\u001b[0;34m\u001b[0m\u001b[0;34m\u001b[0m\u001b[0m\n\u001b[0;32m--> 699\u001b[0;31m             \u001b[0;32mreturn\u001b[0m \u001b[0mself\u001b[0m\u001b[0;34m.\u001b[0m\u001b[0mfit\u001b[0m\u001b[0;34m(\u001b[0m\u001b[0mX\u001b[0m\u001b[0;34m,\u001b[0m \u001b[0;34m**\u001b[0m\u001b[0mfit_params\u001b[0m\u001b[0;34m)\u001b[0m\u001b[0;34m.\u001b[0m\u001b[0mtransform\u001b[0m\u001b[0;34m(\u001b[0m\u001b[0mX\u001b[0m\u001b[0;34m)\u001b[0m\u001b[0;34m\u001b[0m\u001b[0;34m\u001b[0m\u001b[0m\n\u001b[0m\u001b[1;32m    700\u001b[0m         \u001b[0;32melse\u001b[0m\u001b[0;34m:\u001b[0m\u001b[0;34m\u001b[0m\u001b[0;34m\u001b[0m\u001b[0m\n\u001b[1;32m    701\u001b[0m             \u001b[0;31m# fit method of arity 2 (supervised transformation)\u001b[0m\u001b[0;34m\u001b[0m\u001b[0;34m\u001b[0m\u001b[0;34m\u001b[0m\u001b[0m\n",
      "\u001b[0;32m/usr/local/anaconda3/lib/python3.8/site-packages/sklearn/impute/_base.py\u001b[0m in \u001b[0;36mfit\u001b[0;34m(self, X, y)\u001b[0m\n\u001b[1;32m    286\u001b[0m         \u001b[0mself\u001b[0m \u001b[0;34m:\u001b[0m \u001b[0mSimpleImputer\u001b[0m\u001b[0;34m\u001b[0m\u001b[0;34m\u001b[0m\u001b[0m\n\u001b[1;32m    287\u001b[0m         \"\"\"\n\u001b[0;32m--> 288\u001b[0;31m         \u001b[0mX\u001b[0m \u001b[0;34m=\u001b[0m \u001b[0mself\u001b[0m\u001b[0;34m.\u001b[0m\u001b[0m_validate_input\u001b[0m\u001b[0;34m(\u001b[0m\u001b[0mX\u001b[0m\u001b[0;34m,\u001b[0m \u001b[0min_fit\u001b[0m\u001b[0;34m=\u001b[0m\u001b[0;32mTrue\u001b[0m\u001b[0;34m)\u001b[0m\u001b[0;34m\u001b[0m\u001b[0;34m\u001b[0m\u001b[0m\n\u001b[0m\u001b[1;32m    289\u001b[0m \u001b[0;34m\u001b[0m\u001b[0m\n\u001b[1;32m    290\u001b[0m         \u001b[0;31m# default fill_value is 0 for numerical input and \"missing_value\"\u001b[0m\u001b[0;34m\u001b[0m\u001b[0;34m\u001b[0m\u001b[0;34m\u001b[0m\u001b[0m\n",
      "\u001b[0;32m/usr/local/anaconda3/lib/python3.8/site-packages/sklearn/impute/_base.py\u001b[0m in \u001b[0;36m_validate_input\u001b[0;34m(self, X, in_fit)\u001b[0m\n\u001b[1;32m    264\u001b[0m         \u001b[0m_check_inputs_dtype\u001b[0m\u001b[0;34m(\u001b[0m\u001b[0mX\u001b[0m\u001b[0;34m,\u001b[0m \u001b[0mself\u001b[0m\u001b[0;34m.\u001b[0m\u001b[0mmissing_values\u001b[0m\u001b[0;34m)\u001b[0m\u001b[0;34m\u001b[0m\u001b[0;34m\u001b[0m\u001b[0m\n\u001b[1;32m    265\u001b[0m         \u001b[0;32mif\u001b[0m \u001b[0mX\u001b[0m\u001b[0;34m.\u001b[0m\u001b[0mdtype\u001b[0m\u001b[0;34m.\u001b[0m\u001b[0mkind\u001b[0m \u001b[0;32mnot\u001b[0m \u001b[0;32min\u001b[0m \u001b[0;34m(\u001b[0m\u001b[0;34m\"i\"\u001b[0m\u001b[0;34m,\u001b[0m \u001b[0;34m\"u\"\u001b[0m\u001b[0;34m,\u001b[0m \u001b[0;34m\"f\"\u001b[0m\u001b[0;34m,\u001b[0m \u001b[0;34m\"O\"\u001b[0m\u001b[0;34m)\u001b[0m\u001b[0;34m:\u001b[0m\u001b[0;34m\u001b[0m\u001b[0;34m\u001b[0m\u001b[0m\n\u001b[0;32m--> 266\u001b[0;31m             raise ValueError(\"SimpleImputer does not support data with dtype \"\n\u001b[0m\u001b[1;32m    267\u001b[0m                              \u001b[0;34m\"{0}. Please provide either a numeric array (with\"\u001b[0m\u001b[0;34m\u001b[0m\u001b[0;34m\u001b[0m\u001b[0m\n\u001b[1;32m    268\u001b[0m                              \u001b[0;34m\" a floating point or integer dtype) or \"\u001b[0m\u001b[0;34m\u001b[0m\u001b[0;34m\u001b[0m\u001b[0m\n",
      "\u001b[0;31mValueError\u001b[0m: SimpleImputer does not support data with dtype datetime64[ns]. Please provide either a numeric array (with a floating point or integer dtype) or categorical data represented either as an array with integer dtype or an array of string values with an object dtype."
     ]
    }
   ],
   "source": [
    "df = prepare_data(df)"
   ]
  },
  {
   "cell_type": "markdown",
   "id": "2daad94d",
   "metadata": {},
   "source": [
    "### Remove Outliers"
   ]
  },
  {
   "cell_type": "code",
   "execution_count": null,
   "id": "749c3be5",
   "metadata": {},
   "outputs": [],
   "source": [
    "df = data_no_outliers(df)"
   ]
  },
  {
   "cell_type": "code",
   "execution_count": null,
   "id": "e422d6bf",
   "metadata": {},
   "outputs": [],
   "source": [
    "df = df.reset_index()"
   ]
  },
  {
   "cell_type": "code",
   "execution_count": null,
   "id": "e7e7724a",
   "metadata": {},
   "outputs": [],
   "source": [
    "len(df)"
   ]
  },
  {
   "cell_type": "markdown",
   "id": "f22367b8",
   "metadata": {},
   "source": [
    "We have removed over 10_000 rows from the dataset."
   ]
  },
  {
   "cell_type": "markdown",
   "id": "f56f6271",
   "metadata": {},
   "source": [
    "### Date Column"
   ]
  },
  {
   "cell_type": "markdown",
   "id": "e2842173",
   "metadata": {},
   "source": [
    "For this project, I am going to conver the `release_date` column into `year_of_release`, since some of the values in the `release_date` column only contain data for year."
   ]
  },
  {
   "cell_type": "code",
   "execution_count": 138,
   "id": "f493b73d",
   "metadata": {},
   "outputs": [],
   "source": [
    "df['year_of_release'] = pd.to_datetime(df.release_date)\n",
    "df['year_of_release'] = df['year_of_release'].dt.year"
   ]
  },
  {
   "cell_type": "markdown",
   "id": "f86967e1",
   "metadata": {},
   "source": [
    "### Train, Validate, Test Split"
   ]
  },
  {
   "cell_type": "code",
   "execution_count": 139,
   "id": "852db321",
   "metadata": {},
   "outputs": [],
   "source": [
    "train, validate, test = split_data(df)"
   ]
  },
  {
   "cell_type": "code",
   "execution_count": 140,
   "id": "667f5e55",
   "metadata": {},
   "outputs": [
    {
     "data": {
      "text/plain": [
       "328535"
      ]
     },
     "execution_count": 140,
     "metadata": {},
     "output_type": "execute_result"
    }
   ],
   "source": [
    "len(train)"
   ]
  },
  {
   "cell_type": "code",
   "execution_count": 141,
   "id": "6662456d",
   "metadata": {},
   "outputs": [
    {
     "data": {
      "text/plain": [
       "140802"
      ]
     },
     "execution_count": 141,
     "metadata": {},
     "output_type": "execute_result"
    }
   ],
   "source": [
    "len(validate)"
   ]
  },
  {
   "cell_type": "code",
   "execution_count": 142,
   "id": "1db99950",
   "metadata": {},
   "outputs": [
    {
     "data": {
      "text/plain": [
       "117335"
      ]
     },
     "execution_count": 142,
     "metadata": {},
     "output_type": "execute_result"
    }
   ],
   "source": [
    "len(test)"
   ]
  },
  {
   "cell_type": "markdown",
   "id": "a098a21f",
   "metadata": {},
   "source": [
    "### Add Scaled Columns"
   ]
  },
  {
   "cell_type": "markdown",
   "id": "8be3d57b",
   "metadata": {},
   "source": [
    "Since `loudness` and `duration_ms` are not on the 0 to 1 scale, we scale those features using the Min-Max Scaler."
   ]
  },
  {
   "cell_type": "code",
   "execution_count": 143,
   "id": "13cd9c64",
   "metadata": {},
   "outputs": [],
   "source": [
    "train, validate, test = add_scaled_columns(train, validate, test)"
   ]
  },
  {
   "cell_type": "code",
   "execution_count": 144,
   "id": "d29cda19",
   "metadata": {},
   "outputs": [
    {
     "data": {
      "text/html": [
       "<div>\n",
       "<style scoped>\n",
       "    .dataframe tbody tr th:only-of-type {\n",
       "        vertical-align: middle;\n",
       "    }\n",
       "\n",
       "    .dataframe tbody tr th {\n",
       "        vertical-align: top;\n",
       "    }\n",
       "\n",
       "    .dataframe thead th {\n",
       "        text-align: right;\n",
       "    }\n",
       "</style>\n",
       "<table border=\"1\" class=\"dataframe\">\n",
       "  <thead>\n",
       "    <tr style=\"text-align: right;\">\n",
       "      <th></th>\n",
       "      <th>id</th>\n",
       "      <th>name</th>\n",
       "      <th>popularity</th>\n",
       "      <th>duration_ms</th>\n",
       "      <th>explicit</th>\n",
       "      <th>artists</th>\n",
       "      <th>id_artists</th>\n",
       "      <th>release_date</th>\n",
       "      <th>danceability</th>\n",
       "      <th>energy</th>\n",
       "      <th>...</th>\n",
       "      <th>speechiness</th>\n",
       "      <th>acousticness</th>\n",
       "      <th>instrumentalness</th>\n",
       "      <th>liveness</th>\n",
       "      <th>valence</th>\n",
       "      <th>tempo</th>\n",
       "      <th>time_signature</th>\n",
       "      <th>year_of_release</th>\n",
       "      <th>duration_ms_scaled</th>\n",
       "      <th>loudness_scaled</th>\n",
       "    </tr>\n",
       "  </thead>\n",
       "  <tbody>\n",
       "    <tr>\n",
       "      <th>404070</th>\n",
       "      <td>4RoQxXt8eSKeSFmhxLXu3x</td>\n",
       "      <td>Oru Ooril</td>\n",
       "      <td>39</td>\n",
       "      <td>279467</td>\n",
       "      <td>0</td>\n",
       "      <td>['Karthik']</td>\n",
       "      <td>['0LSPREIgGMZXCuKVel7LVD']</td>\n",
       "      <td>2003-09-27</td>\n",
       "      <td>0.594</td>\n",
       "      <td>0.633</td>\n",
       "      <td>...</td>\n",
       "      <td>0.1530</td>\n",
       "      <td>0.281000</td>\n",
       "      <td>0.000000</td>\n",
       "      <td>0.0559</td>\n",
       "      <td>0.757</td>\n",
       "      <td>169.779</td>\n",
       "      <td>4</td>\n",
       "      <td>2003</td>\n",
       "      <td>0.051132</td>\n",
       "      <td>0.818305</td>\n",
       "    </tr>\n",
       "    <tr>\n",
       "      <th>319183</th>\n",
       "      <td>6FxUiq2HJbjyj4dBnXumrb</td>\n",
       "      <td>Lay down (Candles in the rain)</td>\n",
       "      <td>7</td>\n",
       "      <td>274274</td>\n",
       "      <td>0</td>\n",
       "      <td>['Emilíana Torrini']</td>\n",
       "      <td>['08j69Ndyx1P7RLO3Janb5P']</td>\n",
       "      <td>1996-01-01</td>\n",
       "      <td>0.305</td>\n",
       "      <td>0.726</td>\n",
       "      <td>...</td>\n",
       "      <td>0.0344</td>\n",
       "      <td>0.183000</td>\n",
       "      <td>0.000000</td>\n",
       "      <td>0.1340</td>\n",
       "      <td>0.592</td>\n",
       "      <td>167.728</td>\n",
       "      <td>4</td>\n",
       "      <td>1996</td>\n",
       "      <td>0.050171</td>\n",
       "      <td>0.809412</td>\n",
       "    </tr>\n",
       "    <tr>\n",
       "      <th>545921</th>\n",
       "      <td>3GcY5WwLab9cMJimIIqSh1</td>\n",
       "      <td>Playful</td>\n",
       "      <td>28</td>\n",
       "      <td>167413</td>\n",
       "      <td>0</td>\n",
       "      <td>['Frankie Animal']</td>\n",
       "      <td>['1YYYGhGZWuWjLTpxdggqpO']</td>\n",
       "      <td>2019-06-07</td>\n",
       "      <td>0.595</td>\n",
       "      <td>0.594</td>\n",
       "      <td>...</td>\n",
       "      <td>0.0359</td>\n",
       "      <td>0.040500</td>\n",
       "      <td>0.000066</td>\n",
       "      <td>0.1340</td>\n",
       "      <td>0.566</td>\n",
       "      <td>90.053</td>\n",
       "      <td>4</td>\n",
       "      <td>2019</td>\n",
       "      <td>0.030382</td>\n",
       "      <td>0.781858</td>\n",
       "    </tr>\n",
       "    <tr>\n",
       "      <th>113274</th>\n",
       "      <td>0EvOQBSyW3uSfwpcaj5xLe</td>\n",
       "      <td>Time - 2013 Remaster</td>\n",
       "      <td>11</td>\n",
       "      <td>315855</td>\n",
       "      <td>0</td>\n",
       "      <td>['David Bowie']</td>\n",
       "      <td>['0oSGxfWSnnOXhD2fKuz2Gy']</td>\n",
       "      <td>2015-09-25</td>\n",
       "      <td>0.330</td>\n",
       "      <td>0.652</td>\n",
       "      <td>...</td>\n",
       "      <td>0.0398</td>\n",
       "      <td>0.192000</td>\n",
       "      <td>0.000003</td>\n",
       "      <td>0.1050</td>\n",
       "      <td>0.369</td>\n",
       "      <td>145.186</td>\n",
       "      <td>4</td>\n",
       "      <td>2015</td>\n",
       "      <td>0.057871</td>\n",
       "      <td>0.787433</td>\n",
       "    </tr>\n",
       "    <tr>\n",
       "      <th>112835</th>\n",
       "      <td>4i3ilJFJbMwLLK3g0ECkXp</td>\n",
       "      <td>Jy Soen Soos 'n Engel</td>\n",
       "      <td>22</td>\n",
       "      <td>228653</td>\n",
       "      <td>0</td>\n",
       "      <td>['David Fourie']</td>\n",
       "      <td>['3372wrCwHX44K1vjwiZHoA']</td>\n",
       "      <td>2011-04-04</td>\n",
       "      <td>0.601</td>\n",
       "      <td>0.953</td>\n",
       "      <td>...</td>\n",
       "      <td>0.0364</td>\n",
       "      <td>0.000192</td>\n",
       "      <td>0.000000</td>\n",
       "      <td>0.0971</td>\n",
       "      <td>0.731</td>\n",
       "      <td>125.964</td>\n",
       "      <td>4</td>\n",
       "      <td>2011</td>\n",
       "      <td>0.041723</td>\n",
       "      <td>0.834877</td>\n",
       "    </tr>\n",
       "  </tbody>\n",
       "</table>\n",
       "<p>5 rows × 23 columns</p>\n",
       "</div>"
      ],
      "text/plain": [
       "                            id                            name  popularity  \\\n",
       "404070  4RoQxXt8eSKeSFmhxLXu3x                       Oru Ooril          39   \n",
       "319183  6FxUiq2HJbjyj4dBnXumrb  Lay down (Candles in the rain)           7   \n",
       "545921  3GcY5WwLab9cMJimIIqSh1                         Playful          28   \n",
       "113274  0EvOQBSyW3uSfwpcaj5xLe            Time - 2013 Remaster          11   \n",
       "112835  4i3ilJFJbMwLLK3g0ECkXp           Jy Soen Soos 'n Engel          22   \n",
       "\n",
       "        duration_ms  explicit               artists  \\\n",
       "404070       279467         0           ['Karthik']   \n",
       "319183       274274         0  ['Emilíana Torrini']   \n",
       "545921       167413         0    ['Frankie Animal']   \n",
       "113274       315855         0       ['David Bowie']   \n",
       "112835       228653         0      ['David Fourie']   \n",
       "\n",
       "                        id_artists release_date  danceability  energy  ...  \\\n",
       "404070  ['0LSPREIgGMZXCuKVel7LVD']   2003-09-27         0.594   0.633  ...   \n",
       "319183  ['08j69Ndyx1P7RLO3Janb5P']   1996-01-01         0.305   0.726  ...   \n",
       "545921  ['1YYYGhGZWuWjLTpxdggqpO']   2019-06-07         0.595   0.594  ...   \n",
       "113274  ['0oSGxfWSnnOXhD2fKuz2Gy']   2015-09-25         0.330   0.652  ...   \n",
       "112835  ['3372wrCwHX44K1vjwiZHoA']   2011-04-04         0.601   0.953  ...   \n",
       "\n",
       "        speechiness  acousticness  instrumentalness  liveness  valence  \\\n",
       "404070       0.1530      0.281000          0.000000    0.0559    0.757   \n",
       "319183       0.0344      0.183000          0.000000    0.1340    0.592   \n",
       "545921       0.0359      0.040500          0.000066    0.1340    0.566   \n",
       "113274       0.0398      0.192000          0.000003    0.1050    0.369   \n",
       "112835       0.0364      0.000192          0.000000    0.0971    0.731   \n",
       "\n",
       "          tempo  time_signature  year_of_release  duration_ms_scaled  \\\n",
       "404070  169.779               4             2003            0.051132   \n",
       "319183  167.728               4             1996            0.050171   \n",
       "545921   90.053               4             2019            0.030382   \n",
       "113274  145.186               4             2015            0.057871   \n",
       "112835  125.964               4             2011            0.041723   \n",
       "\n",
       "        loudness_scaled  \n",
       "404070         0.818305  \n",
       "319183         0.809412  \n",
       "545921         0.781858  \n",
       "113274         0.787433  \n",
       "112835         0.834877  \n",
       "\n",
       "[5 rows x 23 columns]"
      ]
     },
     "execution_count": 144,
     "metadata": {},
     "output_type": "execute_result"
    }
   ],
   "source": [
    "train.head()"
   ]
  },
  {
   "cell_type": "code",
   "execution_count": 145,
   "id": "f926a076",
   "metadata": {},
   "outputs": [
    {
     "data": {
      "text/html": [
       "<div>\n",
       "<style scoped>\n",
       "    .dataframe tbody tr th:only-of-type {\n",
       "        vertical-align: middle;\n",
       "    }\n",
       "\n",
       "    .dataframe tbody tr th {\n",
       "        vertical-align: top;\n",
       "    }\n",
       "\n",
       "    .dataframe thead th {\n",
       "        text-align: right;\n",
       "    }\n",
       "</style>\n",
       "<table border=\"1\" class=\"dataframe\">\n",
       "  <thead>\n",
       "    <tr style=\"text-align: right;\">\n",
       "      <th></th>\n",
       "      <th>id</th>\n",
       "      <th>name</th>\n",
       "      <th>popularity</th>\n",
       "      <th>duration_ms</th>\n",
       "      <th>explicit</th>\n",
       "      <th>artists</th>\n",
       "      <th>id_artists</th>\n",
       "      <th>release_date</th>\n",
       "      <th>danceability</th>\n",
       "      <th>energy</th>\n",
       "      <th>...</th>\n",
       "      <th>speechiness</th>\n",
       "      <th>acousticness</th>\n",
       "      <th>instrumentalness</th>\n",
       "      <th>liveness</th>\n",
       "      <th>valence</th>\n",
       "      <th>tempo</th>\n",
       "      <th>time_signature</th>\n",
       "      <th>year_of_release</th>\n",
       "      <th>duration_ms_scaled</th>\n",
       "      <th>loudness_scaled</th>\n",
       "    </tr>\n",
       "  </thead>\n",
       "  <tbody>\n",
       "    <tr>\n",
       "      <th>105487</th>\n",
       "      <td>1sTlRQmceHgGpaR013sQeF</td>\n",
       "      <td>Mozart: Clarinet Concerto in A Major, K. 622: ...</td>\n",
       "      <td>39</td>\n",
       "      <td>399000</td>\n",
       "      <td>0</td>\n",
       "      <td>['Wolfgang Amadeus Mozart', 'Sabine Meyer', 'H...</td>\n",
       "      <td>['4NJhFmfw43RLBLjQvxDuRS', '6kuAjH8jM4yaKQhZek...</td>\n",
       "      <td>1990-01-01</td>\n",
       "      <td>0.120</td>\n",
       "      <td>0.0384</td>\n",
       "      <td>...</td>\n",
       "      <td>0.0425</td>\n",
       "      <td>0.980</td>\n",
       "      <td>0.768000</td>\n",
       "      <td>0.1040</td>\n",
       "      <td>0.0714</td>\n",
       "      <td>92.792</td>\n",
       "      <td>4</td>\n",
       "      <td>1990</td>\n",
       "      <td>0.073268</td>\n",
       "      <td>0.566281</td>\n",
       "    </tr>\n",
       "    <tr>\n",
       "      <th>357570</th>\n",
       "      <td>5NwwdS18Tv8rrYhKTg1W7s</td>\n",
       "      <td>Trotoari</td>\n",
       "      <td>17</td>\n",
       "      <td>214158</td>\n",
       "      <td>1</td>\n",
       "      <td>['Jluch', 'Gena']</td>\n",
       "      <td>['1u5aZFA7fAmHyKsn5EkyW3', '5vtStZw4AeZWdJi8C8...</td>\n",
       "      <td>2015-04-20</td>\n",
       "      <td>0.639</td>\n",
       "      <td>0.4810</td>\n",
       "      <td>...</td>\n",
       "      <td>0.2120</td>\n",
       "      <td>0.589</td>\n",
       "      <td>0.000000</td>\n",
       "      <td>0.1290</td>\n",
       "      <td>0.5680</td>\n",
       "      <td>75.020</td>\n",
       "      <td>4</td>\n",
       "      <td>2015</td>\n",
       "      <td>0.039039</td>\n",
       "      <td>0.753782</td>\n",
       "    </tr>\n",
       "    <tr>\n",
       "      <th>220588</th>\n",
       "      <td>5zx5KkMqAMpOHBi96WP0if</td>\n",
       "      <td>יצאנו אט</td>\n",
       "      <td>11</td>\n",
       "      <td>175213</td>\n",
       "      <td>0</td>\n",
       "      <td>['Arik Einstein']</td>\n",
       "      <td>['16XberediOtO5CaMrx85cR']</td>\n",
       "      <td>1966-12-01</td>\n",
       "      <td>0.522</td>\n",
       "      <td>0.3010</td>\n",
       "      <td>...</td>\n",
       "      <td>0.0300</td>\n",
       "      <td>0.907</td>\n",
       "      <td>0.000000</td>\n",
       "      <td>0.2640</td>\n",
       "      <td>0.5480</td>\n",
       "      <td>80.688</td>\n",
       "      <td>4</td>\n",
       "      <td>1966</td>\n",
       "      <td>0.031827</td>\n",
       "      <td>0.735520</td>\n",
       "    </tr>\n",
       "    <tr>\n",
       "      <th>289161</th>\n",
       "      <td>0u7U6KJU5C5YEncP2MpKTt</td>\n",
       "      <td>Pedia Ton Dromon</td>\n",
       "      <td>21</td>\n",
       "      <td>253920</td>\n",
       "      <td>0</td>\n",
       "      <td>['Eleni Tsaligopoulou']</td>\n",
       "      <td>['3Gk7fuRSYuQWqXGhRGPsG4']</td>\n",
       "      <td>1984-03-14</td>\n",
       "      <td>0.738</td>\n",
       "      <td>0.8390</td>\n",
       "      <td>...</td>\n",
       "      <td>0.0491</td>\n",
       "      <td>0.182</td>\n",
       "      <td>0.000000</td>\n",
       "      <td>0.0507</td>\n",
       "      <td>0.8930</td>\n",
       "      <td>96.020</td>\n",
       "      <td>4</td>\n",
       "      <td>1984</td>\n",
       "      <td>0.046402</td>\n",
       "      <td>0.881291</td>\n",
       "    </tr>\n",
       "    <tr>\n",
       "      <th>379587</th>\n",
       "      <td>0rJZpj5wxVBCVBUoqildQj</td>\n",
       "      <td>Les gens qui doutent</td>\n",
       "      <td>47</td>\n",
       "      <td>216400</td>\n",
       "      <td>0</td>\n",
       "      <td>['Jeanne Cherhal', 'Vincent Delerm', 'Albin de...</td>\n",
       "      <td>['782B4UZNgZiVf5uVS5P35h', '3Uo7E7lR9Li0qXzxU8...</td>\n",
       "      <td>2007-10-29</td>\n",
       "      <td>0.383</td>\n",
       "      <td>0.5260</td>\n",
       "      <td>...</td>\n",
       "      <td>0.0872</td>\n",
       "      <td>0.922</td>\n",
       "      <td>0.000813</td>\n",
       "      <td>0.7640</td>\n",
       "      <td>0.3200</td>\n",
       "      <td>94.824</td>\n",
       "      <td>3</td>\n",
       "      <td>2007</td>\n",
       "      <td>0.039454</td>\n",
       "      <td>0.736503</td>\n",
       "    </tr>\n",
       "  </tbody>\n",
       "</table>\n",
       "<p>5 rows × 23 columns</p>\n",
       "</div>"
      ],
      "text/plain": [
       "                            id  \\\n",
       "105487  1sTlRQmceHgGpaR013sQeF   \n",
       "357570  5NwwdS18Tv8rrYhKTg1W7s   \n",
       "220588  5zx5KkMqAMpOHBi96WP0if   \n",
       "289161  0u7U6KJU5C5YEncP2MpKTt   \n",
       "379587  0rJZpj5wxVBCVBUoqildQj   \n",
       "\n",
       "                                                     name  popularity  \\\n",
       "105487  Mozart: Clarinet Concerto in A Major, K. 622: ...          39   \n",
       "357570                                           Trotoari          17   \n",
       "220588                                           יצאנו אט          11   \n",
       "289161                                   Pedia Ton Dromon          21   \n",
       "379587                               Les gens qui doutent          47   \n",
       "\n",
       "        duration_ms  explicit  \\\n",
       "105487       399000         0   \n",
       "357570       214158         1   \n",
       "220588       175213         0   \n",
       "289161       253920         0   \n",
       "379587       216400         0   \n",
       "\n",
       "                                                  artists  \\\n",
       "105487  ['Wolfgang Amadeus Mozart', 'Sabine Meyer', 'H...   \n",
       "357570                                  ['Jluch', 'Gena']   \n",
       "220588                                  ['Arik Einstein']   \n",
       "289161                            ['Eleni Tsaligopoulou']   \n",
       "379587  ['Jeanne Cherhal', 'Vincent Delerm', 'Albin de...   \n",
       "\n",
       "                                               id_artists release_date  \\\n",
       "105487  ['4NJhFmfw43RLBLjQvxDuRS', '6kuAjH8jM4yaKQhZek...   1990-01-01   \n",
       "357570  ['1u5aZFA7fAmHyKsn5EkyW3', '5vtStZw4AeZWdJi8C8...   2015-04-20   \n",
       "220588                         ['16XberediOtO5CaMrx85cR']   1966-12-01   \n",
       "289161                         ['3Gk7fuRSYuQWqXGhRGPsG4']   1984-03-14   \n",
       "379587  ['782B4UZNgZiVf5uVS5P35h', '3Uo7E7lR9Li0qXzxU8...   2007-10-29   \n",
       "\n",
       "        danceability  energy  ...  speechiness  acousticness  \\\n",
       "105487         0.120  0.0384  ...       0.0425         0.980   \n",
       "357570         0.639  0.4810  ...       0.2120         0.589   \n",
       "220588         0.522  0.3010  ...       0.0300         0.907   \n",
       "289161         0.738  0.8390  ...       0.0491         0.182   \n",
       "379587         0.383  0.5260  ...       0.0872         0.922   \n",
       "\n",
       "        instrumentalness  liveness  valence   tempo  time_signature  \\\n",
       "105487          0.768000    0.1040   0.0714  92.792               4   \n",
       "357570          0.000000    0.1290   0.5680  75.020               4   \n",
       "220588          0.000000    0.2640   0.5480  80.688               4   \n",
       "289161          0.000000    0.0507   0.8930  96.020               4   \n",
       "379587          0.000813    0.7640   0.3200  94.824               3   \n",
       "\n",
       "        year_of_release  duration_ms_scaled  loudness_scaled  \n",
       "105487             1990            0.073268         0.566281  \n",
       "357570             2015            0.039039         0.753782  \n",
       "220588             1966            0.031827         0.735520  \n",
       "289161             1984            0.046402         0.881291  \n",
       "379587             2007            0.039454         0.736503  \n",
       "\n",
       "[5 rows x 23 columns]"
      ]
     },
     "execution_count": 145,
     "metadata": {},
     "output_type": "execute_result"
    }
   ],
   "source": [
    "validate.head()"
   ]
  },
  {
   "cell_type": "code",
   "execution_count": 146,
   "id": "5da6bbaf",
   "metadata": {},
   "outputs": [
    {
     "data": {
      "text/html": [
       "<div>\n",
       "<style scoped>\n",
       "    .dataframe tbody tr th:only-of-type {\n",
       "        vertical-align: middle;\n",
       "    }\n",
       "\n",
       "    .dataframe tbody tr th {\n",
       "        vertical-align: top;\n",
       "    }\n",
       "\n",
       "    .dataframe thead th {\n",
       "        text-align: right;\n",
       "    }\n",
       "</style>\n",
       "<table border=\"1\" class=\"dataframe\">\n",
       "  <thead>\n",
       "    <tr style=\"text-align: right;\">\n",
       "      <th></th>\n",
       "      <th>id</th>\n",
       "      <th>name</th>\n",
       "      <th>popularity</th>\n",
       "      <th>duration_ms</th>\n",
       "      <th>explicit</th>\n",
       "      <th>artists</th>\n",
       "      <th>id_artists</th>\n",
       "      <th>release_date</th>\n",
       "      <th>danceability</th>\n",
       "      <th>energy</th>\n",
       "      <th>...</th>\n",
       "      <th>speechiness</th>\n",
       "      <th>acousticness</th>\n",
       "      <th>instrumentalness</th>\n",
       "      <th>liveness</th>\n",
       "      <th>valence</th>\n",
       "      <th>tempo</th>\n",
       "      <th>time_signature</th>\n",
       "      <th>year_of_release</th>\n",
       "      <th>duration_ms_scaled</th>\n",
       "      <th>loudness_scaled</th>\n",
       "    </tr>\n",
       "  </thead>\n",
       "  <tbody>\n",
       "    <tr>\n",
       "      <th>239867</th>\n",
       "      <td>0FhgD9zuStSJZpos20gFtV</td>\n",
       "      <td>Minha Lagoa (Our Lagoon)</td>\n",
       "      <td>11</td>\n",
       "      <td>176000</td>\n",
       "      <td>0</td>\n",
       "      <td>['Luiz Henrique']</td>\n",
       "      <td>['2mbbD0cLZxosXdwG7aVals']</td>\n",
       "      <td>1967-01-01</td>\n",
       "      <td>0.653</td>\n",
       "      <td>0.416</td>\n",
       "      <td>...</td>\n",
       "      <td>0.0416</td>\n",
       "      <td>0.663000</td>\n",
       "      <td>0.000116</td>\n",
       "      <td>0.0833</td>\n",
       "      <td>0.8200</td>\n",
       "      <td>81.457</td>\n",
       "      <td>4</td>\n",
       "      <td>1967</td>\n",
       "      <td>0.031972</td>\n",
       "      <td>0.679783</td>\n",
       "    </tr>\n",
       "    <tr>\n",
       "      <th>246765</th>\n",
       "      <td>5GFIZfNxJo3crKCT1twUjL</td>\n",
       "      <td>Wagner: Tristan und Isolde, WWV 90, Act 3 Scen...</td>\n",
       "      <td>2</td>\n",
       "      <td>229627</td>\n",
       "      <td>0</td>\n",
       "      <td>['Richard Wagner', 'Josef Greindl', 'Philharmo...</td>\n",
       "      <td>['1C1x4MVkql8AiABuTw6DgE', '2vZXFmXCmzwuS35JDT...</td>\n",
       "      <td>1953-01-01</td>\n",
       "      <td>0.131</td>\n",
       "      <td>0.396</td>\n",
       "      <td>...</td>\n",
       "      <td>0.0385</td>\n",
       "      <td>0.945000</td>\n",
       "      <td>0.121000</td>\n",
       "      <td>0.2030</td>\n",
       "      <td>0.0359</td>\n",
       "      <td>85.023</td>\n",
       "      <td>4</td>\n",
       "      <td>1953</td>\n",
       "      <td>0.041903</td>\n",
       "      <td>0.720791</td>\n",
       "    </tr>\n",
       "    <tr>\n",
       "      <th>93968</th>\n",
       "      <td>7D1qj2gfg2XyHbwUyLydE2</td>\n",
       "      <td>That's What I Like</td>\n",
       "      <td>0</td>\n",
       "      <td>205080</td>\n",
       "      <td>0</td>\n",
       "      <td>['Bruno Mars']</td>\n",
       "      <td>['0du5cEVh5yTK9QJze8zA0C']</td>\n",
       "      <td>2021-04-16</td>\n",
       "      <td>0.852</td>\n",
       "      <td>0.551</td>\n",
       "      <td>...</td>\n",
       "      <td>0.0416</td>\n",
       "      <td>0.014600</td>\n",
       "      <td>0.000000</td>\n",
       "      <td>0.0898</td>\n",
       "      <td>0.8500</td>\n",
       "      <td>134.061</td>\n",
       "      <td>4</td>\n",
       "      <td>2021</td>\n",
       "      <td>0.037357</td>\n",
       "      <td>0.845490</td>\n",
       "    </tr>\n",
       "    <tr>\n",
       "      <th>46081</th>\n",
       "      <td>09eg3FGzsZQbZk8qEXhJIA</td>\n",
       "      <td>Stop Breaking Down</td>\n",
       "      <td>41</td>\n",
       "      <td>274773</td>\n",
       "      <td>0</td>\n",
       "      <td>['The Rolling Stones']</td>\n",
       "      <td>['22bE4uQ6baNwSHPVcDxLCe']</td>\n",
       "      <td>1972-05-12</td>\n",
       "      <td>0.522</td>\n",
       "      <td>0.891</td>\n",
       "      <td>...</td>\n",
       "      <td>0.0322</td>\n",
       "      <td>0.509000</td>\n",
       "      <td>0.908000</td>\n",
       "      <td>0.1110</td>\n",
       "      <td>0.9100</td>\n",
       "      <td>104.411</td>\n",
       "      <td>4</td>\n",
       "      <td>1972</td>\n",
       "      <td>0.050263</td>\n",
       "      <td>0.858791</td>\n",
       "    </tr>\n",
       "    <tr>\n",
       "      <th>200642</th>\n",
       "      <td>4Xjko8MZh1UGtvSFdMDeAk</td>\n",
       "      <td>Horizon (FYHYM2018) - Aether Mix</td>\n",
       "      <td>2</td>\n",
       "      <td>58000</td>\n",
       "      <td>0</td>\n",
       "      <td>['Andrew Rayel', 'Lola Blanc', 'Aether']</td>\n",
       "      <td>['1UtBjqMZBAmqIPlDrKu7Tr', '3n1yZfKIQhSaPjF1LZ...</td>\n",
       "      <td>2018-12-27</td>\n",
       "      <td>0.404</td>\n",
       "      <td>0.868</td>\n",
       "      <td>...</td>\n",
       "      <td>0.0714</td>\n",
       "      <td>0.000008</td>\n",
       "      <td>0.000787</td>\n",
       "      <td>0.9050</td>\n",
       "      <td>0.3410</td>\n",
       "      <td>132.059</td>\n",
       "      <td>4</td>\n",
       "      <td>2018</td>\n",
       "      <td>0.010121</td>\n",
       "      <td>0.842910</td>\n",
       "    </tr>\n",
       "  </tbody>\n",
       "</table>\n",
       "<p>5 rows × 23 columns</p>\n",
       "</div>"
      ],
      "text/plain": [
       "                            id  \\\n",
       "239867  0FhgD9zuStSJZpos20gFtV   \n",
       "246765  5GFIZfNxJo3crKCT1twUjL   \n",
       "93968   7D1qj2gfg2XyHbwUyLydE2   \n",
       "46081   09eg3FGzsZQbZk8qEXhJIA   \n",
       "200642  4Xjko8MZh1UGtvSFdMDeAk   \n",
       "\n",
       "                                                     name  popularity  \\\n",
       "239867                           Minha Lagoa (Our Lagoon)          11   \n",
       "246765  Wagner: Tristan und Isolde, WWV 90, Act 3 Scen...           2   \n",
       "93968                                  That's What I Like           0   \n",
       "46081                                  Stop Breaking Down          41   \n",
       "200642                   Horizon (FYHYM2018) - Aether Mix           2   \n",
       "\n",
       "        duration_ms  explicit  \\\n",
       "239867       176000         0   \n",
       "246765       229627         0   \n",
       "93968        205080         0   \n",
       "46081        274773         0   \n",
       "200642        58000         0   \n",
       "\n",
       "                                                  artists  \\\n",
       "239867                                  ['Luiz Henrique']   \n",
       "246765  ['Richard Wagner', 'Josef Greindl', 'Philharmo...   \n",
       "93968                                      ['Bruno Mars']   \n",
       "46081                              ['The Rolling Stones']   \n",
       "200642           ['Andrew Rayel', 'Lola Blanc', 'Aether']   \n",
       "\n",
       "                                               id_artists release_date  \\\n",
       "239867                         ['2mbbD0cLZxosXdwG7aVals']   1967-01-01   \n",
       "246765  ['1C1x4MVkql8AiABuTw6DgE', '2vZXFmXCmzwuS35JDT...   1953-01-01   \n",
       "93968                          ['0du5cEVh5yTK9QJze8zA0C']   2021-04-16   \n",
       "46081                          ['22bE4uQ6baNwSHPVcDxLCe']   1972-05-12   \n",
       "200642  ['1UtBjqMZBAmqIPlDrKu7Tr', '3n1yZfKIQhSaPjF1LZ...   2018-12-27   \n",
       "\n",
       "        danceability  energy  ...  speechiness  acousticness  \\\n",
       "239867         0.653   0.416  ...       0.0416      0.663000   \n",
       "246765         0.131   0.396  ...       0.0385      0.945000   \n",
       "93968          0.852   0.551  ...       0.0416      0.014600   \n",
       "46081          0.522   0.891  ...       0.0322      0.509000   \n",
       "200642         0.404   0.868  ...       0.0714      0.000008   \n",
       "\n",
       "        instrumentalness  liveness  valence    tempo  time_signature  \\\n",
       "239867          0.000116    0.0833   0.8200   81.457               4   \n",
       "246765          0.121000    0.2030   0.0359   85.023               4   \n",
       "93968           0.000000    0.0898   0.8500  134.061               4   \n",
       "46081           0.908000    0.1110   0.9100  104.411               4   \n",
       "200642          0.000787    0.9050   0.3410  132.059               4   \n",
       "\n",
       "        year_of_release  duration_ms_scaled  loudness_scaled  \n",
       "239867             1967            0.031972         0.679783  \n",
       "246765             1953            0.041903         0.720791  \n",
       "93968              2021            0.037357         0.845490  \n",
       "46081              1972            0.050263         0.858791  \n",
       "200642             2018            0.010121         0.842910  \n",
       "\n",
       "[5 rows x 23 columns]"
      ]
     },
     "execution_count": 146,
     "metadata": {},
     "output_type": "execute_result"
    }
   ],
   "source": [
    "test.head()"
   ]
  },
  {
   "cell_type": "markdown",
   "id": "f796bdc0",
   "metadata": {},
   "source": [
    "## Explore"
   ]
  },
  {
   "cell_type": "markdown",
   "id": "b79331f8",
   "metadata": {},
   "source": [
    "### Feature Engineering"
   ]
  },
  {
   "cell_type": "markdown",
   "id": "c52e3abc",
   "metadata": {},
   "source": [
    "I will use feature engineering to determine which features are most likely predictive of `popularity`. To use, feature engineering, we first split the data between our features and our target."
   ]
  },
  {
   "cell_type": "code",
   "execution_count": 147,
   "id": "1fd565b9",
   "metadata": {},
   "outputs": [
    {
     "data": {
      "text/plain": [
       "Index(['id', 'name', 'popularity', 'duration_ms', 'explicit', 'artists',\n",
       "       'id_artists', 'release_date', 'danceability', 'energy', 'key',\n",
       "       'loudness', 'mode', 'speechiness', 'acousticness', 'instrumentalness',\n",
       "       'liveness', 'valence', 'tempo', 'time_signature', 'year_of_release',\n",
       "       'duration_ms_scaled', 'loudness_scaled'],\n",
       "      dtype='object')"
      ]
     },
     "execution_count": 147,
     "metadata": {},
     "output_type": "execute_result"
    }
   ],
   "source": [
    "train.columns"
   ]
  },
  {
   "cell_type": "code",
   "execution_count": 148,
   "id": "112a9213",
   "metadata": {},
   "outputs": [],
   "source": [
    "X_train = train[['explicit', 'danceability', 'energy', 'key', 'mode', 'speechiness', 'acousticness', 'instrumentalness',\n",
    "       'liveness', 'valence', 'tempo', 'time_signature',\n",
    "       'duration_ms_scaled', 'loudness_scaled', 'year_of_release']]\n",
    "y_train = train['popularity']\n",
    "X_validate = validate[['explicit', 'danceability', 'energy', 'key', 'mode', 'speechiness', 'acousticness', 'instrumentalness',\n",
    "       'liveness', 'valence', 'tempo', 'time_signature', \n",
    "       'duration_ms_scaled', 'loudness_scaled', 'year_of_release']]\n",
    "y_validate = validate.popularity\n",
    "X_test = test[['explicit', 'danceability', 'energy', 'key', 'mode', 'speechiness', 'acousticness', 'instrumentalness',\n",
    "       'liveness', 'valence', 'tempo', 'time_signature',\n",
    "       'duration_ms_scaled', 'loudness_scaled', 'year_of_release']]\n",
    "y_test = test.popularity"
   ]
  },
  {
   "cell_type": "code",
   "execution_count": 149,
   "id": "cf0394f3",
   "metadata": {},
   "outputs": [
    {
     "data": {
      "text/plain": [
       "15"
      ]
     },
     "execution_count": 149,
     "metadata": {},
     "output_type": "execute_result"
    }
   ],
   "source": [
    "len(X_train.columns)"
   ]
  },
  {
   "cell_type": "code",
   "execution_count": 150,
   "id": "c0ee20df",
   "metadata": {},
   "outputs": [
    {
     "data": {
      "text/plain": [
       "15"
      ]
     },
     "execution_count": 150,
     "metadata": {},
     "output_type": "execute_result"
    }
   ],
   "source": [
    "len(X_validate.columns)"
   ]
  },
  {
   "cell_type": "code",
   "execution_count": 151,
   "id": "aac79c15",
   "metadata": {},
   "outputs": [
    {
     "data": {
      "text/plain": [
       "15"
      ]
     },
     "execution_count": 151,
     "metadata": {},
     "output_type": "execute_result"
    }
   ],
   "source": [
    "len(X_test.columns)"
   ]
  },
  {
   "cell_type": "markdown",
   "id": "ca6c1303",
   "metadata": {},
   "source": [
    "We will select the best features from our 15 columns."
   ]
  },
  {
   "cell_type": "markdown",
   "id": "03f54202",
   "metadata": {},
   "source": [
    "#### Select K Best Model"
   ]
  },
  {
   "cell_type": "code",
   "execution_count": 152,
   "id": "d28d6923",
   "metadata": {},
   "outputs": [
    {
     "data": {
      "text/plain": [
       "Index(['explicit', 'energy', 'acousticness', 'instrumentalness',\n",
       "       'loudness_scaled', 'year_of_release'],\n",
       "      dtype='object')"
      ]
     },
     "execution_count": 152,
     "metadata": {},
     "output_type": "execute_result"
    }
   ],
   "source": [
    "# Create model\n",
    "kbest_6 = SelectKBest(f_regression, k=6)\n",
    "#Fit the model\n",
    "kbest_6.fit(X_train, y_train)\n",
    "X_train.columns[kbest_6.get_support()]"
   ]
  },
  {
   "cell_type": "code",
   "execution_count": 153,
   "id": "fb75cf87",
   "metadata": {},
   "outputs": [
    {
     "data": {
      "text/plain": [
       "Index(['explicit', 'danceability', 'energy', 'acousticness',\n",
       "       'instrumentalness', 'loudness_scaled', 'year_of_release'],\n",
       "      dtype='object')"
      ]
     },
     "execution_count": 153,
     "metadata": {},
     "output_type": "execute_result"
    }
   ],
   "source": [
    "# Create model\n",
    "kbest_7 = SelectKBest(f_regression, k=7)\n",
    "#Fit the model\n",
    "kbest_7.fit(X_train, y_train)\n",
    "X_train.columns[kbest_7.get_support()]"
   ]
  },
  {
   "cell_type": "code",
   "execution_count": 154,
   "id": "d288ebf0",
   "metadata": {},
   "outputs": [
    {
     "data": {
      "text/plain": [
       "Index(['explicit', 'danceability', 'energy', 'acousticness',\n",
       "       'instrumentalness', 'time_signature', 'loudness_scaled',\n",
       "       'year_of_release'],\n",
       "      dtype='object')"
      ]
     },
     "execution_count": 154,
     "metadata": {},
     "output_type": "execute_result"
    }
   ],
   "source": [
    "# Create model\n",
    "kbest_8 = SelectKBest(f_regression, k=8)\n",
    "#Fit the model\n",
    "kbest_8.fit(X_train, y_train)\n",
    "X_train.columns[kbest_8.get_support()]"
   ]
  },
  {
   "cell_type": "code",
   "execution_count": 155,
   "id": "b65d56e4",
   "metadata": {},
   "outputs": [
    {
     "data": {
      "text/plain": [
       "Index(['explicit', 'danceability', 'energy', 'acousticness',\n",
       "       'instrumentalness', 'tempo', 'time_signature', 'loudness_scaled',\n",
       "       'year_of_release'],\n",
       "      dtype='object')"
      ]
     },
     "execution_count": 155,
     "metadata": {},
     "output_type": "execute_result"
    }
   ],
   "source": [
    "# Create model\n",
    "kbest_9 = SelectKBest(f_regression, k=9)\n",
    "#Fit the model\n",
    "kbest_9.fit(X_train, y_train)\n",
    "X_train.columns[kbest_9.get_support()]"
   ]
  },
  {
   "cell_type": "code",
   "execution_count": 156,
   "id": "1132e0d8",
   "metadata": {},
   "outputs": [
    {
     "data": {
      "text/plain": [
       "Index(['explicit', 'danceability', 'energy', 'acousticness',\n",
       "       'instrumentalness', 'liveness', 'tempo', 'time_signature',\n",
       "       'loudness_scaled', 'year_of_release'],\n",
       "      dtype='object')"
      ]
     },
     "execution_count": 156,
     "metadata": {},
     "output_type": "execute_result"
    }
   ],
   "source": [
    "# Create model\n",
    "kbest_10 = SelectKBest(f_regression, k=10)\n",
    "#Fit the model\n",
    "kbest_10.fit(X_train, y_train)\n",
    "X_train.columns[kbest_10.get_support()]"
   ]
  },
  {
   "cell_type": "markdown",
   "id": "ebe5ad14",
   "metadata": {},
   "source": [
    "#### Recursive Feature Elimination"
   ]
  },
  {
   "cell_type": "code",
   "execution_count": 157,
   "id": "36730bf4",
   "metadata": {},
   "outputs": [
    {
     "data": {
      "text/plain": [
       "Index(['explicit', 'danceability', 'acousticness', 'instrumentalness',\n",
       "       'valence', 'loudness_scaled'],\n",
       "      dtype='object')"
      ]
     },
     "execution_count": 157,
     "metadata": {},
     "output_type": "execute_result"
    }
   ],
   "source": [
    "rfe_6 = RFE(estimator=LinearRegression(), n_features_to_select=6)\n",
    "rfe_6.fit(X_train, y_train)\n",
    "X_train.columns[rfe_6.get_support()]"
   ]
  },
  {
   "cell_type": "code",
   "execution_count": 158,
   "id": "cdbb743f",
   "metadata": {},
   "outputs": [
    {
     "data": {
      "text/plain": [
       "Index(['explicit', 'danceability', 'speechiness', 'acousticness',\n",
       "       'instrumentalness', 'valence', 'loudness_scaled'],\n",
       "      dtype='object')"
      ]
     },
     "execution_count": 158,
     "metadata": {},
     "output_type": "execute_result"
    }
   ],
   "source": [
    "rfe_7 = RFE(estimator=LinearRegression(), n_features_to_select=7)\n",
    "rfe_7.fit(X_train, y_train)\n",
    "X_train.columns[rfe_7.get_support()]"
   ]
  },
  {
   "cell_type": "code",
   "execution_count": 159,
   "id": "55cc6ead",
   "metadata": {},
   "outputs": [
    {
     "data": {
      "text/plain": [
       "Index(['explicit', 'danceability', 'speechiness', 'acousticness',\n",
       "       'instrumentalness', 'valence', 'duration_ms_scaled', 'loudness_scaled'],\n",
       "      dtype='object')"
      ]
     },
     "execution_count": 159,
     "metadata": {},
     "output_type": "execute_result"
    }
   ],
   "source": [
    "rfe_8 = RFE(estimator=LinearRegression(), n_features_to_select=8)\n",
    "rfe_8.fit(X_train, y_train)\n",
    "X_train.columns[rfe_8.get_support()]"
   ]
  },
  {
   "cell_type": "code",
   "execution_count": 160,
   "id": "6e88085b",
   "metadata": {},
   "outputs": [
    {
     "data": {
      "text/plain": [
       "Index(['explicit', 'danceability', 'speechiness', 'acousticness',\n",
       "       'instrumentalness', 'liveness', 'valence', 'duration_ms_scaled',\n",
       "       'loudness_scaled'],\n",
       "      dtype='object')"
      ]
     },
     "execution_count": 160,
     "metadata": {},
     "output_type": "execute_result"
    }
   ],
   "source": [
    "rfe_9 = RFE(estimator=LinearRegression(), n_features_to_select=9)\n",
    "rfe_9.fit(X_train, y_train)\n",
    "X_train.columns[rfe_9.get_support()]"
   ]
  },
  {
   "cell_type": "code",
   "execution_count": 161,
   "id": "70aa5702",
   "metadata": {},
   "outputs": [
    {
     "data": {
      "text/plain": [
       "Index(['explicit', 'danceability', 'energy', 'speechiness', 'acousticness',\n",
       "       'instrumentalness', 'liveness', 'valence', 'duration_ms_scaled',\n",
       "       'loudness_scaled'],\n",
       "      dtype='object')"
      ]
     },
     "execution_count": 161,
     "metadata": {},
     "output_type": "execute_result"
    }
   ],
   "source": [
    "rfe_10 = RFE(estimator=LinearRegression(), n_features_to_select=10)\n",
    "rfe_10.fit(X_train, y_train)\n",
    "X_train.columns[rfe_10.get_support()]"
   ]
  },
  {
   "cell_type": "markdown",
   "id": "70e642ae",
   "metadata": {},
   "source": [
    "### Stastistical Testing"
   ]
  },
  {
   "cell_type": "code",
   "execution_count": 201,
   "id": "2f22ed1c",
   "metadata": {},
   "outputs": [
    {
     "data": {
      "text/plain": [
       "Index(['id', 'name', 'popularity', 'duration_ms', 'explicit', 'artists',\n",
       "       'id_artists', 'release_date', 'danceability', 'energy', 'key',\n",
       "       'loudness', 'mode', 'speechiness', 'acousticness', 'instrumentalness',\n",
       "       'liveness', 'valence', 'tempo', 'time_signature', 'year_of_release',\n",
       "       'duration_ms_scaled', 'loudness_scaled', 'cluster'],\n",
       "      dtype='object')"
      ]
     },
     "execution_count": 201,
     "metadata": {},
     "output_type": "execute_result"
    }
   ],
   "source": [
    "train.columns"
   ]
  },
  {
   "cell_type": "code",
   "execution_count": 230,
   "id": "30720d71",
   "metadata": {},
   "outputs": [],
   "source": [
    "continuous = ['danceability', \n",
    "              'energy', \n",
    "              'speechiness', \n",
    "              'acousticness', \n",
    "              'instrumentalness', \n",
    "              'liveness', \n",
    "              'valence', \n",
    "             'tempo',\n",
    "              'duration_ms_scaled',\n",
    "              'loudness_scaled', \n",
    "             'year_of_release']"
   ]
  },
  {
   "cell_type": "code",
   "execution_count": 205,
   "id": "ab9a40e1",
   "metadata": {},
   "outputs": [],
   "source": [
    "categorical = ['explicit', \n",
    "               'key', \n",
    "               'mode', \n",
    "               'time_signature']"
   ]
  },
  {
   "cell_type": "markdown",
   "id": "7e458517",
   "metadata": {},
   "source": [
    "#### Continuous Variables"
   ]
  },
  {
   "cell_type": "code",
   "execution_count": 231,
   "id": "d74e990d",
   "metadata": {},
   "outputs": [
    {
     "name": "stdout",
     "output_type": "stream",
     "text": [
      "danceability correlation with popularity\n",
      "(0.1870163634720317, 0.0)\n",
      " \n",
      "energy correlation with popularity\n",
      "(0.30150440884835644, 0.0)\n",
      " \n",
      "speechiness correlation with popularity\n",
      "(-0.04595395159226193, 4.6555683336188575e-153)\n",
      " \n",
      "acousticness correlation with popularity\n",
      "(-0.37030088853515175, 0.0)\n",
      " \n",
      "instrumentalness correlation with popularity\n",
      "(-0.2356546790116412, 0.0)\n",
      " \n",
      "liveness correlation with popularity\n",
      "(-0.046603713056190134, 2.302844897733655e-157)\n",
      " \n",
      "valence correlation with popularity\n",
      "(0.0031646183090026396, 0.06969424688529197)\n",
      " \n",
      "tempo correlation with popularity\n",
      "(0.07253077215442315, 0.0)\n",
      " \n",
      "duration_ms_scaled correlation with popularity\n",
      "(0.028345255497950826, 2.2289555596576756e-59)\n",
      " \n",
      "loudness_scaled correlation with popularity\n",
      "(0.3253158150405975, 0.0)\n",
      " \n",
      "year_of_release correlation with popularity\n",
      "(0.5897729810434488, 0.0)\n",
      " \n"
     ]
    }
   ],
   "source": [
    "for col in continuous:\n",
    "    test_results = stats.pearsonr(train.popularity, train[col])\n",
    "    print(col, \"correlation with popularity\")\n",
    "    print(test_results)\n",
    "    print(\" \")"
   ]
  },
  {
   "cell_type": "markdown",
   "id": "b02901ff",
   "metadata": {},
   "source": [
    "All continuous variables except for `valence` are significantly correlated with `popularity`. However, \n",
    " - danceability, \n",
    " - energy, \n",
    " - instrumentalness, \n",
    " - tempo, \n",
    " - duration_ms_scaled, \n",
    " - l"
   ]
  },
  {
   "cell_type": "markdown",
   "id": "0cb1c190",
   "metadata": {},
   "source": [
    "#### Categorical Variables"
   ]
  },
  {
   "cell_type": "markdown",
   "id": "5e13d3b3",
   "metadata": {},
   "source": [
    "**Explicit**"
   ]
  },
  {
   "cell_type": "code",
   "execution_count": 213,
   "id": "2b51c589",
   "metadata": {},
   "outputs": [
    {
     "data": {
      "text/plain": [
       "Ttest_1sampResult(statistic=119.58156261090492, pvalue=0.0)"
      ]
     },
     "execution_count": 213,
     "metadata": {},
     "output_type": "execute_result"
    }
   ],
   "source": [
    "explicit_popularity = train[train.explicit == 1].popularity\n",
    "overall_popularity_mean = train.popularity.mean()\n",
    "\n",
    "test_results = stats.ttest_1samp(explicit_popularity, overall_popularity_mean)\n",
    "test_results"
   ]
  },
  {
   "cell_type": "markdown",
   "id": "bd861faa",
   "metadata": {},
   "source": [
    "Mean popularity for explicit songs is signficantly different than mean popularity for all songs."
   ]
  },
  {
   "cell_type": "markdown",
   "id": "dfe6be0d",
   "metadata": {},
   "source": [
    "**Key**"
   ]
  },
  {
   "cell_type": "code",
   "execution_count": 226,
   "id": "44a55318",
   "metadata": {},
   "outputs": [
    {
     "data": {
      "text/plain": [
       "0     41636\n",
       "7     41295\n",
       "2     37544\n",
       "9     36672\n",
       "5     29993\n",
       "4     27135\n",
       "1     23157\n",
       "11    21827\n",
       "10    21078\n",
       "8     18831\n",
       "6     17332\n",
       "3     12035\n",
       "Name: key, dtype: int64"
      ]
     },
     "execution_count": 226,
     "metadata": {},
     "output_type": "execute_result"
    }
   ],
   "source": [
    "train.key.value_counts()"
   ]
  },
  {
   "cell_type": "code",
   "execution_count": 222,
   "id": "50ac92e6",
   "metadata": {},
   "outputs": [
    {
     "name": "stdout",
     "output_type": "stream",
     "text": [
      "Key 0 popularity compared to population mean\n",
      "Ttest_1sampResult(statistic=-6.258123247362457, pvalue=3.9342365743062067e-10)\n",
      " \n",
      "Key 1 popularity compared to population mean\n",
      "Ttest_1sampResult(statistic=16.749987680817185, pvalue=1.3238620997405562e-62)\n",
      " \n",
      "Key 2 popularity compared to population mean\n",
      "Ttest_1sampResult(statistic=-3.819513139113832, pvalue=0.0001339303757488961)\n",
      " \n",
      "Key 3 popularity compared to population mean\n",
      "Ttest_1sampResult(statistic=-22.036492722269777, pvalue=1.5498175593116705e-105)\n",
      " \n",
      "Key 4 popularity compared to population mean\n",
      "Ttest_1sampResult(statistic=5.70861918533308, pvalue=1.1508362424712138e-08)\n",
      " \n",
      "Key 5 popularity compared to population mean\n",
      "Ttest_1sampResult(statistic=-17.54200951678256, pvalue=1.5070885626986769e-68)\n",
      " \n",
      "Key 6 popularity compared to population mean\n",
      "Ttest_1sampResult(statistic=17.0150394733215, pvalue=2.1178050459415778e-64)\n",
      " \n",
      "Key 7 popularity compared to population mean\n",
      "Ttest_1sampResult(statistic=-5.981496972757596, pvalue=2.229106923747131e-09)\n",
      " \n",
      "Key 8 popularity compared to population mean\n",
      "Ttest_1sampResult(statistic=0.6517498412842975, pvalue=0.5145705185341749)\n",
      " \n",
      "Key 9 popularity compared to population mean\n",
      "Ttest_1sampResult(statistic=5.805550726236017, pvalue=6.468259249531677e-09)\n",
      " \n",
      "Key 10 popularity compared to population mean\n",
      "Ttest_1sampResult(statistic=-8.77786369216427, pvalue=1.790582137165049e-18)\n",
      " \n",
      "Key 11 popularity compared to population mean\n",
      "Ttest_1sampResult(statistic=18.884240229387448, pvalue=6.5479387466934e-79)\n",
      " \n"
     ]
    }
   ],
   "source": [
    "for a in range(0, 12):\n",
    "    key_popularity = train[train.key == a].popularity\n",
    "    \n",
    "    test_results = stats.ttest_1samp(key_popularity, overall_popularity_mean)\n",
    "    \n",
    "    print(\"Key\", a, \"popularity compared to population mean\")\n",
    "    \n",
    "    print(test_results)\n",
    "    \n",
    "    print(\" \")\n"
   ]
  },
  {
   "cell_type": "code",
   "execution_count": null,
   "id": "c6881ae6",
   "metadata": {},
   "outputs": [],
   "source": []
  },
  {
   "cell_type": "markdown",
   "id": "c9e34cd8",
   "metadata": {},
   "source": [
    "The majority of key popularities do not differ significantly from the mean population popularity. "
   ]
  },
  {
   "cell_type": "markdown",
   "id": "ac06fe9c",
   "metadata": {},
   "source": [
    "**Mode**"
   ]
  },
  {
   "cell_type": "code",
   "execution_count": 225,
   "id": "2dd35296",
   "metadata": {},
   "outputs": [
    {
     "data": {
      "text/plain": [
       "Ttest_1sampResult(statistic=-11.388014524635478, pvalue=4.8934446925943324e-30)"
      ]
     },
     "execution_count": 225,
     "metadata": {},
     "output_type": "execute_result"
    }
   ],
   "source": [
    "major_popularity = train[train['mode'] == 1].popularity\n",
    "overall_popularity_mean = train.popularity.mean()\n",
    "\n",
    "test_results = stats.ttest_1samp(major_popularity, overall_popularity_mean)\n",
    "test_results"
   ]
  },
  {
   "cell_type": "markdown",
   "id": "7db6ee57",
   "metadata": {},
   "source": [
    "The mean popularity for songs in major appears to be significantly different than the population average."
   ]
  },
  {
   "cell_type": "markdown",
   "id": "de376616",
   "metadata": {},
   "source": [
    "**Time Signature**"
   ]
  },
  {
   "cell_type": "code",
   "execution_count": 227,
   "id": "7082e5fe",
   "metadata": {},
   "outputs": [
    {
     "data": {
      "text/plain": [
       "4    282064\n",
       "3     36283\n",
       "5      6344\n",
       "1      3665\n",
       "0       179\n",
       "Name: time_signature, dtype: int64"
      ]
     },
     "execution_count": 227,
     "metadata": {},
     "output_type": "execute_result"
    }
   ],
   "source": [
    "train.time_signature.value_counts()"
   ]
  },
  {
   "cell_type": "code",
   "execution_count": 229,
   "id": "24fe14b9",
   "metadata": {},
   "outputs": [
    {
     "name": "stdout",
     "output_type": "stream",
     "text": [
      "Time signature 0 popularity compared to population mean\n",
      "Ttest_1sampResult(statistic=1.5012071253882808, pvalue=0.135073792340418)\n",
      " \n",
      "Time signature 1 popularity compared to population mean\n",
      "Ttest_1sampResult(statistic=-24.906015326592804, pvalue=1.2576858249544887e-126)\n",
      " \n",
      "Time signature 2 popularity compared to population mean\n",
      "Ttest_1sampResult(statistic=nan, pvalue=nan)\n",
      " \n",
      "Time signature 3 popularity compared to population mean\n",
      "Ttest_1sampResult(statistic=-63.360324617088516, pvalue=0.0)\n",
      " \n",
      "Time signature 4 popularity compared to population mean\n",
      "Ttest_1sampResult(statistic=27.676013005754115, pvalue=2.284643662687771e-168)\n",
      " \n"
     ]
    }
   ],
   "source": [
    "for a in range(0, 5):\n",
    "    time_signature_popularity = train[train.time_signature == a].popularity\n",
    "    \n",
    "    test_results = stats.ttest_1samp(time_signature_popularity, overall_popularity_mean)\n",
    "    \n",
    "    print(\"Time signature\", a, \"popularity compared to population mean\")\n",
    "    \n",
    "    print(test_results)\n",
    "    \n",
    "    print(\" \")\n",
    "\n"
   ]
  },
  {
   "cell_type": "markdown",
   "id": "d7bd6b43",
   "metadata": {},
   "source": [
    "Since 4 is by far the most common value for time signature, and this value is associated with popularity, we will keep this variable. "
   ]
  },
  {
   "cell_type": "markdown",
   "id": "26109ac1",
   "metadata": {},
   "source": [
    "### K Means"
   ]
  },
  {
   "cell_type": "code",
   "execution_count": 235,
   "id": "febc991f",
   "metadata": {},
   "outputs": [
    {
     "data": {
      "text/plain": [
       "array([0, 0, 3, ..., 1, 3, 4], dtype=int32)"
      ]
     },
     "execution_count": 235,
     "metadata": {},
     "output_type": "execute_result"
    }
   ],
   "source": []
  },
  {
   "cell_type": "code",
   "execution_count": 236,
   "id": "40cb8f1b",
   "metadata": {},
   "outputs": [],
   "source": []
  },
  {
   "cell_type": "code",
   "execution_count": 166,
   "id": "c7431322",
   "metadata": {},
   "outputs": [
    {
     "data": {
      "text/html": [
       "<div>\n",
       "<style scoped>\n",
       "    .dataframe tbody tr th:only-of-type {\n",
       "        vertical-align: middle;\n",
       "    }\n",
       "\n",
       "    .dataframe tbody tr th {\n",
       "        vertical-align: top;\n",
       "    }\n",
       "\n",
       "    .dataframe thead th {\n",
       "        text-align: right;\n",
       "    }\n",
       "</style>\n",
       "<table border=\"1\" class=\"dataframe\">\n",
       "  <thead>\n",
       "    <tr style=\"text-align: right;\">\n",
       "      <th></th>\n",
       "      <th>explicit</th>\n",
       "      <th>danceability</th>\n",
       "      <th>energy</th>\n",
       "      <th>mode</th>\n",
       "      <th>acousticness</th>\n",
       "      <th>instrumentalness</th>\n",
       "      <th>liveness</th>\n",
       "      <th>tempo</th>\n",
       "      <th>time_signature</th>\n",
       "      <th>duration_ms_scaled</th>\n",
       "      <th>loudness_scaled</th>\n",
       "      <th>valence</th>\n",
       "      <th>year_of_release</th>\n",
       "      <th>cluster</th>\n",
       "    </tr>\n",
       "  </thead>\n",
       "  <tbody>\n",
       "    <tr>\n",
       "      <th>404070</th>\n",
       "      <td>0</td>\n",
       "      <td>0.594</td>\n",
       "      <td>0.633</td>\n",
       "      <td>1</td>\n",
       "      <td>0.281000</td>\n",
       "      <td>0.000000</td>\n",
       "      <td>0.0559</td>\n",
       "      <td>169.779</td>\n",
       "      <td>4</td>\n",
       "      <td>0.051132</td>\n",
       "      <td>0.818305</td>\n",
       "      <td>0.757</td>\n",
       "      <td>2003</td>\n",
       "      <td>0</td>\n",
       "    </tr>\n",
       "    <tr>\n",
       "      <th>319183</th>\n",
       "      <td>0</td>\n",
       "      <td>0.305</td>\n",
       "      <td>0.726</td>\n",
       "      <td>1</td>\n",
       "      <td>0.183000</td>\n",
       "      <td>0.000000</td>\n",
       "      <td>0.1340</td>\n",
       "      <td>167.728</td>\n",
       "      <td>4</td>\n",
       "      <td>0.050171</td>\n",
       "      <td>0.809412</td>\n",
       "      <td>0.592</td>\n",
       "      <td>1996</td>\n",
       "      <td>0</td>\n",
       "    </tr>\n",
       "    <tr>\n",
       "      <th>545921</th>\n",
       "      <td>0</td>\n",
       "      <td>0.595</td>\n",
       "      <td>0.594</td>\n",
       "      <td>0</td>\n",
       "      <td>0.040500</td>\n",
       "      <td>0.000066</td>\n",
       "      <td>0.1340</td>\n",
       "      <td>90.053</td>\n",
       "      <td>4</td>\n",
       "      <td>0.030382</td>\n",
       "      <td>0.781858</td>\n",
       "      <td>0.566</td>\n",
       "      <td>2019</td>\n",
       "      <td>3</td>\n",
       "    </tr>\n",
       "    <tr>\n",
       "      <th>113274</th>\n",
       "      <td>0</td>\n",
       "      <td>0.330</td>\n",
       "      <td>0.652</td>\n",
       "      <td>1</td>\n",
       "      <td>0.192000</td>\n",
       "      <td>0.000003</td>\n",
       "      <td>0.1050</td>\n",
       "      <td>145.186</td>\n",
       "      <td>4</td>\n",
       "      <td>0.057871</td>\n",
       "      <td>0.787433</td>\n",
       "      <td>0.369</td>\n",
       "      <td>2015</td>\n",
       "      <td>2</td>\n",
       "    </tr>\n",
       "    <tr>\n",
       "      <th>112835</th>\n",
       "      <td>0</td>\n",
       "      <td>0.601</td>\n",
       "      <td>0.953</td>\n",
       "      <td>1</td>\n",
       "      <td>0.000192</td>\n",
       "      <td>0.000000</td>\n",
       "      <td>0.0971</td>\n",
       "      <td>125.964</td>\n",
       "      <td>4</td>\n",
       "      <td>0.041723</td>\n",
       "      <td>0.834877</td>\n",
       "      <td>0.731</td>\n",
       "      <td>2011</td>\n",
       "      <td>2</td>\n",
       "    </tr>\n",
       "    <tr>\n",
       "      <th>243942</th>\n",
       "      <td>0</td>\n",
       "      <td>0.606</td>\n",
       "      <td>0.864</td>\n",
       "      <td>1</td>\n",
       "      <td>0.120000</td>\n",
       "      <td>0.000000</td>\n",
       "      <td>0.3880</td>\n",
       "      <td>95.012</td>\n",
       "      <td>4</td>\n",
       "      <td>0.039911</td>\n",
       "      <td>0.841911</td>\n",
       "      <td>0.724</td>\n",
       "      <td>2003</td>\n",
       "      <td>3</td>\n",
       "    </tr>\n",
       "    <tr>\n",
       "      <th>247901</th>\n",
       "      <td>0</td>\n",
       "      <td>0.430</td>\n",
       "      <td>0.304</td>\n",
       "      <td>1</td>\n",
       "      <td>0.877000</td>\n",
       "      <td>0.000004</td>\n",
       "      <td>0.2170</td>\n",
       "      <td>77.332</td>\n",
       "      <td>4</td>\n",
       "      <td>0.045249</td>\n",
       "      <td>0.750726</td>\n",
       "      <td>0.242</td>\n",
       "      <td>1971</td>\n",
       "      <td>1</td>\n",
       "    </tr>\n",
       "    <tr>\n",
       "      <th>370623</th>\n",
       "      <td>0</td>\n",
       "      <td>0.289</td>\n",
       "      <td>0.414</td>\n",
       "      <td>0</td>\n",
       "      <td>0.894000</td>\n",
       "      <td>0.000008</td>\n",
       "      <td>0.2240</td>\n",
       "      <td>78.625</td>\n",
       "      <td>3</td>\n",
       "      <td>0.037538</td>\n",
       "      <td>0.817337</td>\n",
       "      <td>0.527</td>\n",
       "      <td>2007</td>\n",
       "      <td>3</td>\n",
       "    </tr>\n",
       "    <tr>\n",
       "      <th>145553</th>\n",
       "      <td>0</td>\n",
       "      <td>0.536</td>\n",
       "      <td>0.613</td>\n",
       "      <td>1</td>\n",
       "      <td>0.551000</td>\n",
       "      <td>0.007360</td>\n",
       "      <td>0.1290</td>\n",
       "      <td>104.461</td>\n",
       "      <td>4</td>\n",
       "      <td>0.075144</td>\n",
       "      <td>0.816369</td>\n",
       "      <td>0.798</td>\n",
       "      <td>1980</td>\n",
       "      <td>3</td>\n",
       "    </tr>\n",
       "    <tr>\n",
       "      <th>545576</th>\n",
       "      <td>0</td>\n",
       "      <td>0.665</td>\n",
       "      <td>0.869</td>\n",
       "      <td>1</td>\n",
       "      <td>0.059800</td>\n",
       "      <td>0.000000</td>\n",
       "      <td>0.5770</td>\n",
       "      <td>99.533</td>\n",
       "      <td>4</td>\n",
       "      <td>0.048745</td>\n",
       "      <td>0.864105</td>\n",
       "      <td>0.773</td>\n",
       "      <td>2014</td>\n",
       "      <td>3</td>\n",
       "    </tr>\n",
       "  </tbody>\n",
       "</table>\n",
       "</div>"
      ],
      "text/plain": [
       "        explicit  danceability  energy  mode  acousticness  instrumentalness  \\\n",
       "404070         0         0.594   0.633     1      0.281000          0.000000   \n",
       "319183         0         0.305   0.726     1      0.183000          0.000000   \n",
       "545921         0         0.595   0.594     0      0.040500          0.000066   \n",
       "113274         0         0.330   0.652     1      0.192000          0.000003   \n",
       "112835         0         0.601   0.953     1      0.000192          0.000000   \n",
       "243942         0         0.606   0.864     1      0.120000          0.000000   \n",
       "247901         0         0.430   0.304     1      0.877000          0.000004   \n",
       "370623         0         0.289   0.414     0      0.894000          0.000008   \n",
       "145553         0         0.536   0.613     1      0.551000          0.007360   \n",
       "545576         0         0.665   0.869     1      0.059800          0.000000   \n",
       "\n",
       "        liveness    tempo  time_signature  duration_ms_scaled  \\\n",
       "404070    0.0559  169.779               4            0.051132   \n",
       "319183    0.1340  167.728               4            0.050171   \n",
       "545921    0.1340   90.053               4            0.030382   \n",
       "113274    0.1050  145.186               4            0.057871   \n",
       "112835    0.0971  125.964               4            0.041723   \n",
       "243942    0.3880   95.012               4            0.039911   \n",
       "247901    0.2170   77.332               4            0.045249   \n",
       "370623    0.2240   78.625               3            0.037538   \n",
       "145553    0.1290  104.461               4            0.075144   \n",
       "545576    0.5770   99.533               4            0.048745   \n",
       "\n",
       "        loudness_scaled  valence  year_of_release  cluster  \n",
       "404070         0.818305    0.757             2003        0  \n",
       "319183         0.809412    0.592             1996        0  \n",
       "545921         0.781858    0.566             2019        3  \n",
       "113274         0.787433    0.369             2015        2  \n",
       "112835         0.834877    0.731             2011        2  \n",
       "243942         0.841911    0.724             2003        3  \n",
       "247901         0.750726    0.242             1971        1  \n",
       "370623         0.817337    0.527             2007        3  \n",
       "145553         0.816369    0.798             1980        3  \n",
       "545576         0.864105    0.773             2014        3  "
      ]
     },
     "execution_count": 166,
     "metadata": {},
     "output_type": "execute_result"
    }
   ],
   "source": [
    "X.head(10)"
   ]
  },
  {
   "cell_type": "markdown",
   "id": "c9c5153e",
   "metadata": {},
   "source": [
    "### Value Counts"
   ]
  },
  {
   "cell_type": "code",
   "execution_count": 237,
   "id": "b6b58b3e",
   "metadata": {
    "scrolled": true
   },
   "outputs": [
    {
     "data": {
      "image/png": "[encoded data removed]",
      "text/plain": [
       "<Figure size 432x288 with 1 Axes>"
      ]
     },
     "metadata": {
      "needs_background": "light"
     },
     "output_type": "display_data"
    }
   ],
   "source": []
  },
  {
   "cell_type": "markdown",
   "id": "068861ac",
   "metadata": {},
   "source": [
    "The groupings represents similar musical characteristics, or genres of music."
   ]
  },
  {
   "cell_type": "markdown",
   "id": "39e745cf",
   "metadata": {},
   "source": [
    "## Modeling"
   ]
  },
  {
   "cell_type": "markdown",
   "id": "935edfab",
   "metadata": {},
   "source": [
    "### Adding a Cluster Column"
   ]
  },
  {
   "cell_type": "markdown",
   "id": "1b947827",
   "metadata": {},
   "source": [
    "### Splitting Target and Features"
   ]
  },
  {
   "cell_type": "markdown",
   "id": "cf1b667a",
   "metadata": {},
   "source": [
    "First we will need to split our data into y, for the target, and X, for the predictive features."
   ]
  },
  {
   "cell_type": "code",
   "execution_count": 632,
   "id": "a77efbb6",
   "metadata": {},
   "outputs": [],
   "source": [
    "y_train = train['popularity']\n",
    "y_validate = validate['popularity']\n",
    "y_test = test['popularity']"
   ]
  },
  {
   "cell_type": "code",
   "execution_count": 633,
   "id": "4da4543f",
   "metadata": {},
   "outputs": [],
   "source": [
    "y_train = pd.DataFrame(y_train)\n",
    "y_validate = pd.DataFrame(y_validate)\n",
    "y_test = pd.DataFrame(y_test)"
   ]
  },
  {
   "cell_type": "code",
   "execution_count": 634,
   "id": "074589b0",
   "metadata": {},
   "outputs": [],
   "source": [
    "X_train = train[['duration_ms_scaled', \n",
    "                 'explicit', \n",
    "                 'energy', \n",
    "                 'danceability', \n",
    "                 'acousticness', \n",
    "                 'instrumentalness',\n",
    "                 'tempo',\n",
    "                 'loudness_scaled', \n",
    "                 'year_of_release',\n",
    "                'liveness']]\n",
    "X_validate = validate[['duration_ms_scaled',\n",
    "                       'explicit', \n",
    "                       'energy',  \n",
    "                       'danceability', \n",
    "                       'acousticness', \n",
    "                       'instrumentalness',\n",
    "                       'tempo',\n",
    "                        'loudness_scaled', \n",
    "                       'year_of_release',\n",
    "                      'liveness']]\n",
    "X_test = test[['duration_ms_scaled', \n",
    "               'explicit', \n",
    "               'energy', \n",
    "               'danceability', \n",
    "               'acousticness', \n",
    "               'instrumentalness',\n",
    "               'tempo',\n",
    "               'loudness_scaled', \n",
    "               'year_of_release',\n",
    "              'liveness']]"
   ]
  },
  {
   "cell_type": "markdown",
   "id": "3ccbf93d",
   "metadata": {},
   "source": [
    "### Baseline"
   ]
  },
  {
   "cell_type": "code",
   "execution_count": 635,
   "id": "aa934038",
   "metadata": {},
   "outputs": [],
   "source": [
    "# Predict taxvaluedollarcnt_pred_mean\n",
    "popularity_pred_mean = y_train.popularity.mean()\n",
    "y_train['popularity_pred_mean'] = popularity_pred_mean\n",
    "y_validate['popularity_pred_mean'] = popularity_pred_mean"
   ]
  },
  {
   "cell_type": "code",
   "execution_count": 636,
   "id": "d7dbdbf0",
   "metadata": {},
   "outputs": [],
   "source": [
    "# compute taxvaluedollarcnt_pred_median\n",
    "popularity_pred_median = y_train.popularity.median()\n",
    "y_train['popularity_pred_median'] = popularity_pred_median\n",
    "y_validate['popularity_pred_median'] = popularity_pred_median"
   ]
  },
  {
   "cell_type": "code",
   "execution_count": 637,
   "id": "ad935897",
   "metadata": {},
   "outputs": [
    {
     "data": {
      "text/html": [
       "<div>\n",
       "<style scoped>\n",
       "    .dataframe tbody tr th:only-of-type {\n",
       "        vertical-align: middle;\n",
       "    }\n",
       "\n",
       "    .dataframe tbody tr th {\n",
       "        vertical-align: top;\n",
       "    }\n",
       "\n",
       "    .dataframe thead th {\n",
       "        text-align: right;\n",
       "    }\n",
       "</style>\n",
       "<table border=\"1\" class=\"dataframe\">\n",
       "  <thead>\n",
       "    <tr style=\"text-align: right;\">\n",
       "      <th></th>\n",
       "      <th>popularity</th>\n",
       "      <th>popularity_pred_mean</th>\n",
       "      <th>popularity_pred_median</th>\n",
       "    </tr>\n",
       "  </thead>\n",
       "  <tbody>\n",
       "    <tr>\n",
       "      <th>404070</th>\n",
       "      <td>39</td>\n",
       "      <td>27.557575</td>\n",
       "      <td>27.0</td>\n",
       "    </tr>\n",
       "    <tr>\n",
       "      <th>319183</th>\n",
       "      <td>7</td>\n",
       "      <td>27.557575</td>\n",
       "      <td>27.0</td>\n",
       "    </tr>\n",
       "    <tr>\n",
       "      <th>545921</th>\n",
       "      <td>28</td>\n",
       "      <td>27.557575</td>\n",
       "      <td>27.0</td>\n",
       "    </tr>\n",
       "    <tr>\n",
       "      <th>113274</th>\n",
       "      <td>11</td>\n",
       "      <td>27.557575</td>\n",
       "      <td>27.0</td>\n",
       "    </tr>\n",
       "    <tr>\n",
       "      <th>112835</th>\n",
       "      <td>22</td>\n",
       "      <td>27.557575</td>\n",
       "      <td>27.0</td>\n",
       "    </tr>\n",
       "  </tbody>\n",
       "</table>\n",
       "</div>"
      ],
      "text/plain": [
       "        popularity  popularity_pred_mean  popularity_pred_median\n",
       "404070          39             27.557575                    27.0\n",
       "319183           7             27.557575                    27.0\n",
       "545921          28             27.557575                    27.0\n",
       "113274          11             27.557575                    27.0\n",
       "112835          22             27.557575                    27.0"
      ]
     },
     "execution_count": 637,
     "metadata": {},
     "output_type": "execute_result"
    }
   ],
   "source": [
    "y_train.head()"
   ]
  },
  {
   "cell_type": "code",
   "execution_count": 638,
   "id": "20bb69bf",
   "metadata": {},
   "outputs": [
    {
     "data": {
      "text/html": [
       "<div>\n",
       "<style scoped>\n",
       "    .dataframe tbody tr th:only-of-type {\n",
       "        vertical-align: middle;\n",
       "    }\n",
       "\n",
       "    .dataframe tbody tr th {\n",
       "        vertical-align: top;\n",
       "    }\n",
       "\n",
       "    .dataframe thead th {\n",
       "        text-align: right;\n",
       "    }\n",
       "</style>\n",
       "<table border=\"1\" class=\"dataframe\">\n",
       "  <thead>\n",
       "    <tr style=\"text-align: right;\">\n",
       "      <th></th>\n",
       "      <th>popularity</th>\n",
       "      <th>popularity_pred_mean</th>\n",
       "      <th>popularity_pred_median</th>\n",
       "    </tr>\n",
       "  </thead>\n",
       "  <tbody>\n",
       "    <tr>\n",
       "      <th>105487</th>\n",
       "      <td>39</td>\n",
       "      <td>27.557575</td>\n",
       "      <td>27.0</td>\n",
       "    </tr>\n",
       "    <tr>\n",
       "      <th>357570</th>\n",
       "      <td>17</td>\n",
       "      <td>27.557575</td>\n",
       "      <td>27.0</td>\n",
       "    </tr>\n",
       "    <tr>\n",
       "      <th>220588</th>\n",
       "      <td>11</td>\n",
       "      <td>27.557575</td>\n",
       "      <td>27.0</td>\n",
       "    </tr>\n",
       "    <tr>\n",
       "      <th>289161</th>\n",
       "      <td>21</td>\n",
       "      <td>27.557575</td>\n",
       "      <td>27.0</td>\n",
       "    </tr>\n",
       "    <tr>\n",
       "      <th>379587</th>\n",
       "      <td>47</td>\n",
       "      <td>27.557575</td>\n",
       "      <td>27.0</td>\n",
       "    </tr>\n",
       "  </tbody>\n",
       "</table>\n",
       "</div>"
      ],
      "text/plain": [
       "        popularity  popularity_pred_mean  popularity_pred_median\n",
       "105487          39             27.557575                    27.0\n",
       "357570          17             27.557575                    27.0\n",
       "220588          11             27.557575                    27.0\n",
       "289161          21             27.557575                    27.0\n",
       "379587          47             27.557575                    27.0"
      ]
     },
     "execution_count": 638,
     "metadata": {},
     "output_type": "execute_result"
    }
   ],
   "source": [
    "y_validate.head()"
   ]
  },
  {
   "cell_type": "code",
   "execution_count": 639,
   "id": "3e57e39a",
   "metadata": {},
   "outputs": [
    {
     "name": "stdout",
     "output_type": "stream",
     "text": [
      "RMSE using Mean\n",
      "Train/In-Sample:  18.37 \n",
      "Validate/Out-of-Sample:  18.41\n",
      "RMSE using Median\n",
      "Train/In-Sample:  18.38 \n",
      "Validate/Out-of-Sample:  18.42\n"
     ]
    }
   ],
   "source": [
    "# RMSE of taxvaluedollarcnt_pred_mean\n",
    "rmse_train = mean_squared_error(y_train.popularity, y_train.popularity_pred_mean) ** .5\n",
    "rmse_validate = mean_squared_error(y_validate.popularity, y_validate.popularity_pred_mean) ** (1/2)\n",
    "print(\"RMSE using Mean\\nTrain/In-Sample: \", round(rmse_train, 2), \n",
    "      \"\\nValidate/Out-of-Sample: \", round(rmse_validate, 2))\n",
    "\n",
    "# RMSE of taxvaluedollarcnt_pred_median\n",
    "rmse_train = mean_squared_error(y_train.popularity, y_train.popularity_pred_median) ** .5\n",
    "rmse_validate = mean_squared_error(y_validate.popularity, y_validate.popularity_pred_median) ** .5\n",
    "print(\"RMSE using Median\\nTrain/In-Sample: \", round(rmse_train, 2), \n",
    "      \"\\nValidate/Out-of-Sample: \", round(rmse_validate, 2))"
   ]
  },
  {
   "cell_type": "markdown",
   "id": "c7d09bef",
   "metadata": {},
   "source": [
    "### Build DataFrame"
   ]
  },
  {
   "cell_type": "code",
   "execution_count": 640,
   "id": "03d1ffae",
   "metadata": {},
   "outputs": [],
   "source": [
    "from sklearn.metrics import explained_variance_score"
   ]
  },
  {
   "cell_type": "code",
   "execution_count": 641,
   "id": "94f42332",
   "metadata": {},
   "outputs": [],
   "source": [
    "def make_metric_df(y, y_pred, model_name, metric_df):\n",
    "    if metric_df.size ==0:\n",
    "        metric_df = pd.DataFrame(data=[\n",
    "            {\n",
    "                'model': model_name, \n",
    "                'RMSE_validate': mean_squared_error(\n",
    "                    y,\n",
    "                    y_pred) ** .5,\n",
    "                'r^2_validate': explained_variance_score(\n",
    "                    y,\n",
    "                    y_pred)\n",
    "            }])\n",
    "        return metric_df\n",
    "    else:\n",
    "        return metric_df.append(\n",
    "            {\n",
    "                'model': model_name, \n",
    "                'RMSE_validate': mean_squared_error(\n",
    "                    y,\n",
    "                    y_pred) ** .5,\n",
    "                'r^2_validate': explained_variance_score(\n",
    "                    y,\n",
    "                    y_pred)\n",
    "            }, ignore_index=True)"
   ]
  },
  {
   "cell_type": "code",
   "execution_count": 642,
   "id": "8a489093",
   "metadata": {},
   "outputs": [],
   "source": [
    "metric_df = pd.DataFrame()\n",
    "metric_df = make_metric_df(y_validate.popularity,\n",
    "                           y_validate.popularity_pred_median,\n",
    "                           'median_baseline',\n",
    "                          metric_df)"
   ]
  },
  {
   "cell_type": "code",
   "execution_count": 643,
   "id": "953240d0",
   "metadata": {},
   "outputs": [
    {
     "data": {
      "text/html": [
       "<div>\n",
       "<style scoped>\n",
       "    .dataframe tbody tr th:only-of-type {\n",
       "        vertical-align: middle;\n",
       "    }\n",
       "\n",
       "    .dataframe tbody tr th {\n",
       "        vertical-align: top;\n",
       "    }\n",
       "\n",
       "    .dataframe thead th {\n",
       "        text-align: right;\n",
       "    }\n",
       "</style>\n",
       "<table border=\"1\" class=\"dataframe\">\n",
       "  <thead>\n",
       "    <tr style=\"text-align: right;\">\n",
       "      <th></th>\n",
       "      <th>model</th>\n",
       "      <th>RMSE_validate</th>\n",
       "      <th>r^2_validate</th>\n",
       "    </tr>\n",
       "  </thead>\n",
       "  <tbody>\n",
       "    <tr>\n",
       "      <th>0</th>\n",
       "      <td>median_baseline</td>\n",
       "      <td>18.417868</td>\n",
       "      <td>-2.220446e-16</td>\n",
       "    </tr>\n",
       "  </tbody>\n",
       "</table>\n",
       "</div>"
      ],
      "text/plain": [
       "             model  RMSE_validate  r^2_validate\n",
       "0  median_baseline      18.417868 -2.220446e-16"
      ]
     },
     "execution_count": 643,
     "metadata": {},
     "output_type": "execute_result"
    }
   ],
   "source": [
    "metric_df"
   ]
  },
  {
   "cell_type": "markdown",
   "id": "0c14e2d1",
   "metadata": {},
   "source": [
    "### Linear Regression (OLS)"
   ]
  },
  {
   "cell_type": "code",
   "execution_count": 644,
   "id": "f3fb4ec2",
   "metadata": {},
   "outputs": [
    {
     "name": "stdout",
     "output_type": "stream",
     "text": [
      "RMSE for OLS using LinearRegression\n",
      "Training/In-Sample:  14.539457126647553 \n",
      "Validation/Out-of-Sample:  14.490400930355733\n"
     ]
    }
   ],
   "source": [
    "#Create the model object\n",
    "lm_1 = LinearRegression(normalize=True)\n",
    "\n",
    "# fit the model to training data\n",
    "lm_1.fit(X_train, y_train.popularity)\n",
    "\n",
    "y_train['popularity_pred_lm_1'] = lm_1.predict(X_train)\n",
    "\n",
    "# evaluate: rmse\n",
    "rmse_train = mean_squared_error(y_train.popularity, y_train.popularity_pred_lm_1) ** (1/2)\n",
    "\n",
    "# predict validate\n",
    "y_validate['popularity_pred_lm_1'] = lm_1.predict(X_validate)\n",
    "\n",
    "# evaluate: rmse\n",
    "rmse_validate = mean_squared_error(y_validate.popularity, y_validate.popularity_pred_lm_1) ** (1/2)\n",
    "\n",
    "print(\"RMSE for OLS using LinearRegression\\nTraining/In-Sample: \", rmse_train, \n",
    "      \"\\nValidation/Out-of-Sample: \", rmse_validate)"
   ]
  },
  {
   "cell_type": "code",
   "execution_count": 645,
   "id": "89f709fb",
   "metadata": {},
   "outputs": [],
   "source": [
    "metric_df = make_metric_df(y_validate.popularity, y_validate.popularity_pred_lm_1,\n",
    "               'OLS Regressor, Select Features',\n",
    "               metric_df)"
   ]
  },
  {
   "cell_type": "code",
   "execution_count": 646,
   "id": "da02a6f9",
   "metadata": {},
   "outputs": [
    {
     "data": {
      "text/html": [
       "<div>\n",
       "<style scoped>\n",
       "    .dataframe tbody tr th:only-of-type {\n",
       "        vertical-align: middle;\n",
       "    }\n",
       "\n",
       "    .dataframe tbody tr th {\n",
       "        vertical-align: top;\n",
       "    }\n",
       "\n",
       "    .dataframe thead th {\n",
       "        text-align: right;\n",
       "    }\n",
       "</style>\n",
       "<table border=\"1\" class=\"dataframe\">\n",
       "  <thead>\n",
       "    <tr style=\"text-align: right;\">\n",
       "      <th></th>\n",
       "      <th>model</th>\n",
       "      <th>RMSE_validate</th>\n",
       "      <th>r^2_validate</th>\n",
       "    </tr>\n",
       "  </thead>\n",
       "  <tbody>\n",
       "    <tr>\n",
       "      <th>0</th>\n",
       "      <td>median_baseline</td>\n",
       "      <td>18.417868</td>\n",
       "      <td>-2.220446e-16</td>\n",
       "    </tr>\n",
       "    <tr>\n",
       "      <th>1</th>\n",
       "      <td>OLS Regressor, Select Features</td>\n",
       "      <td>14.490401</td>\n",
       "      <td>3.802414e-01</td>\n",
       "    </tr>\n",
       "  </tbody>\n",
       "</table>\n",
       "</div>"
      ],
      "text/plain": [
       "                            model  RMSE_validate  r^2_validate\n",
       "0                 median_baseline      18.417868 -2.220446e-16\n",
       "1  OLS Regressor, Select Features      14.490401  3.802414e-01"
      ]
     },
     "execution_count": 646,
     "metadata": {},
     "output_type": "execute_result"
    }
   ],
   "source": [
    "metric_df"
   ]
  },
  {
   "cell_type": "markdown",
   "id": "41349ac1",
   "metadata": {},
   "source": [
    "### LassoLars"
   ]
  },
  {
   "cell_type": "code",
   "execution_count": 647,
   "id": "a10be58f",
   "metadata": {},
   "outputs": [
    {
     "name": "stdout",
     "output_type": "stream",
     "text": [
      "RMSE for Lasso + Lars\n",
      "Training/In-Sample:  18.370462120887268 \n",
      "Validation/Out-of-Sample:  18.406582761685563\n"
     ]
    }
   ],
   "source": [
    "# create the model object\n",
    "lars = LassoLars(alpha=1)\n",
    "\n",
    "# fit the model to our training data.\n",
    "lars.fit(X_train, y_train.popularity)\n",
    "\n",
    "# predict train\n",
    "y_train['popularity_pred_lars'] = lars.predict(X_train)\n",
    "\n",
    "# evaluate: rmse\n",
    "rmse_train = mean_squared_error(y_train.popularity, y_train.popularity_pred_lars) ** (1/2)\n",
    "\n",
    "# predict validate\n",
    "y_validate['popularity_pred_lars'] = lars.predict(X_validate)\n",
    "\n",
    "# evaluate: rmse\n",
    "rmse_validate = mean_squared_error(y_validate.popularity, y_validate.popularity_pred_lars) ** (1/2)\n",
    "\n",
    "print(\"RMSE for Lasso + Lars\\nTraining/In-Sample: \", rmse_train, \n",
    "      \"\\nValidation/Out-of-Sample: \", rmse_validate)"
   ]
  },
  {
   "cell_type": "code",
   "execution_count": 648,
   "id": "032b6b59",
   "metadata": {},
   "outputs": [],
   "source": [
    "metric_df = make_metric_df(y_validate.popularity, y_validate.popularity_pred_lars,\n",
    "               'lasso_alpha_1',\n",
    "               metric_df)"
   ]
  },
  {
   "cell_type": "code",
   "execution_count": 649,
   "id": "03907705",
   "metadata": {},
   "outputs": [
    {
     "data": {
      "text/html": [
       "<div>\n",
       "<style scoped>\n",
       "    .dataframe tbody tr th:only-of-type {\n",
       "        vertical-align: middle;\n",
       "    }\n",
       "\n",
       "    .dataframe tbody tr th {\n",
       "        vertical-align: top;\n",
       "    }\n",
       "\n",
       "    .dataframe thead th {\n",
       "        text-align: right;\n",
       "    }\n",
       "</style>\n",
       "<table border=\"1\" class=\"dataframe\">\n",
       "  <thead>\n",
       "    <tr style=\"text-align: right;\">\n",
       "      <th></th>\n",
       "      <th>model</th>\n",
       "      <th>RMSE_validate</th>\n",
       "      <th>r^2_validate</th>\n",
       "    </tr>\n",
       "  </thead>\n",
       "  <tbody>\n",
       "    <tr>\n",
       "      <th>0</th>\n",
       "      <td>median_baseline</td>\n",
       "      <td>18.417868</td>\n",
       "      <td>-2.220446e-16</td>\n",
       "    </tr>\n",
       "    <tr>\n",
       "      <th>1</th>\n",
       "      <td>OLS Regressor, Select Features</td>\n",
       "      <td>14.490401</td>\n",
       "      <td>3.802414e-01</td>\n",
       "    </tr>\n",
       "    <tr>\n",
       "      <th>2</th>\n",
       "      <td>lasso_alpha_1</td>\n",
       "      <td>18.406583</td>\n",
       "      <td>0.000000e+00</td>\n",
       "    </tr>\n",
       "  </tbody>\n",
       "</table>\n",
       "</div>"
      ],
      "text/plain": [
       "                            model  RMSE_validate  r^2_validate\n",
       "0                 median_baseline      18.417868 -2.220446e-16\n",
       "1  OLS Regressor, Select Features      14.490401  3.802414e-01\n",
       "2                   lasso_alpha_1      18.406583  0.000000e+00"
      ]
     },
     "execution_count": 649,
     "metadata": {},
     "output_type": "execute_result"
    }
   ],
   "source": [
    "metric_df"
   ]
  },
  {
   "cell_type": "markdown",
   "id": "4d33ae44",
   "metadata": {},
   "source": [
    "### Tweedie Regressor"
   ]
  },
  {
   "cell_type": "code",
   "execution_count": 650,
   "id": "cca12b5c",
   "metadata": {},
   "outputs": [
    {
     "name": "stdout",
     "output_type": "stream",
     "text": [
      "RMSE for GLM using Tweedie, power=1 & alpha=0.5\n",
      "Training/In-Sample:  18.370462120887268 \n",
      "Validation/Out-of-Sample:  18.40658276168556\n"
     ]
    }
   ],
   "source": [
    "# create the model object\n",
    "glm = TweedieRegressor(power=1, alpha=0.5)\n",
    "\n",
    "\n",
    "# fit the model to our training data. We must specify the column in y_train, \n",
    "# since we have converted it to a dataframe from a series! \n",
    "glm.fit(X_train, y_train.popularity)\n",
    "\n",
    "# predict train\n",
    "y_train['popularity_pred_glm'] = glm.predict(X_train)\n",
    "\n",
    "# evaluate: rmse\n",
    "rmse_train = mean_squared_error(y_train.popularity, y_train.popularity_pred_glm) ** (1/2)\n",
    "\n",
    "# predict validate\n",
    "y_validate['popularity_pred_glm'] = glm.predict(X_validate)\n",
    "\n",
    "# evaluate: rmse\n",
    "rmse_validate = mean_squared_error(y_validate.popularity, y_validate.popularity_pred_glm) ** (1/2)\n",
    "\n",
    "print(\"RMSE for GLM using Tweedie, power=1 & alpha=0.5\\nTraining/In-Sample: \", rmse_train, \n",
    "      \"\\nValidation/Out-of-Sample: \", rmse_validate)"
   ]
  },
  {
   "cell_type": "code",
   "execution_count": 651,
   "id": "b1f8a419",
   "metadata": {},
   "outputs": [
    {
     "data": {
      "text/html": [
       "<div>\n",
       "<style scoped>\n",
       "    .dataframe tbody tr th:only-of-type {\n",
       "        vertical-align: middle;\n",
       "    }\n",
       "\n",
       "    .dataframe tbody tr th {\n",
       "        vertical-align: top;\n",
       "    }\n",
       "\n",
       "    .dataframe thead th {\n",
       "        text-align: right;\n",
       "    }\n",
       "</style>\n",
       "<table border=\"1\" class=\"dataframe\">\n",
       "  <thead>\n",
       "    <tr style=\"text-align: right;\">\n",
       "      <th></th>\n",
       "      <th>model</th>\n",
       "      <th>RMSE_validate</th>\n",
       "      <th>r^2_validate</th>\n",
       "    </tr>\n",
       "  </thead>\n",
       "  <tbody>\n",
       "    <tr>\n",
       "      <th>0</th>\n",
       "      <td>median_baseline</td>\n",
       "      <td>18.417868</td>\n",
       "      <td>-2.220446e-16</td>\n",
       "    </tr>\n",
       "    <tr>\n",
       "      <th>1</th>\n",
       "      <td>OLS Regressor, Select Features</td>\n",
       "      <td>14.490401</td>\n",
       "      <td>3.802414e-01</td>\n",
       "    </tr>\n",
       "    <tr>\n",
       "      <th>2</th>\n",
       "      <td>lasso_alpha_1</td>\n",
       "      <td>18.406583</td>\n",
       "      <td>0.000000e+00</td>\n",
       "    </tr>\n",
       "    <tr>\n",
       "      <th>3</th>\n",
       "      <td>GLM</td>\n",
       "      <td>18.406583</td>\n",
       "      <td>-2.220446e-16</td>\n",
       "    </tr>\n",
       "  </tbody>\n",
       "</table>\n",
       "</div>"
      ],
      "text/plain": [
       "                            model  RMSE_validate  r^2_validate\n",
       "0                 median_baseline      18.417868 -2.220446e-16\n",
       "1  OLS Regressor, Select Features      14.490401  3.802414e-01\n",
       "2                   lasso_alpha_1      18.406583  0.000000e+00\n",
       "3                             GLM      18.406583 -2.220446e-16"
      ]
     },
     "execution_count": 651,
     "metadata": {},
     "output_type": "execute_result"
    }
   ],
   "source": [
    "metric_df = make_metric_df(y_validate.popularity, y_validate.popularity_pred_glm,\n",
    "               'GLM',\n",
    "               metric_df)\n",
    "metric_df"
   ]
  },
  {
   "cell_type": "markdown",
   "id": "b2c9586e",
   "metadata": {},
   "source": [
    "### Linear Regression Second Degree"
   ]
  },
  {
   "cell_type": "code",
   "execution_count": 652,
   "id": "9d7d3c3c",
   "metadata": {},
   "outputs": [],
   "source": [
    "# make the polynomial features to get a new set of features\n",
    "pf = PolynomialFeatures(degree=2)\n",
    "\n",
    "# fit and transform X_train_scaled\n",
    "X_train_degree2 = pf.fit_transform(X_train)\n",
    "\n",
    "# transform X_validate_scaled & X_test_scaled\n",
    "X_validate_degree2 = pf.transform(X_validate)\n",
    "X_test_degree2 =  pf.transform(X_test)"
   ]
  },
  {
   "cell_type": "code",
   "execution_count": 653,
   "id": "47123af6",
   "metadata": {},
   "outputs": [
    {
     "name": "stdout",
     "output_type": "stream",
     "text": [
      "RMSE for Polynomial Model, degrees=2\n",
      "Training/In-Sample:  14.142789524556347 \n",
      "Validation/Out-of-Sample:  14.107810942245175\n"
     ]
    }
   ],
   "source": [
    "# create the model object\n",
    "lm2 = LinearRegression(normalize=True)\n",
    "\n",
    "# fit the model to our training data. We must specify the column in y_train, \n",
    "# since we have converted it to a dataframe from a series! \n",
    "lm2.fit(X_train_degree2, y_train.popularity)\n",
    "\n",
    "# predict train\n",
    "y_train['popularity_pred_lm2'] = lm2.predict(X_train_degree2)\n",
    "\n",
    "# evaluate: rmse\n",
    "rmse_train = mean_squared_error(y_train.popularity, y_train.popularity_pred_lm2) ** (1/2)\n",
    "\n",
    "# predict validate\n",
    "y_validate['popularity_pred_lm2'] = lm2.predict(X_validate_degree2)\n",
    "\n",
    "# evaluate: rmse\n",
    "rmse_validate = mean_squared_error(y_validate.popularity, y_validate.popularity_pred_lm2) ** (1/2)\n",
    "\n",
    "print(\"RMSE for Polynomial Model, degrees=2\\nTraining/In-Sample: \", rmse_train, \n",
    "      \"\\nValidation/Out-of-Sample: \", rmse_validate)"
   ]
  },
  {
   "cell_type": "code",
   "execution_count": 654,
   "id": "4f495826",
   "metadata": {},
   "outputs": [
    {
     "data": {
      "text/html": [
       "<div>\n",
       "<style scoped>\n",
       "    .dataframe tbody tr th:only-of-type {\n",
       "        vertical-align: middle;\n",
       "    }\n",
       "\n",
       "    .dataframe tbody tr th {\n",
       "        vertical-align: top;\n",
       "    }\n",
       "\n",
       "    .dataframe thead th {\n",
       "        text-align: right;\n",
       "    }\n",
       "</style>\n",
       "<table border=\"1\" class=\"dataframe\">\n",
       "  <thead>\n",
       "    <tr style=\"text-align: right;\">\n",
       "      <th></th>\n",
       "      <th>model</th>\n",
       "      <th>RMSE_validate</th>\n",
       "      <th>r^2_validate</th>\n",
       "    </tr>\n",
       "  </thead>\n",
       "  <tbody>\n",
       "    <tr>\n",
       "      <th>0</th>\n",
       "      <td>median_baseline</td>\n",
       "      <td>18.417868</td>\n",
       "      <td>-2.220446e-16</td>\n",
       "    </tr>\n",
       "    <tr>\n",
       "      <th>1</th>\n",
       "      <td>OLS Regressor, Select Features</td>\n",
       "      <td>14.490401</td>\n",
       "      <td>3.802414e-01</td>\n",
       "    </tr>\n",
       "    <tr>\n",
       "      <th>2</th>\n",
       "      <td>lasso_alpha_1</td>\n",
       "      <td>18.406583</td>\n",
       "      <td>0.000000e+00</td>\n",
       "    </tr>\n",
       "    <tr>\n",
       "      <th>3</th>\n",
       "      <td>GLM</td>\n",
       "      <td>18.406583</td>\n",
       "      <td>-2.220446e-16</td>\n",
       "    </tr>\n",
       "    <tr>\n",
       "      <th>4</th>\n",
       "      <td>quadratic</td>\n",
       "      <td>14.107811</td>\n",
       "      <td>4.125382e-01</td>\n",
       "    </tr>\n",
       "  </tbody>\n",
       "</table>\n",
       "</div>"
      ],
      "text/plain": [
       "                            model  RMSE_validate  r^2_validate\n",
       "0                 median_baseline      18.417868 -2.220446e-16\n",
       "1  OLS Regressor, Select Features      14.490401  3.802414e-01\n",
       "2                   lasso_alpha_1      18.406583  0.000000e+00\n",
       "3                             GLM      18.406583 -2.220446e-16\n",
       "4                       quadratic      14.107811  4.125382e-01"
      ]
     },
     "execution_count": 654,
     "metadata": {},
     "output_type": "execute_result"
    }
   ],
   "source": [
    "metric_df = make_metric_df(y_validate.popularity, y_validate.popularity_pred_lm2,\n",
    "               'quadratic',\n",
    "               metric_df)\n",
    "\n",
    "metric_df"
   ]
  },
  {
   "cell_type": "markdown",
   "id": "6f9d20c1",
   "metadata": {},
   "source": [
    "### Linear Regression Third Degree"
   ]
  },
  {
   "cell_type": "code",
   "execution_count": 655,
   "id": "aa830ea0",
   "metadata": {},
   "outputs": [],
   "source": [
    "# make the polynomial features to get a new set of features\n",
    "pf = PolynomialFeatures(degree=3)\n",
    "\n",
    "# fit and transform X_train_scaled\n",
    "X_train_degree3 = pf.fit_transform(X_train)\n",
    "\n",
    "# transform X_validate_scaled & X_test_scaled\n",
    "X_validate_degree3 = pf.transform(X_validate)\n",
    "X_test_degree3 =  pf.transform(X_test)"
   ]
  },
  {
   "cell_type": "code",
   "execution_count": 656,
   "id": "728471d1",
   "metadata": {},
   "outputs": [
    {
     "name": "stdout",
     "output_type": "stream",
     "text": [
      "RMSE for Polynomial Model, degrees=2\n",
      "Training/In-Sample:  13.8331766722548 \n",
      "Validation/Out-of-Sample:  13.818662407604975\n"
     ]
    }
   ],
   "source": [
    "# create the model object\n",
    "lm3 = LinearRegression(normalize=True)\n",
    "\n",
    "# fit the model to our training data. We must specify the column in y_train, \n",
    "# since we have converted it to a dataframe from a series! \n",
    "lm3.fit(X_train_degree3, y_train.popularity)\n",
    "\n",
    "# predict train\n",
    "y_train['popularity_pred_lm3'] = lm3.predict(X_train_degree3)\n",
    "\n",
    "# evaluate: rmse\n",
    "rmse_train = mean_squared_error(y_train.popularity, y_train.popularity_pred_lm3) ** (1/2)\n",
    "\n",
    "# predict validate\n",
    "y_validate['popularity_pred_lm3'] = lm3.predict(X_validate_degree3)\n",
    "\n",
    "# evaluate: rmse\n",
    "rmse_validate = mean_squared_error(y_validate.popularity, y_validate.popularity_pred_lm3) ** (1/2)\n",
    "\n",
    "print(\"RMSE for Polynomial Model, degrees=2\\nTraining/In-Sample: \", rmse_train, \n",
    "      \"\\nValidation/Out-of-Sample: \", rmse_validate)"
   ]
  },
  {
   "cell_type": "code",
   "execution_count": 657,
   "id": "b7200b94",
   "metadata": {},
   "outputs": [
    {
     "data": {
      "text/html": [
       "<div>\n",
       "<style scoped>\n",
       "    .dataframe tbody tr th:only-of-type {\n",
       "        vertical-align: middle;\n",
       "    }\n",
       "\n",
       "    .dataframe tbody tr th {\n",
       "        vertical-align: top;\n",
       "    }\n",
       "\n",
       "    .dataframe thead th {\n",
       "        text-align: right;\n",
       "    }\n",
       "</style>\n",
       "<table border=\"1\" class=\"dataframe\">\n",
       "  <thead>\n",
       "    <tr style=\"text-align: right;\">\n",
       "      <th></th>\n",
       "      <th>model</th>\n",
       "      <th>RMSE_validate</th>\n",
       "      <th>r^2_validate</th>\n",
       "    </tr>\n",
       "  </thead>\n",
       "  <tbody>\n",
       "    <tr>\n",
       "      <th>0</th>\n",
       "      <td>median_baseline</td>\n",
       "      <td>18.417868</td>\n",
       "      <td>-2.220446e-16</td>\n",
       "    </tr>\n",
       "    <tr>\n",
       "      <th>1</th>\n",
       "      <td>OLS Regressor, Select Features</td>\n",
       "      <td>14.490401</td>\n",
       "      <td>3.802414e-01</td>\n",
       "    </tr>\n",
       "    <tr>\n",
       "      <th>2</th>\n",
       "      <td>lasso_alpha_1</td>\n",
       "      <td>18.406583</td>\n",
       "      <td>0.000000e+00</td>\n",
       "    </tr>\n",
       "    <tr>\n",
       "      <th>3</th>\n",
       "      <td>GLM</td>\n",
       "      <td>18.406583</td>\n",
       "      <td>-2.220446e-16</td>\n",
       "    </tr>\n",
       "    <tr>\n",
       "      <th>4</th>\n",
       "      <td>quadratic</td>\n",
       "      <td>14.107811</td>\n",
       "      <td>4.125382e-01</td>\n",
       "    </tr>\n",
       "    <tr>\n",
       "      <th>5</th>\n",
       "      <td>Third degree linear regression</td>\n",
       "      <td>13.818662</td>\n",
       "      <td>4.363764e-01</td>\n",
       "    </tr>\n",
       "  </tbody>\n",
       "</table>\n",
       "</div>"
      ],
      "text/plain": [
       "                            model  RMSE_validate  r^2_validate\n",
       "0                 median_baseline      18.417868 -2.220446e-16\n",
       "1  OLS Regressor, Select Features      14.490401  3.802414e-01\n",
       "2                   lasso_alpha_1      18.406583  0.000000e+00\n",
       "3                             GLM      18.406583 -2.220446e-16\n",
       "4                       quadratic      14.107811  4.125382e-01\n",
       "5  Third degree linear regression      13.818662  4.363764e-01"
      ]
     },
     "execution_count": 657,
     "metadata": {},
     "output_type": "execute_result"
    }
   ],
   "source": [
    "metric_df = make_metric_df(y_validate.popularity, y_validate.popularity_pred_lm3,\n",
    "               'Third degree linear regression',\n",
    "               metric_df)\n",
    "metric_df"
   ]
  },
  {
   "cell_type": "markdown",
   "id": "195ce83c",
   "metadata": {},
   "source": [
    "### Linear Regression Fourth Degree"
   ]
  },
  {
   "cell_type": "code",
   "execution_count": 658,
   "id": "a25fad9f",
   "metadata": {},
   "outputs": [],
   "source": [
    "# make the polynomial features to get a new set of features\n",
    "pf = PolynomialFeatures(degree=4)\n",
    "\n",
    "# fit and transform X_train_scaled\n",
    "X_train_degree4 = pf.fit_transform(X_train)\n",
    "\n",
    "# transform X_validate_scaled & X_test_scaled\n",
    "X_validate_degree4 = pf.transform(X_validate)\n",
    "X_test_degree4 =  pf.transform(X_test)"
   ]
  },
  {
   "cell_type": "code",
   "execution_count": 659,
   "id": "6862903f",
   "metadata": {},
   "outputs": [
    {
     "name": "stdout",
     "output_type": "stream",
     "text": [
      "RMSE for Polynomial Model, degrees=4\n",
      "Training/In-Sample:  13.626345423032943 \n",
      "Validation/Out-of-Sample:  13.685215304402414\n"
     ]
    }
   ],
   "source": [
    "# create the model object\n",
    "lm4 = LinearRegression(normalize=True)\n",
    "\n",
    "# fit the model to our training data. We must specify the column in y_train, \n",
    "# since we have converted it to a dataframe from a series! \n",
    "lm4.fit(X_train_degree4, y_train.popularity)\n",
    "\n",
    "# predict train\n",
    "y_train['popularity_pred_lm4'] = lm4.predict(X_train_degree4)\n",
    "\n",
    "# evaluate: rmse\n",
    "rmse_train = mean_squared_error(y_train.popularity, y_train.popularity_pred_lm4) ** (1/2)\n",
    "\n",
    "# predict validate\n",
    "y_validate['popularity_pred_lm4'] = lm4.predict(X_validate_degree4)\n",
    "\n",
    "# evaluate: rmse\n",
    "rmse_validate = mean_squared_error(y_validate.popularity, y_validate.popularity_pred_lm4) ** (1/2)\n",
    "\n",
    "print(\"RMSE for Polynomial Model, degrees=4\\nTraining/In-Sample: \", rmse_train, \n",
    "      \"\\nValidation/Out-of-Sample: \", rmse_validate)"
   ]
  },
  {
   "cell_type": "code",
   "execution_count": 660,
   "id": "67b05859",
   "metadata": {},
   "outputs": [
    {
     "data": {
      "text/html": [
       "<div>\n",
       "<style scoped>\n",
       "    .dataframe tbody tr th:only-of-type {\n",
       "        vertical-align: middle;\n",
       "    }\n",
       "\n",
       "    .dataframe tbody tr th {\n",
       "        vertical-align: top;\n",
       "    }\n",
       "\n",
       "    .dataframe thead th {\n",
       "        text-align: right;\n",
       "    }\n",
       "</style>\n",
       "<table border=\"1\" class=\"dataframe\">\n",
       "  <thead>\n",
       "    <tr style=\"text-align: right;\">\n",
       "      <th></th>\n",
       "      <th>model</th>\n",
       "      <th>RMSE_validate</th>\n",
       "      <th>r^2_validate</th>\n",
       "    </tr>\n",
       "  </thead>\n",
       "  <tbody>\n",
       "    <tr>\n",
       "      <th>0</th>\n",
       "      <td>median_baseline</td>\n",
       "      <td>18.417868</td>\n",
       "      <td>-2.220446e-16</td>\n",
       "    </tr>\n",
       "    <tr>\n",
       "      <th>1</th>\n",
       "      <td>OLS Regressor, Select Features</td>\n",
       "      <td>14.490401</td>\n",
       "      <td>3.802414e-01</td>\n",
       "    </tr>\n",
       "    <tr>\n",
       "      <th>2</th>\n",
       "      <td>lasso_alpha_1</td>\n",
       "      <td>18.406583</td>\n",
       "      <td>0.000000e+00</td>\n",
       "    </tr>\n",
       "    <tr>\n",
       "      <th>3</th>\n",
       "      <td>GLM</td>\n",
       "      <td>18.406583</td>\n",
       "      <td>-2.220446e-16</td>\n",
       "    </tr>\n",
       "    <tr>\n",
       "      <th>4</th>\n",
       "      <td>quadratic</td>\n",
       "      <td>14.107811</td>\n",
       "      <td>4.125382e-01</td>\n",
       "    </tr>\n",
       "    <tr>\n",
       "      <th>5</th>\n",
       "      <td>Third degree linear regression</td>\n",
       "      <td>13.818662</td>\n",
       "      <td>4.363764e-01</td>\n",
       "    </tr>\n",
       "    <tr>\n",
       "      <th>6</th>\n",
       "      <td>Fourth degree linear regression</td>\n",
       "      <td>13.685215</td>\n",
       "      <td>4.472073e-01</td>\n",
       "    </tr>\n",
       "  </tbody>\n",
       "</table>\n",
       "</div>"
      ],
      "text/plain": [
       "                             model  RMSE_validate  r^2_validate\n",
       "0                  median_baseline      18.417868 -2.220446e-16\n",
       "1   OLS Regressor, Select Features      14.490401  3.802414e-01\n",
       "2                    lasso_alpha_1      18.406583  0.000000e+00\n",
       "3                              GLM      18.406583 -2.220446e-16\n",
       "4                        quadratic      14.107811  4.125382e-01\n",
       "5   Third degree linear regression      13.818662  4.363764e-01\n",
       "6  Fourth degree linear regression      13.685215  4.472073e-01"
      ]
     },
     "execution_count": 660,
     "metadata": {},
     "output_type": "execute_result"
    }
   ],
   "source": [
    "metric_df = make_metric_df(y_validate.popularity, y_validate.popularity_pred_lm4,\n",
    "               'Fourth degree linear regression',\n",
    "               metric_df)\n",
    "metric_df"
   ]
  },
  {
   "cell_type": "markdown",
   "id": "0301ff9d",
   "metadata": {},
   "source": [
    "### Linear Regression Fifth Degree"
   ]
  },
  {
   "cell_type": "code",
   "execution_count": 550,
   "id": "fbc3bac5",
   "metadata": {},
   "outputs": [],
   "source": [
    "# make the polynomial features to get a new set of features\n",
    "pf = PolynomialFeatures(degree=5)\n",
    "\n",
    "# fit and transform X_train_scaled\n",
    "X_train_degree5 = pf.fit_transform(X_train)\n",
    "\n",
    "# transform X_validate_scaled & X_test_scaled\n",
    "X_validate_degree5 = pf.transform(X_validate)\n",
    "X_test_degree5 =  pf.transform(X_test)"
   ]
  },
  {
   "cell_type": "code",
   "execution_count": 551,
   "id": "76426dd4",
   "metadata": {},
   "outputs": [
    {
     "name": "stdout",
     "output_type": "stream",
     "text": [
      "RMSE for Polynomial Model, degrees=5\n",
      "Training/In-Sample:  13.450967768991013 \n",
      "Validation/Out-of-Sample:  15.818495410394158\n"
     ]
    }
   ],
   "source": [
    "# create the model object\n",
    "lm5 = LinearRegression(normalize=True)\n",
    "\n",
    "# fit the model to our training data. We must specify the column in y_train, \n",
    "# since we have converted it to a dataframe from a series! \n",
    "lm5.fit(X_train_degree5, y_train.popularity)\n",
    "\n",
    "# predict train\n",
    "y_train['popularity_pred_lm5'] = lm5.predict(X_train_degree5)\n",
    "\n",
    "# evaluate: rmse\n",
    "rmse_train = mean_squared_error(y_train.popularity, y_train.popularity_pred_lm5) ** (1/2)\n",
    "\n",
    "# predict validate\n",
    "y_validate['popularity_pred_lm5'] = lm5.predict(X_validate_degree5)\n",
    "\n",
    "# evaluate: rmse\n",
    "rmse_validate = mean_squared_error(y_validate.popularity, y_validate.popularity_pred_lm5) ** (1/2)\n",
    "\n",
    "print(\"RMSE for Polynomial Model, degrees=5\\nTraining/In-Sample: \", rmse_train, \n",
    "      \"\\nValidation/Out-of-Sample: \", rmse_validate)"
   ]
  },
  {
   "cell_type": "code",
   "execution_count": 553,
   "id": "e49473b3",
   "metadata": {},
   "outputs": [
    {
     "data": {
      "text/html": [
       "<div>\n",
       "<style scoped>\n",
       "    .dataframe tbody tr th:only-of-type {\n",
       "        vertical-align: middle;\n",
       "    }\n",
       "\n",
       "    .dataframe tbody tr th {\n",
       "        vertical-align: top;\n",
       "    }\n",
       "\n",
       "    .dataframe thead th {\n",
       "        text-align: right;\n",
       "    }\n",
       "</style>\n",
       "<table border=\"1\" class=\"dataframe\">\n",
       "  <thead>\n",
       "    <tr style=\"text-align: right;\">\n",
       "      <th></th>\n",
       "      <th>model</th>\n",
       "      <th>RMSE_validate</th>\n",
       "      <th>r^2_validate</th>\n",
       "    </tr>\n",
       "  </thead>\n",
       "  <tbody>\n",
       "    <tr>\n",
       "      <th>0</th>\n",
       "      <td>median_baseline</td>\n",
       "      <td>18.417868</td>\n",
       "      <td>-2.220446e-16</td>\n",
       "    </tr>\n",
       "    <tr>\n",
       "      <th>1</th>\n",
       "      <td>OLS Regressor, Select Features</td>\n",
       "      <td>14.490401</td>\n",
       "      <td>3.802414e-01</td>\n",
       "    </tr>\n",
       "    <tr>\n",
       "      <th>2</th>\n",
       "      <td>lasso_alpha_1</td>\n",
       "      <td>18.406583</td>\n",
       "      <td>0.000000e+00</td>\n",
       "    </tr>\n",
       "    <tr>\n",
       "      <th>3</th>\n",
       "      <td>GLM</td>\n",
       "      <td>18.406583</td>\n",
       "      <td>-2.220446e-16</td>\n",
       "    </tr>\n",
       "    <tr>\n",
       "      <th>4</th>\n",
       "      <td>quadratic</td>\n",
       "      <td>14.107811</td>\n",
       "      <td>4.125382e-01</td>\n",
       "    </tr>\n",
       "    <tr>\n",
       "      <th>5</th>\n",
       "      <td>Third degree linear regression</td>\n",
       "      <td>13.818662</td>\n",
       "      <td>4.363764e-01</td>\n",
       "    </tr>\n",
       "    <tr>\n",
       "      <th>6</th>\n",
       "      <td>Fourth degree linear regression</td>\n",
       "      <td>13.685215</td>\n",
       "      <td>4.472073e-01</td>\n",
       "    </tr>\n",
       "    <tr>\n",
       "      <th>7</th>\n",
       "      <td>Fifth degree linear regression</td>\n",
       "      <td>15.818495</td>\n",
       "      <td>2.614259e-01</td>\n",
       "    </tr>\n",
       "  </tbody>\n",
       "</table>\n",
       "</div>"
      ],
      "text/plain": [
       "                             model  RMSE_validate  r^2_validate\n",
       "0                  median_baseline      18.417868 -2.220446e-16\n",
       "1   OLS Regressor, Select Features      14.490401  3.802414e-01\n",
       "2                    lasso_alpha_1      18.406583  0.000000e+00\n",
       "3                              GLM      18.406583 -2.220446e-16\n",
       "4                        quadratic      14.107811  4.125382e-01\n",
       "5   Third degree linear regression      13.818662  4.363764e-01\n",
       "6  Fourth degree linear regression      13.685215  4.472073e-01\n",
       "7   Fifth degree linear regression      15.818495  2.614259e-01"
      ]
     },
     "execution_count": 553,
     "metadata": {},
     "output_type": "execute_result"
    }
   ],
   "source": [
    "metric_df = make_metric_df(y_validate.popularity, y_validate.popularity_pred_lm5,\n",
    "               'Fifth degree linear regression',\n",
    "               metric_df)\n",
    "metric_df"
   ]
  },
  {
   "cell_type": "code",
   "execution_count": 569,
   "id": "1cd7d282",
   "metadata": {},
   "outputs": [],
   "source": [
    "metric_df = metric_df.sort_values(by = \"RMSE_validate\")"
   ]
  },
  {
   "cell_type": "code",
   "execution_count": 571,
   "id": "433af337",
   "metadata": {},
   "outputs": [
    {
     "data": {
      "image/png": "[encoded data removed]",
      "text/plain": [
       "<Figure size 432x288 with 1 Axes>"
      ]
     },
     "metadata": {
      "needs_background": "light"
     },
     "output_type": "display_data"
    }
   ],
   "source": [
    "rmse_values = sns.barplot(x = metric_df.RMSE_validate, y= metric_df.model)\n",
    "title = rmse_values.set(title = \"RMSE scores\")"
   ]
  },
  {
   "cell_type": "markdown",
   "id": "c6492d91",
   "metadata": {},
   "source": [
    "The fourth degree linear regression model is our best model. \n",
    "\n",
    "Out of curiosity, let's see what song this model predicted to be the most popular."
   ]
  },
  {
   "cell_type": "code",
   "execution_count": 627,
   "id": "b70a3546",
   "metadata": {},
   "outputs": [
    {
     "data": {
      "text/html": [
       "<div>\n",
       "<style scoped>\n",
       "    .dataframe tbody tr th:only-of-type {\n",
       "        vertical-align: middle;\n",
       "    }\n",
       "\n",
       "    .dataframe tbody tr th {\n",
       "        vertical-align: top;\n",
       "    }\n",
       "\n",
       "    .dataframe thead th {\n",
       "        text-align: right;\n",
       "    }\n",
       "</style>\n",
       "<table border=\"1\" class=\"dataframe\">\n",
       "  <thead>\n",
       "    <tr style=\"text-align: right;\">\n",
       "      <th></th>\n",
       "      <th>popularity</th>\n",
       "      <th>popularity_pred_mean</th>\n",
       "      <th>popularity_pred_median</th>\n",
       "      <th>popularity_pred_lm_1</th>\n",
       "      <th>popularity_pred_lars</th>\n",
       "      <th>popularity_pred_glm</th>\n",
       "      <th>popularity_pred_lm2</th>\n",
       "      <th>popularity_pred_lm3</th>\n",
       "      <th>popularity_pred_lm4</th>\n",
       "      <th>popularity_pred_lm5</th>\n",
       "    </tr>\n",
       "  </thead>\n",
       "  <tbody>\n",
       "    <tr>\n",
       "      <th>492473</th>\n",
       "      <td>52</td>\n",
       "      <td>27.557575</td>\n",
       "      <td>27.0</td>\n",
       "      <td>24.47333</td>\n",
       "      <td>27.557575</td>\n",
       "      <td>27.557575</td>\n",
       "      <td>11.455988</td>\n",
       "      <td>59.026053</td>\n",
       "      <td>76.362795</td>\n",
       "      <td>48.551861</td>\n",
       "    </tr>\n",
       "  </tbody>\n",
       "</table>\n",
       "</div>"
      ],
      "text/plain": [
       "        popularity  popularity_pred_mean  popularity_pred_median  \\\n",
       "492473          52             27.557575                    27.0   \n",
       "\n",
       "        popularity_pred_lm_1  popularity_pred_lars  popularity_pred_glm  \\\n",
       "492473              24.47333             27.557575            27.557575   \n",
       "\n",
       "        popularity_pred_lm2  popularity_pred_lm3  popularity_pred_lm4  \\\n",
       "492473            11.455988            59.026053            76.362795   \n",
       "\n",
       "        popularity_pred_lm5  \n",
       "492473            48.551861  "
      ]
     },
     "execution_count": 627,
     "metadata": {},
     "output_type": "execute_result"
    }
   ],
   "source": [
    "y_train[y_train.popularity_pred_lm4 == y_train.popularity_pred_lm4.max()]"
   ]
  },
  {
   "cell_type": "code",
   "execution_count": 628,
   "id": "1a87f985",
   "metadata": {
    "scrolled": true
   },
   "outputs": [
    {
     "data": {
      "text/html": [
       "<div>\n",
       "<style scoped>\n",
       "    .dataframe tbody tr th:only-of-type {\n",
       "        vertical-align: middle;\n",
       "    }\n",
       "\n",
       "    .dataframe tbody tr th {\n",
       "        vertical-align: top;\n",
       "    }\n",
       "\n",
       "    .dataframe thead th {\n",
       "        text-align: right;\n",
       "    }\n",
       "</style>\n",
       "<table border=\"1\" class=\"dataframe\">\n",
       "  <thead>\n",
       "    <tr style=\"text-align: right;\">\n",
       "      <th></th>\n",
       "      <th>id</th>\n",
       "      <th>name</th>\n",
       "      <th>popularity</th>\n",
       "      <th>duration_ms</th>\n",
       "      <th>explicit</th>\n",
       "      <th>artists</th>\n",
       "      <th>id_artists</th>\n",
       "      <th>release_date</th>\n",
       "      <th>danceability</th>\n",
       "      <th>energy</th>\n",
       "      <th>...</th>\n",
       "      <th>loudness</th>\n",
       "      <th>mode</th>\n",
       "      <th>speechiness</th>\n",
       "      <th>acousticness</th>\n",
       "      <th>instrumentalness</th>\n",
       "      <th>liveness</th>\n",
       "      <th>valence</th>\n",
       "      <th>tempo</th>\n",
       "      <th>time_signature</th>\n",
       "      <th>year_of_release</th>\n",
       "    </tr>\n",
       "  </thead>\n",
       "  <tbody>\n",
       "    <tr>\n",
       "      <th>492473</th>\n",
       "      <td>4NlsctTVxrTknjeiOKAdsr</td>\n",
       "      <td>Under a Waterfall (Relaxing Sounds)</td>\n",
       "      <td>52</td>\n",
       "      <td>237772</td>\n",
       "      <td>0</td>\n",
       "      <td>['Sleep Sounds of Nature']</td>\n",
       "      <td>['59FRAcMcsHQupc8lupy5uH']</td>\n",
       "      <td>2011-08-24</td>\n",
       "      <td>0.0589</td>\n",
       "      <td>0.994</td>\n",
       "      <td>...</td>\n",
       "      <td>-22.764</td>\n",
       "      <td>1</td>\n",
       "      <td>0.0667</td>\n",
       "      <td>0.132</td>\n",
       "      <td>0.983</td>\n",
       "      <td>0.946</td>\n",
       "      <td>0.00001</td>\n",
       "      <td>47.986</td>\n",
       "      <td>4</td>\n",
       "      <td>2011</td>\n",
       "    </tr>\n",
       "  </tbody>\n",
       "</table>\n",
       "<p>1 rows × 21 columns</p>\n",
       "</div>"
      ],
      "text/plain": [
       "                            id                                 name  \\\n",
       "492473  4NlsctTVxrTknjeiOKAdsr  Under a Waterfall (Relaxing Sounds)   \n",
       "\n",
       "        popularity  duration_ms  explicit                     artists  \\\n",
       "492473          52       237772         0  ['Sleep Sounds of Nature']   \n",
       "\n",
       "                        id_artists release_date  danceability  energy  ...  \\\n",
       "492473  ['59FRAcMcsHQupc8lupy5uH']   2011-08-24        0.0589   0.994  ...   \n",
       "\n",
       "        loudness  mode  speechiness  acousticness  instrumentalness  liveness  \\\n",
       "492473   -22.764     1       0.0667         0.132             0.983     0.946   \n",
       "\n",
       "        valence   tempo  time_signature  year_of_release  \n",
       "492473  0.00001  47.986               4             2011  \n",
       "\n",
       "[1 rows x 21 columns]"
      ]
     },
     "execution_count": 628,
     "metadata": {},
     "output_type": "execute_result"
    }
   ],
   "source": [
    "df[492473:492474]"
   ]
  },
  {
   "cell_type": "code",
   "execution_count": 669,
   "id": "ded191ff",
   "metadata": {},
   "outputs": [
    {
     "data": {
      "text/plain": [
       "Int64Index([492473, 188516, 91161, 157982, 90677], dtype='int64')"
      ]
     },
     "execution_count": 669,
     "metadata": {},
     "output_type": "execute_result"
    }
   ],
   "source": [
    "y_train.sort_values(by = \"popularity_pred_lm4\", ascending = False).head().index"
   ]
  },
  {
   "cell_type": "code",
   "execution_count": 675,
   "id": "64925294",
   "metadata": {},
   "outputs": [
    {
     "data": {
      "text/plain": [
       "id                               4NlsctTVxrTknjeiOKAdsr\n",
       "name                Under a Waterfall (Relaxing Sounds)\n",
       "popularity                                           52\n",
       "duration_ms                                      237772\n",
       "explicit                                              0\n",
       "artists                      ['Sleep Sounds of Nature']\n",
       "id_artists                   ['59FRAcMcsHQupc8lupy5uH']\n",
       "release_date                        2011-08-24 00:00:00\n",
       "danceability                                     0.0589\n",
       "energy                                            0.994\n",
       "key                                                   1\n",
       "loudness                                        -22.764\n",
       "mode                                                  1\n",
       "speechiness                                      0.0667\n",
       "acousticness                                      0.132\n",
       "instrumentalness                                  0.983\n",
       "liveness                                          0.946\n",
       "valence                                         0.00001\n",
       "tempo                                            47.986\n",
       "time_signature                                        4\n",
       "year_of_release                                    2011\n",
       "Name: 492473, dtype: object"
      ]
     },
     "execution_count": 675,
     "metadata": {},
     "output_type": "execute_result"
    }
   ],
   "source": [
    "df.iloc[492473]"
   ]
  },
  {
   "cell_type": "code",
   "execution_count": 673,
   "id": "f89e83ec",
   "metadata": {},
   "outputs": [
    {
     "data": {
      "text/plain": [
       "id                      3xsQw4CVKtM6xS9LnnRBLE\n",
       "name                       Brown Noise 355 LPF\n",
       "popularity                                  61\n",
       "duration_ms                             182424\n",
       "explicit                                     0\n",
       "artists                           ['Granular']\n",
       "id_artists          ['1jfnMuDBl5OaAoU0VwLD8m']\n",
       "release_date               2019-01-11 00:00:00\n",
       "danceability                              0.23\n",
       "energy                                   0.899\n",
       "key                                          1\n",
       "loudness                               -31.604\n",
       "mode                                         0\n",
       "speechiness                             0.0512\n",
       "acousticness                              0.95\n",
       "instrumentalness                          0.96\n",
       "liveness                                 0.111\n",
       "valence                                0.00142\n",
       "tempo                                   74.882\n",
       "time_signature                               3\n",
       "year_of_release                           2019\n",
       "Name: 188516, dtype: object"
      ]
     },
     "execution_count": 673,
     "metadata": {},
     "output_type": "execute_result"
    }
   ],
   "source": [
    "df.iloc[188516]"
   ]
  },
  {
   "cell_type": "code",
   "execution_count": 677,
   "id": "02c2d042",
   "metadata": {},
   "outputs": [
    {
     "data": {
      "text/plain": [
       "id                      0l1KG1a65GW39PsIEn1H5h\n",
       "name                    White Noise Rain Sound\n",
       "popularity                                  66\n",
       "duration_ms                             187291\n",
       "explicit                                     0\n",
       "artists                   ['The Rain Library']\n",
       "id_artists          ['0HVOvIhSNLpfo2rxfKdacJ']\n",
       "release_date               2017-01-09 00:00:00\n",
       "danceability                            0.0608\n",
       "energy                                   0.939\n",
       "key                                          1\n",
       "loudness                               -26.324\n",
       "mode                                         1\n",
       "speechiness                              0.118\n",
       "acousticness                             0.122\n",
       "instrumentalness                         0.991\n",
       "liveness                                 0.912\n",
       "valence                                0.00558\n",
       "tempo                                   73.234\n",
       "time_signature                               5\n",
       "year_of_release                           2017\n",
       "Name: 157982, dtype: object"
      ]
     },
     "execution_count": 677,
     "metadata": {},
     "output_type": "execute_result"
    }
   ],
   "source": [
    "df.iloc[157982]"
   ]
  },
  {
   "cell_type": "code",
   "execution_count": 661,
   "id": "4e0e46d1",
   "metadata": {},
   "outputs": [
    {
     "data": {
      "text/html": [
       "<div>\n",
       "<style scoped>\n",
       "    .dataframe tbody tr th:only-of-type {\n",
       "        vertical-align: middle;\n",
       "    }\n",
       "\n",
       "    .dataframe tbody tr th {\n",
       "        vertical-align: top;\n",
       "    }\n",
       "\n",
       "    .dataframe thead th {\n",
       "        text-align: right;\n",
       "    }\n",
       "</style>\n",
       "<table border=\"1\" class=\"dataframe\">\n",
       "  <thead>\n",
       "    <tr style=\"text-align: right;\">\n",
       "      <th></th>\n",
       "      <th>popularity</th>\n",
       "      <th>popularity_pred_mean</th>\n",
       "      <th>popularity_pred_median</th>\n",
       "      <th>popularity_pred_lm_1</th>\n",
       "      <th>popularity_pred_lars</th>\n",
       "      <th>popularity_pred_glm</th>\n",
       "      <th>popularity_pred_lm2</th>\n",
       "      <th>popularity_pred_lm3</th>\n",
       "      <th>popularity_pred_lm4</th>\n",
       "    </tr>\n",
       "  </thead>\n",
       "  <tbody>\n",
       "    <tr>\n",
       "      <th>568269</th>\n",
       "      <td>33</td>\n",
       "      <td>27.557575</td>\n",
       "      <td>27.0</td>\n",
       "      <td>42.853343</td>\n",
       "      <td>27.557575</td>\n",
       "      <td>27.557575</td>\n",
       "      <td>51.326061</td>\n",
       "      <td>52.591725</td>\n",
       "      <td>195.016367</td>\n",
       "    </tr>\n",
       "  </tbody>\n",
       "</table>\n",
       "</div>"
      ],
      "text/plain": [
       "        popularity  popularity_pred_mean  popularity_pred_median  \\\n",
       "568269          33             27.557575                    27.0   \n",
       "\n",
       "        popularity_pred_lm_1  popularity_pred_lars  popularity_pred_glm  \\\n",
       "568269             42.853343             27.557575            27.557575   \n",
       "\n",
       "        popularity_pred_lm2  popularity_pred_lm3  popularity_pred_lm4  \n",
       "568269            51.326061            52.591725           195.016367  "
      ]
     },
     "execution_count": 661,
     "metadata": {},
     "output_type": "execute_result"
    }
   ],
   "source": [
    "y_validate[y_validate.popularity_pred_lm4 == y_validate.popularity_pred_lm4.max()]"
   ]
  },
  {
   "cell_type": "code",
   "execution_count": 662,
   "id": "205d37ec",
   "metadata": {},
   "outputs": [
    {
     "data": {
      "text/html": [
       "<div>\n",
       "<style scoped>\n",
       "    .dataframe tbody tr th:only-of-type {\n",
       "        vertical-align: middle;\n",
       "    }\n",
       "\n",
       "    .dataframe tbody tr th {\n",
       "        vertical-align: top;\n",
       "    }\n",
       "\n",
       "    .dataframe thead th {\n",
       "        text-align: right;\n",
       "    }\n",
       "</style>\n",
       "<table border=\"1\" class=\"dataframe\">\n",
       "  <thead>\n",
       "    <tr style=\"text-align: right;\">\n",
       "      <th></th>\n",
       "      <th>id</th>\n",
       "      <th>name</th>\n",
       "      <th>popularity</th>\n",
       "      <th>duration_ms</th>\n",
       "      <th>explicit</th>\n",
       "      <th>artists</th>\n",
       "      <th>id_artists</th>\n",
       "      <th>release_date</th>\n",
       "      <th>danceability</th>\n",
       "      <th>energy</th>\n",
       "      <th>...</th>\n",
       "      <th>loudness</th>\n",
       "      <th>mode</th>\n",
       "      <th>speechiness</th>\n",
       "      <th>acousticness</th>\n",
       "      <th>instrumentalness</th>\n",
       "      <th>liveness</th>\n",
       "      <th>valence</th>\n",
       "      <th>tempo</th>\n",
       "      <th>time_signature</th>\n",
       "      <th>year_of_release</th>\n",
       "    </tr>\n",
       "  </thead>\n",
       "  <tbody>\n",
       "    <tr>\n",
       "      <th>568269</th>\n",
       "      <td>1NHBwKuLmmLXRSLNMkRlN6</td>\n",
       "      <td>Calming Hair Dryer (Blow Dryer to Calm Your Baby)</td>\n",
       "      <td>33</td>\n",
       "      <td>4320028</td>\n",
       "      <td>0</td>\n",
       "      <td>['Soothing White Noise for Relaxation']</td>\n",
       "      <td>['7ovU9nJ62sM3mWmsa5Wi8L']</td>\n",
       "      <td>2010-10-06</td>\n",
       "      <td>0.0</td>\n",
       "      <td>0.000046</td>\n",
       "      <td>...</td>\n",
       "      <td>-13.676</td>\n",
       "      <td>1</td>\n",
       "      <td>0.0</td>\n",
       "      <td>0.102</td>\n",
       "      <td>0.00582</td>\n",
       "      <td>0.443</td>\n",
       "      <td>0.0</td>\n",
       "      <td>0.0</td>\n",
       "      <td>0</td>\n",
       "      <td>2010</td>\n",
       "    </tr>\n",
       "  </tbody>\n",
       "</table>\n",
       "<p>1 rows × 21 columns</p>\n",
       "</div>"
      ],
      "text/plain": [
       "                            id  \\\n",
       "568269  1NHBwKuLmmLXRSLNMkRlN6   \n",
       "\n",
       "                                                     name  popularity  \\\n",
       "568269  Calming Hair Dryer (Blow Dryer to Calm Your Baby)          33   \n",
       "\n",
       "        duration_ms  explicit                                  artists  \\\n",
       "568269      4320028         0  ['Soothing White Noise for Relaxation']   \n",
       "\n",
       "                        id_artists release_date  danceability    energy  ...  \\\n",
       "568269  ['7ovU9nJ62sM3mWmsa5Wi8L']   2010-10-06           0.0  0.000046  ...   \n",
       "\n",
       "        loudness  mode  speechiness  acousticness  instrumentalness  liveness  \\\n",
       "568269   -13.676     1          0.0         0.102           0.00582     0.443   \n",
       "\n",
       "        valence  tempo  time_signature  year_of_release  \n",
       "568269      0.0    0.0               0             2010  \n",
       "\n",
       "[1 rows x 21 columns]"
      ]
     },
     "execution_count": 662,
     "metadata": {},
     "output_type": "execute_result"
    }
   ],
   "source": [
    "df[568269:568270]"
   ]
  },
  {
   "cell_type": "markdown",
   "id": "fba5590e",
   "metadata": {},
   "source": [
    "Interestingly, our model has predicted relaxing background noise as the songs most likely to be popular. "
   ]
  },
  {
   "cell_type": "markdown",
   "id": "2d2b3d26",
   "metadata": {},
   "source": [
    "## Out of Sample Evaluation"
   ]
  },
  {
   "cell_type": "code",
   "execution_count": 572,
   "id": "22f0aed3",
   "metadata": {},
   "outputs": [
    {
     "data": {
      "text/html": [
       "<div>\n",
       "<style scoped>\n",
       "    .dataframe tbody tr th:only-of-type {\n",
       "        vertical-align: middle;\n",
       "    }\n",
       "\n",
       "    .dataframe tbody tr th {\n",
       "        vertical-align: top;\n",
       "    }\n",
       "\n",
       "    .dataframe thead th {\n",
       "        text-align: right;\n",
       "    }\n",
       "</style>\n",
       "<table border=\"1\" class=\"dataframe\">\n",
       "  <thead>\n",
       "    <tr style=\"text-align: right;\">\n",
       "      <th></th>\n",
       "      <th>popularity</th>\n",
       "    </tr>\n",
       "  </thead>\n",
       "  <tbody>\n",
       "    <tr>\n",
       "      <th>239867</th>\n",
       "      <td>11</td>\n",
       "    </tr>\n",
       "    <tr>\n",
       "      <th>246765</th>\n",
       "      <td>2</td>\n",
       "    </tr>\n",
       "    <tr>\n",
       "      <th>93968</th>\n",
       "      <td>0</td>\n",
       "    </tr>\n",
       "    <tr>\n",
       "      <th>46081</th>\n",
       "      <td>41</td>\n",
       "    </tr>\n",
       "    <tr>\n",
       "      <th>200642</th>\n",
       "      <td>2</td>\n",
       "    </tr>\n",
       "  </tbody>\n",
       "</table>\n",
       "</div>"
      ],
      "text/plain": [
       "        popularity\n",
       "239867          11\n",
       "246765           2\n",
       "93968            0\n",
       "46081           41\n",
       "200642           2"
      ]
     },
     "execution_count": 572,
     "metadata": {},
     "output_type": "execute_result"
    }
   ],
   "source": [
    "y_test.head()"
   ]
  },
  {
   "cell_type": "code",
   "execution_count": 573,
   "id": "e58750e9",
   "metadata": {},
   "outputs": [],
   "source": [
    "# predict on test\n",
    "y_test['popularity_pred_lm4'] = lm4.predict(X_test_degree4)"
   ]
  },
  {
   "cell_type": "code",
   "execution_count": 574,
   "id": "13028faf",
   "metadata": {},
   "outputs": [
    {
     "name": "stdout",
     "output_type": "stream",
     "text": [
      "RMSE for OLS Model using Fourth Degreee LinearRegression with Polynomial Regression\n",
      "Out-of-Sample Performance:  13.716045398207926\n"
     ]
    }
   ],
   "source": [
    "# evaluate: rmse\n",
    "rmse_test = mean_squared_error(y_test.popularity, y_test.popularity_pred_lm4)**(1/2)\n",
    "\n",
    "print(\"RMSE for OLS Model using Fourth Degreee LinearRegression with Polynomial Regression\\nOut-of-Sample Performance: \", rmse_test)"
   ]
  },
  {
   "cell_type": "code",
   "execution_count": 575,
   "id": "2ef7018e",
   "metadata": {},
   "outputs": [
    {
     "data": {
      "text/html": [
       "<div>\n",
       "<style scoped>\n",
       "    .dataframe tbody tr th:only-of-type {\n",
       "        vertical-align: middle;\n",
       "    }\n",
       "\n",
       "    .dataframe tbody tr th {\n",
       "        vertical-align: top;\n",
       "    }\n",
       "\n",
       "    .dataframe thead th {\n",
       "        text-align: right;\n",
       "    }\n",
       "</style>\n",
       "<table border=\"1\" class=\"dataframe\">\n",
       "  <thead>\n",
       "    <tr style=\"text-align: right;\">\n",
       "      <th></th>\n",
       "      <th>popularity</th>\n",
       "      <th>popularity_pred_lm4</th>\n",
       "    </tr>\n",
       "  </thead>\n",
       "  <tbody>\n",
       "    <tr>\n",
       "      <th>239867</th>\n",
       "      <td>11</td>\n",
       "      <td>19.788374</td>\n",
       "    </tr>\n",
       "    <tr>\n",
       "      <th>246765</th>\n",
       "      <td>2</td>\n",
       "      <td>7.568327</td>\n",
       "    </tr>\n",
       "    <tr>\n",
       "      <th>93968</th>\n",
       "      <td>0</td>\n",
       "      <td>52.592321</td>\n",
       "    </tr>\n",
       "    <tr>\n",
       "      <th>46081</th>\n",
       "      <td>41</td>\n",
       "      <td>21.179699</td>\n",
       "    </tr>\n",
       "    <tr>\n",
       "      <th>200642</th>\n",
       "      <td>2</td>\n",
       "      <td>17.053319</td>\n",
       "    </tr>\n",
       "  </tbody>\n",
       "</table>\n",
       "</div>"
      ],
      "text/plain": [
       "        popularity  popularity_pred_lm4\n",
       "239867          11            19.788374\n",
       "246765           2             7.568327\n",
       "93968            0            52.592321\n",
       "46081           41            21.179699\n",
       "200642           2            17.053319"
      ]
     },
     "execution_count": 575,
     "metadata": {},
     "output_type": "execute_result"
    }
   ],
   "source": [
    "y_test.head()"
   ]
  },
  {
   "cell_type": "code",
   "execution_count": 576,
   "id": "e01d5395",
   "metadata": {},
   "outputs": [
    {
     "data": {
      "image/png": "[encoded data removed]",
      "text/plain": [
       "<Figure size 1152x576 with 1 Axes>"
      ]
     },
     "metadata": {
      "needs_background": "light"
     },
     "output_type": "display_data"
    }
   ],
   "source": [
    "plt.figure(figsize=(16,8))\n",
    "sns.histplot(y_test.popularity_pred_lm4, color='lightblue', alpha=.5, label=\"Model: LinearRegression, 3rd Degree Polynomial\")\n",
    "sns.histplot(y_test.popularity, color='orange', alpha=.5, label=\"Actual Tax Value Dollar Count\")\n",
    "plt.xlim(-2, 100)\n",
    "plt.xlabel(\"Popularity\")\n",
    "plt.ylabel(\"Number of Songs\")\n",
    "plt.title(\"Comparing the Distribution of Tax Value to Distributions of Predicted Tax Value\")\n",
    "plt.legend()\n",
    "plt.show()"
   ]
  },
  {
   "cell_type": "code",
   "execution_count": 577,
   "id": "fa3aee45",
   "metadata": {},
   "outputs": [
    {
     "data": {
      "image/png": "[encoded data removed]",
      "text/plain": [
       "<Figure size 1152x576 with 1 Axes>"
      ]
     },
     "metadata": {
      "needs_background": "light"
     },
     "output_type": "display_data"
    }
   ],
   "source": [
    "# y_validate.head()\n",
    "plt.figure(figsize=(16,8))\n",
    "\n",
    "plt.plot(y_test.popularity, y_test.popularity, alpha=.5, color=\"blue\", label='_nolegend_')\n",
    "plt.annotate(\"The Ideal Line: Predicted = Actual\", (.5, 3.5), rotation=15.5)\n",
    "\n",
    "plt.scatter(y_test.popularity, y_test.popularity_pred_lm4, \n",
    "            alpha=.5, color=\"red\", s=100, label=\"Model: Fourth Degree LinearRegression\")\n",
    "plt.legend()\n",
    "plt.xlabel(\"Actual Popularity Index\")\n",
    "plt.ylabel(\"Predicted Popularity Index\")\n",
    "plt.title(\"Actual Versus Predicted Popularity Index\")\n",
    "plt.show()"
   ]
  },
  {
   "cell_type": "markdown",
   "id": "5518b964",
   "metadata": {},
   "source": [
    "## Bonus: Using Clustering to Categorize Music By Genre"
   ]
  },
  {
   "cell_type": "markdown",
   "id": "94a187b9",
   "metadata": {},
   "source": [
    "We have already shown that we can use the features of music to predict the popularity of a song with reasonable accuracy. In this section of the project, I would like to show that we can also use clustering technology to group similar songs together by finding patterns in the data."
   ]
  },
  {
   "cell_type": "code",
   "execution_count": 579,
   "id": "988cb604",
   "metadata": {},
   "outputs": [
    {
     "data": {
      "text/plain": [
       "Index(['id', 'name', 'popularity', 'duration_ms', 'explicit', 'artists',\n",
       "       'id_artists', 'release_date', 'danceability', 'energy', 'key',\n",
       "       'loudness', 'mode', 'speechiness', 'acousticness', 'instrumentalness',\n",
       "       'liveness', 'valence', 'tempo', 'time_signature', 'year_of_release'],\n",
       "      dtype='object')"
      ]
     },
     "execution_count": 579,
     "metadata": {},
     "output_type": "execute_result"
    }
   ],
   "source": [
    "df.columns"
   ]
  },
  {
   "cell_type": "code",
   "execution_count": 595,
   "id": "cad9f156",
   "metadata": {},
   "outputs": [],
   "source": [
    "X = train[['explicit',\n",
    "'danceability',\n",
    "'energy',\n",
    "'mode',\n",
    "'key',\n",
    "'speechiness',\n",
    "'acousticness',\n",
    "'instrumentalness',\n",
    "'liveness',\n",
    "'tempo',\n",
    "'time_signature',\n",
    "'duration_ms_scaled',\n",
    "'loudness_scaled',\n",
    "'valence',\n",
    "'year_of_release']]"
   ]
  },
  {
   "cell_type": "markdown",
   "id": "086e7dd1",
   "metadata": {},
   "source": [
    "We will use the elbow method to determine our optimum number of clusters. The elbow method means that we will use a line graph to visualize number of cluster vs. inertia. We will look for the \"elbow\" in the line graph, the part where intertia drops off significantly.\n",
    "\n"
   ]
  },
  {
   "cell_type": "code",
   "execution_count": 596,
   "id": "0bc38584",
   "metadata": {},
   "outputs": [
    {
     "data": {
      "image/png": "[encoded data removed]",
      "text/plain": [
       "<Figure size 648x432 with 1 Axes>"
      ]
     },
     "metadata": {},
     "output_type": "display_data"
    }
   ],
   "source": [
    "with plt.style.context('seaborn-whitegrid'):\n",
    "    plt.figure(figsize=(9, 6))\n",
    "    pd.Series({k: KMeans(k).fit(X).inertia_ for k in range(2, 12)}).plot(marker='x')\n",
    "    plt.xticks(range(2, 12))\n",
    "    plt.xlabel('k')\n",
    "    plt.ylabel('inertia')\n",
    "    plt.title('Change in inertia as k increases')"
   ]
  },
  {
   "cell_type": "code",
   "execution_count": 597,
   "id": "ca6aed96",
   "metadata": {},
   "outputs": [
    {
     "data": {
      "text/plain": [
       "array([5, 5, 0, ..., 1, 0, 2], dtype=int32)"
      ]
     },
     "execution_count": 597,
     "metadata": {},
     "output_type": "execute_result"
    }
   ],
   "source": [
    "kmeans = KMeans(n_clusters=6)\n",
    "kmeans.fit(X)\n",
    "\n",
    "kmeans.predict(X)"
   ]
  },
  {
   "cell_type": "code",
   "execution_count": 598,
   "id": "0c1c8778",
   "metadata": {},
   "outputs": [],
   "source": [
    "train['cluster'] = kmeans.predict(X)"
   ]
  },
  {
   "cell_type": "code",
   "execution_count": 599,
   "id": "1eea292b",
   "metadata": {},
   "outputs": [
    {
     "data": {
      "image/png": "[encoded data removed]",
      "text/plain": [
       "<Figure size 432x288 with 1 Axes>"
      ]
     },
     "metadata": {
      "needs_background": "light"
     },
     "output_type": "display_data"
    }
   ],
   "source": [
    "counts_by_cluster = sns.countplot(x = train.cluster)"
   ]
  },
  {
   "cell_type": "code",
   "execution_count": 600,
   "id": "30391a41",
   "metadata": {},
   "outputs": [
    {
     "data": {
      "text/html": [
       "<div>\n",
       "<style scoped>\n",
       "    .dataframe tbody tr th:only-of-type {\n",
       "        vertical-align: middle;\n",
       "    }\n",
       "\n",
       "    .dataframe tbody tr th {\n",
       "        vertical-align: top;\n",
       "    }\n",
       "\n",
       "    .dataframe thead th {\n",
       "        text-align: right;\n",
       "    }\n",
       "</style>\n",
       "<table border=\"1\" class=\"dataframe\">\n",
       "  <thead>\n",
       "    <tr style=\"text-align: right;\">\n",
       "      <th></th>\n",
       "      <th>id</th>\n",
       "      <th>name</th>\n",
       "      <th>popularity</th>\n",
       "      <th>duration_ms</th>\n",
       "      <th>explicit</th>\n",
       "      <th>artists</th>\n",
       "      <th>id_artists</th>\n",
       "      <th>release_date</th>\n",
       "      <th>danceability</th>\n",
       "      <th>energy</th>\n",
       "      <th>...</th>\n",
       "      <th>acousticness</th>\n",
       "      <th>instrumentalness</th>\n",
       "      <th>liveness</th>\n",
       "      <th>valence</th>\n",
       "      <th>tempo</th>\n",
       "      <th>time_signature</th>\n",
       "      <th>year_of_release</th>\n",
       "      <th>duration_ms_scaled</th>\n",
       "      <th>loudness_scaled</th>\n",
       "      <th>cluster</th>\n",
       "    </tr>\n",
       "  </thead>\n",
       "  <tbody>\n",
       "    <tr>\n",
       "      <th>404070</th>\n",
       "      <td>4RoQxXt8eSKeSFmhxLXu3x</td>\n",
       "      <td>Oru Ooril</td>\n",
       "      <td>39</td>\n",
       "      <td>279467</td>\n",
       "      <td>0</td>\n",
       "      <td>['Karthik']</td>\n",
       "      <td>['0LSPREIgGMZXCuKVel7LVD']</td>\n",
       "      <td>2003-09-27</td>\n",
       "      <td>0.594</td>\n",
       "      <td>0.633</td>\n",
       "      <td>...</td>\n",
       "      <td>0.281000</td>\n",
       "      <td>0.000000</td>\n",
       "      <td>0.0559</td>\n",
       "      <td>0.757</td>\n",
       "      <td>169.779</td>\n",
       "      <td>4</td>\n",
       "      <td>2003</td>\n",
       "      <td>0.051132</td>\n",
       "      <td>0.818305</td>\n",
       "      <td>5</td>\n",
       "    </tr>\n",
       "    <tr>\n",
       "      <th>319183</th>\n",
       "      <td>6FxUiq2HJbjyj4dBnXumrb</td>\n",
       "      <td>Lay down (Candles in the rain)</td>\n",
       "      <td>7</td>\n",
       "      <td>274274</td>\n",
       "      <td>0</td>\n",
       "      <td>['Emilíana Torrini']</td>\n",
       "      <td>['08j69Ndyx1P7RLO3Janb5P']</td>\n",
       "      <td>1996-01-01</td>\n",
       "      <td>0.305</td>\n",
       "      <td>0.726</td>\n",
       "      <td>...</td>\n",
       "      <td>0.183000</td>\n",
       "      <td>0.000000</td>\n",
       "      <td>0.1340</td>\n",
       "      <td>0.592</td>\n",
       "      <td>167.728</td>\n",
       "      <td>4</td>\n",
       "      <td>1996</td>\n",
       "      <td>0.050171</td>\n",
       "      <td>0.809412</td>\n",
       "      <td>5</td>\n",
       "    </tr>\n",
       "    <tr>\n",
       "      <th>545921</th>\n",
       "      <td>3GcY5WwLab9cMJimIIqSh1</td>\n",
       "      <td>Playful</td>\n",
       "      <td>28</td>\n",
       "      <td>167413</td>\n",
       "      <td>0</td>\n",
       "      <td>['Frankie Animal']</td>\n",
       "      <td>['1YYYGhGZWuWjLTpxdggqpO']</td>\n",
       "      <td>2019-06-07</td>\n",
       "      <td>0.595</td>\n",
       "      <td>0.594</td>\n",
       "      <td>...</td>\n",
       "      <td>0.040500</td>\n",
       "      <td>0.000066</td>\n",
       "      <td>0.1340</td>\n",
       "      <td>0.566</td>\n",
       "      <td>90.053</td>\n",
       "      <td>4</td>\n",
       "      <td>2019</td>\n",
       "      <td>0.030382</td>\n",
       "      <td>0.781858</td>\n",
       "      <td>0</td>\n",
       "    </tr>\n",
       "    <tr>\n",
       "      <th>113274</th>\n",
       "      <td>0EvOQBSyW3uSfwpcaj5xLe</td>\n",
       "      <td>Time - 2013 Remaster</td>\n",
       "      <td>11</td>\n",
       "      <td>315855</td>\n",
       "      <td>0</td>\n",
       "      <td>['David Bowie']</td>\n",
       "      <td>['0oSGxfWSnnOXhD2fKuz2Gy']</td>\n",
       "      <td>2015-09-25</td>\n",
       "      <td>0.330</td>\n",
       "      <td>0.652</td>\n",
       "      <td>...</td>\n",
       "      <td>0.192000</td>\n",
       "      <td>0.000003</td>\n",
       "      <td>0.1050</td>\n",
       "      <td>0.369</td>\n",
       "      <td>145.186</td>\n",
       "      <td>4</td>\n",
       "      <td>2015</td>\n",
       "      <td>0.057871</td>\n",
       "      <td>0.787433</td>\n",
       "      <td>2</td>\n",
       "    </tr>\n",
       "    <tr>\n",
       "      <th>112835</th>\n",
       "      <td>4i3ilJFJbMwLLK3g0ECkXp</td>\n",
       "      <td>Jy Soen Soos 'n Engel</td>\n",
       "      <td>22</td>\n",
       "      <td>228653</td>\n",
       "      <td>0</td>\n",
       "      <td>['David Fourie']</td>\n",
       "      <td>['3372wrCwHX44K1vjwiZHoA']</td>\n",
       "      <td>2011-04-04</td>\n",
       "      <td>0.601</td>\n",
       "      <td>0.953</td>\n",
       "      <td>...</td>\n",
       "      <td>0.000192</td>\n",
       "      <td>0.000000</td>\n",
       "      <td>0.0971</td>\n",
       "      <td>0.731</td>\n",
       "      <td>125.964</td>\n",
       "      <td>4</td>\n",
       "      <td>2011</td>\n",
       "      <td>0.041723</td>\n",
       "      <td>0.834877</td>\n",
       "      <td>2</td>\n",
       "    </tr>\n",
       "    <tr>\n",
       "      <th>243942</th>\n",
       "      <td>1sapJ0ghCrB804CK2SQoLl</td>\n",
       "      <td>Океан и три реки</td>\n",
       "      <td>47</td>\n",
       "      <td>218867</td>\n",
       "      <td>0</td>\n",
       "      <td>['Valery Meladze']</td>\n",
       "      <td>['2igtm1MhKEpmG3PzToJT40']</td>\n",
       "      <td>2003-01-01</td>\n",
       "      <td>0.606</td>\n",
       "      <td>0.864</td>\n",
       "      <td>...</td>\n",
       "      <td>0.120000</td>\n",
       "      <td>0.000000</td>\n",
       "      <td>0.3880</td>\n",
       "      <td>0.724</td>\n",
       "      <td>95.012</td>\n",
       "      <td>4</td>\n",
       "      <td>2003</td>\n",
       "      <td>0.039911</td>\n",
       "      <td>0.841911</td>\n",
       "      <td>0</td>\n",
       "    </tr>\n",
       "    <tr>\n",
       "      <th>247901</th>\n",
       "      <td>7H9hrwz5IBDcHeHflB7dZh</td>\n",
       "      <td>Ya No Me Arrepiento</td>\n",
       "      <td>19</td>\n",
       "      <td>247693</td>\n",
       "      <td>0</td>\n",
       "      <td>['Sergio Denis']</td>\n",
       "      <td>['6J19N5JZkGRjuONpiizCIe']</td>\n",
       "      <td>1971-01-01</td>\n",
       "      <td>0.430</td>\n",
       "      <td>0.304</td>\n",
       "      <td>...</td>\n",
       "      <td>0.877000</td>\n",
       "      <td>0.000004</td>\n",
       "      <td>0.2170</td>\n",
       "      <td>0.242</td>\n",
       "      <td>77.332</td>\n",
       "      <td>4</td>\n",
       "      <td>1971</td>\n",
       "      <td>0.045249</td>\n",
       "      <td>0.750726</td>\n",
       "      <td>1</td>\n",
       "    </tr>\n",
       "    <tr>\n",
       "      <th>370623</th>\n",
       "      <td>4v3AuNSbedru7LpWlpg1Mp</td>\n",
       "      <td>Zor Yıllar</td>\n",
       "      <td>36</td>\n",
       "      <td>206053</td>\n",
       "      <td>0</td>\n",
       "      <td>['Kemal Sahir Gürel', 'Erdal Güney', 'Hüseyin ...</td>\n",
       "      <td>['1WeO0UYvbcLvA27hupeCYV', '77PSs92ix6empuwnNu...</td>\n",
       "      <td>2007-01-03</td>\n",
       "      <td>0.289</td>\n",
       "      <td>0.414</td>\n",
       "      <td>...</td>\n",
       "      <td>0.894000</td>\n",
       "      <td>0.000008</td>\n",
       "      <td>0.2240</td>\n",
       "      <td>0.527</td>\n",
       "      <td>78.625</td>\n",
       "      <td>3</td>\n",
       "      <td>2007</td>\n",
       "      <td>0.037538</td>\n",
       "      <td>0.817337</td>\n",
       "      <td>0</td>\n",
       "    </tr>\n",
       "    <tr>\n",
       "      <th>145553</th>\n",
       "      <td>47YmRDI67DigzJtlcg0BGK</td>\n",
       "      <td>Sigo Buscando Un Amor</td>\n",
       "      <td>12</td>\n",
       "      <td>409133</td>\n",
       "      <td>0</td>\n",
       "      <td>['Roberto Roena']</td>\n",
       "      <td>['4i5rDrP2IqCdMgde0vIpyB']</td>\n",
       "      <td>1980-12-31</td>\n",
       "      <td>0.536</td>\n",
       "      <td>0.613</td>\n",
       "      <td>...</td>\n",
       "      <td>0.551000</td>\n",
       "      <td>0.007360</td>\n",
       "      <td>0.1290</td>\n",
       "      <td>0.798</td>\n",
       "      <td>104.461</td>\n",
       "      <td>4</td>\n",
       "      <td>1980</td>\n",
       "      <td>0.075144</td>\n",
       "      <td>0.816369</td>\n",
       "      <td>4</td>\n",
       "    </tr>\n",
       "    <tr>\n",
       "      <th>545576</th>\n",
       "      <td>1qBycURgOlsk4UtBsSY8XV</td>\n",
       "      <td>Lendaval Vaibal</td>\n",
       "      <td>16</td>\n",
       "      <td>266573</td>\n",
       "      <td>0</td>\n",
       "      <td>['Smilers']</td>\n",
       "      <td>['3gDHpjemovd3LuV3tHgjOq']</td>\n",
       "      <td>2014-04-16</td>\n",
       "      <td>0.665</td>\n",
       "      <td>0.869</td>\n",
       "      <td>...</td>\n",
       "      <td>0.059800</td>\n",
       "      <td>0.000000</td>\n",
       "      <td>0.5770</td>\n",
       "      <td>0.773</td>\n",
       "      <td>99.533</td>\n",
       "      <td>4</td>\n",
       "      <td>2014</td>\n",
       "      <td>0.048745</td>\n",
       "      <td>0.864105</td>\n",
       "      <td>0</td>\n",
       "    </tr>\n",
       "  </tbody>\n",
       "</table>\n",
       "<p>10 rows × 24 columns</p>\n",
       "</div>"
      ],
      "text/plain": [
       "                            id                            name  popularity  \\\n",
       "404070  4RoQxXt8eSKeSFmhxLXu3x                       Oru Ooril          39   \n",
       "319183  6FxUiq2HJbjyj4dBnXumrb  Lay down (Candles in the rain)           7   \n",
       "545921  3GcY5WwLab9cMJimIIqSh1                         Playful          28   \n",
       "113274  0EvOQBSyW3uSfwpcaj5xLe            Time - 2013 Remaster          11   \n",
       "112835  4i3ilJFJbMwLLK3g0ECkXp           Jy Soen Soos 'n Engel          22   \n",
       "243942  1sapJ0ghCrB804CK2SQoLl                Океан и три реки          47   \n",
       "247901  7H9hrwz5IBDcHeHflB7dZh             Ya No Me Arrepiento          19   \n",
       "370623  4v3AuNSbedru7LpWlpg1Mp                      Zor Yıllar          36   \n",
       "145553  47YmRDI67DigzJtlcg0BGK           Sigo Buscando Un Amor          12   \n",
       "545576  1qBycURgOlsk4UtBsSY8XV                 Lendaval Vaibal          16   \n",
       "\n",
       "        duration_ms  explicit  \\\n",
       "404070       279467         0   \n",
       "319183       274274         0   \n",
       "545921       167413         0   \n",
       "113274       315855         0   \n",
       "112835       228653         0   \n",
       "243942       218867         0   \n",
       "247901       247693         0   \n",
       "370623       206053         0   \n",
       "145553       409133         0   \n",
       "545576       266573         0   \n",
       "\n",
       "                                                  artists  \\\n",
       "404070                                        ['Karthik']   \n",
       "319183                               ['Emilíana Torrini']   \n",
       "545921                                 ['Frankie Animal']   \n",
       "113274                                    ['David Bowie']   \n",
       "112835                                   ['David Fourie']   \n",
       "243942                                 ['Valery Meladze']   \n",
       "247901                                   ['Sergio Denis']   \n",
       "370623  ['Kemal Sahir Gürel', 'Erdal Güney', 'Hüseyin ...   \n",
       "145553                                  ['Roberto Roena']   \n",
       "545576                                        ['Smilers']   \n",
       "\n",
       "                                               id_artists release_date  \\\n",
       "404070                         ['0LSPREIgGMZXCuKVel7LVD']   2003-09-27   \n",
       "319183                         ['08j69Ndyx1P7RLO3Janb5P']   1996-01-01   \n",
       "545921                         ['1YYYGhGZWuWjLTpxdggqpO']   2019-06-07   \n",
       "113274                         ['0oSGxfWSnnOXhD2fKuz2Gy']   2015-09-25   \n",
       "112835                         ['3372wrCwHX44K1vjwiZHoA']   2011-04-04   \n",
       "243942                         ['2igtm1MhKEpmG3PzToJT40']   2003-01-01   \n",
       "247901                         ['6J19N5JZkGRjuONpiizCIe']   1971-01-01   \n",
       "370623  ['1WeO0UYvbcLvA27hupeCYV', '77PSs92ix6empuwnNu...   2007-01-03   \n",
       "145553                         ['4i5rDrP2IqCdMgde0vIpyB']   1980-12-31   \n",
       "545576                         ['3gDHpjemovd3LuV3tHgjOq']   2014-04-16   \n",
       "\n",
       "        danceability  energy  ...  acousticness  instrumentalness  liveness  \\\n",
       "404070         0.594   0.633  ...      0.281000          0.000000    0.0559   \n",
       "319183         0.305   0.726  ...      0.183000          0.000000    0.1340   \n",
       "545921         0.595   0.594  ...      0.040500          0.000066    0.1340   \n",
       "113274         0.330   0.652  ...      0.192000          0.000003    0.1050   \n",
       "112835         0.601   0.953  ...      0.000192          0.000000    0.0971   \n",
       "243942         0.606   0.864  ...      0.120000          0.000000    0.3880   \n",
       "247901         0.430   0.304  ...      0.877000          0.000004    0.2170   \n",
       "370623         0.289   0.414  ...      0.894000          0.000008    0.2240   \n",
       "145553         0.536   0.613  ...      0.551000          0.007360    0.1290   \n",
       "545576         0.665   0.869  ...      0.059800          0.000000    0.5770   \n",
       "\n",
       "        valence    tempo  time_signature  year_of_release  duration_ms_scaled  \\\n",
       "404070    0.757  169.779               4             2003            0.051132   \n",
       "319183    0.592  167.728               4             1996            0.050171   \n",
       "545921    0.566   90.053               4             2019            0.030382   \n",
       "113274    0.369  145.186               4             2015            0.057871   \n",
       "112835    0.731  125.964               4             2011            0.041723   \n",
       "243942    0.724   95.012               4             2003            0.039911   \n",
       "247901    0.242   77.332               4             1971            0.045249   \n",
       "370623    0.527   78.625               3             2007            0.037538   \n",
       "145553    0.798  104.461               4             1980            0.075144   \n",
       "545576    0.773   99.533               4             2014            0.048745   \n",
       "\n",
       "        loudness_scaled  cluster  \n",
       "404070         0.818305        5  \n",
       "319183         0.809412        5  \n",
       "545921         0.781858        0  \n",
       "113274         0.787433        2  \n",
       "112835         0.834877        2  \n",
       "243942         0.841911        0  \n",
       "247901         0.750726        1  \n",
       "370623         0.817337        0  \n",
       "145553         0.816369        4  \n",
       "545576         0.864105        0  \n",
       "\n",
       "[10 rows x 24 columns]"
      ]
     },
     "execution_count": 600,
     "metadata": {},
     "output_type": "execute_result"
    }
   ],
   "source": [
    "train.head(10)"
   ]
  },
  {
   "cell_type": "markdown",
   "id": "a1011d48",
   "metadata": {},
   "source": [
    "We now have six groups of similar sounding songs."
   ]
  },
  {
   "cell_type": "code",
   "execution_count": 603,
   "id": "fc0d570d",
   "metadata": {},
   "outputs": [],
   "source": [
    "train_0 = train[train.cluster == 0]"
   ]
  },
  {
   "cell_type": "code",
   "execution_count": 604,
   "id": "628ca8ff",
   "metadata": {},
   "outputs": [
    {
     "data": {
      "text/html": [
       "<div>\n",
       "<style scoped>\n",
       "    .dataframe tbody tr th:only-of-type {\n",
       "        vertical-align: middle;\n",
       "    }\n",
       "\n",
       "    .dataframe tbody tr th {\n",
       "        vertical-align: top;\n",
       "    }\n",
       "\n",
       "    .dataframe thead th {\n",
       "        text-align: right;\n",
       "    }\n",
       "</style>\n",
       "<table border=\"1\" class=\"dataframe\">\n",
       "  <thead>\n",
       "    <tr style=\"text-align: right;\">\n",
       "      <th></th>\n",
       "      <th>id</th>\n",
       "      <th>name</th>\n",
       "      <th>popularity</th>\n",
       "      <th>duration_ms</th>\n",
       "      <th>explicit</th>\n",
       "      <th>artists</th>\n",
       "      <th>id_artists</th>\n",
       "      <th>release_date</th>\n",
       "      <th>danceability</th>\n",
       "      <th>energy</th>\n",
       "      <th>...</th>\n",
       "      <th>acousticness</th>\n",
       "      <th>instrumentalness</th>\n",
       "      <th>liveness</th>\n",
       "      <th>valence</th>\n",
       "      <th>tempo</th>\n",
       "      <th>time_signature</th>\n",
       "      <th>year_of_release</th>\n",
       "      <th>duration_ms_scaled</th>\n",
       "      <th>loudness_scaled</th>\n",
       "      <th>cluster</th>\n",
       "    </tr>\n",
       "  </thead>\n",
       "  <tbody>\n",
       "    <tr>\n",
       "      <th>545921</th>\n",
       "      <td>3GcY5WwLab9cMJimIIqSh1</td>\n",
       "      <td>Playful</td>\n",
       "      <td>28</td>\n",
       "      <td>167413</td>\n",
       "      <td>0</td>\n",
       "      <td>['Frankie Animal']</td>\n",
       "      <td>['1YYYGhGZWuWjLTpxdggqpO']</td>\n",
       "      <td>2019-06-07</td>\n",
       "      <td>0.595</td>\n",
       "      <td>0.59400</td>\n",
       "      <td>...</td>\n",
       "      <td>0.0405</td>\n",
       "      <td>0.000066</td>\n",
       "      <td>0.134</td>\n",
       "      <td>0.566</td>\n",
       "      <td>90.053</td>\n",
       "      <td>4</td>\n",
       "      <td>2019</td>\n",
       "      <td>0.030382</td>\n",
       "      <td>0.781858</td>\n",
       "      <td>0</td>\n",
       "    </tr>\n",
       "    <tr>\n",
       "      <th>243942</th>\n",
       "      <td>1sapJ0ghCrB804CK2SQoLl</td>\n",
       "      <td>Океан и три реки</td>\n",
       "      <td>47</td>\n",
       "      <td>218867</td>\n",
       "      <td>0</td>\n",
       "      <td>['Valery Meladze']</td>\n",
       "      <td>['2igtm1MhKEpmG3PzToJT40']</td>\n",
       "      <td>2003-01-01</td>\n",
       "      <td>0.606</td>\n",
       "      <td>0.86400</td>\n",
       "      <td>...</td>\n",
       "      <td>0.1200</td>\n",
       "      <td>0.000000</td>\n",
       "      <td>0.388</td>\n",
       "      <td>0.724</td>\n",
       "      <td>95.012</td>\n",
       "      <td>4</td>\n",
       "      <td>2003</td>\n",
       "      <td>0.039911</td>\n",
       "      <td>0.841911</td>\n",
       "      <td>0</td>\n",
       "    </tr>\n",
       "    <tr>\n",
       "      <th>370623</th>\n",
       "      <td>4v3AuNSbedru7LpWlpg1Mp</td>\n",
       "      <td>Zor Yıllar</td>\n",
       "      <td>36</td>\n",
       "      <td>206053</td>\n",
       "      <td>0</td>\n",
       "      <td>['Kemal Sahir Gürel', 'Erdal Güney', 'Hüseyin ...</td>\n",
       "      <td>['1WeO0UYvbcLvA27hupeCYV', '77PSs92ix6empuwnNu...</td>\n",
       "      <td>2007-01-03</td>\n",
       "      <td>0.289</td>\n",
       "      <td>0.41400</td>\n",
       "      <td>...</td>\n",
       "      <td>0.8940</td>\n",
       "      <td>0.000008</td>\n",
       "      <td>0.224</td>\n",
       "      <td>0.527</td>\n",
       "      <td>78.625</td>\n",
       "      <td>3</td>\n",
       "      <td>2007</td>\n",
       "      <td>0.037538</td>\n",
       "      <td>0.817337</td>\n",
       "      <td>0</td>\n",
       "    </tr>\n",
       "    <tr>\n",
       "      <th>545576</th>\n",
       "      <td>1qBycURgOlsk4UtBsSY8XV</td>\n",
       "      <td>Lendaval Vaibal</td>\n",
       "      <td>16</td>\n",
       "      <td>266573</td>\n",
       "      <td>0</td>\n",
       "      <td>['Smilers']</td>\n",
       "      <td>['3gDHpjemovd3LuV3tHgjOq']</td>\n",
       "      <td>2014-04-16</td>\n",
       "      <td>0.665</td>\n",
       "      <td>0.86900</td>\n",
       "      <td>...</td>\n",
       "      <td>0.0598</td>\n",
       "      <td>0.000000</td>\n",
       "      <td>0.577</td>\n",
       "      <td>0.773</td>\n",
       "      <td>99.533</td>\n",
       "      <td>4</td>\n",
       "      <td>2014</td>\n",
       "      <td>0.048745</td>\n",
       "      <td>0.864105</td>\n",
       "      <td>0</td>\n",
       "    </tr>\n",
       "    <tr>\n",
       "      <th>415692</th>\n",
       "      <td>5IgHqf44izKwUGgP5dGVlO</td>\n",
       "      <td>Sleep Tight (Instrumental Version)</td>\n",
       "      <td>57</td>\n",
       "      <td>74859</td>\n",
       "      <td>0</td>\n",
       "      <td>['Nursery Rhymes 123']</td>\n",
       "      <td>['47tuSUJMhsa3twW6wgKdIW']</td>\n",
       "      <td>2016-01-26</td>\n",
       "      <td>0.833</td>\n",
       "      <td>0.00417</td>\n",
       "      <td>...</td>\n",
       "      <td>0.9790</td>\n",
       "      <td>0.012900</td>\n",
       "      <td>0.137</td>\n",
       "      <td>0.918</td>\n",
       "      <td>89.900</td>\n",
       "      <td>3</td>\n",
       "      <td>2016</td>\n",
       "      <td>0.013243</td>\n",
       "      <td>0.541139</td>\n",
       "      <td>0</td>\n",
       "    </tr>\n",
       "  </tbody>\n",
       "</table>\n",
       "<p>5 rows × 24 columns</p>\n",
       "</div>"
      ],
      "text/plain": [
       "                            id                                name  \\\n",
       "545921  3GcY5WwLab9cMJimIIqSh1                             Playful   \n",
       "243942  1sapJ0ghCrB804CK2SQoLl                    Океан и три реки   \n",
       "370623  4v3AuNSbedru7LpWlpg1Mp                          Zor Yıllar   \n",
       "545576  1qBycURgOlsk4UtBsSY8XV                     Lendaval Vaibal   \n",
       "415692  5IgHqf44izKwUGgP5dGVlO  Sleep Tight (Instrumental Version)   \n",
       "\n",
       "        popularity  duration_ms  explicit  \\\n",
       "545921          28       167413         0   \n",
       "243942          47       218867         0   \n",
       "370623          36       206053         0   \n",
       "545576          16       266573         0   \n",
       "415692          57        74859         0   \n",
       "\n",
       "                                                  artists  \\\n",
       "545921                                 ['Frankie Animal']   \n",
       "243942                                 ['Valery Meladze']   \n",
       "370623  ['Kemal Sahir Gürel', 'Erdal Güney', 'Hüseyin ...   \n",
       "545576                                        ['Smilers']   \n",
       "415692                             ['Nursery Rhymes 123']   \n",
       "\n",
       "                                               id_artists release_date  \\\n",
       "545921                         ['1YYYGhGZWuWjLTpxdggqpO']   2019-06-07   \n",
       "243942                         ['2igtm1MhKEpmG3PzToJT40']   2003-01-01   \n",
       "370623  ['1WeO0UYvbcLvA27hupeCYV', '77PSs92ix6empuwnNu...   2007-01-03   \n",
       "545576                         ['3gDHpjemovd3LuV3tHgjOq']   2014-04-16   \n",
       "415692                         ['47tuSUJMhsa3twW6wgKdIW']   2016-01-26   \n",
       "\n",
       "        danceability   energy  ...  acousticness  instrumentalness  liveness  \\\n",
       "545921         0.595  0.59400  ...        0.0405          0.000066     0.134   \n",
       "243942         0.606  0.86400  ...        0.1200          0.000000     0.388   \n",
       "370623         0.289  0.41400  ...        0.8940          0.000008     0.224   \n",
       "545576         0.665  0.86900  ...        0.0598          0.000000     0.577   \n",
       "415692         0.833  0.00417  ...        0.9790          0.012900     0.137   \n",
       "\n",
       "        valence   tempo  time_signature  year_of_release  duration_ms_scaled  \\\n",
       "545921    0.566  90.053               4             2019            0.030382   \n",
       "243942    0.724  95.012               4             2003            0.039911   \n",
       "370623    0.527  78.625               3             2007            0.037538   \n",
       "545576    0.773  99.533               4             2014            0.048745   \n",
       "415692    0.918  89.900               3             2016            0.013243   \n",
       "\n",
       "        loudness_scaled  cluster  \n",
       "545921         0.781858        0  \n",
       "243942         0.841911        0  \n",
       "370623         0.817337        0  \n",
       "545576         0.864105        0  \n",
       "415692         0.541139        0  \n",
       "\n",
       "[5 rows x 24 columns]"
      ]
     },
     "execution_count": 604,
     "metadata": {},
     "output_type": "execute_result"
    }
   ],
   "source": [
    "train_0.head()"
   ]
  },
  {
   "cell_type": "markdown",
   "id": "33b53c57",
   "metadata": {},
   "source": [
    "Group 0 seems to be mostly upbeat songs with an electronic sound."
   ]
  },
  {
   "cell_type": "code",
   "execution_count": 605,
   "id": "4fabbcd8",
   "metadata": {},
   "outputs": [],
   "source": [
    "train_1 = train[train.cluster == 1]"
   ]
  },
  {
   "cell_type": "code",
   "execution_count": 607,
   "id": "8aa615f4",
   "metadata": {},
   "outputs": [
    {
     "data": {
      "text/html": [
       "<div>\n",
       "<style scoped>\n",
       "    .dataframe tbody tr th:only-of-type {\n",
       "        vertical-align: middle;\n",
       "    }\n",
       "\n",
       "    .dataframe tbody tr th {\n",
       "        vertical-align: top;\n",
       "    }\n",
       "\n",
       "    .dataframe thead th {\n",
       "        text-align: right;\n",
       "    }\n",
       "</style>\n",
       "<table border=\"1\" class=\"dataframe\">\n",
       "  <thead>\n",
       "    <tr style=\"text-align: right;\">\n",
       "      <th></th>\n",
       "      <th>id</th>\n",
       "      <th>name</th>\n",
       "      <th>popularity</th>\n",
       "      <th>duration_ms</th>\n",
       "      <th>explicit</th>\n",
       "      <th>artists</th>\n",
       "      <th>id_artists</th>\n",
       "      <th>release_date</th>\n",
       "      <th>danceability</th>\n",
       "      <th>energy</th>\n",
       "      <th>...</th>\n",
       "      <th>acousticness</th>\n",
       "      <th>instrumentalness</th>\n",
       "      <th>liveness</th>\n",
       "      <th>valence</th>\n",
       "      <th>tempo</th>\n",
       "      <th>time_signature</th>\n",
       "      <th>year_of_release</th>\n",
       "      <th>duration_ms_scaled</th>\n",
       "      <th>loudness_scaled</th>\n",
       "      <th>cluster</th>\n",
       "    </tr>\n",
       "  </thead>\n",
       "  <tbody>\n",
       "    <tr>\n",
       "      <th>247901</th>\n",
       "      <td>7H9hrwz5IBDcHeHflB7dZh</td>\n",
       "      <td>Ya No Me Arrepiento</td>\n",
       "      <td>19</td>\n",
       "      <td>247693</td>\n",
       "      <td>0</td>\n",
       "      <td>['Sergio Denis']</td>\n",
       "      <td>['6J19N5JZkGRjuONpiizCIe']</td>\n",
       "      <td>1971-01-01</td>\n",
       "      <td>0.430</td>\n",
       "      <td>0.3040</td>\n",
       "      <td>...</td>\n",
       "      <td>0.877</td>\n",
       "      <td>0.000004</td>\n",
       "      <td>0.2170</td>\n",
       "      <td>0.2420</td>\n",
       "      <td>77.332</td>\n",
       "      <td>4</td>\n",
       "      <td>1971</td>\n",
       "      <td>0.045249</td>\n",
       "      <td>0.750726</td>\n",
       "      <td>1</td>\n",
       "    </tr>\n",
       "    <tr>\n",
       "      <th>305610</th>\n",
       "      <td>01tdB0wTXWY4ue7GAySlWl</td>\n",
       "      <td>I've Got It Bad And That Ain T Good</td>\n",
       "      <td>11</td>\n",
       "      <td>372747</td>\n",
       "      <td>0</td>\n",
       "      <td>['Red Garland Quintet']</td>\n",
       "      <td>['0JsWkl2GlMvsvCQzYUQQ97']</td>\n",
       "      <td>1957-01-01</td>\n",
       "      <td>0.545</td>\n",
       "      <td>0.1710</td>\n",
       "      <td>...</td>\n",
       "      <td>0.965</td>\n",
       "      <td>0.921000</td>\n",
       "      <td>0.0976</td>\n",
       "      <td>0.1450</td>\n",
       "      <td>62.303</td>\n",
       "      <td>4</td>\n",
       "      <td>1957</td>\n",
       "      <td>0.068406</td>\n",
       "      <td>0.722634</td>\n",
       "      <td>1</td>\n",
       "    </tr>\n",
       "    <tr>\n",
       "      <th>44075</th>\n",
       "      <td>3OWfEECAO2MXsUH5u7J4bE</td>\n",
       "      <td>Get Back In Line</td>\n",
       "      <td>40</td>\n",
       "      <td>184160</td>\n",
       "      <td>0</td>\n",
       "      <td>['The Kinks']</td>\n",
       "      <td>['1SQRv42e4PjEYfPhS0Tk9E']</td>\n",
       "      <td>1970-11-27</td>\n",
       "      <td>0.323</td>\n",
       "      <td>0.5540</td>\n",
       "      <td>...</td>\n",
       "      <td>0.142</td>\n",
       "      <td>0.000044</td>\n",
       "      <td>0.2120</td>\n",
       "      <td>0.4200</td>\n",
       "      <td>93.428</td>\n",
       "      <td>4</td>\n",
       "      <td>1970</td>\n",
       "      <td>0.033483</td>\n",
       "      <td>0.800826</td>\n",
       "      <td>1</td>\n",
       "    </tr>\n",
       "    <tr>\n",
       "      <th>337889</th>\n",
       "      <td>5X5YjQO3OqHeAJzpQARMDB</td>\n",
       "      <td>Hallelujah Chorus - From the Oratorio, \"Messiah\"</td>\n",
       "      <td>12</td>\n",
       "      <td>245280</td>\n",
       "      <td>0</td>\n",
       "      <td>['Johnny Mathis']</td>\n",
       "      <td>['21LGsW7bziR4Ledx7WZ1Wf']</td>\n",
       "      <td>1963-10-04</td>\n",
       "      <td>0.404</td>\n",
       "      <td>0.3500</td>\n",
       "      <td>...</td>\n",
       "      <td>0.889</td>\n",
       "      <td>0.000215</td>\n",
       "      <td>0.2290</td>\n",
       "      <td>0.4670</td>\n",
       "      <td>96.672</td>\n",
       "      <td>4</td>\n",
       "      <td>1963</td>\n",
       "      <td>0.044802</td>\n",
       "      <td>0.772044</td>\n",
       "      <td>1</td>\n",
       "    </tr>\n",
       "    <tr>\n",
       "      <th>240147</th>\n",
       "      <td>3D4xY8ldSzNHDMP4Zynady</td>\n",
       "      <td>Amparo</td>\n",
       "      <td>32</td>\n",
       "      <td>219693</td>\n",
       "      <td>0</td>\n",
       "      <td>['Antônio Carlos Jobim']</td>\n",
       "      <td>['3pO5VjZ4wOHCMBXOvbMISG']</td>\n",
       "      <td>1970-01-01</td>\n",
       "      <td>0.225</td>\n",
       "      <td>0.0763</td>\n",
       "      <td>...</td>\n",
       "      <td>0.982</td>\n",
       "      <td>0.887000</td>\n",
       "      <td>0.1280</td>\n",
       "      <td>0.0378</td>\n",
       "      <td>82.881</td>\n",
       "      <td>4</td>\n",
       "      <td>1970</td>\n",
       "      <td>0.040063</td>\n",
       "      <td>0.593006</td>\n",
       "      <td>1</td>\n",
       "    </tr>\n",
       "  </tbody>\n",
       "</table>\n",
       "<p>5 rows × 24 columns</p>\n",
       "</div>"
      ],
      "text/plain": [
       "                            id  \\\n",
       "247901  7H9hrwz5IBDcHeHflB7dZh   \n",
       "305610  01tdB0wTXWY4ue7GAySlWl   \n",
       "44075   3OWfEECAO2MXsUH5u7J4bE   \n",
       "337889  5X5YjQO3OqHeAJzpQARMDB   \n",
       "240147  3D4xY8ldSzNHDMP4Zynady   \n",
       "\n",
       "                                                    name  popularity  \\\n",
       "247901                               Ya No Me Arrepiento          19   \n",
       "305610               I've Got It Bad And That Ain T Good          11   \n",
       "44075                                   Get Back In Line          40   \n",
       "337889  Hallelujah Chorus - From the Oratorio, \"Messiah\"          12   \n",
       "240147                                            Amparo          32   \n",
       "\n",
       "        duration_ms  explicit                   artists  \\\n",
       "247901       247693         0          ['Sergio Denis']   \n",
       "305610       372747         0   ['Red Garland Quintet']   \n",
       "44075        184160         0             ['The Kinks']   \n",
       "337889       245280         0         ['Johnny Mathis']   \n",
       "240147       219693         0  ['Antônio Carlos Jobim']   \n",
       "\n",
       "                        id_artists release_date  danceability  energy  ...  \\\n",
       "247901  ['6J19N5JZkGRjuONpiizCIe']   1971-01-01         0.430  0.3040  ...   \n",
       "305610  ['0JsWkl2GlMvsvCQzYUQQ97']   1957-01-01         0.545  0.1710  ...   \n",
       "44075   ['1SQRv42e4PjEYfPhS0Tk9E']   1970-11-27         0.323  0.5540  ...   \n",
       "337889  ['21LGsW7bziR4Ledx7WZ1Wf']   1963-10-04         0.404  0.3500  ...   \n",
       "240147  ['3pO5VjZ4wOHCMBXOvbMISG']   1970-01-01         0.225  0.0763  ...   \n",
       "\n",
       "        acousticness  instrumentalness  liveness  valence   tempo  \\\n",
       "247901         0.877          0.000004    0.2170   0.2420  77.332   \n",
       "305610         0.965          0.921000    0.0976   0.1450  62.303   \n",
       "44075          0.142          0.000044    0.2120   0.4200  93.428   \n",
       "337889         0.889          0.000215    0.2290   0.4670  96.672   \n",
       "240147         0.982          0.887000    0.1280   0.0378  82.881   \n",
       "\n",
       "        time_signature  year_of_release  duration_ms_scaled  loudness_scaled  \\\n",
       "247901               4             1971            0.045249         0.750726   \n",
       "305610               4             1957            0.068406         0.722634   \n",
       "44075                4             1970            0.033483         0.800826   \n",
       "337889               4             1963            0.044802         0.772044   \n",
       "240147               4             1970            0.040063         0.593006   \n",
       "\n",
       "        cluster  \n",
       "247901        1  \n",
       "305610        1  \n",
       "44075         1  \n",
       "337889        1  \n",
       "240147        1  \n",
       "\n",
       "[5 rows x 24 columns]"
      ]
     },
     "execution_count": 607,
     "metadata": {},
     "output_type": "execute_result"
    }
   ],
   "source": [
    "train_1.head()"
   ]
  },
  {
   "cell_type": "markdown",
   "id": "31d19bd9",
   "metadata": {},
   "source": [
    "Group 1 is more melancholic, slower songs."
   ]
  },
  {
   "cell_type": "code",
   "execution_count": 609,
   "id": "d35ade13",
   "metadata": {},
   "outputs": [],
   "source": [
    "train_2 = train[train.cluster == 2]"
   ]
  },
  {
   "cell_type": "code",
   "execution_count": 611,
   "id": "4c11b123",
   "metadata": {},
   "outputs": [
    {
     "data": {
      "text/html": [
       "<div>\n",
       "<style scoped>\n",
       "    .dataframe tbody tr th:only-of-type {\n",
       "        vertical-align: middle;\n",
       "    }\n",
       "\n",
       "    .dataframe tbody tr th {\n",
       "        vertical-align: top;\n",
       "    }\n",
       "\n",
       "    .dataframe thead th {\n",
       "        text-align: right;\n",
       "    }\n",
       "</style>\n",
       "<table border=\"1\" class=\"dataframe\">\n",
       "  <thead>\n",
       "    <tr style=\"text-align: right;\">\n",
       "      <th></th>\n",
       "      <th>id</th>\n",
       "      <th>name</th>\n",
       "      <th>popularity</th>\n",
       "      <th>duration_ms</th>\n",
       "      <th>explicit</th>\n",
       "      <th>artists</th>\n",
       "      <th>id_artists</th>\n",
       "      <th>release_date</th>\n",
       "      <th>danceability</th>\n",
       "      <th>energy</th>\n",
       "      <th>...</th>\n",
       "      <th>acousticness</th>\n",
       "      <th>instrumentalness</th>\n",
       "      <th>liveness</th>\n",
       "      <th>valence</th>\n",
       "      <th>tempo</th>\n",
       "      <th>time_signature</th>\n",
       "      <th>year_of_release</th>\n",
       "      <th>duration_ms_scaled</th>\n",
       "      <th>loudness_scaled</th>\n",
       "      <th>cluster</th>\n",
       "    </tr>\n",
       "  </thead>\n",
       "  <tbody>\n",
       "    <tr>\n",
       "      <th>113274</th>\n",
       "      <td>0EvOQBSyW3uSfwpcaj5xLe</td>\n",
       "      <td>Time - 2013 Remaster</td>\n",
       "      <td>11</td>\n",
       "      <td>315855</td>\n",
       "      <td>0</td>\n",
       "      <td>['David Bowie']</td>\n",
       "      <td>['0oSGxfWSnnOXhD2fKuz2Gy']</td>\n",
       "      <td>2015-09-25</td>\n",
       "      <td>0.330</td>\n",
       "      <td>0.652</td>\n",
       "      <td>...</td>\n",
       "      <td>0.192000</td>\n",
       "      <td>0.000003</td>\n",
       "      <td>0.1050</td>\n",
       "      <td>0.369</td>\n",
       "      <td>145.186</td>\n",
       "      <td>4</td>\n",
       "      <td>2015</td>\n",
       "      <td>0.057871</td>\n",
       "      <td>0.787433</td>\n",
       "      <td>2</td>\n",
       "    </tr>\n",
       "    <tr>\n",
       "      <th>112835</th>\n",
       "      <td>4i3ilJFJbMwLLK3g0ECkXp</td>\n",
       "      <td>Jy Soen Soos 'n Engel</td>\n",
       "      <td>22</td>\n",
       "      <td>228653</td>\n",
       "      <td>0</td>\n",
       "      <td>['David Fourie']</td>\n",
       "      <td>['3372wrCwHX44K1vjwiZHoA']</td>\n",
       "      <td>2011-04-04</td>\n",
       "      <td>0.601</td>\n",
       "      <td>0.953</td>\n",
       "      <td>...</td>\n",
       "      <td>0.000192</td>\n",
       "      <td>0.000000</td>\n",
       "      <td>0.0971</td>\n",
       "      <td>0.731</td>\n",
       "      <td>125.964</td>\n",
       "      <td>4</td>\n",
       "      <td>2011</td>\n",
       "      <td>0.041723</td>\n",
       "      <td>0.834877</td>\n",
       "      <td>2</td>\n",
       "    </tr>\n",
       "    <tr>\n",
       "      <th>284313</th>\n",
       "      <td>27CunNfh9sPzaNhRirLPjA</td>\n",
       "      <td>Fortunate Fool</td>\n",
       "      <td>38</td>\n",
       "      <td>228653</td>\n",
       "      <td>0</td>\n",
       "      <td>['Jack Johnson']</td>\n",
       "      <td>['3GBPw9NK25X1Wt2OUvOwY3']</td>\n",
       "      <td>2001-02-01</td>\n",
       "      <td>0.772</td>\n",
       "      <td>0.284</td>\n",
       "      <td>...</td>\n",
       "      <td>0.542000</td>\n",
       "      <td>0.001720</td>\n",
       "      <td>0.1090</td>\n",
       "      <td>0.328</td>\n",
       "      <td>129.326</td>\n",
       "      <td>4</td>\n",
       "      <td>2001</td>\n",
       "      <td>0.041723</td>\n",
       "      <td>0.766453</td>\n",
       "      <td>2</td>\n",
       "    </tr>\n",
       "    <tr>\n",
       "      <th>262296</th>\n",
       "      <td>2g7ZMGF9V9vuky7fYb2NVZ</td>\n",
       "      <td>Čert a Kača</td>\n",
       "      <td>17</td>\n",
       "      <td>901680</td>\n",
       "      <td>0</td>\n",
       "      <td>['Marián Labuda', 'R.Mihina', 'M.Matejka', 'V....</td>\n",
       "      <td>['1mHKvmQJOQVhd1nLEkiAZr', '6FDvKh65apZwn8Xr0S...</td>\n",
       "      <td>2002-03-07</td>\n",
       "      <td>0.714</td>\n",
       "      <td>0.437</td>\n",
       "      <td>...</td>\n",
       "      <td>0.826000</td>\n",
       "      <td>0.000000</td>\n",
       "      <td>0.0655</td>\n",
       "      <td>0.487</td>\n",
       "      <td>119.787</td>\n",
       "      <td>4</td>\n",
       "      <td>2002</td>\n",
       "      <td>0.166354</td>\n",
       "      <td>0.740405</td>\n",
       "      <td>2</td>\n",
       "    </tr>\n",
       "    <tr>\n",
       "      <th>371127</th>\n",
       "      <td>3VYxTZHWMcuzSSgR03msGs</td>\n",
       "      <td>Eski</td>\n",
       "      <td>41</td>\n",
       "      <td>302138</td>\n",
       "      <td>0</td>\n",
       "      <td>['Şebnem Ferah']</td>\n",
       "      <td>['74xBVPWYoSf5pvo5IkePRO']</td>\n",
       "      <td>2009-12-19</td>\n",
       "      <td>0.552</td>\n",
       "      <td>0.675</td>\n",
       "      <td>...</td>\n",
       "      <td>0.333000</td>\n",
       "      <td>0.000000</td>\n",
       "      <td>0.1070</td>\n",
       "      <td>0.317</td>\n",
       "      <td>125.898</td>\n",
       "      <td>4</td>\n",
       "      <td>2009</td>\n",
       "      <td>0.055331</td>\n",
       "      <td>0.860680</td>\n",
       "      <td>2</td>\n",
       "    </tr>\n",
       "  </tbody>\n",
       "</table>\n",
       "<p>5 rows × 24 columns</p>\n",
       "</div>"
      ],
      "text/plain": [
       "                            id                   name  popularity  \\\n",
       "113274  0EvOQBSyW3uSfwpcaj5xLe   Time - 2013 Remaster          11   \n",
       "112835  4i3ilJFJbMwLLK3g0ECkXp  Jy Soen Soos 'n Engel          22   \n",
       "284313  27CunNfh9sPzaNhRirLPjA         Fortunate Fool          38   \n",
       "262296  2g7ZMGF9V9vuky7fYb2NVZ            Čert a Kača          17   \n",
       "371127  3VYxTZHWMcuzSSgR03msGs                   Eski          41   \n",
       "\n",
       "        duration_ms  explicit  \\\n",
       "113274       315855         0   \n",
       "112835       228653         0   \n",
       "284313       228653         0   \n",
       "262296       901680         0   \n",
       "371127       302138         0   \n",
       "\n",
       "                                                  artists  \\\n",
       "113274                                    ['David Bowie']   \n",
       "112835                                   ['David Fourie']   \n",
       "284313                                   ['Jack Johnson']   \n",
       "262296  ['Marián Labuda', 'R.Mihina', 'M.Matejka', 'V....   \n",
       "371127                                   ['Şebnem Ferah']   \n",
       "\n",
       "                                               id_artists release_date  \\\n",
       "113274                         ['0oSGxfWSnnOXhD2fKuz2Gy']   2015-09-25   \n",
       "112835                         ['3372wrCwHX44K1vjwiZHoA']   2011-04-04   \n",
       "284313                         ['3GBPw9NK25X1Wt2OUvOwY3']   2001-02-01   \n",
       "262296  ['1mHKvmQJOQVhd1nLEkiAZr', '6FDvKh65apZwn8Xr0S...   2002-03-07   \n",
       "371127                         ['74xBVPWYoSf5pvo5IkePRO']   2009-12-19   \n",
       "\n",
       "        danceability  energy  ...  acousticness  instrumentalness  liveness  \\\n",
       "113274         0.330   0.652  ...      0.192000          0.000003    0.1050   \n",
       "112835         0.601   0.953  ...      0.000192          0.000000    0.0971   \n",
       "284313         0.772   0.284  ...      0.542000          0.001720    0.1090   \n",
       "262296         0.714   0.437  ...      0.826000          0.000000    0.0655   \n",
       "371127         0.552   0.675  ...      0.333000          0.000000    0.1070   \n",
       "\n",
       "        valence    tempo  time_signature  year_of_release  duration_ms_scaled  \\\n",
       "113274    0.369  145.186               4             2015            0.057871   \n",
       "112835    0.731  125.964               4             2011            0.041723   \n",
       "284313    0.328  129.326               4             2001            0.041723   \n",
       "262296    0.487  119.787               4             2002            0.166354   \n",
       "371127    0.317  125.898               4             2009            0.055331   \n",
       "\n",
       "        loudness_scaled  cluster  \n",
       "113274         0.787433        2  \n",
       "112835         0.834877        2  \n",
       "284313         0.766453        2  \n",
       "262296         0.740405        2  \n",
       "371127         0.860680        2  \n",
       "\n",
       "[5 rows x 24 columns]"
      ]
     },
     "execution_count": 611,
     "metadata": {},
     "output_type": "execute_result"
    }
   ],
   "source": [
    "train_2.head()"
   ]
  },
  {
   "cell_type": "markdown",
   "id": "829f0640",
   "metadata": {},
   "source": [
    "Group 2 has an acoustic rock-and-roll quality."
   ]
  },
  {
   "cell_type": "code",
   "execution_count": 613,
   "id": "3e137207",
   "metadata": {},
   "outputs": [],
   "source": [
    "train_3 = train[train.cluster == 3]"
   ]
  },
  {
   "cell_type": "code",
   "execution_count": 614,
   "id": "c407ed29",
   "metadata": {},
   "outputs": [
    {
     "data": {
      "text/html": [
       "<div>\n",
       "<style scoped>\n",
       "    .dataframe tbody tr th:only-of-type {\n",
       "        vertical-align: middle;\n",
       "    }\n",
       "\n",
       "    .dataframe tbody tr th {\n",
       "        vertical-align: top;\n",
       "    }\n",
       "\n",
       "    .dataframe thead th {\n",
       "        text-align: right;\n",
       "    }\n",
       "</style>\n",
       "<table border=\"1\" class=\"dataframe\">\n",
       "  <thead>\n",
       "    <tr style=\"text-align: right;\">\n",
       "      <th></th>\n",
       "      <th>id</th>\n",
       "      <th>name</th>\n",
       "      <th>popularity</th>\n",
       "      <th>duration_ms</th>\n",
       "      <th>explicit</th>\n",
       "      <th>artists</th>\n",
       "      <th>id_artists</th>\n",
       "      <th>release_date</th>\n",
       "      <th>danceability</th>\n",
       "      <th>energy</th>\n",
       "      <th>...</th>\n",
       "      <th>acousticness</th>\n",
       "      <th>instrumentalness</th>\n",
       "      <th>liveness</th>\n",
       "      <th>valence</th>\n",
       "      <th>tempo</th>\n",
       "      <th>time_signature</th>\n",
       "      <th>year_of_release</th>\n",
       "      <th>duration_ms_scaled</th>\n",
       "      <th>loudness_scaled</th>\n",
       "      <th>cluster</th>\n",
       "    </tr>\n",
       "  </thead>\n",
       "  <tbody>\n",
       "    <tr>\n",
       "      <th>267026</th>\n",
       "      <td>0St7qoRogQ9B9uIqmLdjIr</td>\n",
       "      <td>Red Clay</td>\n",
       "      <td>20</td>\n",
       "      <td>728533</td>\n",
       "      <td>0</td>\n",
       "      <td>['Freddie Hubbard']</td>\n",
       "      <td>['0fTHKjepK5HWOrb2rkS5Em']</td>\n",
       "      <td>1970-01-01</td>\n",
       "      <td>0.530</td>\n",
       "      <td>0.388</td>\n",
       "      <td>...</td>\n",
       "      <td>0.338</td>\n",
       "      <td>0.261000</td>\n",
       "      <td>0.0958</td>\n",
       "      <td>0.587</td>\n",
       "      <td>139.339</td>\n",
       "      <td>4</td>\n",
       "      <td>1970</td>\n",
       "      <td>0.134290</td>\n",
       "      <td>0.715999</td>\n",
       "      <td>3</td>\n",
       "    </tr>\n",
       "    <tr>\n",
       "      <th>189759</th>\n",
       "      <td>5oD4obArjBOP28YjclhcNr</td>\n",
       "      <td>O Astronauta - Instrumental</td>\n",
       "      <td>19</td>\n",
       "      <td>181613</td>\n",
       "      <td>0</td>\n",
       "      <td>['Odette Lara', 'Vinícius de Moraes']</td>\n",
       "      <td>['1qCTWVxt74ULl0u12pjnTc', '5HlnN6xF2MD87KhGRm...</td>\n",
       "      <td>1963-01-01</td>\n",
       "      <td>0.423</td>\n",
       "      <td>0.479</td>\n",
       "      <td>...</td>\n",
       "      <td>0.186</td>\n",
       "      <td>0.000002</td>\n",
       "      <td>0.2550</td>\n",
       "      <td>0.591</td>\n",
       "      <td>153.212</td>\n",
       "      <td>4</td>\n",
       "      <td>1963</td>\n",
       "      <td>0.033012</td>\n",
       "      <td>0.736872</td>\n",
       "      <td>3</td>\n",
       "    </tr>\n",
       "    <tr>\n",
       "      <th>2186</th>\n",
       "      <td>1P3YFEDFTCSSQ4KVoUgO7t</td>\n",
       "      <td>Smashin' Thirds</td>\n",
       "      <td>4</td>\n",
       "      <td>184920</td>\n",
       "      <td>0</td>\n",
       "      <td>['Fats Waller']</td>\n",
       "      <td>['0DYWCXTkNqGFZIf67SrWEa']</td>\n",
       "      <td>1926-01-01</td>\n",
       "      <td>0.541</td>\n",
       "      <td>0.247</td>\n",
       "      <td>...</td>\n",
       "      <td>0.982</td>\n",
       "      <td>0.868000</td>\n",
       "      <td>0.1310</td>\n",
       "      <td>0.812</td>\n",
       "      <td>111.664</td>\n",
       "      <td>4</td>\n",
       "      <td>1926</td>\n",
       "      <td>0.033624</td>\n",
       "      <td>0.625244</td>\n",
       "      <td>3</td>\n",
       "    </tr>\n",
       "    <tr>\n",
       "      <th>136319</th>\n",
       "      <td>7nKfyxYFXf5HdwSbeLFq1l</td>\n",
       "      <td>Blueberry Hill</td>\n",
       "      <td>0</td>\n",
       "      <td>199101</td>\n",
       "      <td>0</td>\n",
       "      <td>['Russ Morgan']</td>\n",
       "      <td>['4p2WNjwHrHBUD9XJBmbf7H']</td>\n",
       "      <td>1944-01-01</td>\n",
       "      <td>0.313</td>\n",
       "      <td>0.218</td>\n",
       "      <td>...</td>\n",
       "      <td>0.799</td>\n",
       "      <td>0.006770</td>\n",
       "      <td>0.1280</td>\n",
       "      <td>0.316</td>\n",
       "      <td>115.668</td>\n",
       "      <td>4</td>\n",
       "      <td>1944</td>\n",
       "      <td>0.036250</td>\n",
       "      <td>0.739790</td>\n",
       "      <td>3</td>\n",
       "    </tr>\n",
       "    <tr>\n",
       "      <th>514476</th>\n",
       "      <td>08CkhcDtEogvbDzCIOBivc</td>\n",
       "      <td>Summertime</td>\n",
       "      <td>0</td>\n",
       "      <td>201520</td>\n",
       "      <td>0</td>\n",
       "      <td>['']</td>\n",
       "      <td>['0LyfQWJT6nXafLPZqxe9Of']</td>\n",
       "      <td>1950-09-01</td>\n",
       "      <td>0.268</td>\n",
       "      <td>0.322</td>\n",
       "      <td>...</td>\n",
       "      <td>0.988</td>\n",
       "      <td>0.288000</td>\n",
       "      <td>0.6020</td>\n",
       "      <td>0.319</td>\n",
       "      <td>146.201</td>\n",
       "      <td>4</td>\n",
       "      <td>1950</td>\n",
       "      <td>0.036698</td>\n",
       "      <td>0.711699</td>\n",
       "      <td>3</td>\n",
       "    </tr>\n",
       "  </tbody>\n",
       "</table>\n",
       "<p>5 rows × 24 columns</p>\n",
       "</div>"
      ],
      "text/plain": [
       "                            id                         name  popularity  \\\n",
       "267026  0St7qoRogQ9B9uIqmLdjIr                     Red Clay          20   \n",
       "189759  5oD4obArjBOP28YjclhcNr  O Astronauta - Instrumental          19   \n",
       "2186    1P3YFEDFTCSSQ4KVoUgO7t              Smashin' Thirds           4   \n",
       "136319  7nKfyxYFXf5HdwSbeLFq1l               Blueberry Hill           0   \n",
       "514476  08CkhcDtEogvbDzCIOBivc                   Summertime           0   \n",
       "\n",
       "        duration_ms  explicit                                artists  \\\n",
       "267026       728533         0                    ['Freddie Hubbard']   \n",
       "189759       181613         0  ['Odette Lara', 'Vinícius de Moraes']   \n",
       "2186         184920         0                        ['Fats Waller']   \n",
       "136319       199101         0                        ['Russ Morgan']   \n",
       "514476       201520         0                                   ['']   \n",
       "\n",
       "                                               id_artists release_date  \\\n",
       "267026                         ['0fTHKjepK5HWOrb2rkS5Em']   1970-01-01   \n",
       "189759  ['1qCTWVxt74ULl0u12pjnTc', '5HlnN6xF2MD87KhGRm...   1963-01-01   \n",
       "2186                           ['0DYWCXTkNqGFZIf67SrWEa']   1926-01-01   \n",
       "136319                         ['4p2WNjwHrHBUD9XJBmbf7H']   1944-01-01   \n",
       "514476                         ['0LyfQWJT6nXafLPZqxe9Of']   1950-09-01   \n",
       "\n",
       "        danceability  energy  ...  acousticness  instrumentalness  liveness  \\\n",
       "267026         0.530   0.388  ...         0.338          0.261000    0.0958   \n",
       "189759         0.423   0.479  ...         0.186          0.000002    0.2550   \n",
       "2186           0.541   0.247  ...         0.982          0.868000    0.1310   \n",
       "136319         0.313   0.218  ...         0.799          0.006770    0.1280   \n",
       "514476         0.268   0.322  ...         0.988          0.288000    0.6020   \n",
       "\n",
       "        valence    tempo  time_signature  year_of_release  duration_ms_scaled  \\\n",
       "267026    0.587  139.339               4             1970            0.134290   \n",
       "189759    0.591  153.212               4             1963            0.033012   \n",
       "2186      0.812  111.664               4             1926            0.033624   \n",
       "136319    0.316  115.668               4             1944            0.036250   \n",
       "514476    0.319  146.201               4             1950            0.036698   \n",
       "\n",
       "        loudness_scaled  cluster  \n",
       "267026         0.715999        3  \n",
       "189759         0.736872        3  \n",
       "2186           0.625244        3  \n",
       "136319         0.739790        3  \n",
       "514476         0.711699        3  \n",
       "\n",
       "[5 rows x 24 columns]"
      ]
     },
     "execution_count": 614,
     "metadata": {},
     "output_type": "execute_result"
    }
   ],
   "source": [
    "train_3.head()"
   ]
  },
  {
   "cell_type": "markdown",
   "id": "35e997cf",
   "metadata": {},
   "source": [
    "Group 3 has an instrumental, jazzy, old-time feel."
   ]
  },
  {
   "cell_type": "code",
   "execution_count": 624,
   "id": "b9f18f6a",
   "metadata": {},
   "outputs": [],
   "source": [
    "train_4 = train[train.cluster == 4]"
   ]
  },
  {
   "cell_type": "code",
   "execution_count": 625,
   "id": "b43551ca",
   "metadata": {},
   "outputs": [
    {
     "data": {
      "text/html": [
       "<div>\n",
       "<style scoped>\n",
       "    .dataframe tbody tr th:only-of-type {\n",
       "        vertical-align: middle;\n",
       "    }\n",
       "\n",
       "    .dataframe tbody tr th {\n",
       "        vertical-align: top;\n",
       "    }\n",
       "\n",
       "    .dataframe thead th {\n",
       "        text-align: right;\n",
       "    }\n",
       "</style>\n",
       "<table border=\"1\" class=\"dataframe\">\n",
       "  <thead>\n",
       "    <tr style=\"text-align: right;\">\n",
       "      <th></th>\n",
       "      <th>id</th>\n",
       "      <th>name</th>\n",
       "      <th>popularity</th>\n",
       "      <th>duration_ms</th>\n",
       "      <th>explicit</th>\n",
       "      <th>artists</th>\n",
       "      <th>id_artists</th>\n",
       "      <th>release_date</th>\n",
       "      <th>danceability</th>\n",
       "      <th>energy</th>\n",
       "      <th>...</th>\n",
       "      <th>acousticness</th>\n",
       "      <th>instrumentalness</th>\n",
       "      <th>liveness</th>\n",
       "      <th>valence</th>\n",
       "      <th>tempo</th>\n",
       "      <th>time_signature</th>\n",
       "      <th>year_of_release</th>\n",
       "      <th>duration_ms_scaled</th>\n",
       "      <th>loudness_scaled</th>\n",
       "      <th>cluster</th>\n",
       "    </tr>\n",
       "  </thead>\n",
       "  <tbody>\n",
       "    <tr>\n",
       "      <th>145553</th>\n",
       "      <td>47YmRDI67DigzJtlcg0BGK</td>\n",
       "      <td>Sigo Buscando Un Amor</td>\n",
       "      <td>12</td>\n",
       "      <td>409133</td>\n",
       "      <td>0</td>\n",
       "      <td>['Roberto Roena']</td>\n",
       "      <td>['4i5rDrP2IqCdMgde0vIpyB']</td>\n",
       "      <td>1980-12-31</td>\n",
       "      <td>0.536</td>\n",
       "      <td>0.613</td>\n",
       "      <td>...</td>\n",
       "      <td>0.5510</td>\n",
       "      <td>0.007360</td>\n",
       "      <td>0.129</td>\n",
       "      <td>0.798</td>\n",
       "      <td>104.461</td>\n",
       "      <td>4</td>\n",
       "      <td>1980</td>\n",
       "      <td>0.075144</td>\n",
       "      <td>0.816369</td>\n",
       "      <td>4</td>\n",
       "    </tr>\n",
       "    <tr>\n",
       "      <th>452182</th>\n",
       "      <td>1i1SZziMzvtv49MXiJKmcv</td>\n",
       "      <td>Evangelina</td>\n",
       "      <td>19</td>\n",
       "      <td>225253</td>\n",
       "      <td>0</td>\n",
       "      <td>['Jonathan Edwards']</td>\n",
       "      <td>['7gyVuJLsatWofXCAw1SGxM']</td>\n",
       "      <td>1977-01-01</td>\n",
       "      <td>0.640</td>\n",
       "      <td>0.325</td>\n",
       "      <td>...</td>\n",
       "      <td>0.4410</td>\n",
       "      <td>0.293000</td>\n",
       "      <td>0.150</td>\n",
       "      <td>0.765</td>\n",
       "      <td>132.707</td>\n",
       "      <td>4</td>\n",
       "      <td>1977</td>\n",
       "      <td>0.041093</td>\n",
       "      <td>0.679553</td>\n",
       "      <td>4</td>\n",
       "    </tr>\n",
       "    <tr>\n",
       "      <th>207534</th>\n",
       "      <td>4AOQOmkh8YT3HA8e0xBw76</td>\n",
       "      <td>Cervecita</td>\n",
       "      <td>16</td>\n",
       "      <td>166547</td>\n",
       "      <td>0</td>\n",
       "      <td>['Los Shapis']</td>\n",
       "      <td>['3LorjMdYWKEtf3wdNtjM6v']</td>\n",
       "      <td>1995-08-08</td>\n",
       "      <td>0.594</td>\n",
       "      <td>0.685</td>\n",
       "      <td>...</td>\n",
       "      <td>0.7190</td>\n",
       "      <td>0.000082</td>\n",
       "      <td>0.224</td>\n",
       "      <td>0.892</td>\n",
       "      <td>113.193</td>\n",
       "      <td>4</td>\n",
       "      <td>1995</td>\n",
       "      <td>0.030222</td>\n",
       "      <td>0.847195</td>\n",
       "      <td>4</td>\n",
       "    </tr>\n",
       "    <tr>\n",
       "      <th>167720</th>\n",
       "      <td>54toym5sP7H1vi8NxMTlFH</td>\n",
       "      <td>Desperate Dreams</td>\n",
       "      <td>37</td>\n",
       "      <td>286933</td>\n",
       "      <td>0</td>\n",
       "      <td>['Survivor']</td>\n",
       "      <td>['26bcq2nyj5GB7uRr558iQg']</td>\n",
       "      <td>1988-09-25</td>\n",
       "      <td>0.625</td>\n",
       "      <td>0.646</td>\n",
       "      <td>...</td>\n",
       "      <td>0.0691</td>\n",
       "      <td>0.000035</td>\n",
       "      <td>0.114</td>\n",
       "      <td>0.362</td>\n",
       "      <td>121.647</td>\n",
       "      <td>4</td>\n",
       "      <td>1988</td>\n",
       "      <td>0.052515</td>\n",
       "      <td>0.754704</td>\n",
       "      <td>4</td>\n",
       "    </tr>\n",
       "    <tr>\n",
       "      <th>377606</th>\n",
       "      <td>6yPVqp3Nt2mFzvdExaIWP9</td>\n",
       "      <td>J'attendrai</td>\n",
       "      <td>33</td>\n",
       "      <td>177973</td>\n",
       "      <td>0</td>\n",
       "      <td>['Claude François']</td>\n",
       "      <td>['0P2p1bqVyP2EgqubwjTBUJ']</td>\n",
       "      <td>1993-01-01</td>\n",
       "      <td>0.521</td>\n",
       "      <td>0.587</td>\n",
       "      <td>...</td>\n",
       "      <td>0.2850</td>\n",
       "      <td>0.000000</td>\n",
       "      <td>0.114</td>\n",
       "      <td>0.619</td>\n",
       "      <td>123.587</td>\n",
       "      <td>4</td>\n",
       "      <td>1993</td>\n",
       "      <td>0.032338</td>\n",
       "      <td>0.852325</td>\n",
       "      <td>4</td>\n",
       "    </tr>\n",
       "  </tbody>\n",
       "</table>\n",
       "<p>5 rows × 24 columns</p>\n",
       "</div>"
      ],
      "text/plain": [
       "                            id                   name  popularity  \\\n",
       "145553  47YmRDI67DigzJtlcg0BGK  Sigo Buscando Un Amor          12   \n",
       "452182  1i1SZziMzvtv49MXiJKmcv             Evangelina          19   \n",
       "207534  4AOQOmkh8YT3HA8e0xBw76              Cervecita          16   \n",
       "167720  54toym5sP7H1vi8NxMTlFH       Desperate Dreams          37   \n",
       "377606  6yPVqp3Nt2mFzvdExaIWP9            J'attendrai          33   \n",
       "\n",
       "        duration_ms  explicit               artists  \\\n",
       "145553       409133         0     ['Roberto Roena']   \n",
       "452182       225253         0  ['Jonathan Edwards']   \n",
       "207534       166547         0        ['Los Shapis']   \n",
       "167720       286933         0          ['Survivor']   \n",
       "377606       177973         0   ['Claude François']   \n",
       "\n",
       "                        id_artists release_date  danceability  energy  ...  \\\n",
       "145553  ['4i5rDrP2IqCdMgde0vIpyB']   1980-12-31         0.536   0.613  ...   \n",
       "452182  ['7gyVuJLsatWofXCAw1SGxM']   1977-01-01         0.640   0.325  ...   \n",
       "207534  ['3LorjMdYWKEtf3wdNtjM6v']   1995-08-08         0.594   0.685  ...   \n",
       "167720  ['26bcq2nyj5GB7uRr558iQg']   1988-09-25         0.625   0.646  ...   \n",
       "377606  ['0P2p1bqVyP2EgqubwjTBUJ']   1993-01-01         0.521   0.587  ...   \n",
       "\n",
       "        acousticness  instrumentalness  liveness  valence    tempo  \\\n",
       "145553        0.5510          0.007360     0.129    0.798  104.461   \n",
       "452182        0.4410          0.293000     0.150    0.765  132.707   \n",
       "207534        0.7190          0.000082     0.224    0.892  113.193   \n",
       "167720        0.0691          0.000035     0.114    0.362  121.647   \n",
       "377606        0.2850          0.000000     0.114    0.619  123.587   \n",
       "\n",
       "        time_signature  year_of_release  duration_ms_scaled  loudness_scaled  \\\n",
       "145553               4             1980            0.075144         0.816369   \n",
       "452182               4             1977            0.041093         0.679553   \n",
       "207534               4             1995            0.030222         0.847195   \n",
       "167720               4             1988            0.052515         0.754704   \n",
       "377606               4             1993            0.032338         0.852325   \n",
       "\n",
       "        cluster  \n",
       "145553        4  \n",
       "452182        4  \n",
       "207534        4  \n",
       "167720        4  \n",
       "377606        4  \n",
       "\n",
       "[5 rows x 24 columns]"
      ]
     },
     "execution_count": 625,
     "metadata": {},
     "output_type": "execute_result"
    }
   ],
   "source": [
    "train_4.head()"
   ]
  },
  {
   "cell_type": "markdown",
   "id": "e1456d06",
   "metadata": {},
   "source": [
    "Group 4 has a traditional Latin/country sound."
   ]
  },
  {
   "cell_type": "code",
   "execution_count": 621,
   "id": "6090016b",
   "metadata": {},
   "outputs": [],
   "source": [
    "train_5 = train[train.cluster == 5]"
   ]
  },
  {
   "cell_type": "code",
   "execution_count": 622,
   "id": "81834fd3",
   "metadata": {},
   "outputs": [
    {
     "data": {
      "text/html": [
       "<div>\n",
       "<style scoped>\n",
       "    .dataframe tbody tr th:only-of-type {\n",
       "        vertical-align: middle;\n",
       "    }\n",
       "\n",
       "    .dataframe tbody tr th {\n",
       "        vertical-align: top;\n",
       "    }\n",
       "\n",
       "    .dataframe thead th {\n",
       "        text-align: right;\n",
       "    }\n",
       "</style>\n",
       "<table border=\"1\" class=\"dataframe\">\n",
       "  <thead>\n",
       "    <tr style=\"text-align: right;\">\n",
       "      <th></th>\n",
       "      <th>id</th>\n",
       "      <th>name</th>\n",
       "      <th>popularity</th>\n",
       "      <th>duration_ms</th>\n",
       "      <th>explicit</th>\n",
       "      <th>artists</th>\n",
       "      <th>id_artists</th>\n",
       "      <th>release_date</th>\n",
       "      <th>danceability</th>\n",
       "      <th>energy</th>\n",
       "      <th>...</th>\n",
       "      <th>acousticness</th>\n",
       "      <th>instrumentalness</th>\n",
       "      <th>liveness</th>\n",
       "      <th>valence</th>\n",
       "      <th>tempo</th>\n",
       "      <th>time_signature</th>\n",
       "      <th>year_of_release</th>\n",
       "      <th>duration_ms_scaled</th>\n",
       "      <th>loudness_scaled</th>\n",
       "      <th>cluster</th>\n",
       "    </tr>\n",
       "  </thead>\n",
       "  <tbody>\n",
       "    <tr>\n",
       "      <th>404070</th>\n",
       "      <td>4RoQxXt8eSKeSFmhxLXu3x</td>\n",
       "      <td>Oru Ooril</td>\n",
       "      <td>39</td>\n",
       "      <td>279467</td>\n",
       "      <td>0</td>\n",
       "      <td>['Karthik']</td>\n",
       "      <td>['0LSPREIgGMZXCuKVel7LVD']</td>\n",
       "      <td>2003-09-27</td>\n",
       "      <td>0.594</td>\n",
       "      <td>0.633</td>\n",
       "      <td>...</td>\n",
       "      <td>0.2810</td>\n",
       "      <td>0.0</td>\n",
       "      <td>0.0559</td>\n",
       "      <td>0.757</td>\n",
       "      <td>169.779</td>\n",
       "      <td>4</td>\n",
       "      <td>2003</td>\n",
       "      <td>0.051132</td>\n",
       "      <td>0.818305</td>\n",
       "      <td>5</td>\n",
       "    </tr>\n",
       "    <tr>\n",
       "      <th>319183</th>\n",
       "      <td>6FxUiq2HJbjyj4dBnXumrb</td>\n",
       "      <td>Lay down (Candles in the rain)</td>\n",
       "      <td>7</td>\n",
       "      <td>274274</td>\n",
       "      <td>0</td>\n",
       "      <td>['Emilíana Torrini']</td>\n",
       "      <td>['08j69Ndyx1P7RLO3Janb5P']</td>\n",
       "      <td>1996-01-01</td>\n",
       "      <td>0.305</td>\n",
       "      <td>0.726</td>\n",
       "      <td>...</td>\n",
       "      <td>0.1830</td>\n",
       "      <td>0.0</td>\n",
       "      <td>0.1340</td>\n",
       "      <td>0.592</td>\n",
       "      <td>167.728</td>\n",
       "      <td>4</td>\n",
       "      <td>1996</td>\n",
       "      <td>0.050171</td>\n",
       "      <td>0.809412</td>\n",
       "      <td>5</td>\n",
       "    </tr>\n",
       "    <tr>\n",
       "      <th>275579</th>\n",
       "      <td>4B58w2sCk7y7mcIdIoP7Gd</td>\n",
       "      <td>Especially for You</td>\n",
       "      <td>54</td>\n",
       "      <td>223013</td>\n",
       "      <td>0</td>\n",
       "      <td>['MYMP']</td>\n",
       "      <td>['5elcNQkZ6FCZA3grSOMngY']</td>\n",
       "      <td>2005-03-10</td>\n",
       "      <td>0.698</td>\n",
       "      <td>0.398</td>\n",
       "      <td>...</td>\n",
       "      <td>0.4990</td>\n",
       "      <td>0.0</td>\n",
       "      <td>0.1800</td>\n",
       "      <td>0.758</td>\n",
       "      <td>163.028</td>\n",
       "      <td>4</td>\n",
       "      <td>2005</td>\n",
       "      <td>0.040678</td>\n",
       "      <td>0.784838</td>\n",
       "      <td>5</td>\n",
       "    </tr>\n",
       "    <tr>\n",
       "      <th>301637</th>\n",
       "      <td>2QQ0lfEAu3ncUHM3C6Rkg3</td>\n",
       "      <td>Is Anybody Home?</td>\n",
       "      <td>45</td>\n",
       "      <td>218000</td>\n",
       "      <td>0</td>\n",
       "      <td>['Our Lady Peace']</td>\n",
       "      <td>['1lqW59DUEKqvcHc8mVWBtH']</td>\n",
       "      <td>1999-09-06</td>\n",
       "      <td>0.442</td>\n",
       "      <td>0.896</td>\n",
       "      <td>...</td>\n",
       "      <td>0.0219</td>\n",
       "      <td>0.0</td>\n",
       "      <td>0.3830</td>\n",
       "      <td>0.573</td>\n",
       "      <td>155.044</td>\n",
       "      <td>4</td>\n",
       "      <td>1999</td>\n",
       "      <td>0.039750</td>\n",
       "      <td>0.850635</td>\n",
       "      <td>5</td>\n",
       "    </tr>\n",
       "    <tr>\n",
       "      <th>557744</th>\n",
       "      <td>27K9pfqACmZxsvNpJ8FSxq</td>\n",
       "      <td>Return to Myself</td>\n",
       "      <td>40</td>\n",
       "      <td>269110</td>\n",
       "      <td>0</td>\n",
       "      <td>['Mari Hamada']</td>\n",
       "      <td>['2lQwmHGmTnEu1jjfAgUAcq']</td>\n",
       "      <td>2008-10-22</td>\n",
       "      <td>0.390</td>\n",
       "      <td>0.922</td>\n",
       "      <td>...</td>\n",
       "      <td>0.0770</td>\n",
       "      <td>0.0</td>\n",
       "      <td>0.0674</td>\n",
       "      <td>0.560</td>\n",
       "      <td>167.729</td>\n",
       "      <td>4</td>\n",
       "      <td>2008</td>\n",
       "      <td>0.049215</td>\n",
       "      <td>0.880047</td>\n",
       "      <td>5</td>\n",
       "    </tr>\n",
       "  </tbody>\n",
       "</table>\n",
       "<p>5 rows × 24 columns</p>\n",
       "</div>"
      ],
      "text/plain": [
       "                            id                            name  popularity  \\\n",
       "404070  4RoQxXt8eSKeSFmhxLXu3x                       Oru Ooril          39   \n",
       "319183  6FxUiq2HJbjyj4dBnXumrb  Lay down (Candles in the rain)           7   \n",
       "275579  4B58w2sCk7y7mcIdIoP7Gd              Especially for You          54   \n",
       "301637  2QQ0lfEAu3ncUHM3C6Rkg3                Is Anybody Home?          45   \n",
       "557744  27K9pfqACmZxsvNpJ8FSxq                Return to Myself          40   \n",
       "\n",
       "        duration_ms  explicit               artists  \\\n",
       "404070       279467         0           ['Karthik']   \n",
       "319183       274274         0  ['Emilíana Torrini']   \n",
       "275579       223013         0              ['MYMP']   \n",
       "301637       218000         0    ['Our Lady Peace']   \n",
       "557744       269110         0       ['Mari Hamada']   \n",
       "\n",
       "                        id_artists release_date  danceability  energy  ...  \\\n",
       "404070  ['0LSPREIgGMZXCuKVel7LVD']   2003-09-27         0.594   0.633  ...   \n",
       "319183  ['08j69Ndyx1P7RLO3Janb5P']   1996-01-01         0.305   0.726  ...   \n",
       "275579  ['5elcNQkZ6FCZA3grSOMngY']   2005-03-10         0.698   0.398  ...   \n",
       "301637  ['1lqW59DUEKqvcHc8mVWBtH']   1999-09-06         0.442   0.896  ...   \n",
       "557744  ['2lQwmHGmTnEu1jjfAgUAcq']   2008-10-22         0.390   0.922  ...   \n",
       "\n",
       "        acousticness  instrumentalness  liveness  valence    tempo  \\\n",
       "404070        0.2810               0.0    0.0559    0.757  169.779   \n",
       "319183        0.1830               0.0    0.1340    0.592  167.728   \n",
       "275579        0.4990               0.0    0.1800    0.758  163.028   \n",
       "301637        0.0219               0.0    0.3830    0.573  155.044   \n",
       "557744        0.0770               0.0    0.0674    0.560  167.729   \n",
       "\n",
       "        time_signature  year_of_release  duration_ms_scaled  loudness_scaled  \\\n",
       "404070               4             2003            0.051132         0.818305   \n",
       "319183               4             1996            0.050171         0.809412   \n",
       "275579               4             2005            0.040678         0.784838   \n",
       "301637               4             1999            0.039750         0.850635   \n",
       "557744               4             2008            0.049215         0.880047   \n",
       "\n",
       "        cluster  \n",
       "404070        5  \n",
       "319183        5  \n",
       "275579        5  \n",
       "301637        5  \n",
       "557744        5  \n",
       "\n",
       "[5 rows x 24 columns]"
      ]
     },
     "execution_count": 622,
     "metadata": {},
     "output_type": "execute_result"
    }
   ],
   "source": [
    "train_5.head()"
   ]
  },
  {
   "cell_type": "markdown",
   "id": "f9c51ded",
   "metadata": {},
   "source": [
    "Group 5 has an uplifting, energetic, gospel-like quality. "
   ]
  }
 ],
 "metadata": {
  "kernelspec": {
   "display_name": "Python 3",
   "language": "python",
   "name": "python3"
  },
  "language_info": {
   "codemirror_mode": {
    "name": "ipython",
    "version": 3
   },
   "file_extension": ".py",
   "mimetype": "text/x-python",
   "name": "python",
   "nbconvert_exporter": "python",
   "pygments_lexer": "ipython3",
   "version": "3.8.8"
  }
 },
 "nbformat": 4,
 "nbformat_minor": 5
}
