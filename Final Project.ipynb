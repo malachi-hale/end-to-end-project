{
 "cells": [
  {
   "cell_type": "markdown",
   "id": "96a7f30d",
   "metadata": {},
   "source": [
    "# What Makes a Hit?\n",
    "# Predicting the Popularity of a Songs on Spotify"
   ]
  },
  {
   "cell_type": "markdown",
   "id": "c7b9d49c",
   "metadata": {},
   "source": [
    "### Presented by Malachi Hale"
   ]
  },
  {
   "cell_type": "markdown",
   "id": "01515320",
   "metadata": {},
   "source": [
    "## Executive Summary\n",
    "### Background"
   ]
  },
  {
   "cell_type": "markdown",
   "id": "f17b9e06",
   "metadata": {},
   "source": [
    "Spotify is the world's largest music and audio streaming service provider. Spotify has a library of over 70 million tracks. Each of the tracks in Spotify's library receives a number indicating that track's popularity index. The popularity index is structured such that 0 is the least popular and 100 is the most popular. \n",
    "\n",
    "Spotify has an algorithm which calculates each tracks popularity index score based on how many plays the track receives, as well as how recent those plays were. \n",
    "\n",
    "To begin with, we acquired a sample of Spotify library as of April 2021. Our data contains:\n",
    " - 586,672 tracks in the Spotify library, \n",
    " - descriptive features of each track, and \n",
    " - the songs popularity index as of April 16, 2021.\n",
    "\n",
    "Our data sources is located here: \n",
    " - https://www.kaggle.com/subhaskumarray/spotify-tracks-data\n",
    " \n",
    "**A Note on Spotify's Descriptive Features**\n",
    "\n",
    "Many of the descriptive features that Spotify assigns to some of its tracks are questionable. For example, audiobooks often get a high \"danceability\" score. Clearly, it is not reasonable to call an audiobook with no music \"danceable\". It is not clear how Spotify assigns each descriptive feature to each track in their API.\n",
    "\n",
    "The purpose of this project, however, is to use Spotify's own attributes to predict Spotify's own popularity index score. Thus, we will use the attributes from Spotify's own API to build our models, even when we may personally disagree that these attributes accurately describe the tracks.\n",
    "\n",
    "**Project Goal**\n",
    "\n",
    "In this project, we pose the question: can we use features of each track to predict where the track is likely to place on the popularity index? More specifically, can we build a model that uses features of tracks to predict that tracks placement on the popularity index?\n",
    "\n",
    "**Outline** \n",
    "\n",
    "We will take the following steps:\n",
    " - **Acquire** data from the Spotify API from April 2021. \n",
    " - **Prepare** the data by \n",
    "     - imputing null values, \n",
    "     - making columns easier to process, \n",
    "     - removing outliers, \n",
    "     - splitting data into train, validate, and test datasets, \n",
    "     - and adding scaled columns.\n",
    " - **Explore** the data by creating visualizations, running feature engineering, and creating cluster groupings. \n",
    " - **Model** the data to predict popularity of each song. \n",
    " \n",
    "**Key findings**\n",
    "\n",
    "We will demonstrate that it is possible to use the features of each track to predict that track's popularity, with a higher validity than the baseline model. \n",
    "\n",
    "**Recommendation**\n",
    "\n",
    "In this project, I used the models I was familiar with to make predictions about each track's popularity. There may be more effective models with which I am not familiar. This is worth exploring to predict a song's popularity. "
   ]
  },
  {
   "cell_type": "markdown",
   "id": "94a16bac",
   "metadata": {},
   "source": [
    "## Import Libraries"
   ]
  },
  {
   "cell_type": "code",
   "execution_count": 160,
   "id": "12b1481b",
   "metadata": {},
   "outputs": [],
   "source": [
    "#Disable Warnings\n",
    "import warnings\n",
    "warnings.filterwarnings(\"ignore\")\n",
    "\n",
    "#Import pandas for dataframes\n",
    "import pandas as pd\n",
    "\n",
    "#Graphing imports\n",
    "import seaborn as sns\n",
    "import matplotlib.pyplot as plt\n",
    "\n",
    "#Prepare functions \n",
    "from prepare import prepare_data\n",
    "from prepare import data_no_outliers\n",
    "from prepare import split_data\n",
    "from prepare import add_scaled_columns\n",
    "\n",
    "#Import for Clustering \n",
    "from sklearn.cluster import KMeans\n",
    "\n",
    "#Import stastitics\n",
    "from scipy import stats\n",
    "\n",
    "#Import for train, test, split\n",
    "from sklearn.model_selection import train_test_split\n",
    "\n",
    "#Impute null values\n",
    "from sklearn.impute import SimpleImputer\n",
    "\n",
    "#Min Max Scaler\n",
    "import sklearn.preprocessing\n",
    "\n",
    "#Feature Selection\n",
    "from sklearn.feature_selection import SelectKBest, f_regression, RFE\n",
    "\n",
    "#Regression models\n",
    "from sklearn.preprocessing import PolynomialFeatures\n",
    "from sklearn.linear_model import LinearRegression, LassoLars, TweedieRegressor\n",
    "\n",
    "#Evaluate Mean Squared Error\n",
    "from sklearn.metrics import mean_squared_error"
   ]
  },
  {
   "cell_type": "markdown",
   "id": "80f61455",
   "metadata": {},
   "source": [
    "## Acquire Data"
   ]
  },
  {
   "cell_type": "markdown",
   "id": "97da52f0",
   "metadata": {},
   "source": [
    "We have previously downloaded the data into a CSV file in this repository. We will read that CSV into a DataFrame below. To download this file yourself, please see the link:\n",
    " - https://www.kaggle.com/subhaskumarray/spotify-tracks-data"
   ]
  },
  {
   "cell_type": "code",
   "execution_count": 161,
   "id": "39019842",
   "metadata": {},
   "outputs": [],
   "source": [
    "df = pd.read_csv(r'/Users/malachihale/codeup-data-science/End-to-End-Project/tracks.csv')"
   ]
  },
  {
   "cell_type": "code",
   "execution_count": 4,
   "id": "852553f3",
   "metadata": {},
   "outputs": [
    {
     "data": {
      "text/html": [
       "<div>\n",
       "<style scoped>\n",
       "    .dataframe tbody tr th:only-of-type {\n",
       "        vertical-align: middle;\n",
       "    }\n",
       "\n",
       "    .dataframe tbody tr th {\n",
       "        vertical-align: top;\n",
       "    }\n",
       "\n",
       "    .dataframe thead th {\n",
       "        text-align: right;\n",
       "    }\n",
       "</style>\n",
       "<table border=\"1\" class=\"dataframe\">\n",
       "  <thead>\n",
       "    <tr style=\"text-align: right;\">\n",
       "      <th></th>\n",
       "      <th>id</th>\n",
       "      <th>name</th>\n",
       "      <th>popularity</th>\n",
       "      <th>duration_ms</th>\n",
       "      <th>explicit</th>\n",
       "      <th>artists</th>\n",
       "      <th>id_artists</th>\n",
       "      <th>release_date</th>\n",
       "      <th>danceability</th>\n",
       "      <th>energy</th>\n",
       "      <th>key</th>\n",
       "      <th>loudness</th>\n",
       "      <th>mode</th>\n",
       "      <th>speechiness</th>\n",
       "      <th>acousticness</th>\n",
       "      <th>instrumentalness</th>\n",
       "      <th>liveness</th>\n",
       "      <th>valence</th>\n",
       "      <th>tempo</th>\n",
       "      <th>time_signature</th>\n",
       "    </tr>\n",
       "  </thead>\n",
       "  <tbody>\n",
       "    <tr>\n",
       "      <th>0</th>\n",
       "      <td>35iwgR4jXetI318WEWsa1Q</td>\n",
       "      <td>Carve</td>\n",
       "      <td>6</td>\n",
       "      <td>126903</td>\n",
       "      <td>0</td>\n",
       "      <td>['Uli']</td>\n",
       "      <td>['45tIt06XoI0Iio4LBEVpls']</td>\n",
       "      <td>1922-02-22</td>\n",
       "      <td>0.645</td>\n",
       "      <td>0.4450</td>\n",
       "      <td>0</td>\n",
       "      <td>-13.338</td>\n",
       "      <td>1</td>\n",
       "      <td>0.4510</td>\n",
       "      <td>0.674</td>\n",
       "      <td>0.7440</td>\n",
       "      <td>0.151</td>\n",
       "      <td>0.127</td>\n",
       "      <td>104.851</td>\n",
       "      <td>3</td>\n",
       "    </tr>\n",
       "    <tr>\n",
       "      <th>1</th>\n",
       "      <td>021ht4sdgPcrDgSk7JTbKY</td>\n",
       "      <td>Capítulo 2.16 - Banquero Anarquista</td>\n",
       "      <td>0</td>\n",
       "      <td>98200</td>\n",
       "      <td>0</td>\n",
       "      <td>['Fernando Pessoa']</td>\n",
       "      <td>['14jtPCOoNZwquk5wd9DxrY']</td>\n",
       "      <td>1922-06-01</td>\n",
       "      <td>0.695</td>\n",
       "      <td>0.2630</td>\n",
       "      <td>0</td>\n",
       "      <td>-22.136</td>\n",
       "      <td>1</td>\n",
       "      <td>0.9570</td>\n",
       "      <td>0.797</td>\n",
       "      <td>0.0000</td>\n",
       "      <td>0.148</td>\n",
       "      <td>0.655</td>\n",
       "      <td>102.009</td>\n",
       "      <td>1</td>\n",
       "    </tr>\n",
       "    <tr>\n",
       "      <th>2</th>\n",
       "      <td>07A5yehtSnoedViJAZkNnc</td>\n",
       "      <td>Vivo para Quererte - Remasterizado</td>\n",
       "      <td>0</td>\n",
       "      <td>181640</td>\n",
       "      <td>0</td>\n",
       "      <td>['Ignacio Corsini']</td>\n",
       "      <td>['5LiOoJbxVSAMkBS2fUm3X2']</td>\n",
       "      <td>1922-03-21</td>\n",
       "      <td>0.434</td>\n",
       "      <td>0.1770</td>\n",
       "      <td>1</td>\n",
       "      <td>-21.180</td>\n",
       "      <td>1</td>\n",
       "      <td>0.0512</td>\n",
       "      <td>0.994</td>\n",
       "      <td>0.0218</td>\n",
       "      <td>0.212</td>\n",
       "      <td>0.457</td>\n",
       "      <td>130.418</td>\n",
       "      <td>5</td>\n",
       "    </tr>\n",
       "    <tr>\n",
       "      <th>3</th>\n",
       "      <td>08FmqUhxtyLTn6pAh6bk45</td>\n",
       "      <td>El Prisionero - Remasterizado</td>\n",
       "      <td>0</td>\n",
       "      <td>176907</td>\n",
       "      <td>0</td>\n",
       "      <td>['Ignacio Corsini']</td>\n",
       "      <td>['5LiOoJbxVSAMkBS2fUm3X2']</td>\n",
       "      <td>1922-03-21</td>\n",
       "      <td>0.321</td>\n",
       "      <td>0.0946</td>\n",
       "      <td>7</td>\n",
       "      <td>-27.961</td>\n",
       "      <td>1</td>\n",
       "      <td>0.0504</td>\n",
       "      <td>0.995</td>\n",
       "      <td>0.9180</td>\n",
       "      <td>0.104</td>\n",
       "      <td>0.397</td>\n",
       "      <td>169.980</td>\n",
       "      <td>3</td>\n",
       "    </tr>\n",
       "    <tr>\n",
       "      <th>4</th>\n",
       "      <td>08y9GfoqCWfOGsKdwojr5e</td>\n",
       "      <td>Lady of the Evening</td>\n",
       "      <td>0</td>\n",
       "      <td>163080</td>\n",
       "      <td>0</td>\n",
       "      <td>['Dick Haymes']</td>\n",
       "      <td>['3BiJGZsyX9sJchTqcSA7Su']</td>\n",
       "      <td>1922</td>\n",
       "      <td>0.402</td>\n",
       "      <td>0.1580</td>\n",
       "      <td>3</td>\n",
       "      <td>-16.900</td>\n",
       "      <td>0</td>\n",
       "      <td>0.0390</td>\n",
       "      <td>0.989</td>\n",
       "      <td>0.1300</td>\n",
       "      <td>0.311</td>\n",
       "      <td>0.196</td>\n",
       "      <td>103.220</td>\n",
       "      <td>4</td>\n",
       "    </tr>\n",
       "  </tbody>\n",
       "</table>\n",
       "</div>"
      ],
      "text/plain": [
       "                       id                                 name  popularity  \\\n",
       "0  35iwgR4jXetI318WEWsa1Q                                Carve           6   \n",
       "1  021ht4sdgPcrDgSk7JTbKY  Capítulo 2.16 - Banquero Anarquista           0   \n",
       "2  07A5yehtSnoedViJAZkNnc   Vivo para Quererte - Remasterizado           0   \n",
       "3  08FmqUhxtyLTn6pAh6bk45        El Prisionero - Remasterizado           0   \n",
       "4  08y9GfoqCWfOGsKdwojr5e                  Lady of the Evening           0   \n",
       "\n",
       "   duration_ms  explicit              artists                  id_artists  \\\n",
       "0       126903         0              ['Uli']  ['45tIt06XoI0Iio4LBEVpls']   \n",
       "1        98200         0  ['Fernando Pessoa']  ['14jtPCOoNZwquk5wd9DxrY']   \n",
       "2       181640         0  ['Ignacio Corsini']  ['5LiOoJbxVSAMkBS2fUm3X2']   \n",
       "3       176907         0  ['Ignacio Corsini']  ['5LiOoJbxVSAMkBS2fUm3X2']   \n",
       "4       163080         0      ['Dick Haymes']  ['3BiJGZsyX9sJchTqcSA7Su']   \n",
       "\n",
       "  release_date  danceability  energy  key  loudness  mode  speechiness  \\\n",
       "0   1922-02-22         0.645  0.4450    0   -13.338     1       0.4510   \n",
       "1   1922-06-01         0.695  0.2630    0   -22.136     1       0.9570   \n",
       "2   1922-03-21         0.434  0.1770    1   -21.180     1       0.0512   \n",
       "3   1922-03-21         0.321  0.0946    7   -27.961     1       0.0504   \n",
       "4         1922         0.402  0.1580    3   -16.900     0       0.0390   \n",
       "\n",
       "   acousticness  instrumentalness  liveness  valence    tempo  time_signature  \n",
       "0         0.674            0.7440     0.151    0.127  104.851               3  \n",
       "1         0.797            0.0000     0.148    0.655  102.009               1  \n",
       "2         0.994            0.0218     0.212    0.457  130.418               5  \n",
       "3         0.995            0.9180     0.104    0.397  169.980               3  \n",
       "4         0.989            0.1300     0.311    0.196  103.220               4  "
      ]
     },
     "execution_count": 4,
     "metadata": {},
     "output_type": "execute_result"
    }
   ],
   "source": [
    "df.head()"
   ]
  },
  {
   "cell_type": "code",
   "execution_count": 17,
   "id": "b8f5309a",
   "metadata": {},
   "outputs": [
    {
     "name": "stdout",
     "output_type": "stream",
     "text": [
      "<class 'pandas.core.frame.DataFrame'>\n",
      "Int64Index: 586672 entries, 0 to 586671\n",
      "Data columns (total 20 columns):\n",
      " #   Column            Non-Null Count   Dtype  \n",
      "---  ------            --------------   -----  \n",
      " 0   id                586672 non-null  object \n",
      " 1   name              586672 non-null  object \n",
      " 2   popularity        586672 non-null  int64  \n",
      " 3   duration_ms       586672 non-null  int64  \n",
      " 4   explicit          586672 non-null  int64  \n",
      " 5   artists           586672 non-null  object \n",
      " 6   id_artists        586672 non-null  object \n",
      " 7   release_date      586672 non-null  object \n",
      " 8   danceability      586672 non-null  float64\n",
      " 9   energy            586672 non-null  float64\n",
      " 10  key               586672 non-null  int64  \n",
      " 11  loudness          586672 non-null  float64\n",
      " 12  mode              586672 non-null  int64  \n",
      " 13  speechiness       586672 non-null  float64\n",
      " 14  acousticness      586672 non-null  float64\n",
      " 15  instrumentalness  586672 non-null  float64\n",
      " 16  liveness          586672 non-null  float64\n",
      " 17  valence           586672 non-null  float64\n",
      " 18  tempo             586672 non-null  float64\n",
      " 19  time_signature    586672 non-null  int64  \n",
      "dtypes: float64(9), int64(6), object(5)\n",
      "memory usage: 94.0+ MB\n"
     ]
    }
   ],
   "source": [
    "df.info()"
   ]
  },
  {
   "cell_type": "code",
   "execution_count": 18,
   "id": "985c7296",
   "metadata": {},
   "outputs": [
    {
     "data": {
      "text/html": [
       "<div>\n",
       "<style scoped>\n",
       "    .dataframe tbody tr th:only-of-type {\n",
       "        vertical-align: middle;\n",
       "    }\n",
       "\n",
       "    .dataframe tbody tr th {\n",
       "        vertical-align: top;\n",
       "    }\n",
       "\n",
       "    .dataframe thead th {\n",
       "        text-align: right;\n",
       "    }\n",
       "</style>\n",
       "<table border=\"1\" class=\"dataframe\">\n",
       "  <thead>\n",
       "    <tr style=\"text-align: right;\">\n",
       "      <th></th>\n",
       "      <th>popularity</th>\n",
       "      <th>duration_ms</th>\n",
       "      <th>explicit</th>\n",
       "      <th>danceability</th>\n",
       "      <th>energy</th>\n",
       "      <th>key</th>\n",
       "      <th>loudness</th>\n",
       "      <th>mode</th>\n",
       "      <th>speechiness</th>\n",
       "      <th>acousticness</th>\n",
       "      <th>instrumentalness</th>\n",
       "      <th>liveness</th>\n",
       "      <th>valence</th>\n",
       "      <th>tempo</th>\n",
       "      <th>time_signature</th>\n",
       "    </tr>\n",
       "  </thead>\n",
       "  <tbody>\n",
       "    <tr>\n",
       "      <th>count</th>\n",
       "      <td>586672.000000</td>\n",
       "      <td>5.866720e+05</td>\n",
       "      <td>586672.000000</td>\n",
       "      <td>586672.000000</td>\n",
       "      <td>586672.000000</td>\n",
       "      <td>586672.000000</td>\n",
       "      <td>586672.000000</td>\n",
       "      <td>586672.000000</td>\n",
       "      <td>586672.000000</td>\n",
       "      <td>586672.000000</td>\n",
       "      <td>586672.000000</td>\n",
       "      <td>586672.000000</td>\n",
       "      <td>586672.000000</td>\n",
       "      <td>586672.000000</td>\n",
       "      <td>586672.000000</td>\n",
       "    </tr>\n",
       "    <tr>\n",
       "      <th>mean</th>\n",
       "      <td>27.570053</td>\n",
       "      <td>2.300512e+05</td>\n",
       "      <td>0.044086</td>\n",
       "      <td>0.563594</td>\n",
       "      <td>0.542036</td>\n",
       "      <td>5.221603</td>\n",
       "      <td>-10.206067</td>\n",
       "      <td>0.658797</td>\n",
       "      <td>0.104864</td>\n",
       "      <td>0.449863</td>\n",
       "      <td>0.113451</td>\n",
       "      <td>0.213935</td>\n",
       "      <td>0.552292</td>\n",
       "      <td>118.464857</td>\n",
       "      <td>3.873382</td>\n",
       "    </tr>\n",
       "    <tr>\n",
       "      <th>std</th>\n",
       "      <td>18.370642</td>\n",
       "      <td>1.265261e+05</td>\n",
       "      <td>0.205286</td>\n",
       "      <td>0.166103</td>\n",
       "      <td>0.251923</td>\n",
       "      <td>3.519423</td>\n",
       "      <td>5.089328</td>\n",
       "      <td>0.474114</td>\n",
       "      <td>0.179893</td>\n",
       "      <td>0.348837</td>\n",
       "      <td>0.266868</td>\n",
       "      <td>0.184326</td>\n",
       "      <td>0.257671</td>\n",
       "      <td>29.764108</td>\n",
       "      <td>0.473162</td>\n",
       "    </tr>\n",
       "    <tr>\n",
       "      <th>min</th>\n",
       "      <td>0.000000</td>\n",
       "      <td>3.344000e+03</td>\n",
       "      <td>0.000000</td>\n",
       "      <td>0.000000</td>\n",
       "      <td>0.000000</td>\n",
       "      <td>0.000000</td>\n",
       "      <td>-60.000000</td>\n",
       "      <td>0.000000</td>\n",
       "      <td>0.000000</td>\n",
       "      <td>0.000000</td>\n",
       "      <td>0.000000</td>\n",
       "      <td>0.000000</td>\n",
       "      <td>0.000000</td>\n",
       "      <td>0.000000</td>\n",
       "      <td>0.000000</td>\n",
       "    </tr>\n",
       "    <tr>\n",
       "      <th>25%</th>\n",
       "      <td>13.000000</td>\n",
       "      <td>1.750930e+05</td>\n",
       "      <td>0.000000</td>\n",
       "      <td>0.453000</td>\n",
       "      <td>0.343000</td>\n",
       "      <td>2.000000</td>\n",
       "      <td>-12.891000</td>\n",
       "      <td>0.000000</td>\n",
       "      <td>0.034000</td>\n",
       "      <td>0.096900</td>\n",
       "      <td>0.000000</td>\n",
       "      <td>0.098300</td>\n",
       "      <td>0.346000</td>\n",
       "      <td>95.600000</td>\n",
       "      <td>4.000000</td>\n",
       "    </tr>\n",
       "    <tr>\n",
       "      <th>50%</th>\n",
       "      <td>27.000000</td>\n",
       "      <td>2.148930e+05</td>\n",
       "      <td>0.000000</td>\n",
       "      <td>0.577000</td>\n",
       "      <td>0.549000</td>\n",
       "      <td>5.000000</td>\n",
       "      <td>-9.243000</td>\n",
       "      <td>1.000000</td>\n",
       "      <td>0.044300</td>\n",
       "      <td>0.422000</td>\n",
       "      <td>0.000024</td>\n",
       "      <td>0.139000</td>\n",
       "      <td>0.564000</td>\n",
       "      <td>117.384000</td>\n",
       "      <td>4.000000</td>\n",
       "    </tr>\n",
       "    <tr>\n",
       "      <th>75%</th>\n",
       "      <td>41.000000</td>\n",
       "      <td>2.638670e+05</td>\n",
       "      <td>0.000000</td>\n",
       "      <td>0.686000</td>\n",
       "      <td>0.748000</td>\n",
       "      <td>8.000000</td>\n",
       "      <td>-6.482000</td>\n",
       "      <td>1.000000</td>\n",
       "      <td>0.076300</td>\n",
       "      <td>0.785000</td>\n",
       "      <td>0.009550</td>\n",
       "      <td>0.278000</td>\n",
       "      <td>0.769000</td>\n",
       "      <td>136.321000</td>\n",
       "      <td>4.000000</td>\n",
       "    </tr>\n",
       "    <tr>\n",
       "      <th>max</th>\n",
       "      <td>100.000000</td>\n",
       "      <td>5.621218e+06</td>\n",
       "      <td>1.000000</td>\n",
       "      <td>0.991000</td>\n",
       "      <td>1.000000</td>\n",
       "      <td>11.000000</td>\n",
       "      <td>5.376000</td>\n",
       "      <td>1.000000</td>\n",
       "      <td>0.971000</td>\n",
       "      <td>0.996000</td>\n",
       "      <td>1.000000</td>\n",
       "      <td>1.000000</td>\n",
       "      <td>1.000000</td>\n",
       "      <td>246.381000</td>\n",
       "      <td>5.000000</td>\n",
       "    </tr>\n",
       "  </tbody>\n",
       "</table>\n",
       "</div>"
      ],
      "text/plain": [
       "          popularity   duration_ms       explicit   danceability  \\\n",
       "count  586672.000000  5.866720e+05  586672.000000  586672.000000   \n",
       "mean       27.570053  2.300512e+05       0.044086       0.563594   \n",
       "std        18.370642  1.265261e+05       0.205286       0.166103   \n",
       "min         0.000000  3.344000e+03       0.000000       0.000000   \n",
       "25%        13.000000  1.750930e+05       0.000000       0.453000   \n",
       "50%        27.000000  2.148930e+05       0.000000       0.577000   \n",
       "75%        41.000000  2.638670e+05       0.000000       0.686000   \n",
       "max       100.000000  5.621218e+06       1.000000       0.991000   \n",
       "\n",
       "              energy            key       loudness           mode  \\\n",
       "count  586672.000000  586672.000000  586672.000000  586672.000000   \n",
       "mean        0.542036       5.221603     -10.206067       0.658797   \n",
       "std         0.251923       3.519423       5.089328       0.474114   \n",
       "min         0.000000       0.000000     -60.000000       0.000000   \n",
       "25%         0.343000       2.000000     -12.891000       0.000000   \n",
       "50%         0.549000       5.000000      -9.243000       1.000000   \n",
       "75%         0.748000       8.000000      -6.482000       1.000000   \n",
       "max         1.000000      11.000000       5.376000       1.000000   \n",
       "\n",
       "         speechiness   acousticness  instrumentalness       liveness  \\\n",
       "count  586672.000000  586672.000000     586672.000000  586672.000000   \n",
       "mean        0.104864       0.449863          0.113451       0.213935   \n",
       "std         0.179893       0.348837          0.266868       0.184326   \n",
       "min         0.000000       0.000000          0.000000       0.000000   \n",
       "25%         0.034000       0.096900          0.000000       0.098300   \n",
       "50%         0.044300       0.422000          0.000024       0.139000   \n",
       "75%         0.076300       0.785000          0.009550       0.278000   \n",
       "max         0.971000       0.996000          1.000000       1.000000   \n",
       "\n",
       "             valence          tempo  time_signature  \n",
       "count  586672.000000  586672.000000   586672.000000  \n",
       "mean        0.552292     118.464857        3.873382  \n",
       "std         0.257671      29.764108        0.473162  \n",
       "min         0.000000       0.000000        0.000000  \n",
       "25%         0.346000      95.600000        4.000000  \n",
       "50%         0.564000     117.384000        4.000000  \n",
       "75%         0.769000     136.321000        4.000000  \n",
       "max         1.000000     246.381000        5.000000  "
      ]
     },
     "execution_count": 18,
     "metadata": {},
     "output_type": "execute_result"
    }
   ],
   "source": [
    "df.describe()"
   ]
  },
  {
   "cell_type": "code",
   "execution_count": 5,
   "id": "a1e5dfdc",
   "metadata": {},
   "outputs": [
    {
     "data": {
      "text/plain": [
       "586672"
      ]
     },
     "execution_count": 5,
     "metadata": {},
     "output_type": "execute_result"
    }
   ],
   "source": [
    "len(df)"
   ]
  },
  {
   "cell_type": "markdown",
   "id": "b27f50d9",
   "metadata": {},
   "source": [
    "We have 58,672 tracks in our dataset.\n",
    "\n",
    "Let's see what the most recent tracks in our datasset are."
   ]
  },
  {
   "cell_type": "code",
   "execution_count": 6,
   "id": "ff5ff9e8",
   "metadata": {},
   "outputs": [
    {
     "data": {
      "text/html": [
       "<div>\n",
       "<style scoped>\n",
       "    .dataframe tbody tr th:only-of-type {\n",
       "        vertical-align: middle;\n",
       "    }\n",
       "\n",
       "    .dataframe tbody tr th {\n",
       "        vertical-align: top;\n",
       "    }\n",
       "\n",
       "    .dataframe thead th {\n",
       "        text-align: right;\n",
       "    }\n",
       "</style>\n",
       "<table border=\"1\" class=\"dataframe\">\n",
       "  <thead>\n",
       "    <tr style=\"text-align: right;\">\n",
       "      <th></th>\n",
       "      <th>id</th>\n",
       "      <th>name</th>\n",
       "      <th>popularity</th>\n",
       "      <th>duration_ms</th>\n",
       "      <th>explicit</th>\n",
       "      <th>artists</th>\n",
       "      <th>id_artists</th>\n",
       "      <th>release_date</th>\n",
       "      <th>danceability</th>\n",
       "      <th>energy</th>\n",
       "      <th>key</th>\n",
       "      <th>loudness</th>\n",
       "      <th>mode</th>\n",
       "      <th>speechiness</th>\n",
       "      <th>acousticness</th>\n",
       "      <th>instrumentalness</th>\n",
       "      <th>liveness</th>\n",
       "      <th>valence</th>\n",
       "      <th>tempo</th>\n",
       "      <th>time_signature</th>\n",
       "    </tr>\n",
       "  </thead>\n",
       "  <tbody>\n",
       "    <tr>\n",
       "      <th>86695</th>\n",
       "      <td>0usLN2VpccZQwWkGLm3Odm</td>\n",
       "      <td>2013 Will Be My Year</td>\n",
       "      <td>0</td>\n",
       "      <td>161045</td>\n",
       "      <td>0</td>\n",
       "      <td>['Jay and Others :&gt;']</td>\n",
       "      <td>['3pwVqfe1xCnGTTnbVjYf74']</td>\n",
       "      <td>2021-04-16</td>\n",
       "      <td>0.347</td>\n",
       "      <td>0.965</td>\n",
       "      <td>10</td>\n",
       "      <td>-6.014</td>\n",
       "      <td>1</td>\n",
       "      <td>0.1420</td>\n",
       "      <td>0.05040</td>\n",
       "      <td>0.000000</td>\n",
       "      <td>0.3430</td>\n",
       "      <td>0.392</td>\n",
       "      <td>90.987</td>\n",
       "      <td>4</td>\n",
       "    </tr>\n",
       "    <tr>\n",
       "      <th>92864</th>\n",
       "      <td>1Nlstdx5q4GVUyaQqHYvqh</td>\n",
       "      <td>Inner City Life - 2020 Remaster</td>\n",
       "      <td>0</td>\n",
       "      <td>422183</td>\n",
       "      <td>0</td>\n",
       "      <td>['Goldie']</td>\n",
       "      <td>['2SYqJ3uDLLXZNyZdLKBy4M']</td>\n",
       "      <td>2021-04-16</td>\n",
       "      <td>0.384</td>\n",
       "      <td>0.889</td>\n",
       "      <td>7</td>\n",
       "      <td>-6.548</td>\n",
       "      <td>1</td>\n",
       "      <td>0.0936</td>\n",
       "      <td>0.00226</td>\n",
       "      <td>0.425000</td>\n",
       "      <td>0.0728</td>\n",
       "      <td>0.112</td>\n",
       "      <td>154.886</td>\n",
       "      <td>4</td>\n",
       "    </tr>\n",
       "    <tr>\n",
       "      <th>93915</th>\n",
       "      <td>4BvreMl8IerW37NLYtBZ9e</td>\n",
       "      <td>Blow Your Mind (Mwah)</td>\n",
       "      <td>0</td>\n",
       "      <td>178583</td>\n",
       "      <td>0</td>\n",
       "      <td>['Dua Lipa']</td>\n",
       "      <td>['6M2wZ9GZgrQXHCFfjv46we']</td>\n",
       "      <td>2021-04-16</td>\n",
       "      <td>0.677</td>\n",
       "      <td>0.796</td>\n",
       "      <td>2</td>\n",
       "      <td>-4.761</td>\n",
       "      <td>0</td>\n",
       "      <td>0.1170</td>\n",
       "      <td>0.01880</td>\n",
       "      <td>0.000000</td>\n",
       "      <td>0.0948</td>\n",
       "      <td>0.494</td>\n",
       "      <td>108.851</td>\n",
       "      <td>4</td>\n",
       "    </tr>\n",
       "    <tr>\n",
       "      <th>93916</th>\n",
       "      <td>4K9PNGfQMYnMsY9zEDKDLC</td>\n",
       "      <td>Break My Heart</td>\n",
       "      <td>0</td>\n",
       "      <td>352453</td>\n",
       "      <td>0</td>\n",
       "      <td>['Dua Lipa', 'Moodymann']</td>\n",
       "      <td>['6M2wZ9GZgrQXHCFfjv46we', '6pohviZSNRueSX7uNu...</td>\n",
       "      <td>2021-04-16</td>\n",
       "      <td>0.772</td>\n",
       "      <td>0.637</td>\n",
       "      <td>4</td>\n",
       "      <td>-7.846</td>\n",
       "      <td>0</td>\n",
       "      <td>0.0494</td>\n",
       "      <td>0.02200</td>\n",
       "      <td>0.035300</td>\n",
       "      <td>0.0898</td>\n",
       "      <td>0.409</td>\n",
       "      <td>113.022</td>\n",
       "      <td>4</td>\n",
       "    </tr>\n",
       "    <tr>\n",
       "      <th>93917</th>\n",
       "      <td>5xZAMT6xqi8sXUHcccwzK2</td>\n",
       "      <td>Love Again</td>\n",
       "      <td>0</td>\n",
       "      <td>258004</td>\n",
       "      <td>0</td>\n",
       "      <td>['Dua Lipa']</td>\n",
       "      <td>['6M2wZ9GZgrQXHCFfjv46we']</td>\n",
       "      <td>2021-04-16</td>\n",
       "      <td>0.659</td>\n",
       "      <td>0.667</td>\n",
       "      <td>11</td>\n",
       "      <td>-4.668</td>\n",
       "      <td>0</td>\n",
       "      <td>0.0339</td>\n",
       "      <td>0.00173</td>\n",
       "      <td>0.000029</td>\n",
       "      <td>0.1000</td>\n",
       "      <td>0.468</td>\n",
       "      <td>115.982</td>\n",
       "      <td>4</td>\n",
       "    </tr>\n",
       "  </tbody>\n",
       "</table>\n",
       "</div>"
      ],
      "text/plain": [
       "                           id                             name  popularity  \\\n",
       "86695  0usLN2VpccZQwWkGLm3Odm             2013 Will Be My Year           0   \n",
       "92864  1Nlstdx5q4GVUyaQqHYvqh  Inner City Life - 2020 Remaster           0   \n",
       "93915  4BvreMl8IerW37NLYtBZ9e            Blow Your Mind (Mwah)           0   \n",
       "93916  4K9PNGfQMYnMsY9zEDKDLC                   Break My Heart           0   \n",
       "93917  5xZAMT6xqi8sXUHcccwzK2                       Love Again           0   \n",
       "\n",
       "       duration_ms  explicit                    artists  \\\n",
       "86695       161045         0      ['Jay and Others :>']   \n",
       "92864       422183         0                 ['Goldie']   \n",
       "93915       178583         0               ['Dua Lipa']   \n",
       "93916       352453         0  ['Dua Lipa', 'Moodymann']   \n",
       "93917       258004         0               ['Dua Lipa']   \n",
       "\n",
       "                                              id_artists release_date  \\\n",
       "86695                         ['3pwVqfe1xCnGTTnbVjYf74']   2021-04-16   \n",
       "92864                         ['2SYqJ3uDLLXZNyZdLKBy4M']   2021-04-16   \n",
       "93915                         ['6M2wZ9GZgrQXHCFfjv46we']   2021-04-16   \n",
       "93916  ['6M2wZ9GZgrQXHCFfjv46we', '6pohviZSNRueSX7uNu...   2021-04-16   \n",
       "93917                         ['6M2wZ9GZgrQXHCFfjv46we']   2021-04-16   \n",
       "\n",
       "       danceability  energy  key  loudness  mode  speechiness  acousticness  \\\n",
       "86695         0.347   0.965   10    -6.014     1       0.1420       0.05040   \n",
       "92864         0.384   0.889    7    -6.548     1       0.0936       0.00226   \n",
       "93915         0.677   0.796    2    -4.761     0       0.1170       0.01880   \n",
       "93916         0.772   0.637    4    -7.846     0       0.0494       0.02200   \n",
       "93917         0.659   0.667   11    -4.668     0       0.0339       0.00173   \n",
       "\n",
       "       instrumentalness  liveness  valence    tempo  time_signature  \n",
       "86695          0.000000    0.3430    0.392   90.987               4  \n",
       "92864          0.425000    0.0728    0.112  154.886               4  \n",
       "93915          0.000000    0.0948    0.494  108.851               4  \n",
       "93916          0.035300    0.0898    0.409  113.022               4  \n",
       "93917          0.000029    0.1000    0.468  115.982               4  "
      ]
     },
     "execution_count": 6,
     "metadata": {},
     "output_type": "execute_result"
    }
   ],
   "source": [
    "df[df.release_date == df.release_date.max()].head()"
   ]
  },
  {
   "cell_type": "markdown",
   "id": "f23fc306",
   "metadata": {},
   "source": [
    "Above are some of the most recent songs in our dataset. Recall this is data from April 2021. Perhaps you may recognize some of the titles. \n",
    "\n",
    "Now lets see what the most popular songs in our dataset are."
   ]
  },
  {
   "cell_type": "code",
   "execution_count": 7,
   "id": "b545f5c4",
   "metadata": {},
   "outputs": [
    {
     "data": {
      "text/html": [
       "<div>\n",
       "<style scoped>\n",
       "    .dataframe tbody tr th:only-of-type {\n",
       "        vertical-align: middle;\n",
       "    }\n",
       "\n",
       "    .dataframe tbody tr th {\n",
       "        vertical-align: top;\n",
       "    }\n",
       "\n",
       "    .dataframe thead th {\n",
       "        text-align: right;\n",
       "    }\n",
       "</style>\n",
       "<table border=\"1\" class=\"dataframe\">\n",
       "  <thead>\n",
       "    <tr style=\"text-align: right;\">\n",
       "      <th></th>\n",
       "      <th>id</th>\n",
       "      <th>name</th>\n",
       "      <th>popularity</th>\n",
       "      <th>duration_ms</th>\n",
       "      <th>explicit</th>\n",
       "      <th>artists</th>\n",
       "      <th>id_artists</th>\n",
       "      <th>release_date</th>\n",
       "      <th>danceability</th>\n",
       "      <th>energy</th>\n",
       "      <th>key</th>\n",
       "      <th>loudness</th>\n",
       "      <th>mode</th>\n",
       "      <th>speechiness</th>\n",
       "      <th>acousticness</th>\n",
       "      <th>instrumentalness</th>\n",
       "      <th>liveness</th>\n",
       "      <th>valence</th>\n",
       "      <th>tempo</th>\n",
       "      <th>time_signature</th>\n",
       "    </tr>\n",
       "  </thead>\n",
       "  <tbody>\n",
       "    <tr>\n",
       "      <th>93802</th>\n",
       "      <td>4iJyoBOLtHqaGxP12qzhQI</td>\n",
       "      <td>Peaches (feat. Daniel Caesar &amp; Giveon)</td>\n",
       "      <td>100</td>\n",
       "      <td>198082</td>\n",
       "      <td>1</td>\n",
       "      <td>['Justin Bieber', 'Daniel Caesar', 'Giveon']</td>\n",
       "      <td>['1uNFoZAHBGtllmzznpCI3s', '20wkVLutqVOYrc0kxF...</td>\n",
       "      <td>2021-03-19</td>\n",
       "      <td>0.677</td>\n",
       "      <td>0.696</td>\n",
       "      <td>0</td>\n",
       "      <td>-6.181</td>\n",
       "      <td>1</td>\n",
       "      <td>0.1190</td>\n",
       "      <td>0.32100</td>\n",
       "      <td>0.000000</td>\n",
       "      <td>0.4200</td>\n",
       "      <td>0.464</td>\n",
       "      <td>90.030</td>\n",
       "      <td>4</td>\n",
       "    </tr>\n",
       "    <tr>\n",
       "      <th>93803</th>\n",
       "      <td>7lPN2DXiMsVn7XUKtOW1CS</td>\n",
       "      <td>drivers license</td>\n",
       "      <td>99</td>\n",
       "      <td>242014</td>\n",
       "      <td>1</td>\n",
       "      <td>['Olivia Rodrigo']</td>\n",
       "      <td>['1McMsnEElThX1knmY4oliG']</td>\n",
       "      <td>2021-01-08</td>\n",
       "      <td>0.585</td>\n",
       "      <td>0.436</td>\n",
       "      <td>10</td>\n",
       "      <td>-8.761</td>\n",
       "      <td>1</td>\n",
       "      <td>0.0601</td>\n",
       "      <td>0.72100</td>\n",
       "      <td>0.000013</td>\n",
       "      <td>0.1050</td>\n",
       "      <td>0.132</td>\n",
       "      <td>143.874</td>\n",
       "      <td>4</td>\n",
       "    </tr>\n",
       "    <tr>\n",
       "      <th>93804</th>\n",
       "      <td>3Ofmpyhv5UAQ70mENzB277</td>\n",
       "      <td>Astronaut In The Ocean</td>\n",
       "      <td>98</td>\n",
       "      <td>132780</td>\n",
       "      <td>0</td>\n",
       "      <td>['Masked Wolf']</td>\n",
       "      <td>['1uU7g3DNSbsu0QjSEqZtEd']</td>\n",
       "      <td>2021-01-06</td>\n",
       "      <td>0.778</td>\n",
       "      <td>0.695</td>\n",
       "      <td>4</td>\n",
       "      <td>-6.865</td>\n",
       "      <td>0</td>\n",
       "      <td>0.0913</td>\n",
       "      <td>0.17500</td>\n",
       "      <td>0.000000</td>\n",
       "      <td>0.1500</td>\n",
       "      <td>0.472</td>\n",
       "      <td>149.996</td>\n",
       "      <td>4</td>\n",
       "    </tr>\n",
       "    <tr>\n",
       "      <th>92810</th>\n",
       "      <td>5QO79kh1waicV47BqGRL3g</td>\n",
       "      <td>Save Your Tears</td>\n",
       "      <td>97</td>\n",
       "      <td>215627</td>\n",
       "      <td>1</td>\n",
       "      <td>['The Weeknd']</td>\n",
       "      <td>['1Xyo4u8uXC1ZmMpatF05PJ']</td>\n",
       "      <td>2020-03-20</td>\n",
       "      <td>0.680</td>\n",
       "      <td>0.826</td>\n",
       "      <td>0</td>\n",
       "      <td>-5.487</td>\n",
       "      <td>1</td>\n",
       "      <td>0.0309</td>\n",
       "      <td>0.02120</td>\n",
       "      <td>0.000012</td>\n",
       "      <td>0.5430</td>\n",
       "      <td>0.644</td>\n",
       "      <td>118.051</td>\n",
       "      <td>4</td>\n",
       "    </tr>\n",
       "    <tr>\n",
       "      <th>92811</th>\n",
       "      <td>6tDDoYIxWvMLTdKpjFkc1B</td>\n",
       "      <td>telepatía</td>\n",
       "      <td>97</td>\n",
       "      <td>160191</td>\n",
       "      <td>0</td>\n",
       "      <td>['Kali Uchis']</td>\n",
       "      <td>['1U1el3k54VvEUzo3ybLPlM']</td>\n",
       "      <td>2020-12-04</td>\n",
       "      <td>0.653</td>\n",
       "      <td>0.524</td>\n",
       "      <td>11</td>\n",
       "      <td>-9.016</td>\n",
       "      <td>0</td>\n",
       "      <td>0.0502</td>\n",
       "      <td>0.11200</td>\n",
       "      <td>0.000000</td>\n",
       "      <td>0.2030</td>\n",
       "      <td>0.553</td>\n",
       "      <td>83.970</td>\n",
       "      <td>4</td>\n",
       "    </tr>\n",
       "    <tr>\n",
       "      <th>93805</th>\n",
       "      <td>7MAibcTli4IisCtbHKrGMh</td>\n",
       "      <td>Leave The Door Open</td>\n",
       "      <td>96</td>\n",
       "      <td>242096</td>\n",
       "      <td>0</td>\n",
       "      <td>['Bruno Mars', 'Anderson .Paak', 'Silk Sonic']</td>\n",
       "      <td>['0du5cEVh5yTK9QJze8zA0C', '3jK9MiCrA42lLAdMGU...</td>\n",
       "      <td>2021-03-05</td>\n",
       "      <td>0.586</td>\n",
       "      <td>0.616</td>\n",
       "      <td>5</td>\n",
       "      <td>-7.964</td>\n",
       "      <td>1</td>\n",
       "      <td>0.0324</td>\n",
       "      <td>0.18200</td>\n",
       "      <td>0.000000</td>\n",
       "      <td>0.0927</td>\n",
       "      <td>0.719</td>\n",
       "      <td>148.088</td>\n",
       "      <td>4</td>\n",
       "    </tr>\n",
       "    <tr>\n",
       "      <th>92813</th>\n",
       "      <td>0VjIjW4GlUZAMYd2vXMi3b</td>\n",
       "      <td>Blinding Lights</td>\n",
       "      <td>96</td>\n",
       "      <td>200040</td>\n",
       "      <td>0</td>\n",
       "      <td>['The Weeknd']</td>\n",
       "      <td>['1Xyo4u8uXC1ZmMpatF05PJ']</td>\n",
       "      <td>2020-03-20</td>\n",
       "      <td>0.514</td>\n",
       "      <td>0.730</td>\n",
       "      <td>1</td>\n",
       "      <td>-5.934</td>\n",
       "      <td>1</td>\n",
       "      <td>0.0598</td>\n",
       "      <td>0.00146</td>\n",
       "      <td>0.000095</td>\n",
       "      <td>0.0897</td>\n",
       "      <td>0.334</td>\n",
       "      <td>171.005</td>\n",
       "      <td>4</td>\n",
       "    </tr>\n",
       "    <tr>\n",
       "      <th>92814</th>\n",
       "      <td>6f3Slt0GbA2bPZlz0aIFXN</td>\n",
       "      <td>The Business</td>\n",
       "      <td>95</td>\n",
       "      <td>164000</td>\n",
       "      <td>0</td>\n",
       "      <td>['Tiësto']</td>\n",
       "      <td>['2o5jDhtHVPhrJdv3cEQ99Z']</td>\n",
       "      <td>2020-09-16</td>\n",
       "      <td>0.798</td>\n",
       "      <td>0.620</td>\n",
       "      <td>8</td>\n",
       "      <td>-7.079</td>\n",
       "      <td>0</td>\n",
       "      <td>0.2320</td>\n",
       "      <td>0.41400</td>\n",
       "      <td>0.019200</td>\n",
       "      <td>0.1120</td>\n",
       "      <td>0.235</td>\n",
       "      <td>120.031</td>\n",
       "      <td>4</td>\n",
       "    </tr>\n",
       "    <tr>\n",
       "      <th>92816</th>\n",
       "      <td>3FAJ6O0NOHQV8Mc5Ri6ENp</td>\n",
       "      <td>Heartbreak Anniversary</td>\n",
       "      <td>94</td>\n",
       "      <td>198371</td>\n",
       "      <td>0</td>\n",
       "      <td>['Giveon']</td>\n",
       "      <td>['4fxd5Ee7UefO4CUXgwJ7IP']</td>\n",
       "      <td>2020-03-27</td>\n",
       "      <td>0.449</td>\n",
       "      <td>0.465</td>\n",
       "      <td>0</td>\n",
       "      <td>-8.964</td>\n",
       "      <td>1</td>\n",
       "      <td>0.0791</td>\n",
       "      <td>0.52400</td>\n",
       "      <td>0.000001</td>\n",
       "      <td>0.3030</td>\n",
       "      <td>0.543</td>\n",
       "      <td>89.087</td>\n",
       "      <td>3</td>\n",
       "    </tr>\n",
       "    <tr>\n",
       "      <th>92819</th>\n",
       "      <td>1xK1Gg9SxG8fy2Ya373oqb</td>\n",
       "      <td>Bandido</td>\n",
       "      <td>94</td>\n",
       "      <td>232853</td>\n",
       "      <td>0</td>\n",
       "      <td>['Myke Towers', 'Juhn']</td>\n",
       "      <td>['7iK8PXO48WeuP03g8YR51W', '2LmcxBak1alK1bf7d1...</td>\n",
       "      <td>2020-12-10</td>\n",
       "      <td>0.713</td>\n",
       "      <td>0.617</td>\n",
       "      <td>8</td>\n",
       "      <td>-4.637</td>\n",
       "      <td>1</td>\n",
       "      <td>0.0887</td>\n",
       "      <td>0.12200</td>\n",
       "      <td>0.000000</td>\n",
       "      <td>0.0962</td>\n",
       "      <td>0.682</td>\n",
       "      <td>168.021</td>\n",
       "      <td>4</td>\n",
       "    </tr>\n",
       "  </tbody>\n",
       "</table>\n",
       "</div>"
      ],
      "text/plain": [
       "                           id                                    name  \\\n",
       "93802  4iJyoBOLtHqaGxP12qzhQI  Peaches (feat. Daniel Caesar & Giveon)   \n",
       "93803  7lPN2DXiMsVn7XUKtOW1CS                         drivers license   \n",
       "93804  3Ofmpyhv5UAQ70mENzB277                  Astronaut In The Ocean   \n",
       "92810  5QO79kh1waicV47BqGRL3g                         Save Your Tears   \n",
       "92811  6tDDoYIxWvMLTdKpjFkc1B                               telepatía   \n",
       "93805  7MAibcTli4IisCtbHKrGMh                     Leave The Door Open   \n",
       "92813  0VjIjW4GlUZAMYd2vXMi3b                         Blinding Lights   \n",
       "92814  6f3Slt0GbA2bPZlz0aIFXN                            The Business   \n",
       "92816  3FAJ6O0NOHQV8Mc5Ri6ENp                  Heartbreak Anniversary   \n",
       "92819  1xK1Gg9SxG8fy2Ya373oqb                                 Bandido   \n",
       "\n",
       "       popularity  duration_ms  explicit  \\\n",
       "93802         100       198082         1   \n",
       "93803          99       242014         1   \n",
       "93804          98       132780         0   \n",
       "92810          97       215627         1   \n",
       "92811          97       160191         0   \n",
       "93805          96       242096         0   \n",
       "92813          96       200040         0   \n",
       "92814          95       164000         0   \n",
       "92816          94       198371         0   \n",
       "92819          94       232853         0   \n",
       "\n",
       "                                              artists  \\\n",
       "93802    ['Justin Bieber', 'Daniel Caesar', 'Giveon']   \n",
       "93803                              ['Olivia Rodrigo']   \n",
       "93804                                 ['Masked Wolf']   \n",
       "92810                                  ['The Weeknd']   \n",
       "92811                                  ['Kali Uchis']   \n",
       "93805  ['Bruno Mars', 'Anderson .Paak', 'Silk Sonic']   \n",
       "92813                                  ['The Weeknd']   \n",
       "92814                                      ['Tiësto']   \n",
       "92816                                      ['Giveon']   \n",
       "92819                         ['Myke Towers', 'Juhn']   \n",
       "\n",
       "                                              id_artists release_date  \\\n",
       "93802  ['1uNFoZAHBGtllmzznpCI3s', '20wkVLutqVOYrc0kxF...   2021-03-19   \n",
       "93803                         ['1McMsnEElThX1knmY4oliG']   2021-01-08   \n",
       "93804                         ['1uU7g3DNSbsu0QjSEqZtEd']   2021-01-06   \n",
       "92810                         ['1Xyo4u8uXC1ZmMpatF05PJ']   2020-03-20   \n",
       "92811                         ['1U1el3k54VvEUzo3ybLPlM']   2020-12-04   \n",
       "93805  ['0du5cEVh5yTK9QJze8zA0C', '3jK9MiCrA42lLAdMGU...   2021-03-05   \n",
       "92813                         ['1Xyo4u8uXC1ZmMpatF05PJ']   2020-03-20   \n",
       "92814                         ['2o5jDhtHVPhrJdv3cEQ99Z']   2020-09-16   \n",
       "92816                         ['4fxd5Ee7UefO4CUXgwJ7IP']   2020-03-27   \n",
       "92819  ['7iK8PXO48WeuP03g8YR51W', '2LmcxBak1alK1bf7d1...   2020-12-10   \n",
       "\n",
       "       danceability  energy  key  loudness  mode  speechiness  acousticness  \\\n",
       "93802         0.677   0.696    0    -6.181     1       0.1190       0.32100   \n",
       "93803         0.585   0.436   10    -8.761     1       0.0601       0.72100   \n",
       "93804         0.778   0.695    4    -6.865     0       0.0913       0.17500   \n",
       "92810         0.680   0.826    0    -5.487     1       0.0309       0.02120   \n",
       "92811         0.653   0.524   11    -9.016     0       0.0502       0.11200   \n",
       "93805         0.586   0.616    5    -7.964     1       0.0324       0.18200   \n",
       "92813         0.514   0.730    1    -5.934     1       0.0598       0.00146   \n",
       "92814         0.798   0.620    8    -7.079     0       0.2320       0.41400   \n",
       "92816         0.449   0.465    0    -8.964     1       0.0791       0.52400   \n",
       "92819         0.713   0.617    8    -4.637     1       0.0887       0.12200   \n",
       "\n",
       "       instrumentalness  liveness  valence    tempo  time_signature  \n",
       "93802          0.000000    0.4200    0.464   90.030               4  \n",
       "93803          0.000013    0.1050    0.132  143.874               4  \n",
       "93804          0.000000    0.1500    0.472  149.996               4  \n",
       "92810          0.000012    0.5430    0.644  118.051               4  \n",
       "92811          0.000000    0.2030    0.553   83.970               4  \n",
       "93805          0.000000    0.0927    0.719  148.088               4  \n",
       "92813          0.000095    0.0897    0.334  171.005               4  \n",
       "92814          0.019200    0.1120    0.235  120.031               4  \n",
       "92816          0.000001    0.3030    0.543   89.087               3  \n",
       "92819          0.000000    0.0962    0.682  168.021               4  "
      ]
     },
     "execution_count": 7,
     "metadata": {},
     "output_type": "execute_result"
    }
   ],
   "source": [
    "df.sort_values(by = \"popularity\", ascending = False).head(10)"
   ]
  },
  {
   "cell_type": "markdown",
   "id": "163f65b8",
   "metadata": {},
   "source": [
    "Above are the most popular songs in our dataset. \"Peaches\" by Justin Bieber featuring Daniel Caesar and Giveon is the most popular song as of the week of April 16, 2021."
   ]
  },
  {
   "cell_type": "markdown",
   "id": "c72fac27",
   "metadata": {},
   "source": [
    "### Visualizations of Univariate Data"
   ]
  },
  {
   "cell_type": "markdown",
   "id": "31b23cfc",
   "metadata": {},
   "source": [
    "Below are the distributions of each of the variables in our dataset."
   ]
  },
  {
   "cell_type": "markdown",
   "id": "52af114a",
   "metadata": {},
   "source": [
    "#### Popularity"
   ]
  },
  {
   "cell_type": "code",
   "execution_count": 14,
   "id": "500783a4",
   "metadata": {},
   "outputs": [
    {
     "data": {
      "image/png": "[encoded data removed]",
      "text/plain": [
       "<Figure size 432x288 with 1 Axes>"
      ]
     },
     "metadata": {
      "needs_background": "light"
     },
     "output_type": "display_data"
    }
   ],
   "source": [
    "#Set palette to bright\n",
    "sns.set_palette('bright')\n",
    "#Graph popularity distribution\n",
    "popularity = sns.histplot(x = df.popularity)\n",
    "#Set labels\n",
    "labels = popularity.set(ylabel = \"Number of Songs\", xlabel = \"Popularity Index\", title = \"Number of Songs by Popularity Index\")"
   ]
  },
  {
   "cell_type": "markdown",
   "id": "404f16bc",
   "metadata": {},
   "source": [
    "The score 0 appears to be most common on the popularity index."
   ]
  },
  {
   "cell_type": "code",
   "execution_count": 118,
   "id": "16b1b916",
   "metadata": {},
   "outputs": [
    {
     "data": {
      "text/plain": [
       "0.07617544385960127"
      ]
     },
     "execution_count": 118,
     "metadata": {},
     "output_type": "execute_result"
    }
   ],
   "source": [
    "#Calculating the percent of songs with popularity index 0.\n",
    "len(df[df.popularity == 0])/len(df)"
   ]
  },
  {
   "cell_type": "markdown",
   "id": "11d5e4da",
   "metadata": {},
   "source": [
    "**Note**\n",
    "\n",
    "Popular songs are overrepresented in our sample. The majority of Spotify's 70 million tracks of a popularity index of 0. In our data, only around 7.6% of the tracks have a popularity index of 0."
   ]
  },
  {
   "cell_type": "markdown",
   "id": "df4a4de9",
   "metadata": {},
   "source": [
    "#### Duration"
   ]
  },
  {
   "cell_type": "code",
   "execution_count": 119,
   "id": "8ca59067",
   "metadata": {},
   "outputs": [
    {
     "data": {
      "image/png": "[encoded data removed]",
      "text/plain": [
       "<Figure size 432x288 with 1 Axes>"
      ]
     },
     "metadata": {
      "needs_background": "light"
     },
     "output_type": "display_data"
    }
   ],
   "source": [
    "#Visualize duration distribution\n",
    "duration = sns.histplot(df.duration_ms)\n",
    "#Format ticks and labels\n",
    "duration.ticklabel_format(useOffset=False, style='plain')\n",
    "labels = duration.set(title = \"Duration Distribution\", xlabel = \"Time in Milliseconds\")"
   ]
  },
  {
   "cell_type": "markdown",
   "id": "37991b70",
   "metadata": {},
   "source": [
    "There appears to be some extreme outliers in length in our dataset. Let's see what some of the outliers are.\n",
    "\n",
    "Here are the three longest tracks in our dataset."
   ]
  },
  {
   "cell_type": "code",
   "execution_count": 8,
   "id": "fa7479f0",
   "metadata": {},
   "outputs": [
    {
     "data": {
      "text/html": [
       "<div>\n",
       "<style scoped>\n",
       "    .dataframe tbody tr th:only-of-type {\n",
       "        vertical-align: middle;\n",
       "    }\n",
       "\n",
       "    .dataframe tbody tr th {\n",
       "        vertical-align: top;\n",
       "    }\n",
       "\n",
       "    .dataframe thead th {\n",
       "        text-align: right;\n",
       "    }\n",
       "</style>\n",
       "<table border=\"1\" class=\"dataframe\">\n",
       "  <thead>\n",
       "    <tr style=\"text-align: right;\">\n",
       "      <th></th>\n",
       "      <th>id</th>\n",
       "      <th>name</th>\n",
       "      <th>popularity</th>\n",
       "      <th>duration_ms</th>\n",
       "      <th>explicit</th>\n",
       "      <th>artists</th>\n",
       "      <th>id_artists</th>\n",
       "      <th>release_date</th>\n",
       "      <th>danceability</th>\n",
       "      <th>energy</th>\n",
       "      <th>key</th>\n",
       "      <th>loudness</th>\n",
       "      <th>mode</th>\n",
       "      <th>speechiness</th>\n",
       "      <th>acousticness</th>\n",
       "      <th>instrumentalness</th>\n",
       "      <th>liveness</th>\n",
       "      <th>valence</th>\n",
       "      <th>tempo</th>\n",
       "      <th>time_signature</th>\n",
       "    </tr>\n",
       "  </thead>\n",
       "  <tbody>\n",
       "    <tr>\n",
       "      <th>326329</th>\n",
       "      <td>3EEv9UCeZdn4MVFv8tsO1E</td>\n",
       "      <td>โครงสร้างแห่งสิ่งที่เรียกว่าชีวิต</td>\n",
       "      <td>3</td>\n",
       "      <td>5621218</td>\n",
       "      <td>0</td>\n",
       "      <td>['ท่านพุทธทาส']</td>\n",
       "      <td>['2ySk9zib3PuomvMGmCqdTA']</td>\n",
       "      <td>1979-07-28</td>\n",
       "      <td>0.638</td>\n",
       "      <td>0.537000</td>\n",
       "      <td>8</td>\n",
       "      <td>-13.365</td>\n",
       "      <td>1</td>\n",
       "      <td>0.7750</td>\n",
       "      <td>0.82500</td>\n",
       "      <td>0.00000</td>\n",
       "      <td>0.345</td>\n",
       "      <td>0.401</td>\n",
       "      <td>131.446</td>\n",
       "      <td>3</td>\n",
       "    </tr>\n",
       "    <tr>\n",
       "      <th>450241</th>\n",
       "      <td>7foc25ig7dibxvULPU2kBG</td>\n",
       "      <td>Brown Noise - 90 Minutes</td>\n",
       "      <td>50</td>\n",
       "      <td>5403500</td>\n",
       "      <td>0</td>\n",
       "      <td>['Sound Dreamer']</td>\n",
       "      <td>['4YJlpG8fCq38GnS8ElByiF']</td>\n",
       "      <td>2013-06-05</td>\n",
       "      <td>0.000</td>\n",
       "      <td>0.000099</td>\n",
       "      <td>2</td>\n",
       "      <td>-21.669</td>\n",
       "      <td>1</td>\n",
       "      <td>0.0000</td>\n",
       "      <td>0.11100</td>\n",
       "      <td>0.39200</td>\n",
       "      <td>0.137</td>\n",
       "      <td>0.000</td>\n",
       "      <td>0.000</td>\n",
       "      <td>0</td>\n",
       "    </tr>\n",
       "    <tr>\n",
       "      <th>131876</th>\n",
       "      <td>6rGikpwOv3LXaHWVCYbMNC</td>\n",
       "      <td>New Year's Eve 2015 Party Hits - Full DJ Party...</td>\n",
       "      <td>0</td>\n",
       "      <td>5042185</td>\n",
       "      <td>0</td>\n",
       "      <td>['Various Artists']</td>\n",
       "      <td>['0LyfQWJT6nXafLPZqxe9Of']</td>\n",
       "      <td>2014-12-19</td>\n",
       "      <td>0.457</td>\n",
       "      <td>0.891000</td>\n",
       "      <td>11</td>\n",
       "      <td>-4.596</td>\n",
       "      <td>0</td>\n",
       "      <td>0.0627</td>\n",
       "      <td>0.00467</td>\n",
       "      <td>0.00109</td>\n",
       "      <td>0.294</td>\n",
       "      <td>0.731</td>\n",
       "      <td>129.516</td>\n",
       "      <td>4</td>\n",
       "    </tr>\n",
       "  </tbody>\n",
       "</table>\n",
       "</div>"
      ],
      "text/plain": [
       "                            id  \\\n",
       "326329  3EEv9UCeZdn4MVFv8tsO1E   \n",
       "450241  7foc25ig7dibxvULPU2kBG   \n",
       "131876  6rGikpwOv3LXaHWVCYbMNC   \n",
       "\n",
       "                                                     name  popularity  \\\n",
       "326329                  โครงสร้างแห่งสิ่งที่เรียกว่าชีวิต           3   \n",
       "450241                           Brown Noise - 90 Minutes          50   \n",
       "131876  New Year's Eve 2015 Party Hits - Full DJ Party...           0   \n",
       "\n",
       "        duration_ms  explicit              artists  \\\n",
       "326329      5621218         0      ['ท่านพุทธทาส']   \n",
       "450241      5403500         0    ['Sound Dreamer']   \n",
       "131876      5042185         0  ['Various Artists']   \n",
       "\n",
       "                        id_artists release_date  danceability    energy  key  \\\n",
       "326329  ['2ySk9zib3PuomvMGmCqdTA']   1979-07-28         0.638  0.537000    8   \n",
       "450241  ['4YJlpG8fCq38GnS8ElByiF']   2013-06-05         0.000  0.000099    2   \n",
       "131876  ['0LyfQWJT6nXafLPZqxe9Of']   2014-12-19         0.457  0.891000   11   \n",
       "\n",
       "        loudness  mode  speechiness  acousticness  instrumentalness  liveness  \\\n",
       "326329   -13.365     1       0.7750       0.82500           0.00000     0.345   \n",
       "450241   -21.669     1       0.0000       0.11100           0.39200     0.137   \n",
       "131876    -4.596     0       0.0627       0.00467           0.00109     0.294   \n",
       "\n",
       "        valence    tempo  time_signature  \n",
       "326329    0.401  131.446               3  \n",
       "450241    0.000    0.000               0  \n",
       "131876    0.731  129.516               4  "
      ]
     },
     "execution_count": 8,
     "metadata": {},
     "output_type": "execute_result"
    }
   ],
   "source": [
    "df.sort_values(by = 'duration_ms', ascending = False).head(3)"
   ]
  },
  {
   "cell_type": "code",
   "execution_count": 121,
   "id": "157cf454",
   "metadata": {},
   "outputs": [
    {
     "data": {
      "text/plain": [
       "214893.0"
      ]
     },
     "execution_count": 121,
     "metadata": {},
     "output_type": "execute_result"
    }
   ],
   "source": [
    "#Calculate median song length\n",
    "df.duration_ms.median()"
   ]
  },
  {
   "cell_type": "markdown",
   "id": "2a03c643",
   "metadata": {},
   "source": [
    "The longest track is around 90 minutes long (it appears to be an extended religious prayer), whereas the median song is only around 3 and a half minutes long. "
   ]
  },
  {
   "cell_type": "markdown",
   "id": "f252427a",
   "metadata": {},
   "source": [
    "#### Explicit"
   ]
  },
  {
   "cell_type": "code",
   "execution_count": 122,
   "id": "b47914a1",
   "metadata": {},
   "outputs": [
    {
     "data": {
      "image/png": "[encoded data removed]",
      "text/plain": [
       "<Figure size 432x288 with 1 Axes>"
      ]
     },
     "metadata": {
      "needs_background": "light"
     },
     "output_type": "display_data"
    }
   ],
   "source": [
    "#Graph explicit vs. non-explicit value counts\n",
    "explicit = sns.countplot(df.explicit)\n",
    "#Format ticks and labels\n",
    "explicit.set_xticklabels(['Non-explict','Explicit'])\n",
    "labels = explicit.set(ylabel = \"Number of songs\", xlabel = \"Non-explicit or Explicit\", title = \"Song Counts Explicit vs. Non explicit\")"
   ]
  },
  {
   "cell_type": "markdown",
   "id": "33a6aef3",
   "metadata": {},
   "source": [
    "There are far more non-explicit songs that explicit songs."
   ]
  },
  {
   "cell_type": "markdown",
   "id": "c1ee4455",
   "metadata": {},
   "source": [
    "#### Artist"
   ]
  },
  {
   "cell_type": "markdown",
   "id": "d10adec4",
   "metadata": {},
   "source": [
    "Below is a chart of the the top twenty artists with the most tracks in the dataset."
   ]
  },
  {
   "cell_type": "code",
   "execution_count": 123,
   "id": "7f3b7a08",
   "metadata": {},
   "outputs": [
    {
     "data": {
      "text/html": [
       "<div>\n",
       "<style scoped>\n",
       "    .dataframe tbody tr th:only-of-type {\n",
       "        vertical-align: middle;\n",
       "    }\n",
       "\n",
       "    .dataframe tbody tr th {\n",
       "        vertical-align: top;\n",
       "    }\n",
       "\n",
       "    .dataframe thead th {\n",
       "        text-align: right;\n",
       "    }\n",
       "</style>\n",
       "<table border=\"1\" class=\"dataframe\">\n",
       "  <thead>\n",
       "    <tr style=\"text-align: right;\">\n",
       "      <th></th>\n",
       "      <th>id</th>\n",
       "    </tr>\n",
       "    <tr>\n",
       "      <th>artists</th>\n",
       "      <th></th>\n",
       "    </tr>\n",
       "  </thead>\n",
       "  <tbody>\n",
       "    <tr>\n",
       "      <th>['Die drei ???']</th>\n",
       "      <td>3856</td>\n",
       "    </tr>\n",
       "    <tr>\n",
       "      <th>['TKKG Retro-Archiv']</th>\n",
       "      <td>2006</td>\n",
       "    </tr>\n",
       "    <tr>\n",
       "      <th>['Benjamin Blümchen']</th>\n",
       "      <td>1503</td>\n",
       "    </tr>\n",
       "    <tr>\n",
       "      <th>['Bibi Blocksberg']</th>\n",
       "      <td>1472</td>\n",
       "    </tr>\n",
       "    <tr>\n",
       "      <th>['Lata Mangeshkar']</th>\n",
       "      <td>1373</td>\n",
       "    </tr>\n",
       "    <tr>\n",
       "      <th>['Bibi und Tina']</th>\n",
       "      <td>927</td>\n",
       "    </tr>\n",
       "    <tr>\n",
       "      <th>['Tintin', 'Tomas Bolme', 'Bert-Åke Varg']</th>\n",
       "      <td>905</td>\n",
       "    </tr>\n",
       "    <tr>\n",
       "      <th>['Francisco Canaro']</th>\n",
       "      <td>891</td>\n",
       "    </tr>\n",
       "    <tr>\n",
       "      <th>['Ella Fitzgerald']</th>\n",
       "      <td>870</td>\n",
       "    </tr>\n",
       "    <tr>\n",
       "      <th>['Tadeusz Dolega Mostowicz']</th>\n",
       "      <td>838</td>\n",
       "    </tr>\n",
       "    <tr>\n",
       "      <th>['Fünf Freunde']</th>\n",
       "      <td>812</td>\n",
       "    </tr>\n",
       "    <tr>\n",
       "      <th>['Mohammed Rafi']</th>\n",
       "      <td>787</td>\n",
       "    </tr>\n",
       "    <tr>\n",
       "      <th>['Queen']</th>\n",
       "      <td>777</td>\n",
       "    </tr>\n",
       "    <tr>\n",
       "      <th>['Elvis Presley']</th>\n",
       "      <td>680</td>\n",
       "    </tr>\n",
       "    <tr>\n",
       "      <th>['Frank Sinatra']</th>\n",
       "      <td>680</td>\n",
       "    </tr>\n",
       "    <tr>\n",
       "      <th>['The Rolling Stones']</th>\n",
       "      <td>654</td>\n",
       "    </tr>\n",
       "    <tr>\n",
       "      <th>['Die Originale']</th>\n",
       "      <td>638</td>\n",
       "    </tr>\n",
       "    <tr>\n",
       "      <th>['Billie Holiday']</th>\n",
       "      <td>609</td>\n",
       "    </tr>\n",
       "    <tr>\n",
       "      <th>['Julio Iglesias']</th>\n",
       "      <td>595</td>\n",
       "    </tr>\n",
       "    <tr>\n",
       "      <th>['Globi']</th>\n",
       "      <td>584</td>\n",
       "    </tr>\n",
       "  </tbody>\n",
       "</table>\n",
       "</div>"
      ],
      "text/plain": [
       "                                              id\n",
       "artists                                         \n",
       "['Die drei ???']                            3856\n",
       "['TKKG Retro-Archiv']                       2006\n",
       "['Benjamin Blümchen']                       1503\n",
       "['Bibi Blocksberg']                         1472\n",
       "['Lata Mangeshkar']                         1373\n",
       "['Bibi und Tina']                            927\n",
       "['Tintin', 'Tomas Bolme', 'Bert-Åke Varg']   905\n",
       "['Francisco Canaro']                         891\n",
       "['Ella Fitzgerald']                          870\n",
       "['Tadeusz Dolega Mostowicz']                 838\n",
       "['Fünf Freunde']                             812\n",
       "['Mohammed Rafi']                            787\n",
       "['Queen']                                    777\n",
       "['Elvis Presley']                            680\n",
       "['Frank Sinatra']                            680\n",
       "['The Rolling Stones']                       654\n",
       "['Die Originale']                            638\n",
       "['Billie Holiday']                           609\n",
       "['Julio Iglesias']                           595\n",
       "['Globi']                                    584"
      ]
     },
     "execution_count": 123,
     "metadata": {},
     "output_type": "execute_result"
    }
   ],
   "source": [
    "df[['artists', 'id']].groupby('artists').count().sort_values(by = \"id\", ascending = False).head(20)"
   ]
  },
  {
   "cell_type": "code",
   "execution_count": 95,
   "id": "cfb1c274",
   "metadata": {},
   "outputs": [
    {
     "data": {
      "image/png": "[encoded data removed]",
      "text/plain": [
       "<Figure size 432x288 with 1 Axes>"
      ]
     },
     "metadata": {
      "needs_background": "light"
     },
     "output_type": "display_data"
    }
   ],
   "source": [
    "most_popular = df[['artists', 'id']].groupby('artists').count().sort_values(by = \"id\", ascending = False).head(20)\n",
    "most_popular_barplot = sns.barplot(x = most_popular.id, y = most_popular.index)\n",
    "labels = most_popular_barplot.set(title = \"Number of Tracks for Most Popular Artists\", xlabel = \"Number of Tracks\", ylabel = \"Artist\")"
   ]
  },
  {
   "cell_type": "markdown",
   "id": "4fe6a013",
   "metadata": {},
   "source": [
    "#### Release Date of the track"
   ]
  },
  {
   "cell_type": "code",
   "execution_count": 124,
   "id": "feaacddb",
   "metadata": {},
   "outputs": [],
   "source": [
    "#We convert release date to datetime format to graph it more easily.\n",
    "df.release_date = pd.to_datetime(df.release_date)"
   ]
  },
  {
   "cell_type": "code",
   "execution_count": 125,
   "id": "bcf3759e",
   "metadata": {},
   "outputs": [
    {
     "data": {
      "image/png": "[encoded data removed]",
      "text/plain": [
       "<Figure size 432x288 with 1 Axes>"
      ]
     },
     "metadata": {
      "needs_background": "light"
     },
     "output_type": "display_data"
    }
   ],
   "source": [
    "#Visualize release date distribution\n",
    "release_dates = sns.histplot(df.release_date.dt.year)\n",
    "#Set labels\n",
    "labels = release_dates.set(xlabel = \"Release Date of Song\", title = \"Number of Songs by Year of Release\")"
   ]
  },
  {
   "cell_type": "markdown",
   "id": "4bf61b8f",
   "metadata": {},
   "source": [
    "Our distribution is left-skewed, thus including more modern songs. There appears to be of peak of songs from two periods:\n",
    " - the 1990s and\n",
    " - the current era 2019-2021."
   ]
  },
  {
   "cell_type": "markdown",
   "id": "616113bd",
   "metadata": {},
   "source": [
    "#### Danceability"
   ]
  },
  {
   "cell_type": "code",
   "execution_count": 126,
   "id": "0cb8c670",
   "metadata": {},
   "outputs": [
    {
     "data": {
      "image/png": "[encoded data removed]",
      "text/plain": [
       "<Figure size 432x288 with 1 Axes>"
      ]
     },
     "metadata": {
      "needs_background": "light"
     },
     "output_type": "display_data"
    }
   ],
   "source": [
    "#Graph danceability distribution\n",
    "danceability = sns.histplot(df.danceability)\n",
    "#Show tick labels\n",
    "labels = danceability.set(xlabel = \"danceability score\", ylabel = \"Number of Songs\", title = \"Distribution of Danceability\")"
   ]
  },
  {
   "cell_type": "markdown",
   "id": "3d5ecc42",
   "metadata": {},
   "source": [
    "Danceability of the tracks is roughly normally distributed."
   ]
  },
  {
   "cell_type": "markdown",
   "id": "75c2b3de",
   "metadata": {},
   "source": [
    "#### Energy "
   ]
  },
  {
   "cell_type": "code",
   "execution_count": 127,
   "id": "539d1967",
   "metadata": {},
   "outputs": [
    {
     "data": {
      "image/png": "[encoded data removed]",
      "text/plain": [
       "<Figure size 432x288 with 1 Axes>"
      ]
     },
     "metadata": {
      "needs_background": "light"
     },
     "output_type": "display_data"
    }
   ],
   "source": [
    "#Graph energy distribution\n",
    "energy = sns.histplot(df.energy)\n",
    "#Create ticks and labels\n",
    "labels = energy.set(xlabel = \"Energy score\", ylabel = \"Number of Songs\", title = \"Distribution of Energy\")"
   ]
  },
  {
   "cell_type": "markdown",
   "id": "028581a9",
   "metadata": {},
   "source": [
    "Energy of each song is roughyl normally distributed."
   ]
  },
  {
   "cell_type": "markdown",
   "id": "d66e868d",
   "metadata": {},
   "source": [
    "#### Key"
   ]
  },
  {
   "cell_type": "code",
   "execution_count": 11,
   "id": "f75f2598",
   "metadata": {},
   "outputs": [
    {
     "data": {
      "image/png": "[encoded data removed]",
      "text/plain": [
       "<Figure size 432x288 with 1 Axes>"
      ]
     },
     "metadata": {
      "needs_background": "light"
     },
     "output_type": "display_data"
    }
   ],
   "source": [
    "#Create countplot for each key value\n",
    "key = sns.countplot(df.key)\n",
    "#Create labels\n",
    "labels = key.set(xlabel = \"Key\", ylabel = \"Number of Songs\", title = \"Number of Songs per Key\")"
   ]
  },
  {
   "cell_type": "markdown",
   "id": "7375601d",
   "metadata": {},
   "source": [
    "#### Loudness"
   ]
  },
  {
   "cell_type": "code",
   "execution_count": 129,
   "id": "948eeb18",
   "metadata": {},
   "outputs": [
    {
     "data": {
      "image/png": "[encoded data removed]",
      "text/plain": [
       "<Figure size 432x288 with 1 Axes>"
      ]
     },
     "metadata": {
      "needs_background": "light"
     },
     "output_type": "display_data"
    }
   ],
   "source": [
    "#Graph loudness distribution\n",
    "loudness = sns.histplot(df.loudness)\n",
    "#Create labels\n",
    "labels = loudness.set(xlabel = \"Loudness\", ylabel = \"Number of Songs\", title = \"Number of Songs per Loudness Score\")"
   ]
  },
  {
   "cell_type": "markdown",
   "id": "bee76cf9",
   "metadata": {},
   "source": [
    "Loudness is roughly normally distributed with a left skew."
   ]
  },
  {
   "cell_type": "markdown",
   "id": "54e4cc00",
   "metadata": {},
   "source": [
    "#### Mode"
   ]
  },
  {
   "cell_type": "code",
   "execution_count": 130,
   "id": "ea2b2073",
   "metadata": {},
   "outputs": [
    {
     "data": {
      "image/png": "[encoded data removed]",
      "text/plain": [
       "<Figure size 432x288 with 1 Axes>"
      ]
     },
     "metadata": {
      "needs_background": "light"
     },
     "output_type": "display_data"
    }
   ],
   "source": [
    "#Count of minor and major modes\n",
    "mode = sns.countplot(df['mode'])\n",
    "#Set tick labels\n",
    "mode.set_xticklabels(['Minor','Major'])\n",
    "labels = mode.set(xlabel = \"Mode of the Songs\", ylabel = \"Number of Songs\", title = \"Number of Songs per Mode (Minor or Major)\")"
   ]
  },
  {
   "cell_type": "markdown",
   "id": "d103f0ae",
   "metadata": {},
   "source": [
    "#### Speechiness"
   ]
  },
  {
   "cell_type": "code",
   "execution_count": 131,
   "id": "96073635",
   "metadata": {},
   "outputs": [
    {
     "data": {
      "image/png": "[encoded data removed]",
      "text/plain": [
       "<Figure size 432x288 with 1 Axes>"
      ]
     },
     "metadata": {
      "needs_background": "light"
     },
     "output_type": "display_data"
    }
   ],
   "source": [
    "#Graph speechiness distribution\n",
    "speechiness = sns.histplot(df['speechiness'])\n",
    "#Create labels\n",
    "labels = speechiness.set(xlabel = \"Speechiness Score of the Songs\", ylabel = \"Number of Songs\", title = \"Number of Songs per Speechiness\")"
   ]
  },
  {
   "cell_type": "markdown",
   "id": "bc435191",
   "metadata": {},
   "source": [
    "Speechiness is right-skew. There appears to be many outliers that are very high in speechiness, likely audiobooks or podcasts."
   ]
  },
  {
   "cell_type": "markdown",
   "id": "880837f6",
   "metadata": {},
   "source": [
    "#### Acousticness"
   ]
  },
  {
   "cell_type": "code",
   "execution_count": 15,
   "id": "de2ef770",
   "metadata": {},
   "outputs": [
    {
     "data": {
      "image/png": "[encoded data removed]",
      "text/plain": [
       "<Figure size 432x288 with 1 Axes>"
      ]
     },
     "metadata": {
      "needs_background": "light"
     },
     "output_type": "display_data"
    }
   ],
   "source": [
    "#Graph acousticness \n",
    "acousticness = sns.histplot(df.acousticness)\n",
    "#Create labels\n",
    "labels = acousticness.set(xlabel = \"Acousticness Score\", title = \"Number of Songs by Acousticness\")"
   ]
  },
  {
   "cell_type": "markdown",
   "id": "50873579",
   "metadata": {},
   "source": [
    "#### Instrumentalness"
   ]
  },
  {
   "cell_type": "markdown",
   "id": "7dde7739",
   "metadata": {},
   "source": [
    "**Note**\n",
    "\n",
    "There were so many tracks with instrumentalness at 0 that the graph appeared empty if we simply graphed the raw data. Below we only graph the tracks with instrumentalness above 0.01.\n",
    "\n",
    "The tracks with instrumentalnes 0 are likely audiobooks or podcasts."
   ]
  },
  {
   "cell_type": "code",
   "execution_count": 133,
   "id": "8df64e6e",
   "metadata": {},
   "outputs": [
    {
     "data": {
      "image/png": "[encoded data removed]",
      "text/plain": [
       "<Figure size 432x288 with 1 Axes>"
      ]
     },
     "metadata": {
      "needs_background": "light"
     },
     "output_type": "display_data"
    }
   ],
   "source": [
    "#Graph instrumentalness distribution\n",
    "instrumentalness = sns.histplot(df[df.instrumentalness > 0.01].instrumentalness)\n",
    "#Create labels\n",
    "labels = instrumentalness.set(title = \"Instrumentalness Distribution\")"
   ]
  },
  {
   "cell_type": "markdown",
   "id": "b2427c79",
   "metadata": {},
   "source": [
    "#### Liveness"
   ]
  },
  {
   "cell_type": "code",
   "execution_count": 134,
   "id": "f3a026a3",
   "metadata": {},
   "outputs": [
    {
     "data": {
      "image/png": "[encoded data removed]",
      "text/plain": [
       "<Figure size 432x288 with 1 Axes>"
      ]
     },
     "metadata": {
      "needs_background": "light"
     },
     "output_type": "display_data"
    }
   ],
   "source": [
    "#Graph liveliness\n",
    "liveness = sns.histplot(df.liveness)\n",
    "#Create labels\n",
    "labels = liveness.set(title = \"Liveness Distribution\")"
   ]
  },
  {
   "cell_type": "markdown",
   "id": "2982f3b9",
   "metadata": {},
   "source": [
    "Liveness is right skew."
   ]
  },
  {
   "cell_type": "markdown",
   "id": "4ed393fd",
   "metadata": {},
   "source": [
    "#### Tempo"
   ]
  },
  {
   "cell_type": "code",
   "execution_count": 135,
   "id": "deb811f8",
   "metadata": {},
   "outputs": [
    {
     "data": {
      "image/png": "[encoded data removed]",
      "text/plain": [
       "<Figure size 432x288 with 1 Axes>"
      ]
     },
     "metadata": {
      "needs_background": "light"
     },
     "output_type": "display_data"
    }
   ],
   "source": [
    "#Graph tempo\n",
    "tempo = sns.histplot(df.tempo)\n",
    "#Create labels\n",
    "labels = tempo.set(title = \"Tempo Distribution\")"
   ]
  },
  {
   "cell_type": "markdown",
   "id": "78df70c2",
   "metadata": {},
   "source": [
    "Tempo is roughly normally distributed."
   ]
  },
  {
   "cell_type": "markdown",
   "id": "867b563c",
   "metadata": {},
   "source": [
    "#### Time Signature"
   ]
  },
  {
   "cell_type": "code",
   "execution_count": 136,
   "id": "ba4309bf",
   "metadata": {},
   "outputs": [
    {
     "data": {
      "image/png": "[encoded data removed]",
      "text/plain": [
       "<Figure size 432x288 with 1 Axes>"
      ]
     },
     "metadata": {
      "needs_background": "light"
     },
     "output_type": "display_data"
    }
   ],
   "source": [
    "#Create time-signature distribution\n",
    "time_signature = sns.countplot(df.time_signature)\n",
    "#Create labels\n",
    "labels = time_signature.set(title = \"Number of Songs by Time Signature\")"
   ]
  },
  {
   "cell_type": "markdown",
   "id": "d7534817",
   "metadata": {},
   "source": [
    "Unsurprisingly, 4/4 beats are most common."
   ]
  },
  {
   "cell_type": "markdown",
   "id": "91d5800d",
   "metadata": {},
   "source": [
    "### Key Takeaways\n",
    "\n",
    " - Most of our features have a roughly normal distribution. \n",
    " - Our data has many outliers. \n",
    " - Our dataset has categorical and continuous features. The categorical features are already numeric. "
   ]
  },
  {
   "cell_type": "markdown",
   "id": "80505d35",
   "metadata": {},
   "source": [
    "## Prepare Data"
   ]
  },
  {
   "cell_type": "markdown",
   "id": "f6049b4a",
   "metadata": {},
   "source": [
    "Please see the `prepare.py` file in this repository for more information about the functions used to prepare the data in this section."
   ]
  },
  {
   "cell_type": "markdown",
   "id": "848b4f6e",
   "metadata": {},
   "source": [
    "### Handle Missing Values"
   ]
  },
  {
   "cell_type": "markdown",
   "id": "dd0a14d4",
   "metadata": {},
   "source": [
    "The `prepare_data` eliminates and rows or columns with excessive null values. The remaining null values are then imputed with the most frequent value of that column."
   ]
  },
  {
   "cell_type": "code",
   "execution_count": 96,
   "id": "a4ab6c64",
   "metadata": {},
   "outputs": [],
   "source": [
    "df = prepare_data(df)"
   ]
  },
  {
   "cell_type": "markdown",
   "id": "2daad94d",
   "metadata": {},
   "source": [
    "### Remove Outliers"
   ]
  },
  {
   "cell_type": "markdown",
   "id": "458da456",
   "metadata": {},
   "source": [
    "We remove the extreme outliers from our dataset."
   ]
  },
  {
   "cell_type": "code",
   "execution_count": 97,
   "id": "749c3be5",
   "metadata": {},
   "outputs": [],
   "source": [
    "df = data_no_outliers(df)"
   ]
  },
  {
   "cell_type": "code",
   "execution_count": 98,
   "id": "e422d6bf",
   "metadata": {},
   "outputs": [],
   "source": [
    "df = df.reset_index()"
   ]
  },
  {
   "cell_type": "code",
   "execution_count": 99,
   "id": "e7e7724a",
   "metadata": {},
   "outputs": [
    {
     "data": {
      "text/plain": [
       "403324"
      ]
     },
     "execution_count": 99,
     "metadata": {},
     "output_type": "execute_result"
    }
   ],
   "source": [
    "len(df)"
   ]
  },
  {
   "cell_type": "markdown",
   "id": "f22367b8",
   "metadata": {},
   "source": [
    "We have removed over 10_000 rows from the dataset."
   ]
  },
  {
   "cell_type": "markdown",
   "id": "f56f6271",
   "metadata": {},
   "source": [
    "### Date Column"
   ]
  },
  {
   "cell_type": "markdown",
   "id": "e2842173",
   "metadata": {},
   "source": [
    "For this project, I am going to conver the `release_date` column into `year_of_release`, since some of the values in the `release_date` column only contain data for year."
   ]
  },
  {
   "cell_type": "code",
   "execution_count": 100,
   "id": "f493b73d",
   "metadata": {},
   "outputs": [],
   "source": [
    "df['year_of_release'] = pd.to_datetime(df.release_date)\n",
    "df['year_of_release'] = df['year_of_release'].dt.year"
   ]
  },
  {
   "cell_type": "markdown",
   "id": "f86967e1",
   "metadata": {},
   "source": [
    "### Train, Validate, Test Split"
   ]
  },
  {
   "cell_type": "code",
   "execution_count": 101,
   "id": "852db321",
   "metadata": {},
   "outputs": [],
   "source": [
    "train, validate, test = split_data(df)"
   ]
  },
  {
   "cell_type": "code",
   "execution_count": 102,
   "id": "667f5e55",
   "metadata": {},
   "outputs": [
    {
     "data": {
      "text/plain": [
       "225861"
      ]
     },
     "execution_count": 102,
     "metadata": {},
     "output_type": "execute_result"
    }
   ],
   "source": [
    "len(train)"
   ]
  },
  {
   "cell_type": "code",
   "execution_count": 103,
   "id": "6662456d",
   "metadata": {},
   "outputs": [
    {
     "data": {
      "text/plain": [
       "96798"
      ]
     },
     "execution_count": 103,
     "metadata": {},
     "output_type": "execute_result"
    }
   ],
   "source": [
    "len(validate)"
   ]
  },
  {
   "cell_type": "code",
   "execution_count": 104,
   "id": "1db99950",
   "metadata": {},
   "outputs": [
    {
     "data": {
      "text/plain": [
       "80665"
      ]
     },
     "execution_count": 104,
     "metadata": {},
     "output_type": "execute_result"
    }
   ],
   "source": [
    "len(test)"
   ]
  },
  {
   "cell_type": "markdown",
   "id": "a098a21f",
   "metadata": {},
   "source": [
    "### Add Scaled Columns"
   ]
  },
  {
   "cell_type": "markdown",
   "id": "8be3d57b",
   "metadata": {},
   "source": [
    "Since `loudness` and `duration_ms` are not on the 0 to 1 scale, we scale those features using the Min-Max Scaler.\n",
    "\n",
    "The Min-Max Scaler maps every value to a value between 0 and 1."
   ]
  },
  {
   "cell_type": "code",
   "execution_count": 105,
   "id": "13cd9c64",
   "metadata": {},
   "outputs": [],
   "source": [
    "train, validate, test = add_scaled_columns(train, validate, test)"
   ]
  },
  {
   "cell_type": "code",
   "execution_count": 106,
   "id": "d29cda19",
   "metadata": {},
   "outputs": [
    {
     "data": {
      "text/html": [
       "<div>\n",
       "<style scoped>\n",
       "    .dataframe tbody tr th:only-of-type {\n",
       "        vertical-align: middle;\n",
       "    }\n",
       "\n",
       "    .dataframe tbody tr th {\n",
       "        vertical-align: top;\n",
       "    }\n",
       "\n",
       "    .dataframe thead th {\n",
       "        text-align: right;\n",
       "    }\n",
       "</style>\n",
       "<table border=\"1\" class=\"dataframe\">\n",
       "  <thead>\n",
       "    <tr style=\"text-align: right;\">\n",
       "      <th></th>\n",
       "      <th>index</th>\n",
       "      <th>id</th>\n",
       "      <th>name</th>\n",
       "      <th>popularity</th>\n",
       "      <th>duration_ms</th>\n",
       "      <th>explicit</th>\n",
       "      <th>artists</th>\n",
       "      <th>id_artists</th>\n",
       "      <th>release_date</th>\n",
       "      <th>danceability</th>\n",
       "      <th>...</th>\n",
       "      <th>speechiness</th>\n",
       "      <th>acousticness</th>\n",
       "      <th>instrumentalness</th>\n",
       "      <th>liveness</th>\n",
       "      <th>valence</th>\n",
       "      <th>tempo</th>\n",
       "      <th>time_signature</th>\n",
       "      <th>year_of_release</th>\n",
       "      <th>duration_ms_scaled</th>\n",
       "      <th>loudness_scaled</th>\n",
       "    </tr>\n",
       "  </thead>\n",
       "  <tbody>\n",
       "    <tr>\n",
       "      <th>336488</th>\n",
       "      <td>487178</td>\n",
       "      <td>2LJQHkTucSOJf9hQL0Q8ae</td>\n",
       "      <td>Mein Ding</td>\n",
       "      <td>49</td>\n",
       "      <td>265587</td>\n",
       "      <td>0</td>\n",
       "      <td>['Udo Lindenberg']</td>\n",
       "      <td>['7iWcRnQMinCoV2u5ICgsW0']</td>\n",
       "      <td>2008-03-28</td>\n",
       "      <td>0.618</td>\n",
       "      <td>...</td>\n",
       "      <td>0.0311</td>\n",
       "      <td>0.00895</td>\n",
       "      <td>0.007490</td>\n",
       "      <td>0.0840</td>\n",
       "      <td>0.455</td>\n",
       "      <td>126.973</td>\n",
       "      <td>4</td>\n",
       "      <td>2008</td>\n",
       "      <td>0.497902</td>\n",
       "      <td>0.857457</td>\n",
       "    </tr>\n",
       "    <tr>\n",
       "      <th>318542</th>\n",
       "      <td>458324</td>\n",
       "      <td>1SwJzgDCwrpBGcvldOxDs1</td>\n",
       "      <td>Bonjour (V'là les nouvelles)</td>\n",
       "      <td>15</td>\n",
       "      <td>182960</td>\n",
       "      <td>0</td>\n",
       "      <td>[\"Chagrin D'amour\"]</td>\n",
       "      <td>['1LTi4SuPK0G9juYKxU6AAG']</td>\n",
       "      <td>1982-01-01</td>\n",
       "      <td>0.761</td>\n",
       "      <td>...</td>\n",
       "      <td>0.0700</td>\n",
       "      <td>0.29900</td>\n",
       "      <td>0.000000</td>\n",
       "      <td>0.3510</td>\n",
       "      <td>0.962</td>\n",
       "      <td>127.504</td>\n",
       "      <td>4</td>\n",
       "      <td>1982</td>\n",
       "      <td>0.341024</td>\n",
       "      <td>0.838799</td>\n",
       "    </tr>\n",
       "    <tr>\n",
       "      <th>243364</th>\n",
       "      <td>357260</td>\n",
       "      <td>3CQkJpY08xj0pB2jBeHUjV</td>\n",
       "      <td>Nirvana Kyuchek</td>\n",
       "      <td>28</td>\n",
       "      <td>241920</td>\n",
       "      <td>0</td>\n",
       "      <td>['Slavi Trifonov', 'Ku-Ku Band']</td>\n",
       "      <td>['4hcbbb8RBjFjCuMhmVv1b9', '6dTTAcKWN7BmRGAmmA...</td>\n",
       "      <td>2013-02-12</td>\n",
       "      <td>0.695</td>\n",
       "      <td>...</td>\n",
       "      <td>0.0564</td>\n",
       "      <td>0.01220</td>\n",
       "      <td>0.005590</td>\n",
       "      <td>0.0522</td>\n",
       "      <td>0.466</td>\n",
       "      <td>93.917</td>\n",
       "      <td>4</td>\n",
       "      <td>2013</td>\n",
       "      <td>0.452967</td>\n",
       "      <td>0.816115</td>\n",
       "    </tr>\n",
       "    <tr>\n",
       "      <th>37863</th>\n",
       "      <td>65892</td>\n",
       "      <td>2dxRzFDDv3QcSMQ0vIgqMF</td>\n",
       "      <td>Brillante sobre el mic</td>\n",
       "      <td>51</td>\n",
       "      <td>248560</td>\n",
       "      <td>0</td>\n",
       "      <td>['Fito Paez']</td>\n",
       "      <td>['1bZNv4q3OxYq7mmnLha7Tu']</td>\n",
       "      <td>1992-02-01</td>\n",
       "      <td>0.645</td>\n",
       "      <td>...</td>\n",
       "      <td>0.0254</td>\n",
       "      <td>0.17600</td>\n",
       "      <td>0.000003</td>\n",
       "      <td>0.2280</td>\n",
       "      <td>0.745</td>\n",
       "      <td>105.833</td>\n",
       "      <td>4</td>\n",
       "      <td>1992</td>\n",
       "      <td>0.465574</td>\n",
       "      <td>0.777793</td>\n",
       "    </tr>\n",
       "    <tr>\n",
       "      <th>313199</th>\n",
       "      <td>450998</td>\n",
       "      <td>1xRP7GwKppuawKo4CbiTl2</td>\n",
       "      <td>Bangun Cinta</td>\n",
       "      <td>52</td>\n",
       "      <td>202552</td>\n",
       "      <td>0</td>\n",
       "      <td>['3 Composers']</td>\n",
       "      <td>['145zDAbvELoocgZ4bZrSXe']</td>\n",
       "      <td>2018-04-13</td>\n",
       "      <td>0.689</td>\n",
       "      <td>...</td>\n",
       "      <td>0.0349</td>\n",
       "      <td>0.68500</td>\n",
       "      <td>0.000000</td>\n",
       "      <td>0.1060</td>\n",
       "      <td>0.528</td>\n",
       "      <td>88.022</td>\n",
       "      <td>4</td>\n",
       "      <td>2018</td>\n",
       "      <td>0.378222</td>\n",
       "      <td>0.808668</td>\n",
       "    </tr>\n",
       "  </tbody>\n",
       "</table>\n",
       "<p>5 rows × 24 columns</p>\n",
       "</div>"
      ],
      "text/plain": [
       "         index                      id                          name  \\\n",
       "336488  487178  2LJQHkTucSOJf9hQL0Q8ae                     Mein Ding   \n",
       "318542  458324  1SwJzgDCwrpBGcvldOxDs1  Bonjour (V'là les nouvelles)   \n",
       "243364  357260  3CQkJpY08xj0pB2jBeHUjV               Nirvana Kyuchek   \n",
       "37863    65892  2dxRzFDDv3QcSMQ0vIgqMF        Brillante sobre el mic   \n",
       "313199  450998  1xRP7GwKppuawKo4CbiTl2                  Bangun Cinta   \n",
       "\n",
       "        popularity  duration_ms  explicit                           artists  \\\n",
       "336488          49       265587         0                ['Udo Lindenberg']   \n",
       "318542          15       182960         0               [\"Chagrin D'amour\"]   \n",
       "243364          28       241920         0  ['Slavi Trifonov', 'Ku-Ku Band']   \n",
       "37863           51       248560         0                     ['Fito Paez']   \n",
       "313199          52       202552         0                   ['3 Composers']   \n",
       "\n",
       "                                               id_artists release_date  \\\n",
       "336488                         ['7iWcRnQMinCoV2u5ICgsW0']   2008-03-28   \n",
       "318542                         ['1LTi4SuPK0G9juYKxU6AAG']   1982-01-01   \n",
       "243364  ['4hcbbb8RBjFjCuMhmVv1b9', '6dTTAcKWN7BmRGAmmA...   2013-02-12   \n",
       "37863                          ['1bZNv4q3OxYq7mmnLha7Tu']   1992-02-01   \n",
       "313199                         ['145zDAbvELoocgZ4bZrSXe']   2018-04-13   \n",
       "\n",
       "        danceability  ...  speechiness  acousticness  instrumentalness  \\\n",
       "336488         0.618  ...       0.0311       0.00895          0.007490   \n",
       "318542         0.761  ...       0.0700       0.29900          0.000000   \n",
       "243364         0.695  ...       0.0564       0.01220          0.005590   \n",
       "37863          0.645  ...       0.0254       0.17600          0.000003   \n",
       "313199         0.689  ...       0.0349       0.68500          0.000000   \n",
       "\n",
       "        liveness  valence    tempo  time_signature  year_of_release  \\\n",
       "336488    0.0840    0.455  126.973               4             2008   \n",
       "318542    0.3510    0.962  127.504               4             1982   \n",
       "243364    0.0522    0.466   93.917               4             2013   \n",
       "37863     0.2280    0.745  105.833               4             1992   \n",
       "313199    0.1060    0.528   88.022               4             2018   \n",
       "\n",
       "        duration_ms_scaled  loudness_scaled  \n",
       "336488            0.497902         0.857457  \n",
       "318542            0.341024         0.838799  \n",
       "243364            0.452967         0.816115  \n",
       "37863             0.465574         0.777793  \n",
       "313199            0.378222         0.808668  \n",
       "\n",
       "[5 rows x 24 columns]"
      ]
     },
     "execution_count": 106,
     "metadata": {},
     "output_type": "execute_result"
    }
   ],
   "source": [
    "train.head()"
   ]
  },
  {
   "cell_type": "code",
   "execution_count": 29,
   "id": "f926a076",
   "metadata": {},
   "outputs": [
    {
     "data": {
      "text/html": [
       "<div>\n",
       "<style scoped>\n",
       "    .dataframe tbody tr th:only-of-type {\n",
       "        vertical-align: middle;\n",
       "    }\n",
       "\n",
       "    .dataframe tbody tr th {\n",
       "        vertical-align: top;\n",
       "    }\n",
       "\n",
       "    .dataframe thead th {\n",
       "        text-align: right;\n",
       "    }\n",
       "</style>\n",
       "<table border=\"1\" class=\"dataframe\">\n",
       "  <thead>\n",
       "    <tr style=\"text-align: right;\">\n",
       "      <th></th>\n",
       "      <th>index</th>\n",
       "      <th>id</th>\n",
       "      <th>name</th>\n",
       "      <th>popularity</th>\n",
       "      <th>duration_ms</th>\n",
       "      <th>explicit</th>\n",
       "      <th>artists</th>\n",
       "      <th>id_artists</th>\n",
       "      <th>release_date</th>\n",
       "      <th>danceability</th>\n",
       "      <th>...</th>\n",
       "      <th>speechiness</th>\n",
       "      <th>acousticness</th>\n",
       "      <th>instrumentalness</th>\n",
       "      <th>liveness</th>\n",
       "      <th>valence</th>\n",
       "      <th>tempo</th>\n",
       "      <th>time_signature</th>\n",
       "      <th>year_of_release</th>\n",
       "      <th>duration_ms_scaled</th>\n",
       "      <th>loudness_scaled</th>\n",
       "    </tr>\n",
       "  </thead>\n",
       "  <tbody>\n",
       "    <tr>\n",
       "      <th>240365</th>\n",
       "      <td>352753</td>\n",
       "      <td>4qEHMJyER7OntYTtPsIT1W</td>\n",
       "      <td>11 RAZONES</td>\n",
       "      <td>63</td>\n",
       "      <td>213180</td>\n",
       "      <td>0</td>\n",
       "      <td>['Aitana']</td>\n",
       "      <td>['7eLcDZDYHXZCebtQmVFL25']</td>\n",
       "      <td>2020-12-10</td>\n",
       "      <td>0.550</td>\n",
       "      <td>...</td>\n",
       "      <td>0.0508</td>\n",
       "      <td>0.00599</td>\n",
       "      <td>0.0</td>\n",
       "      <td>0.2140</td>\n",
       "      <td>0.348</td>\n",
       "      <td>166.011</td>\n",
       "      <td>4</td>\n",
       "      <td>2020</td>\n",
       "      <td>0.398401</td>\n",
       "      <td>0.868063</td>\n",
       "    </tr>\n",
       "    <tr>\n",
       "      <th>259209</th>\n",
       "      <td>377554</td>\n",
       "      <td>0jtguxOX9085ws8UtRiQv1</td>\n",
       "      <td>Mooi Weer Vandaag</td>\n",
       "      <td>35</td>\n",
       "      <td>217733</td>\n",
       "      <td>0</td>\n",
       "      <td>['Bart Kaell']</td>\n",
       "      <td>['7vwpGdC4NswrFH2szqnzy3']</td>\n",
       "      <td>1993-11-22</td>\n",
       "      <td>0.757</td>\n",
       "      <td>...</td>\n",
       "      <td>0.0459</td>\n",
       "      <td>0.14700</td>\n",
       "      <td>0.0</td>\n",
       "      <td>0.2490</td>\n",
       "      <td>0.817</td>\n",
       "      <td>137.135</td>\n",
       "      <td>4</td>\n",
       "      <td>1993</td>\n",
       "      <td>0.407045</td>\n",
       "      <td>0.733525</td>\n",
       "    </tr>\n",
       "    <tr>\n",
       "      <th>373606</th>\n",
       "      <td>546900</td>\n",
       "      <td>4YLfmYMEzdvnkgzKYjRKPw</td>\n",
       "      <td>ひとかけらの純情</td>\n",
       "      <td>20</td>\n",
       "      <td>187320</td>\n",
       "      <td>0</td>\n",
       "      <td>['Saori Minami']</td>\n",
       "      <td>['4Q1uC5VlYJw6cnl37BkGS3']</td>\n",
       "      <td>1971</td>\n",
       "      <td>0.689</td>\n",
       "      <td>...</td>\n",
       "      <td>0.0283</td>\n",
       "      <td>0.67600</td>\n",
       "      <td>0.0</td>\n",
       "      <td>0.1060</td>\n",
       "      <td>0.735</td>\n",
       "      <td>110.660</td>\n",
       "      <td>4</td>\n",
       "      <td>1971</td>\n",
       "      <td>0.349302</td>\n",
       "      <td>0.844621</td>\n",
       "    </tr>\n",
       "    <tr>\n",
       "      <th>142758</th>\n",
       "      <td>221145</td>\n",
       "      <td>1n5JuPVZhc8gIeEaQnaxAu</td>\n",
       "      <td>Eshet Haikar</td>\n",
       "      <td>5</td>\n",
       "      <td>278518</td>\n",
       "      <td>0</td>\n",
       "      <td>['Arik Einstein', 'Shalom Hanoch']</td>\n",
       "      <td>['16XberediOtO5CaMrx85cR', '1Eks6sKVw6yepoeTbW...</td>\n",
       "      <td>1970</td>\n",
       "      <td>0.528</td>\n",
       "      <td>...</td>\n",
       "      <td>0.0374</td>\n",
       "      <td>0.21500</td>\n",
       "      <td>0.0</td>\n",
       "      <td>0.3860</td>\n",
       "      <td>0.732</td>\n",
       "      <td>76.024</td>\n",
       "      <td>4</td>\n",
       "      <td>1970</td>\n",
       "      <td>0.522453</td>\n",
       "      <td>0.665970</td>\n",
       "    </tr>\n",
       "    <tr>\n",
       "      <th>340082</th>\n",
       "      <td>492501</td>\n",
       "      <td>5HPSvCWCM9TvsagA1idzuw</td>\n",
       "      <td>Speaking In Tongues</td>\n",
       "      <td>45</td>\n",
       "      <td>243227</td>\n",
       "      <td>1</td>\n",
       "      <td>['Hilltop Hoods', 'Chali 2na']</td>\n",
       "      <td>['7dlqUnjoF2U2DkNDMhcgG4', '1ZJlXFkFDBsjSuYyjV...</td>\n",
       "      <td>2012-01-01</td>\n",
       "      <td>0.691</td>\n",
       "      <td>...</td>\n",
       "      <td>0.1110</td>\n",
       "      <td>0.26300</td>\n",
       "      <td>0.0</td>\n",
       "      <td>0.0321</td>\n",
       "      <td>0.853</td>\n",
       "      <td>91.998</td>\n",
       "      <td>4</td>\n",
       "      <td>2012</td>\n",
       "      <td>0.455449</td>\n",
       "      <td>0.834975</td>\n",
       "    </tr>\n",
       "  </tbody>\n",
       "</table>\n",
       "<p>5 rows × 24 columns</p>\n",
       "</div>"
      ],
      "text/plain": [
       "         index                      id                 name  popularity  \\\n",
       "240365  352753  4qEHMJyER7OntYTtPsIT1W           11 RAZONES          63   \n",
       "259209  377554  0jtguxOX9085ws8UtRiQv1    Mooi Weer Vandaag          35   \n",
       "373606  546900  4YLfmYMEzdvnkgzKYjRKPw             ひとかけらの純情          20   \n",
       "142758  221145  1n5JuPVZhc8gIeEaQnaxAu         Eshet Haikar           5   \n",
       "340082  492501  5HPSvCWCM9TvsagA1idzuw  Speaking In Tongues          45   \n",
       "\n",
       "        duration_ms  explicit                             artists  \\\n",
       "240365       213180         0                          ['Aitana']   \n",
       "259209       217733         0                      ['Bart Kaell']   \n",
       "373606       187320         0                    ['Saori Minami']   \n",
       "142758       278518         0  ['Arik Einstein', 'Shalom Hanoch']   \n",
       "340082       243227         1      ['Hilltop Hoods', 'Chali 2na']   \n",
       "\n",
       "                                               id_artists release_date  \\\n",
       "240365                         ['7eLcDZDYHXZCebtQmVFL25']   2020-12-10   \n",
       "259209                         ['7vwpGdC4NswrFH2szqnzy3']   1993-11-22   \n",
       "373606                         ['4Q1uC5VlYJw6cnl37BkGS3']         1971   \n",
       "142758  ['16XberediOtO5CaMrx85cR', '1Eks6sKVw6yepoeTbW...         1970   \n",
       "340082  ['7dlqUnjoF2U2DkNDMhcgG4', '1ZJlXFkFDBsjSuYyjV...   2012-01-01   \n",
       "\n",
       "        danceability  ...  speechiness  acousticness  instrumentalness  \\\n",
       "240365         0.550  ...       0.0508       0.00599               0.0   \n",
       "259209         0.757  ...       0.0459       0.14700               0.0   \n",
       "373606         0.689  ...       0.0283       0.67600               0.0   \n",
       "142758         0.528  ...       0.0374       0.21500               0.0   \n",
       "340082         0.691  ...       0.1110       0.26300               0.0   \n",
       "\n",
       "        liveness  valence    tempo  time_signature  year_of_release  \\\n",
       "240365    0.2140    0.348  166.011               4             2020   \n",
       "259209    0.2490    0.817  137.135               4             1993   \n",
       "373606    0.1060    0.735  110.660               4             1971   \n",
       "142758    0.3860    0.732   76.024               4             1970   \n",
       "340082    0.0321    0.853   91.998               4             2012   \n",
       "\n",
       "        duration_ms_scaled  loudness_scaled  \n",
       "240365            0.398401         0.868063  \n",
       "259209            0.407045         0.733525  \n",
       "373606            0.349302         0.844621  \n",
       "142758            0.522453         0.665970  \n",
       "340082            0.455449         0.834975  \n",
       "\n",
       "[5 rows x 24 columns]"
      ]
     },
     "execution_count": 29,
     "metadata": {},
     "output_type": "execute_result"
    }
   ],
   "source": [
    "validate.head()"
   ]
  },
  {
   "cell_type": "code",
   "execution_count": 30,
   "id": "5da6bbaf",
   "metadata": {},
   "outputs": [
    {
     "data": {
      "text/html": [
       "<div>\n",
       "<style scoped>\n",
       "    .dataframe tbody tr th:only-of-type {\n",
       "        vertical-align: middle;\n",
       "    }\n",
       "\n",
       "    .dataframe tbody tr th {\n",
       "        vertical-align: top;\n",
       "    }\n",
       "\n",
       "    .dataframe thead th {\n",
       "        text-align: right;\n",
       "    }\n",
       "</style>\n",
       "<table border=\"1\" class=\"dataframe\">\n",
       "  <thead>\n",
       "    <tr style=\"text-align: right;\">\n",
       "      <th></th>\n",
       "      <th>index</th>\n",
       "      <th>id</th>\n",
       "      <th>name</th>\n",
       "      <th>popularity</th>\n",
       "      <th>duration_ms</th>\n",
       "      <th>explicit</th>\n",
       "      <th>artists</th>\n",
       "      <th>id_artists</th>\n",
       "      <th>release_date</th>\n",
       "      <th>danceability</th>\n",
       "      <th>...</th>\n",
       "      <th>speechiness</th>\n",
       "      <th>acousticness</th>\n",
       "      <th>instrumentalness</th>\n",
       "      <th>liveness</th>\n",
       "      <th>valence</th>\n",
       "      <th>tempo</th>\n",
       "      <th>time_signature</th>\n",
       "      <th>year_of_release</th>\n",
       "      <th>duration_ms_scaled</th>\n",
       "      <th>loudness_scaled</th>\n",
       "    </tr>\n",
       "  </thead>\n",
       "  <tbody>\n",
       "    <tr>\n",
       "      <th>49416</th>\n",
       "      <td>82801</td>\n",
       "      <td>0WDk4azsowshw4uPH9hM3s</td>\n",
       "      <td>Sweet Sorrow - Mono; 2009 Remaster</td>\n",
       "      <td>0</td>\n",
       "      <td>142627</td>\n",
       "      <td>0</td>\n",
       "      <td>['Cliff Bennett &amp; The Rebel Rousers']</td>\n",
       "      <td>['4SwsfZi8Wl6WyKArywOjmR']</td>\n",
       "      <td>2009-04-06</td>\n",
       "      <td>0.445</td>\n",
       "      <td>...</td>\n",
       "      <td>0.0345</td>\n",
       "      <td>0.423000</td>\n",
       "      <td>0.000000</td>\n",
       "      <td>0.0726</td>\n",
       "      <td>0.603</td>\n",
       "      <td>144.185</td>\n",
       "      <td>4</td>\n",
       "      <td>2009</td>\n",
       "      <td>0.264447</td>\n",
       "      <td>0.859810</td>\n",
       "    </tr>\n",
       "    <tr>\n",
       "      <th>199305</th>\n",
       "      <td>298030</td>\n",
       "      <td>2RUQPfpb1hJCkMsndlB7iG</td>\n",
       "      <td>Mighty Quinn</td>\n",
       "      <td>28</td>\n",
       "      <td>389200</td>\n",
       "      <td>0</td>\n",
       "      <td>[\"Manfred Mann's Earth Band\"]</td>\n",
       "      <td>['2utNxkLhreF1oIfO8kQT3q']</td>\n",
       "      <td>1978</td>\n",
       "      <td>0.379</td>\n",
       "      <td>...</td>\n",
       "      <td>0.0424</td>\n",
       "      <td>0.005780</td>\n",
       "      <td>0.003000</td>\n",
       "      <td>0.0668</td>\n",
       "      <td>0.523</td>\n",
       "      <td>100.405</td>\n",
       "      <td>4</td>\n",
       "      <td>1978</td>\n",
       "      <td>0.732597</td>\n",
       "      <td>0.744488</td>\n",
       "    </tr>\n",
       "    <tr>\n",
       "      <th>188400</th>\n",
       "      <td>282960</td>\n",
       "      <td>7DJoIiy2rwQmgq49ATq62v</td>\n",
       "      <td>God Only Knows</td>\n",
       "      <td>27</td>\n",
       "      <td>275400</td>\n",
       "      <td>0</td>\n",
       "      <td>['James']</td>\n",
       "      <td>['0qLNsNKm8bQcMoRFkR8Hmh']</td>\n",
       "      <td>1990</td>\n",
       "      <td>0.318</td>\n",
       "      <td>...</td>\n",
       "      <td>0.0791</td>\n",
       "      <td>0.000371</td>\n",
       "      <td>0.001570</td>\n",
       "      <td>0.2590</td>\n",
       "      <td>0.628</td>\n",
       "      <td>135.773</td>\n",
       "      <td>4</td>\n",
       "      <td>1990</td>\n",
       "      <td>0.516533</td>\n",
       "      <td>0.750325</td>\n",
       "    </tr>\n",
       "    <tr>\n",
       "      <th>161999</th>\n",
       "      <td>248202</td>\n",
       "      <td>0kJN4zXuwYKp6k9UDvjSrM</td>\n",
       "      <td>Weekend in New England</td>\n",
       "      <td>32</td>\n",
       "      <td>224827</td>\n",
       "      <td>0</td>\n",
       "      <td>['Barry Manilow']</td>\n",
       "      <td>['3alW3LYQS8K29z8C8NSLIX']</td>\n",
       "      <td>1973</td>\n",
       "      <td>0.255</td>\n",
       "      <td>...</td>\n",
       "      <td>0.0275</td>\n",
       "      <td>0.544000</td>\n",
       "      <td>0.000030</td>\n",
       "      <td>0.1180</td>\n",
       "      <td>0.235</td>\n",
       "      <td>80.685</td>\n",
       "      <td>3</td>\n",
       "      <td>1973</td>\n",
       "      <td>0.420514</td>\n",
       "      <td>0.766150</td>\n",
       "    </tr>\n",
       "    <tr>\n",
       "      <th>383661</th>\n",
       "      <td>559417</td>\n",
       "      <td>6fCfuXlm4OvK5OXwADQp8D</td>\n",
       "      <td>ダカラドオシタ</td>\n",
       "      <td>38</td>\n",
       "      <td>199124</td>\n",
       "      <td>0</td>\n",
       "      <td>['Arukara']</td>\n",
       "      <td>['3FNVZovYeq27HeeJf3ogLU']</td>\n",
       "      <td>2012-07-25</td>\n",
       "      <td>0.578</td>\n",
       "      <td>...</td>\n",
       "      <td>0.1110</td>\n",
       "      <td>0.006350</td>\n",
       "      <td>0.000063</td>\n",
       "      <td>0.0797</td>\n",
       "      <td>0.601</td>\n",
       "      <td>144.992</td>\n",
       "      <td>4</td>\n",
       "      <td>2012</td>\n",
       "      <td>0.371713</td>\n",
       "      <td>0.904868</td>\n",
       "    </tr>\n",
       "  </tbody>\n",
       "</table>\n",
       "<p>5 rows × 24 columns</p>\n",
       "</div>"
      ],
      "text/plain": [
       "         index                      id                                name  \\\n",
       "49416    82801  0WDk4azsowshw4uPH9hM3s  Sweet Sorrow - Mono; 2009 Remaster   \n",
       "199305  298030  2RUQPfpb1hJCkMsndlB7iG                        Mighty Quinn   \n",
       "188400  282960  7DJoIiy2rwQmgq49ATq62v                      God Only Knows   \n",
       "161999  248202  0kJN4zXuwYKp6k9UDvjSrM              Weekend in New England   \n",
       "383661  559417  6fCfuXlm4OvK5OXwADQp8D                             ダカラドオシタ   \n",
       "\n",
       "        popularity  duration_ms  explicit  \\\n",
       "49416            0       142627         0   \n",
       "199305          28       389200         0   \n",
       "188400          27       275400         0   \n",
       "161999          32       224827         0   \n",
       "383661          38       199124         0   \n",
       "\n",
       "                                      artists                  id_artists  \\\n",
       "49416   ['Cliff Bennett & The Rebel Rousers']  ['4SwsfZi8Wl6WyKArywOjmR']   \n",
       "199305          [\"Manfred Mann's Earth Band\"]  ['2utNxkLhreF1oIfO8kQT3q']   \n",
       "188400                              ['James']  ['0qLNsNKm8bQcMoRFkR8Hmh']   \n",
       "161999                      ['Barry Manilow']  ['3alW3LYQS8K29z8C8NSLIX']   \n",
       "383661                            ['Arukara']  ['3FNVZovYeq27HeeJf3ogLU']   \n",
       "\n",
       "       release_date  danceability  ...  speechiness  acousticness  \\\n",
       "49416    2009-04-06         0.445  ...       0.0345      0.423000   \n",
       "199305         1978         0.379  ...       0.0424      0.005780   \n",
       "188400         1990         0.318  ...       0.0791      0.000371   \n",
       "161999         1973         0.255  ...       0.0275      0.544000   \n",
       "383661   2012-07-25         0.578  ...       0.1110      0.006350   \n",
       "\n",
       "        instrumentalness  liveness  valence    tempo  time_signature  \\\n",
       "49416           0.000000    0.0726    0.603  144.185               4   \n",
       "199305          0.003000    0.0668    0.523  100.405               4   \n",
       "188400          0.001570    0.2590    0.628  135.773               4   \n",
       "161999          0.000030    0.1180    0.235   80.685               3   \n",
       "383661          0.000063    0.0797    0.601  144.992               4   \n",
       "\n",
       "        year_of_release  duration_ms_scaled  loudness_scaled  \n",
       "49416              2009            0.264447         0.859810  \n",
       "199305             1978            0.732597         0.744488  \n",
       "188400             1990            0.516533         0.750325  \n",
       "161999             1973            0.420514         0.766150  \n",
       "383661             2012            0.371713         0.904868  \n",
       "\n",
       "[5 rows x 24 columns]"
      ]
     },
     "execution_count": 30,
     "metadata": {},
     "output_type": "execute_result"
    }
   ],
   "source": [
    "test.head()"
   ]
  },
  {
   "cell_type": "markdown",
   "id": "6c4912f5",
   "metadata": {},
   "source": [
    "### Key Takeaways\n",
    "\n",
    " - There are no remaining null-values in our dataset. \n",
    " - We removed outliers, which took approximately 10,000 rows out of our dataset.\n",
    " - We added in several new columns:\n",
    "     - `year_of_release`,\n",
    "     - `loudness_scaled`, and \n",
    "     - `duration_ms_scaled`. \n",
    " - We split our data into `train`, `validate`, and `test` datasets."
   ]
  },
  {
   "cell_type": "markdown",
   "id": "f796bdc0",
   "metadata": {},
   "source": [
    "## Explore"
   ]
  },
  {
   "cell_type": "markdown",
   "id": "b79331f8",
   "metadata": {},
   "source": [
    "### Feature Engineering"
   ]
  },
  {
   "cell_type": "markdown",
   "id": "c52e3abc",
   "metadata": {},
   "source": [
    "I will use feature engineering to determine which features are most likely predictive of `popularity`. To use, feature engineering, we first split the data between our features and our target."
   ]
  },
  {
   "cell_type": "code",
   "execution_count": 31,
   "id": "1fd565b9",
   "metadata": {},
   "outputs": [
    {
     "data": {
      "text/plain": [
       "Index(['index', 'id', 'name', 'popularity', 'duration_ms', 'explicit',\n",
       "       'artists', 'id_artists', 'release_date', 'danceability', 'energy',\n",
       "       'key', 'loudness', 'mode', 'speechiness', 'acousticness',\n",
       "       'instrumentalness', 'liveness', 'valence', 'tempo', 'time_signature',\n",
       "       'year_of_release', 'duration_ms_scaled', 'loudness_scaled'],\n",
       "      dtype='object')"
      ]
     },
     "execution_count": 31,
     "metadata": {},
     "output_type": "execute_result"
    }
   ],
   "source": [
    "train.columns"
   ]
  },
  {
   "cell_type": "markdown",
   "id": "5c87bddc",
   "metadata": {},
   "source": [
    "We create one dataset with our continuous variables, and one dataset with our target variable."
   ]
  },
  {
   "cell_type": "code",
   "execution_count": 162,
   "id": "112a9213",
   "metadata": {},
   "outputs": [],
   "source": [
    "X_train = train[['explicit', 'danceability', 'energy', 'key', 'mode', 'speechiness', 'acousticness', 'instrumentalness',\n",
    "       'liveness', 'valence', 'tempo', 'time_signature',\n",
    "       'duration_ms_scaled', 'loudness_scaled', 'year_of_release']]\n",
    "y_train = train['popularity']\n",
    "X_validate = validate[['explicit', 'danceability', 'energy', 'key', 'mode', 'speechiness', 'acousticness', 'instrumentalness',\n",
    "       'liveness', 'valence', 'tempo', 'time_signature', \n",
    "       'duration_ms_scaled', 'loudness_scaled', 'year_of_release']]\n",
    "y_validate = validate.popularity\n",
    "X_test = test[['explicit', 'danceability', 'energy', 'key', 'mode', 'speechiness', 'acousticness', 'instrumentalness',\n",
    "       'liveness', 'valence', 'tempo', 'time_signature',\n",
    "       'duration_ms_scaled', 'loudness_scaled', 'year_of_release']]\n",
    "y_test = test.popularity"
   ]
  },
  {
   "cell_type": "code",
   "execution_count": 108,
   "id": "cf0394f3",
   "metadata": {},
   "outputs": [
    {
     "data": {
      "text/plain": [
       "15"
      ]
     },
     "execution_count": 108,
     "metadata": {},
     "output_type": "execute_result"
    }
   ],
   "source": [
    "len(X_train.columns)"
   ]
  },
  {
   "cell_type": "code",
   "execution_count": 109,
   "id": "c0ee20df",
   "metadata": {},
   "outputs": [
    {
     "data": {
      "text/plain": [
       "15"
      ]
     },
     "execution_count": 109,
     "metadata": {},
     "output_type": "execute_result"
    }
   ],
   "source": [
    "len(X_validate.columns)"
   ]
  },
  {
   "cell_type": "code",
   "execution_count": 110,
   "id": "aac79c15",
   "metadata": {},
   "outputs": [
    {
     "data": {
      "text/plain": [
       "15"
      ]
     },
     "execution_count": 110,
     "metadata": {},
     "output_type": "execute_result"
    }
   ],
   "source": [
    "len(X_test.columns)"
   ]
  },
  {
   "cell_type": "markdown",
   "id": "ca6c1303",
   "metadata": {},
   "source": [
    "All of our datasets have the same number of columns. We will select the best features from our 15 columns."
   ]
  },
  {
   "cell_type": "markdown",
   "id": "03f54202",
   "metadata": {},
   "source": [
    "#### Select K Best Model"
   ]
  },
  {
   "cell_type": "code",
   "execution_count": 37,
   "id": "d28d6923",
   "metadata": {},
   "outputs": [
    {
     "data": {
      "text/plain": [
       "Index(['explicit', 'danceability', 'energy', 'acousticness', 'loudness_scaled',\n",
       "       'year_of_release'],\n",
       "      dtype='object')"
      ]
     },
     "execution_count": 37,
     "metadata": {},
     "output_type": "execute_result"
    }
   ],
   "source": [
    "# Create model\n",
    "kbest_6 = SelectKBest(f_regression, k=6)\n",
    "#Fit the model\n",
    "kbest_6.fit(X_train, y_train)\n",
    "X_train.columns[kbest_6.get_support()]"
   ]
  },
  {
   "cell_type": "code",
   "execution_count": 38,
   "id": "fb75cf87",
   "metadata": {},
   "outputs": [
    {
     "data": {
      "text/plain": [
       "Index(['explicit', 'danceability', 'energy', 'acousticness',\n",
       "       'duration_ms_scaled', 'loudness_scaled', 'year_of_release'],\n",
       "      dtype='object')"
      ]
     },
     "execution_count": 38,
     "metadata": {},
     "output_type": "execute_result"
    }
   ],
   "source": [
    "# Create model\n",
    "kbest_7 = SelectKBest(f_regression, k=7)\n",
    "#Fit the model\n",
    "kbest_7.fit(X_train, y_train)\n",
    "X_train.columns[kbest_7.get_support()]"
   ]
  },
  {
   "cell_type": "code",
   "execution_count": 39,
   "id": "d288ebf0",
   "metadata": {},
   "outputs": [
    {
     "data": {
      "text/plain": [
       "Index(['explicit', 'danceability', 'energy', 'acousticness', 'time_signature',\n",
       "       'duration_ms_scaled', 'loudness_scaled', 'year_of_release'],\n",
       "      dtype='object')"
      ]
     },
     "execution_count": 39,
     "metadata": {},
     "output_type": "execute_result"
    }
   ],
   "source": [
    "# Create model\n",
    "kbest_8 = SelectKBest(f_regression, k=8)\n",
    "#Fit the model\n",
    "kbest_8.fit(X_train, y_train)\n",
    "X_train.columns[kbest_8.get_support()]"
   ]
  },
  {
   "cell_type": "code",
   "execution_count": 40,
   "id": "b65d56e4",
   "metadata": {},
   "outputs": [
    {
     "data": {
      "text/plain": [
       "Index(['explicit', 'danceability', 'energy', 'acousticness',\n",
       "       'instrumentalness', 'time_signature', 'duration_ms_scaled',\n",
       "       'loudness_scaled', 'year_of_release'],\n",
       "      dtype='object')"
      ]
     },
     "execution_count": 40,
     "metadata": {},
     "output_type": "execute_result"
    }
   ],
   "source": [
    "# Create model\n",
    "kbest_9 = SelectKBest(f_regression, k=9)\n",
    "#Fit the model\n",
    "kbest_9.fit(X_train, y_train)\n",
    "X_train.columns[kbest_9.get_support()]"
   ]
  },
  {
   "cell_type": "code",
   "execution_count": 41,
   "id": "1132e0d8",
   "metadata": {},
   "outputs": [
    {
     "data": {
      "text/plain": [
       "Index(['explicit', 'danceability', 'energy', 'acousticness',\n",
       "       'instrumentalness', 'tempo', 'time_signature', 'duration_ms_scaled',\n",
       "       'loudness_scaled', 'year_of_release'],\n",
       "      dtype='object')"
      ]
     },
     "execution_count": 41,
     "metadata": {},
     "output_type": "execute_result"
    }
   ],
   "source": [
    "# Create model\n",
    "kbest_10 = SelectKBest(f_regression, k=10)\n",
    "#Fit the model\n",
    "kbest_10.fit(X_train, y_train)\n",
    "X_train.columns[kbest_10.get_support()]"
   ]
  },
  {
   "cell_type": "markdown",
   "id": "ebe5ad14",
   "metadata": {},
   "source": [
    "#### Recursive Feature Elimination"
   ]
  },
  {
   "cell_type": "code",
   "execution_count": 42,
   "id": "36730bf4",
   "metadata": {},
   "outputs": [
    {
     "data": {
      "text/plain": [
       "Index(['explicit', 'danceability', 'acousticness', 'instrumentalness',\n",
       "       'valence', 'loudness_scaled'],\n",
       "      dtype='object')"
      ]
     },
     "execution_count": 42,
     "metadata": {},
     "output_type": "execute_result"
    }
   ],
   "source": [
    "rfe_6 = RFE(estimator=LinearRegression(), n_features_to_select=6)\n",
    "rfe_6.fit(X_train, y_train)\n",
    "X_train.columns[rfe_6.get_support()]"
   ]
  },
  {
   "cell_type": "code",
   "execution_count": 43,
   "id": "cdbb743f",
   "metadata": {},
   "outputs": [
    {
     "data": {
      "text/plain": [
       "Index(['explicit', 'danceability', 'acousticness', 'instrumentalness',\n",
       "       'valence', 'duration_ms_scaled', 'loudness_scaled'],\n",
       "      dtype='object')"
      ]
     },
     "execution_count": 43,
     "metadata": {},
     "output_type": "execute_result"
    }
   ],
   "source": [
    "rfe_7 = RFE(estimator=LinearRegression(), n_features_to_select=7)\n",
    "rfe_7.fit(X_train, y_train)\n",
    "X_train.columns[rfe_7.get_support()]"
   ]
  },
  {
   "cell_type": "code",
   "execution_count": 44,
   "id": "55cc6ead",
   "metadata": {},
   "outputs": [
    {
     "data": {
      "text/plain": [
       "Index(['explicit', 'danceability', 'acousticness', 'instrumentalness',\n",
       "       'liveness', 'valence', 'duration_ms_scaled', 'loudness_scaled'],\n",
       "      dtype='object')"
      ]
     },
     "execution_count": 44,
     "metadata": {},
     "output_type": "execute_result"
    }
   ],
   "source": [
    "rfe_8 = RFE(estimator=LinearRegression(), n_features_to_select=8)\n",
    "rfe_8.fit(X_train, y_train)\n",
    "X_train.columns[rfe_8.get_support()]"
   ]
  },
  {
   "cell_type": "code",
   "execution_count": 45,
   "id": "6e88085b",
   "metadata": {},
   "outputs": [
    {
     "data": {
      "text/plain": [
       "Index(['explicit', 'danceability', 'speechiness', 'acousticness',\n",
       "       'instrumentalness', 'liveness', 'valence', 'duration_ms_scaled',\n",
       "       'loudness_scaled'],\n",
       "      dtype='object')"
      ]
     },
     "execution_count": 45,
     "metadata": {},
     "output_type": "execute_result"
    }
   ],
   "source": [
    "rfe_9 = RFE(estimator=LinearRegression(), n_features_to_select=9)\n",
    "rfe_9.fit(X_train, y_train)\n",
    "X_train.columns[rfe_9.get_support()]"
   ]
  },
  {
   "cell_type": "code",
   "execution_count": 46,
   "id": "70aa5702",
   "metadata": {},
   "outputs": [
    {
     "data": {
      "text/plain": [
       "Index(['explicit', 'danceability', 'mode', 'speechiness', 'acousticness',\n",
       "       'instrumentalness', 'liveness', 'valence', 'duration_ms_scaled',\n",
       "       'loudness_scaled'],\n",
       "      dtype='object')"
      ]
     },
     "execution_count": 46,
     "metadata": {},
     "output_type": "execute_result"
    }
   ],
   "source": [
    "rfe_10 = RFE(estimator=LinearRegression(), n_features_to_select=10)\n",
    "rfe_10.fit(X_train, y_train)\n",
    "X_train.columns[rfe_10.get_support()]"
   ]
  },
  {
   "cell_type": "markdown",
   "id": "70e642ae",
   "metadata": {},
   "source": [
    "### Stastistical Testing"
   ]
  },
  {
   "cell_type": "code",
   "execution_count": 201,
   "id": "2f22ed1c",
   "metadata": {},
   "outputs": [
    {
     "data": {
      "text/plain": [
       "Index(['id', 'name', 'popularity', 'duration_ms', 'explicit', 'artists',\n",
       "       'id_artists', 'release_date', 'danceability', 'energy', 'key',\n",
       "       'loudness', 'mode', 'speechiness', 'acousticness', 'instrumentalness',\n",
       "       'liveness', 'valence', 'tempo', 'time_signature', 'year_of_release',\n",
       "       'duration_ms_scaled', 'loudness_scaled', 'cluster'],\n",
       "      dtype='object')"
      ]
     },
     "execution_count": 201,
     "metadata": {},
     "output_type": "execute_result"
    }
   ],
   "source": [
    "train.columns"
   ]
  },
  {
   "cell_type": "code",
   "execution_count": 49,
   "id": "30720d71",
   "metadata": {},
   "outputs": [],
   "source": [
    "continuous = ['danceability', \n",
    "              'energy', \n",
    "              'speechiness', \n",
    "              'acousticness', \n",
    "              'instrumentalness', \n",
    "              'liveness', \n",
    "              'valence', \n",
    "             'tempo',\n",
    "              'duration_ms_scaled',\n",
    "              'loudness_scaled', \n",
    "             'year_of_release']"
   ]
  },
  {
   "cell_type": "code",
   "execution_count": 50,
   "id": "ab9a40e1",
   "metadata": {},
   "outputs": [],
   "source": [
    "categorical = ['explicit', \n",
    "               'key', \n",
    "               'mode', \n",
    "               'time_signature']"
   ]
  },
  {
   "cell_type": "markdown",
   "id": "7e458517",
   "metadata": {},
   "source": [
    "#### Continuous Variables"
   ]
  },
  {
   "cell_type": "code",
   "execution_count": 51,
   "id": "d74e990d",
   "metadata": {},
   "outputs": [
    {
     "name": "stdout",
     "output_type": "stream",
     "text": [
      "danceability correlation with popularity\n",
      "(0.18020386463504842, 0.0)\n",
      " \n",
      "energy correlation with popularity\n",
      "(0.27672839319065057, 0.0)\n",
      " \n",
      "speechiness correlation with popularity\n",
      "(0.055828584591628455, 2.370959732839039e-155)\n",
      " \n",
      "acousticness correlation with popularity\n",
      "(-0.3335203623490612, 0.0)\n",
      " \n",
      "instrumentalness correlation with popularity\n",
      "(-0.07691420927084033, 2.1823153326026428e-293)\n",
      " \n",
      "liveness correlation with popularity\n",
      "(-0.05588177045460099, 1.2083850961502185e-155)\n",
      " \n",
      "valence correlation with popularity\n",
      "(-0.02735018291956476, 1.215630639174514e-38)\n",
      " \n",
      "tempo correlation with popularity\n",
      "(0.05634799841046044, 3.1934178947168853e-158)\n",
      " \n",
      "duration_ms_scaled correlation with popularity\n",
      "(0.13245755026137265, 0.0)\n",
      " \n",
      "loudness_scaled correlation with popularity\n",
      "(0.3125440997278433, 0.0)\n",
      " \n",
      "year_of_release correlation with popularity\n",
      "(0.5734156543184376, 0.0)\n",
      " \n"
     ]
    }
   ],
   "source": [
    "for col in continuous:\n",
    "    test_results = stats.pearsonr(train.popularity, train[col])\n",
    "    print(col, \"correlation with popularity\")\n",
    "    print(test_results)\n",
    "    print(\" \")"
   ]
  },
  {
   "cell_type": "markdown",
   "id": "b02901ff",
   "metadata": {},
   "source": [
    "All continuous variables except for `valence` are significantly correlated with `popularity`. However, \n",
    " - danceability, \n",
    " - energy, \n",
    " - instrumentalness, \n",
    " - tempo, \n",
    " - duration_ms_scaled, \n",
    " - loudness_scaled, and \n",
    " - year_of_release\n",
    "\n",
    "appear to have particularly strong correlation to `popularity`."
   ]
  },
  {
   "cell_type": "markdown",
   "id": "0cb1c190",
   "metadata": {},
   "source": [
    "#### Categorical Variables"
   ]
  },
  {
   "cell_type": "markdown",
   "id": "5e13d3b3",
   "metadata": {},
   "source": [
    "**Explicit**"
   ]
  },
  {
   "cell_type": "code",
   "execution_count": 52,
   "id": "2b51c589",
   "metadata": {},
   "outputs": [
    {
     "data": {
      "text/plain": [
       "Ttest_1sampResult(statistic=81.64917292708027, pvalue=0.0)"
      ]
     },
     "execution_count": 52,
     "metadata": {},
     "output_type": "execute_result"
    }
   ],
   "source": [
    "explicit_popularity = train[train.explicit == 1].popularity\n",
    "overall_popularity_mean = train.popularity.mean()\n",
    "\n",
    "test_results = stats.ttest_1samp(explicit_popularity, overall_popularity_mean)\n",
    "test_results"
   ]
  },
  {
   "cell_type": "markdown",
   "id": "bd861faa",
   "metadata": {},
   "source": [
    "Mean popularity for explicit songs is signficantly different than mean popularity for all songs."
   ]
  },
  {
   "cell_type": "markdown",
   "id": "dfe6be0d",
   "metadata": {},
   "source": [
    "**Key**"
   ]
  },
  {
   "cell_type": "code",
   "execution_count": 53,
   "id": "44a55318",
   "metadata": {},
   "outputs": [
    {
     "data": {
      "text/plain": [
       "0     29990\n",
       "7     28932\n",
       "9     26566\n",
       "2     26224\n",
       "5     20356\n",
       "4     19647\n",
       "11    14894\n",
       "1     13921\n",
       "10    13837\n",
       "8     12104\n",
       "6     11353\n",
       "3      8037\n",
       "Name: key, dtype: int64"
      ]
     },
     "execution_count": 53,
     "metadata": {},
     "output_type": "execute_result"
    }
   ],
   "source": [
    "train.key.value_counts()"
   ]
  },
  {
   "cell_type": "code",
   "execution_count": 54,
   "id": "50ac92e6",
   "metadata": {},
   "outputs": [
    {
     "name": "stdout",
     "output_type": "stream",
     "text": [
      "Key 0 popularity compared to population mean\n",
      "Ttest_1sampResult(statistic=-7.112900720424216, pvalue=1.1617400899452116e-12)\n",
      " \n",
      "Key 1 popularity compared to population mean\n",
      "Ttest_1sampResult(statistic=21.474733068454988, pvalue=1.1446646262627384e-100)\n",
      " \n",
      "Key 2 popularity compared to population mean\n",
      "Ttest_1sampResult(statistic=-8.52516969998698, pvalue=1.606725756921519e-17)\n",
      " \n",
      "Key 3 popularity compared to population mean\n",
      "Ttest_1sampResult(statistic=-12.235501062267867, pvalue=4.036396249258758e-34)\n",
      " \n",
      "Key 4 popularity compared to population mean\n",
      "Ttest_1sampResult(statistic=-0.4732096915235414, pvalue=0.6360688417049315)\n",
      " \n",
      "Key 5 popularity compared to population mean\n",
      "Ttest_1sampResult(statistic=-13.312138549746315, pvalue=2.899858472944191e-40)\n",
      " \n",
      "Key 6 popularity compared to population mean\n",
      "Ttest_1sampResult(statistic=18.355782698931833, pvalue=3.4957739909639555e-74)\n",
      " \n",
      "Key 7 popularity compared to population mean\n",
      "Ttest_1sampResult(statistic=-7.217821158516747, pvalue=5.412747469667133e-13)\n",
      " \n",
      "Key 8 popularity compared to population mean\n",
      "Ttest_1sampResult(statistic=4.479554887805218, pvalue=7.548427844732569e-06)\n",
      " \n",
      "Key 9 popularity compared to population mean\n",
      "Ttest_1sampResult(statistic=-0.40035289244190597, pvalue=0.6888998349917292)\n",
      " \n",
      "Key 10 popularity compared to population mean\n",
      "Ttest_1sampResult(statistic=-2.8447134624211805, pvalue=0.004451662838397363)\n",
      " \n",
      "Key 11 popularity compared to population mean\n",
      "Ttest_1sampResult(statistic=16.75179163066287, pvalue=2.0463167141646952e-62)\n",
      " \n"
     ]
    }
   ],
   "source": [
    "for a in range(0, 12):\n",
    "    key_popularity = train[train.key == a].popularity\n",
    "    \n",
    "    test_results = stats.ttest_1samp(key_popularity, overall_popularity_mean)\n",
    "    \n",
    "    print(\"Key\", a, \"popularity compared to population mean\")\n",
    "    \n",
    "    print(test_results)\n",
    "    \n",
    "    print(\" \")\n"
   ]
  },
  {
   "cell_type": "markdown",
   "id": "c9e34cd8",
   "metadata": {},
   "source": [
    "The majority of key popularities do not differ significantly from the mean population popularity. "
   ]
  },
  {
   "cell_type": "markdown",
   "id": "ac06fe9c",
   "metadata": {},
   "source": [
    "**Mode**"
   ]
  },
  {
   "cell_type": "code",
   "execution_count": 55,
   "id": "2dd35296",
   "metadata": {},
   "outputs": [
    {
     "data": {
      "text/plain": [
       "Ttest_1sampResult(statistic=-7.060612413224125, pvalue=1.6648293663271602e-12)"
      ]
     },
     "execution_count": 55,
     "metadata": {},
     "output_type": "execute_result"
    }
   ],
   "source": [
    "major_popularity = train[train['mode'] == 1].popularity\n",
    "overall_popularity_mean = train.popularity.mean()\n",
    "\n",
    "test_results = stats.ttest_1samp(major_popularity, overall_popularity_mean)\n",
    "test_results"
   ]
  },
  {
   "cell_type": "markdown",
   "id": "7db6ee57",
   "metadata": {},
   "source": [
    "The mean popularity for songs in major is significantly different than the population average."
   ]
  },
  {
   "cell_type": "markdown",
   "id": "de376616",
   "metadata": {},
   "source": [
    "**Time Signature**"
   ]
  },
  {
   "cell_type": "code",
   "execution_count": 227,
   "id": "7082e5fe",
   "metadata": {},
   "outputs": [
    {
     "data": {
      "text/plain": [
       "4    282064\n",
       "3     36283\n",
       "5      6344\n",
       "1      3665\n",
       "0       179\n",
       "Name: time_signature, dtype: int64"
      ]
     },
     "execution_count": 227,
     "metadata": {},
     "output_type": "execute_result"
    }
   ],
   "source": [
    "train.time_signature.value_counts()"
   ]
  },
  {
   "cell_type": "code",
   "execution_count": 229,
   "id": "24fe14b9",
   "metadata": {},
   "outputs": [
    {
     "name": "stdout",
     "output_type": "stream",
     "text": [
      "Time signature 0 popularity compared to population mean\n",
      "Ttest_1sampResult(statistic=1.5012071253882808, pvalue=0.135073792340418)\n",
      " \n",
      "Time signature 1 popularity compared to population mean\n",
      "Ttest_1sampResult(statistic=-24.906015326592804, pvalue=1.2576858249544887e-126)\n",
      " \n",
      "Time signature 2 popularity compared to population mean\n",
      "Ttest_1sampResult(statistic=nan, pvalue=nan)\n",
      " \n",
      "Time signature 3 popularity compared to population mean\n",
      "Ttest_1sampResult(statistic=-63.360324617088516, pvalue=0.0)\n",
      " \n",
      "Time signature 4 popularity compared to population mean\n",
      "Ttest_1sampResult(statistic=27.676013005754115, pvalue=2.284643662687771e-168)\n",
      " \n"
     ]
    }
   ],
   "source": [
    "for a in range(0, 5):\n",
    "    time_signature_popularity = train[train.time_signature == a].popularity\n",
    "    \n",
    "    test_results = stats.ttest_1samp(time_signature_popularity, overall_popularity_mean)\n",
    "    \n",
    "    print(\"Time signature\", a, \"popularity compared to population mean\")\n",
    "    \n",
    "    print(test_results)\n",
    "    \n",
    "    print(\" \")"
   ]
  },
  {
   "cell_type": "markdown",
   "id": "d7bd6b43",
   "metadata": {},
   "source": [
    "The means are significantly different from the total population for every time signature except time signature 0 and time signature 2. "
   ]
  },
  {
   "cell_type": "markdown",
   "id": "c38be29f",
   "metadata": {},
   "source": [
    "### Key Takeaways\n",
    "\n",
    " - Select K Best Model indicates that:\n",
    "     - explicit, \n",
    "     - danceability, \n",
    "     - energy, \n",
    "     - acousticness, \n",
    "     - loudness_scaled, and\n",
    "     - year_of_release\n",
    "     \n",
    "     are the most important features for predicting popularity.\n",
    "\n",
    " - Recursive Feature Elimination indicates that: \n",
    "     - explicit, \n",
    "     - danceability, \n",
    "     - acousticness, \n",
    "     - instrumentalness,\n",
    "     - valence, and\n",
    "     - loudness_scaled\n",
    "\n",
    "    are the most important features for predicting popularity. \n",
    "    \n",
    " - Our stastistical testing confirms that all of these features (except valence) are indeed associated with popularity."
   ]
  },
  {
   "cell_type": "markdown",
   "id": "39e745cf",
   "metadata": {},
   "source": [
    "## Modeling"
   ]
  },
  {
   "cell_type": "markdown",
   "id": "935edfab",
   "metadata": {},
   "source": [
    "### Adding a Cluster Column"
   ]
  },
  {
   "cell_type": "markdown",
   "id": "1b947827",
   "metadata": {},
   "source": [
    "### Splitting Target and Features"
   ]
  },
  {
   "cell_type": "markdown",
   "id": "cf1b667a",
   "metadata": {},
   "source": [
    "First we will need to split our data into y, for the target, and X, for the predictive features."
   ]
  },
  {
   "cell_type": "code",
   "execution_count": 163,
   "id": "a77efbb6",
   "metadata": {},
   "outputs": [],
   "source": [
    "y_train = train['popularity']\n",
    "y_validate = validate['popularity']\n",
    "y_test = test['popularity']"
   ]
  },
  {
   "cell_type": "code",
   "execution_count": 164,
   "id": "4da4543f",
   "metadata": {},
   "outputs": [],
   "source": [
    "y_train = pd.DataFrame(y_train)\n",
    "y_validate = pd.DataFrame(y_validate)\n",
    "y_test = pd.DataFrame(y_test)"
   ]
  },
  {
   "cell_type": "markdown",
   "id": "f123e8c6",
   "metadata": {},
   "source": [
    "Based on our findings from our Explore section, we select the  features below for our model."
   ]
  },
  {
   "cell_type": "code",
   "execution_count": 165,
   "id": "074589b0",
   "metadata": {},
   "outputs": [],
   "source": [
    "X_train = train[['duration_ms_scaled', \n",
    "                 'explicit', \n",
    "                 'energy', \n",
    "                 'danceability', \n",
    "                 'acousticness', \n",
    "                 'instrumentalness',\n",
    "                 'tempo',\n",
    "                 'loudness_scaled', \n",
    "                 'year_of_release',\n",
    "                'liveness']]\n",
    "X_validate = validate[['duration_ms_scaled',\n",
    "                       'explicit', \n",
    "                       'energy',  \n",
    "                       'danceability', \n",
    "                       'acousticness', \n",
    "                       'instrumentalness',\n",
    "                       'tempo',\n",
    "                        'loudness_scaled', \n",
    "                       'year_of_release',\n",
    "                      'liveness']]\n",
    "X_test = test[['duration_ms_scaled', \n",
    "               'explicit', \n",
    "               'energy', \n",
    "               'danceability', \n",
    "               'acousticness', \n",
    "               'instrumentalness',\n",
    "               'tempo',\n",
    "               'loudness_scaled', \n",
    "               'year_of_release',\n",
    "              'liveness']]"
   ]
  },
  {
   "cell_type": "markdown",
   "id": "3ccbf93d",
   "metadata": {},
   "source": [
    "### Baseline"
   ]
  },
  {
   "cell_type": "markdown",
   "id": "69671dde",
   "metadata": {},
   "source": [
    "We will create a baseline to which we can compare our models."
   ]
  },
  {
   "cell_type": "code",
   "execution_count": 166,
   "id": "aa934038",
   "metadata": {},
   "outputs": [],
   "source": [
    "# Predict taxvaluedollarcnt_pred_mean\n",
    "popularity_pred_mean = y_train.popularity.mean()\n",
    "y_train['popularity_pred_mean'] = popularity_pred_mean\n",
    "y_validate['popularity_pred_mean'] = popularity_pred_mean"
   ]
  },
  {
   "cell_type": "code",
   "execution_count": 167,
   "id": "d7dbdbf0",
   "metadata": {},
   "outputs": [],
   "source": [
    "# compute taxvaluedollarcnt_pred_median\n",
    "popularity_pred_median = y_train.popularity.median()\n",
    "y_train['popularity_pred_median'] = popularity_pred_median\n",
    "y_validate['popularity_pred_median'] = popularity_pred_median"
   ]
  },
  {
   "cell_type": "code",
   "execution_count": 168,
   "id": "ad935897",
   "metadata": {},
   "outputs": [
    {
     "data": {
      "text/html": [
       "<div>\n",
       "<style scoped>\n",
       "    .dataframe tbody tr th:only-of-type {\n",
       "        vertical-align: middle;\n",
       "    }\n",
       "\n",
       "    .dataframe tbody tr th {\n",
       "        vertical-align: top;\n",
       "    }\n",
       "\n",
       "    .dataframe thead th {\n",
       "        text-align: right;\n",
       "    }\n",
       "</style>\n",
       "<table border=\"1\" class=\"dataframe\">\n",
       "  <thead>\n",
       "    <tr style=\"text-align: right;\">\n",
       "      <th></th>\n",
       "      <th>popularity</th>\n",
       "      <th>popularity_pred_mean</th>\n",
       "      <th>popularity_pred_median</th>\n",
       "    </tr>\n",
       "  </thead>\n",
       "  <tbody>\n",
       "    <tr>\n",
       "      <th>336488</th>\n",
       "      <td>49</td>\n",
       "      <td>29.737591</td>\n",
       "      <td>29.0</td>\n",
       "    </tr>\n",
       "    <tr>\n",
       "      <th>318542</th>\n",
       "      <td>15</td>\n",
       "      <td>29.737591</td>\n",
       "      <td>29.0</td>\n",
       "    </tr>\n",
       "    <tr>\n",
       "      <th>243364</th>\n",
       "      <td>28</td>\n",
       "      <td>29.737591</td>\n",
       "      <td>29.0</td>\n",
       "    </tr>\n",
       "    <tr>\n",
       "      <th>37863</th>\n",
       "      <td>51</td>\n",
       "      <td>29.737591</td>\n",
       "      <td>29.0</td>\n",
       "    </tr>\n",
       "    <tr>\n",
       "      <th>313199</th>\n",
       "      <td>52</td>\n",
       "      <td>29.737591</td>\n",
       "      <td>29.0</td>\n",
       "    </tr>\n",
       "  </tbody>\n",
       "</table>\n",
       "</div>"
      ],
      "text/plain": [
       "        popularity  popularity_pred_mean  popularity_pred_median\n",
       "336488          49             29.737591                    29.0\n",
       "318542          15             29.737591                    29.0\n",
       "243364          28             29.737591                    29.0\n",
       "37863           51             29.737591                    29.0\n",
       "313199          52             29.737591                    29.0"
      ]
     },
     "execution_count": 168,
     "metadata": {},
     "output_type": "execute_result"
    }
   ],
   "source": [
    "y_train.head()"
   ]
  },
  {
   "cell_type": "code",
   "execution_count": 169,
   "id": "20bb69bf",
   "metadata": {},
   "outputs": [
    {
     "data": {
      "text/html": [
       "<div>\n",
       "<style scoped>\n",
       "    .dataframe tbody tr th:only-of-type {\n",
       "        vertical-align: middle;\n",
       "    }\n",
       "\n",
       "    .dataframe tbody tr th {\n",
       "        vertical-align: top;\n",
       "    }\n",
       "\n",
       "    .dataframe thead th {\n",
       "        text-align: right;\n",
       "    }\n",
       "</style>\n",
       "<table border=\"1\" class=\"dataframe\">\n",
       "  <thead>\n",
       "    <tr style=\"text-align: right;\">\n",
       "      <th></th>\n",
       "      <th>popularity</th>\n",
       "      <th>popularity_pred_mean</th>\n",
       "      <th>popularity_pred_median</th>\n",
       "    </tr>\n",
       "  </thead>\n",
       "  <tbody>\n",
       "    <tr>\n",
       "      <th>240365</th>\n",
       "      <td>63</td>\n",
       "      <td>29.737591</td>\n",
       "      <td>29.0</td>\n",
       "    </tr>\n",
       "    <tr>\n",
       "      <th>259209</th>\n",
       "      <td>35</td>\n",
       "      <td>29.737591</td>\n",
       "      <td>29.0</td>\n",
       "    </tr>\n",
       "    <tr>\n",
       "      <th>373606</th>\n",
       "      <td>20</td>\n",
       "      <td>29.737591</td>\n",
       "      <td>29.0</td>\n",
       "    </tr>\n",
       "    <tr>\n",
       "      <th>142758</th>\n",
       "      <td>5</td>\n",
       "      <td>29.737591</td>\n",
       "      <td>29.0</td>\n",
       "    </tr>\n",
       "    <tr>\n",
       "      <th>340082</th>\n",
       "      <td>45</td>\n",
       "      <td>29.737591</td>\n",
       "      <td>29.0</td>\n",
       "    </tr>\n",
       "  </tbody>\n",
       "</table>\n",
       "</div>"
      ],
      "text/plain": [
       "        popularity  popularity_pred_mean  popularity_pred_median\n",
       "240365          63             29.737591                    29.0\n",
       "259209          35             29.737591                    29.0\n",
       "373606          20             29.737591                    29.0\n",
       "142758           5             29.737591                    29.0\n",
       "340082          45             29.737591                    29.0"
      ]
     },
     "execution_count": 169,
     "metadata": {},
     "output_type": "execute_result"
    }
   ],
   "source": [
    "y_validate.head()"
   ]
  },
  {
   "cell_type": "code",
   "execution_count": 170,
   "id": "3e57e39a",
   "metadata": {},
   "outputs": [
    {
     "name": "stdout",
     "output_type": "stream",
     "text": [
      "RMSE using Mean\n",
      "Train/In-Sample:  17.81 \n",
      "Validate/Out-of-Sample:  17.76\n",
      "RMSE using Median\n",
      "Train/In-Sample:  17.82 \n",
      "Validate/Out-of-Sample:  17.78\n"
     ]
    }
   ],
   "source": [
    "# RMSE of taxvaluedollarcnt_pred_mean\n",
    "rmse_train = mean_squared_error(y_train.popularity, y_train.popularity_pred_mean) ** .5\n",
    "rmse_validate = mean_squared_error(y_validate.popularity, y_validate.popularity_pred_mean) ** (1/2)\n",
    "print(\"RMSE using Mean\\nTrain/In-Sample: \", round(rmse_train, 2), \n",
    "      \"\\nValidate/Out-of-Sample: \", round(rmse_validate, 2))\n",
    "\n",
    "# RMSE of taxvaluedollarcnt_pred_median\n",
    "rmse_train = mean_squared_error(y_train.popularity, y_train.popularity_pred_median) ** .5\n",
    "rmse_validate = mean_squared_error(y_validate.popularity, y_validate.popularity_pred_median) ** .5\n",
    "print(\"RMSE using Median\\nTrain/In-Sample: \", round(rmse_train, 2), \n",
    "      \"\\nValidate/Out-of-Sample: \", round(rmse_validate, 2))"
   ]
  },
  {
   "cell_type": "markdown",
   "id": "c7d09bef",
   "metadata": {},
   "source": [
    "### Build DataFrame"
   ]
  },
  {
   "cell_type": "markdown",
   "id": "59a72b13",
   "metadata": {},
   "source": [
    "We will build a DataFrame to hold the different results for our models."
   ]
  },
  {
   "cell_type": "code",
   "execution_count": 171,
   "id": "03d1ffae",
   "metadata": {},
   "outputs": [],
   "source": [
    "from sklearn.metrics import explained_variance_score"
   ]
  },
  {
   "cell_type": "code",
   "execution_count": 172,
   "id": "94f42332",
   "metadata": {},
   "outputs": [],
   "source": [
    "def make_metric_df(y, y_pred, model_name, metric_df):\n",
    "    if metric_df.size ==0:\n",
    "        metric_df = pd.DataFrame(data=[\n",
    "            {\n",
    "                'model': model_name, \n",
    "                'RMSE_validate': mean_squared_error(\n",
    "                    y,\n",
    "                    y_pred) ** .5,\n",
    "                'r^2_validate': explained_variance_score(\n",
    "                    y,\n",
    "                    y_pred)\n",
    "            }])\n",
    "        return metric_df\n",
    "    else:\n",
    "        return metric_df.append(\n",
    "            {\n",
    "                'model': model_name, \n",
    "                'RMSE_validate': mean_squared_error(\n",
    "                    y,\n",
    "                    y_pred) ** .5,\n",
    "                'r^2_validate': explained_variance_score(\n",
    "                    y,\n",
    "                    y_pred)\n",
    "            }, ignore_index=True)"
   ]
  },
  {
   "cell_type": "code",
   "execution_count": 173,
   "id": "8a489093",
   "metadata": {},
   "outputs": [],
   "source": [
    "metric_df = pd.DataFrame()\n",
    "metric_df = make_metric_df(y_validate.popularity,\n",
    "                           y_validate.popularity_pred_median,\n",
    "                           'median_baseline',\n",
    "                          metric_df)"
   ]
  },
  {
   "cell_type": "code",
   "execution_count": 174,
   "id": "953240d0",
   "metadata": {
    "scrolled": true
   },
   "outputs": [
    {
     "data": {
      "text/html": [
       "<div>\n",
       "<style scoped>\n",
       "    .dataframe tbody tr th:only-of-type {\n",
       "        vertical-align: middle;\n",
       "    }\n",
       "\n",
       "    .dataframe tbody tr th {\n",
       "        vertical-align: top;\n",
       "    }\n",
       "\n",
       "    .dataframe thead th {\n",
       "        text-align: right;\n",
       "    }\n",
       "</style>\n",
       "<table border=\"1\" class=\"dataframe\">\n",
       "  <thead>\n",
       "    <tr style=\"text-align: right;\">\n",
       "      <th></th>\n",
       "      <th>model</th>\n",
       "      <th>RMSE_validate</th>\n",
       "      <th>r^2_validate</th>\n",
       "    </tr>\n",
       "  </thead>\n",
       "  <tbody>\n",
       "    <tr>\n",
       "      <th>0</th>\n",
       "      <td>median_baseline</td>\n",
       "      <td>17.77673</td>\n",
       "      <td>0.0</td>\n",
       "    </tr>\n",
       "  </tbody>\n",
       "</table>\n",
       "</div>"
      ],
      "text/plain": [
       "             model  RMSE_validate  r^2_validate\n",
       "0  median_baseline       17.77673           0.0"
      ]
     },
     "execution_count": 174,
     "metadata": {},
     "output_type": "execute_result"
    }
   ],
   "source": [
    "metric_df"
   ]
  },
  {
   "cell_type": "markdown",
   "id": "0702bce9",
   "metadata": {},
   "source": [
    "Now we will create a series of models for our data."
   ]
  },
  {
   "cell_type": "markdown",
   "id": "0c14e2d1",
   "metadata": {},
   "source": [
    "### Linear Regression (OLS)"
   ]
  },
  {
   "cell_type": "code",
   "execution_count": 175,
   "id": "f3fb4ec2",
   "metadata": {},
   "outputs": [
    {
     "name": "stdout",
     "output_type": "stream",
     "text": [
      "RMSE for OLS using LinearRegression\n",
      "Training/In-Sample:  14.391677049149573 \n",
      "Validation/Out-of-Sample:  14.408118240994641\n"
     ]
    }
   ],
   "source": [
    "#Create the model object\n",
    "lm_1 = LinearRegression(normalize=True)\n",
    "\n",
    "# fit the model to training data\n",
    "lm_1.fit(X_train, y_train.popularity)\n",
    "\n",
    "y_train['popularity_pred_lm_1'] = lm_1.predict(X_train)\n",
    "\n",
    "# evaluate: rmse\n",
    "rmse_train = mean_squared_error(y_train.popularity, y_train.popularity_pred_lm_1) ** (1/2)\n",
    "\n",
    "# predict validate\n",
    "y_validate['popularity_pred_lm_1'] = lm_1.predict(X_validate)\n",
    "\n",
    "# evaluate: rmse\n",
    "rmse_validate = mean_squared_error(y_validate.popularity, y_validate.popularity_pred_lm_1) ** (1/2)\n",
    "\n",
    "print(\"RMSE for OLS using LinearRegression\\nTraining/In-Sample: \", rmse_train, \n",
    "      \"\\nValidation/Out-of-Sample: \", rmse_validate)"
   ]
  },
  {
   "cell_type": "code",
   "execution_count": 176,
   "id": "89f709fb",
   "metadata": {},
   "outputs": [],
   "source": [
    "metric_df = make_metric_df(y_validate.popularity, y_validate.popularity_pred_lm_1,\n",
    "               'OLS Regressor, Select Features',\n",
    "               metric_df)"
   ]
  },
  {
   "cell_type": "code",
   "execution_count": 177,
   "id": "da02a6f9",
   "metadata": {},
   "outputs": [
    {
     "data": {
      "text/html": [
       "<div>\n",
       "<style scoped>\n",
       "    .dataframe tbody tr th:only-of-type {\n",
       "        vertical-align: middle;\n",
       "    }\n",
       "\n",
       "    .dataframe tbody tr th {\n",
       "        vertical-align: top;\n",
       "    }\n",
       "\n",
       "    .dataframe thead th {\n",
       "        text-align: right;\n",
       "    }\n",
       "</style>\n",
       "<table border=\"1\" class=\"dataframe\">\n",
       "  <thead>\n",
       "    <tr style=\"text-align: right;\">\n",
       "      <th></th>\n",
       "      <th>model</th>\n",
       "      <th>RMSE_validate</th>\n",
       "      <th>r^2_validate</th>\n",
       "    </tr>\n",
       "  </thead>\n",
       "  <tbody>\n",
       "    <tr>\n",
       "      <th>0</th>\n",
       "      <td>median_baseline</td>\n",
       "      <td>17.776730</td>\n",
       "      <td>0.000000</td>\n",
       "    </tr>\n",
       "    <tr>\n",
       "      <th>1</th>\n",
       "      <td>OLS Regressor, Select Features</td>\n",
       "      <td>14.408118</td>\n",
       "      <td>0.341824</td>\n",
       "    </tr>\n",
       "  </tbody>\n",
       "</table>\n",
       "</div>"
      ],
      "text/plain": [
       "                            model  RMSE_validate  r^2_validate\n",
       "0                 median_baseline      17.776730      0.000000\n",
       "1  OLS Regressor, Select Features      14.408118      0.341824"
      ]
     },
     "execution_count": 177,
     "metadata": {},
     "output_type": "execute_result"
    }
   ],
   "source": [
    "metric_df"
   ]
  },
  {
   "cell_type": "markdown",
   "id": "41349ac1",
   "metadata": {},
   "source": [
    "### LassoLars"
   ]
  },
  {
   "cell_type": "code",
   "execution_count": 178,
   "id": "a10be58f",
   "metadata": {},
   "outputs": [
    {
     "name": "stdout",
     "output_type": "stream",
     "text": [
      "RMSE for Lasso + Lars\n",
      "Training/In-Sample:  17.806588084186668 \n",
      "Validation/Out-of-Sample:  17.75977012749067\n"
     ]
    }
   ],
   "source": [
    "# create the model object\n",
    "lars = LassoLars(alpha=1)\n",
    "\n",
    "# fit the model to our training data.\n",
    "lars.fit(X_train, y_train.popularity)\n",
    "\n",
    "# predict train\n",
    "y_train['popularity_pred_lars'] = lars.predict(X_train)\n",
    "\n",
    "# evaluate: rmse\n",
    "rmse_train = mean_squared_error(y_train.popularity, y_train.popularity_pred_lars) ** (1/2)\n",
    "\n",
    "# predict validate\n",
    "y_validate['popularity_pred_lars'] = lars.predict(X_validate)\n",
    "\n",
    "# evaluate: rmse\n",
    "rmse_validate = mean_squared_error(y_validate.popularity, y_validate.popularity_pred_lars) ** (1/2)\n",
    "\n",
    "print(\"RMSE for Lasso + Lars\\nTraining/In-Sample: \", rmse_train, \n",
    "      \"\\nValidation/Out-of-Sample: \", rmse_validate)"
   ]
  },
  {
   "cell_type": "code",
   "execution_count": 179,
   "id": "032b6b59",
   "metadata": {},
   "outputs": [],
   "source": [
    "metric_df = make_metric_df(y_validate.popularity, y_validate.popularity_pred_lars,\n",
    "               'lasso_alpha_1',\n",
    "               metric_df)"
   ]
  },
  {
   "cell_type": "code",
   "execution_count": 180,
   "id": "03907705",
   "metadata": {},
   "outputs": [
    {
     "data": {
      "text/html": [
       "<div>\n",
       "<style scoped>\n",
       "    .dataframe tbody tr th:only-of-type {\n",
       "        vertical-align: middle;\n",
       "    }\n",
       "\n",
       "    .dataframe tbody tr th {\n",
       "        vertical-align: top;\n",
       "    }\n",
       "\n",
       "    .dataframe thead th {\n",
       "        text-align: right;\n",
       "    }\n",
       "</style>\n",
       "<table border=\"1\" class=\"dataframe\">\n",
       "  <thead>\n",
       "    <tr style=\"text-align: right;\">\n",
       "      <th></th>\n",
       "      <th>model</th>\n",
       "      <th>RMSE_validate</th>\n",
       "      <th>r^2_validate</th>\n",
       "    </tr>\n",
       "  </thead>\n",
       "  <tbody>\n",
       "    <tr>\n",
       "      <th>0</th>\n",
       "      <td>median_baseline</td>\n",
       "      <td>17.776730</td>\n",
       "      <td>0.000000</td>\n",
       "    </tr>\n",
       "    <tr>\n",
       "      <th>1</th>\n",
       "      <td>OLS Regressor, Select Features</td>\n",
       "      <td>14.408118</td>\n",
       "      <td>0.341824</td>\n",
       "    </tr>\n",
       "    <tr>\n",
       "      <th>2</th>\n",
       "      <td>lasso_alpha_1</td>\n",
       "      <td>17.759770</td>\n",
       "      <td>0.000000</td>\n",
       "    </tr>\n",
       "  </tbody>\n",
       "</table>\n",
       "</div>"
      ],
      "text/plain": [
       "                            model  RMSE_validate  r^2_validate\n",
       "0                 median_baseline      17.776730      0.000000\n",
       "1  OLS Regressor, Select Features      14.408118      0.341824\n",
       "2                   lasso_alpha_1      17.759770      0.000000"
      ]
     },
     "execution_count": 180,
     "metadata": {},
     "output_type": "execute_result"
    }
   ],
   "source": [
    "metric_df"
   ]
  },
  {
   "cell_type": "markdown",
   "id": "4d33ae44",
   "metadata": {},
   "source": [
    "### Tweedie Regressor"
   ]
  },
  {
   "cell_type": "code",
   "execution_count": 181,
   "id": "cca12b5c",
   "metadata": {},
   "outputs": [
    {
     "name": "stdout",
     "output_type": "stream",
     "text": [
      "RMSE for GLM using Tweedie, power=1 & alpha=0.5\n",
      "Training/In-Sample:  17.80658808418667 \n",
      "Validation/Out-of-Sample:  17.75977012749067\n"
     ]
    }
   ],
   "source": [
    "# create the model object\n",
    "glm = TweedieRegressor(power=1, alpha=0.5)\n",
    "\n",
    "\n",
    "# fit the model to our training data. We must specify the column in y_train, \n",
    "# since we have converted it to a dataframe from a series! \n",
    "glm.fit(X_train, y_train.popularity)\n",
    "\n",
    "# predict train\n",
    "y_train['popularity_pred_glm'] = glm.predict(X_train)\n",
    "\n",
    "# evaluate: rmse\n",
    "rmse_train = mean_squared_error(y_train.popularity, y_train.popularity_pred_glm) ** (1/2)\n",
    "\n",
    "# predict validate\n",
    "y_validate['popularity_pred_glm'] = glm.predict(X_validate)\n",
    "\n",
    "# evaluate: rmse\n",
    "rmse_validate = mean_squared_error(y_validate.popularity, y_validate.popularity_pred_glm) ** (1/2)\n",
    "\n",
    "print(\"RMSE for GLM using Tweedie, power=1 & alpha=0.5\\nTraining/In-Sample: \", rmse_train, \n",
    "      \"\\nValidation/Out-of-Sample: \", rmse_validate)"
   ]
  },
  {
   "cell_type": "code",
   "execution_count": 182,
   "id": "b1f8a419",
   "metadata": {},
   "outputs": [
    {
     "data": {
      "text/html": [
       "<div>\n",
       "<style scoped>\n",
       "    .dataframe tbody tr th:only-of-type {\n",
       "        vertical-align: middle;\n",
       "    }\n",
       "\n",
       "    .dataframe tbody tr th {\n",
       "        vertical-align: top;\n",
       "    }\n",
       "\n",
       "    .dataframe thead th {\n",
       "        text-align: right;\n",
       "    }\n",
       "</style>\n",
       "<table border=\"1\" class=\"dataframe\">\n",
       "  <thead>\n",
       "    <tr style=\"text-align: right;\">\n",
       "      <th></th>\n",
       "      <th>model</th>\n",
       "      <th>RMSE_validate</th>\n",
       "      <th>r^2_validate</th>\n",
       "    </tr>\n",
       "  </thead>\n",
       "  <tbody>\n",
       "    <tr>\n",
       "      <th>0</th>\n",
       "      <td>median_baseline</td>\n",
       "      <td>17.776730</td>\n",
       "      <td>0.000000</td>\n",
       "    </tr>\n",
       "    <tr>\n",
       "      <th>1</th>\n",
       "      <td>OLS Regressor, Select Features</td>\n",
       "      <td>14.408118</td>\n",
       "      <td>0.341824</td>\n",
       "    </tr>\n",
       "    <tr>\n",
       "      <th>2</th>\n",
       "      <td>lasso_alpha_1</td>\n",
       "      <td>17.759770</td>\n",
       "      <td>0.000000</td>\n",
       "    </tr>\n",
       "    <tr>\n",
       "      <th>3</th>\n",
       "      <td>GLM</td>\n",
       "      <td>17.759770</td>\n",
       "      <td>0.000000</td>\n",
       "    </tr>\n",
       "  </tbody>\n",
       "</table>\n",
       "</div>"
      ],
      "text/plain": [
       "                            model  RMSE_validate  r^2_validate\n",
       "0                 median_baseline      17.776730      0.000000\n",
       "1  OLS Regressor, Select Features      14.408118      0.341824\n",
       "2                   lasso_alpha_1      17.759770      0.000000\n",
       "3                             GLM      17.759770      0.000000"
      ]
     },
     "execution_count": 182,
     "metadata": {},
     "output_type": "execute_result"
    }
   ],
   "source": [
    "metric_df = make_metric_df(y_validate.popularity, y_validate.popularity_pred_glm,\n",
    "               'GLM',\n",
    "               metric_df)\n",
    "metric_df"
   ]
  },
  {
   "cell_type": "markdown",
   "id": "b2c9586e",
   "metadata": {},
   "source": [
    "### Linear Regression Second Degree"
   ]
  },
  {
   "cell_type": "code",
   "execution_count": 183,
   "id": "9d7d3c3c",
   "metadata": {},
   "outputs": [],
   "source": [
    "# make the polynomial features to get a new set of features\n",
    "pf = PolynomialFeatures(degree=2)\n",
    "\n",
    "# fit and transform X_train_scaled\n",
    "X_train_degree2 = pf.fit_transform(X_train)\n",
    "\n",
    "# transform X_validate_scaled & X_test_scaled\n",
    "X_validate_degree2 = pf.transform(X_validate)\n",
    "X_test_degree2 =  pf.transform(X_test)"
   ]
  },
  {
   "cell_type": "code",
   "execution_count": 184,
   "id": "47123af6",
   "metadata": {},
   "outputs": [
    {
     "name": "stdout",
     "output_type": "stream",
     "text": [
      "RMSE for Polynomial Model, degrees=2\n",
      "Training/In-Sample:  14.175873621327474 \n",
      "Validation/Out-of-Sample:  14.191791230595\n"
     ]
    }
   ],
   "source": [
    "# create the model object\n",
    "lm2 = LinearRegression(normalize=True)\n",
    "\n",
    "# fit the model to our training data. We must specify the column in y_train, \n",
    "# since we have converted it to a dataframe from a series! \n",
    "lm2.fit(X_train_degree2, y_train.popularity)\n",
    "\n",
    "# predict train\n",
    "y_train['popularity_pred_lm2'] = lm2.predict(X_train_degree2)\n",
    "\n",
    "# evaluate: rmse\n",
    "rmse_train = mean_squared_error(y_train.popularity, y_train.popularity_pred_lm2) ** (1/2)\n",
    "\n",
    "# predict validate\n",
    "y_validate['popularity_pred_lm2'] = lm2.predict(X_validate_degree2)\n",
    "\n",
    "# evaluate: rmse\n",
    "rmse_validate = mean_squared_error(y_validate.popularity, y_validate.popularity_pred_lm2) ** (1/2)\n",
    "\n",
    "print(\"RMSE for Polynomial Model, degrees=2\\nTraining/In-Sample: \", rmse_train, \n",
    "      \"\\nValidation/Out-of-Sample: \", rmse_validate)"
   ]
  },
  {
   "cell_type": "code",
   "execution_count": 185,
   "id": "4f495826",
   "metadata": {},
   "outputs": [
    {
     "data": {
      "text/html": [
       "<div>\n",
       "<style scoped>\n",
       "    .dataframe tbody tr th:only-of-type {\n",
       "        vertical-align: middle;\n",
       "    }\n",
       "\n",
       "    .dataframe tbody tr th {\n",
       "        vertical-align: top;\n",
       "    }\n",
       "\n",
       "    .dataframe thead th {\n",
       "        text-align: right;\n",
       "    }\n",
       "</style>\n",
       "<table border=\"1\" class=\"dataframe\">\n",
       "  <thead>\n",
       "    <tr style=\"text-align: right;\">\n",
       "      <th></th>\n",
       "      <th>model</th>\n",
       "      <th>RMSE_validate</th>\n",
       "      <th>r^2_validate</th>\n",
       "    </tr>\n",
       "  </thead>\n",
       "  <tbody>\n",
       "    <tr>\n",
       "      <th>0</th>\n",
       "      <td>median_baseline</td>\n",
       "      <td>17.776730</td>\n",
       "      <td>0.000000</td>\n",
       "    </tr>\n",
       "    <tr>\n",
       "      <th>1</th>\n",
       "      <td>OLS Regressor, Select Features</td>\n",
       "      <td>14.408118</td>\n",
       "      <td>0.341824</td>\n",
       "    </tr>\n",
       "    <tr>\n",
       "      <th>2</th>\n",
       "      <td>lasso_alpha_1</td>\n",
       "      <td>17.759770</td>\n",
       "      <td>0.000000</td>\n",
       "    </tr>\n",
       "    <tr>\n",
       "      <th>3</th>\n",
       "      <td>GLM</td>\n",
       "      <td>17.759770</td>\n",
       "      <td>0.000000</td>\n",
       "    </tr>\n",
       "    <tr>\n",
       "      <th>4</th>\n",
       "      <td>quadratic</td>\n",
       "      <td>14.191791</td>\n",
       "      <td>0.361440</td>\n",
       "    </tr>\n",
       "  </tbody>\n",
       "</table>\n",
       "</div>"
      ],
      "text/plain": [
       "                            model  RMSE_validate  r^2_validate\n",
       "0                 median_baseline      17.776730      0.000000\n",
       "1  OLS Regressor, Select Features      14.408118      0.341824\n",
       "2                   lasso_alpha_1      17.759770      0.000000\n",
       "3                             GLM      17.759770      0.000000\n",
       "4                       quadratic      14.191791      0.361440"
      ]
     },
     "execution_count": 185,
     "metadata": {},
     "output_type": "execute_result"
    }
   ],
   "source": [
    "metric_df = make_metric_df(y_validate.popularity, y_validate.popularity_pred_lm2,\n",
    "               'quadratic',\n",
    "               metric_df)\n",
    "\n",
    "metric_df"
   ]
  },
  {
   "cell_type": "markdown",
   "id": "6f9d20c1",
   "metadata": {},
   "source": [
    "### Linear Regression Third Degree"
   ]
  },
  {
   "cell_type": "code",
   "execution_count": 186,
   "id": "aa830ea0",
   "metadata": {},
   "outputs": [],
   "source": [
    "# make the polynomial features to get a new set of features\n",
    "pf = PolynomialFeatures(degree=3)\n",
    "\n",
    "# fit and transform X_train_scaled\n",
    "X_train_degree3 = pf.fit_transform(X_train)\n",
    "\n",
    "# transform X_validate_scaled & X_test_scaled\n",
    "X_validate_degree3 = pf.transform(X_validate)\n",
    "X_test_degree3 =  pf.transform(X_test)"
   ]
  },
  {
   "cell_type": "code",
   "execution_count": 187,
   "id": "728471d1",
   "metadata": {},
   "outputs": [
    {
     "name": "stdout",
     "output_type": "stream",
     "text": [
      "RMSE for Polynomial Model, degrees=2\n",
      "Training/In-Sample:  14.019995888650172 \n",
      "Validation/Out-of-Sample:  14.06198841169457\n"
     ]
    }
   ],
   "source": [
    "# create the model object\n",
    "lm3 = LinearRegression(normalize=True)\n",
    "\n",
    "# fit the model to our training data. We must specify the column in y_train, \n",
    "# since we have converted it to a dataframe from a series! \n",
    "lm3.fit(X_train_degree3, y_train.popularity)\n",
    "\n",
    "# predict train\n",
    "y_train['popularity_pred_lm3'] = lm3.predict(X_train_degree3)\n",
    "\n",
    "# evaluate: rmse\n",
    "rmse_train = mean_squared_error(y_train.popularity, y_train.popularity_pred_lm3) ** (1/2)\n",
    "\n",
    "# predict validate\n",
    "y_validate['popularity_pred_lm3'] = lm3.predict(X_validate_degree3)\n",
    "\n",
    "# evaluate: rmse\n",
    "rmse_validate = mean_squared_error(y_validate.popularity, y_validate.popularity_pred_lm3) ** (1/2)\n",
    "\n",
    "print(\"RMSE for Polynomial Model, degrees=2\\nTraining/In-Sample: \", rmse_train, \n",
    "      \"\\nValidation/Out-of-Sample: \", rmse_validate)"
   ]
  },
  {
   "cell_type": "code",
   "execution_count": 188,
   "id": "b7200b94",
   "metadata": {},
   "outputs": [
    {
     "data": {
      "text/html": [
       "<div>\n",
       "<style scoped>\n",
       "    .dataframe tbody tr th:only-of-type {\n",
       "        vertical-align: middle;\n",
       "    }\n",
       "\n",
       "    .dataframe tbody tr th {\n",
       "        vertical-align: top;\n",
       "    }\n",
       "\n",
       "    .dataframe thead th {\n",
       "        text-align: right;\n",
       "    }\n",
       "</style>\n",
       "<table border=\"1\" class=\"dataframe\">\n",
       "  <thead>\n",
       "    <tr style=\"text-align: right;\">\n",
       "      <th></th>\n",
       "      <th>model</th>\n",
       "      <th>RMSE_validate</th>\n",
       "      <th>r^2_validate</th>\n",
       "    </tr>\n",
       "  </thead>\n",
       "  <tbody>\n",
       "    <tr>\n",
       "      <th>0</th>\n",
       "      <td>median_baseline</td>\n",
       "      <td>17.776730</td>\n",
       "      <td>0.000000</td>\n",
       "    </tr>\n",
       "    <tr>\n",
       "      <th>1</th>\n",
       "      <td>OLS Regressor, Select Features</td>\n",
       "      <td>14.408118</td>\n",
       "      <td>0.341824</td>\n",
       "    </tr>\n",
       "    <tr>\n",
       "      <th>2</th>\n",
       "      <td>lasso_alpha_1</td>\n",
       "      <td>17.759770</td>\n",
       "      <td>0.000000</td>\n",
       "    </tr>\n",
       "    <tr>\n",
       "      <th>3</th>\n",
       "      <td>GLM</td>\n",
       "      <td>17.759770</td>\n",
       "      <td>0.000000</td>\n",
       "    </tr>\n",
       "    <tr>\n",
       "      <th>4</th>\n",
       "      <td>quadratic</td>\n",
       "      <td>14.191791</td>\n",
       "      <td>0.361440</td>\n",
       "    </tr>\n",
       "    <tr>\n",
       "      <th>5</th>\n",
       "      <td>Third degree linear regression</td>\n",
       "      <td>14.061988</td>\n",
       "      <td>0.373068</td>\n",
       "    </tr>\n",
       "  </tbody>\n",
       "</table>\n",
       "</div>"
      ],
      "text/plain": [
       "                            model  RMSE_validate  r^2_validate\n",
       "0                 median_baseline      17.776730      0.000000\n",
       "1  OLS Regressor, Select Features      14.408118      0.341824\n",
       "2                   lasso_alpha_1      17.759770      0.000000\n",
       "3                             GLM      17.759770      0.000000\n",
       "4                       quadratic      14.191791      0.361440\n",
       "5  Third degree linear regression      14.061988      0.373068"
      ]
     },
     "execution_count": 188,
     "metadata": {},
     "output_type": "execute_result"
    }
   ],
   "source": [
    "metric_df = make_metric_df(y_validate.popularity, y_validate.popularity_pred_lm3,\n",
    "               'Third degree linear regression',\n",
    "               metric_df)\n",
    "metric_df"
   ]
  },
  {
   "cell_type": "markdown",
   "id": "195ce83c",
   "metadata": {},
   "source": [
    "### Linear Regression Fourth Degree"
   ]
  },
  {
   "cell_type": "code",
   "execution_count": 189,
   "id": "a25fad9f",
   "metadata": {},
   "outputs": [],
   "source": [
    "# make the polynomial features to get a new set of features\n",
    "pf = PolynomialFeatures(degree=4)\n",
    "\n",
    "# fit and transform X_train_scaled\n",
    "X_train_degree4 = pf.fit_transform(X_train)\n",
    "\n",
    "# transform X_validate_scaled & X_test_scaled\n",
    "X_validate_degree4 = pf.transform(X_validate)\n",
    "X_test_degree4 =  pf.transform(X_test)"
   ]
  },
  {
   "cell_type": "code",
   "execution_count": 190,
   "id": "6862903f",
   "metadata": {},
   "outputs": [
    {
     "name": "stdout",
     "output_type": "stream",
     "text": [
      "RMSE for Polynomial Model, degrees=4\n",
      "Training/In-Sample:  13.926795304002741 \n",
      "Validation/Out-of-Sample:  14.015386456474666\n"
     ]
    }
   ],
   "source": [
    "# create the model object\n",
    "lm4 = LinearRegression(normalize=True)\n",
    "\n",
    "# fit the model to our training data. We must specify the column in y_train, \n",
    "# since we have converted it to a dataframe from a series! \n",
    "lm4.fit(X_train_degree4, y_train.popularity)\n",
    "\n",
    "# predict train\n",
    "y_train['popularity_pred_lm4'] = lm4.predict(X_train_degree4)\n",
    "\n",
    "# evaluate: rmse\n",
    "rmse_train = mean_squared_error(y_train.popularity, y_train.popularity_pred_lm4) ** (1/2)\n",
    "\n",
    "# predict validate\n",
    "y_validate['popularity_pred_lm4'] = lm4.predict(X_validate_degree4)\n",
    "\n",
    "# evaluate: rmse\n",
    "rmse_validate = mean_squared_error(y_validate.popularity, y_validate.popularity_pred_lm4) ** (1/2)\n",
    "\n",
    "print(\"RMSE for Polynomial Model, degrees=4\\nTraining/In-Sample: \", rmse_train, \n",
    "      \"\\nValidation/Out-of-Sample: \", rmse_validate)"
   ]
  },
  {
   "cell_type": "code",
   "execution_count": 191,
   "id": "67b05859",
   "metadata": {},
   "outputs": [
    {
     "data": {
      "text/html": [
       "<div>\n",
       "<style scoped>\n",
       "    .dataframe tbody tr th:only-of-type {\n",
       "        vertical-align: middle;\n",
       "    }\n",
       "\n",
       "    .dataframe tbody tr th {\n",
       "        vertical-align: top;\n",
       "    }\n",
       "\n",
       "    .dataframe thead th {\n",
       "        text-align: right;\n",
       "    }\n",
       "</style>\n",
       "<table border=\"1\" class=\"dataframe\">\n",
       "  <thead>\n",
       "    <tr style=\"text-align: right;\">\n",
       "      <th></th>\n",
       "      <th>model</th>\n",
       "      <th>RMSE_validate</th>\n",
       "      <th>r^2_validate</th>\n",
       "    </tr>\n",
       "  </thead>\n",
       "  <tbody>\n",
       "    <tr>\n",
       "      <th>0</th>\n",
       "      <td>median_baseline</td>\n",
       "      <td>17.776730</td>\n",
       "      <td>0.000000</td>\n",
       "    </tr>\n",
       "    <tr>\n",
       "      <th>1</th>\n",
       "      <td>OLS Regressor, Select Features</td>\n",
       "      <td>14.408118</td>\n",
       "      <td>0.341824</td>\n",
       "    </tr>\n",
       "    <tr>\n",
       "      <th>2</th>\n",
       "      <td>lasso_alpha_1</td>\n",
       "      <td>17.759770</td>\n",
       "      <td>0.000000</td>\n",
       "    </tr>\n",
       "    <tr>\n",
       "      <th>3</th>\n",
       "      <td>GLM</td>\n",
       "      <td>17.759770</td>\n",
       "      <td>0.000000</td>\n",
       "    </tr>\n",
       "    <tr>\n",
       "      <th>4</th>\n",
       "      <td>quadratic</td>\n",
       "      <td>14.191791</td>\n",
       "      <td>0.361440</td>\n",
       "    </tr>\n",
       "    <tr>\n",
       "      <th>5</th>\n",
       "      <td>Third degree linear regression</td>\n",
       "      <td>14.061988</td>\n",
       "      <td>0.373068</td>\n",
       "    </tr>\n",
       "    <tr>\n",
       "      <th>6</th>\n",
       "      <td>Fourth degree linear regression</td>\n",
       "      <td>14.015386</td>\n",
       "      <td>0.377216</td>\n",
       "    </tr>\n",
       "  </tbody>\n",
       "</table>\n",
       "</div>"
      ],
      "text/plain": [
       "                             model  RMSE_validate  r^2_validate\n",
       "0                  median_baseline      17.776730      0.000000\n",
       "1   OLS Regressor, Select Features      14.408118      0.341824\n",
       "2                    lasso_alpha_1      17.759770      0.000000\n",
       "3                              GLM      17.759770      0.000000\n",
       "4                        quadratic      14.191791      0.361440\n",
       "5   Third degree linear regression      14.061988      0.373068\n",
       "6  Fourth degree linear regression      14.015386      0.377216"
      ]
     },
     "execution_count": 191,
     "metadata": {},
     "output_type": "execute_result"
    }
   ],
   "source": [
    "metric_df = make_metric_df(y_validate.popularity, y_validate.popularity_pred_lm4,\n",
    "               'Fourth degree linear regression',\n",
    "               metric_df)\n",
    "metric_df"
   ]
  },
  {
   "cell_type": "markdown",
   "id": "0301ff9d",
   "metadata": {},
   "source": [
    "### Linear Regression Fifth Degree"
   ]
  },
  {
   "cell_type": "code",
   "execution_count": 192,
   "id": "fbc3bac5",
   "metadata": {},
   "outputs": [],
   "source": [
    "# make the polynomial features to get a new set of features\n",
    "pf = PolynomialFeatures(degree=5)\n",
    "\n",
    "# fit and transform X_train_scaled\n",
    "X_train_degree5 = pf.fit_transform(X_train)\n",
    "\n",
    "# transform X_validate_scaled & X_test_scaled\n",
    "X_validate_degree5 = pf.transform(X_validate)\n",
    "X_test_degree5 =  pf.transform(X_test)"
   ]
  },
  {
   "cell_type": "code",
   "execution_count": 193,
   "id": "76426dd4",
   "metadata": {},
   "outputs": [
    {
     "name": "stdout",
     "output_type": "stream",
     "text": [
      "RMSE for Polynomial Model, degrees=5\n",
      "Training/In-Sample:  13.751949413646763 \n",
      "Validation/Out-of-Sample:  14.10590805992296\n"
     ]
    }
   ],
   "source": [
    "# create the model object\n",
    "lm5 = LinearRegression(normalize=True)\n",
    "\n",
    "# fit the model to our training data. We must specify the column in y_train, \n",
    "# since we have converted it to a dataframe from a series! \n",
    "lm5.fit(X_train_degree5, y_train.popularity)\n",
    "\n",
    "# predict train\n",
    "y_train['popularity_pred_lm5'] = lm5.predict(X_train_degree5)\n",
    "\n",
    "# evaluate: rmse\n",
    "rmse_train = mean_squared_error(y_train.popularity, y_train.popularity_pred_lm5) ** (1/2)\n",
    "\n",
    "# predict validate\n",
    "y_validate['popularity_pred_lm5'] = lm5.predict(X_validate_degree5)\n",
    "\n",
    "# evaluate: rmse\n",
    "rmse_validate = mean_squared_error(y_validate.popularity, y_validate.popularity_pred_lm5) ** (1/2)\n",
    "\n",
    "print(\"RMSE for Polynomial Model, degrees=5\\nTraining/In-Sample: \", rmse_train, \n",
    "      \"\\nValidation/Out-of-Sample: \", rmse_validate)"
   ]
  },
  {
   "cell_type": "code",
   "execution_count": 194,
   "id": "e49473b3",
   "metadata": {},
   "outputs": [
    {
     "data": {
      "text/html": [
       "<div>\n",
       "<style scoped>\n",
       "    .dataframe tbody tr th:only-of-type {\n",
       "        vertical-align: middle;\n",
       "    }\n",
       "\n",
       "    .dataframe tbody tr th {\n",
       "        vertical-align: top;\n",
       "    }\n",
       "\n",
       "    .dataframe thead th {\n",
       "        text-align: right;\n",
       "    }\n",
       "</style>\n",
       "<table border=\"1\" class=\"dataframe\">\n",
       "  <thead>\n",
       "    <tr style=\"text-align: right;\">\n",
       "      <th></th>\n",
       "      <th>model</th>\n",
       "      <th>RMSE_validate</th>\n",
       "      <th>r^2_validate</th>\n",
       "    </tr>\n",
       "  </thead>\n",
       "  <tbody>\n",
       "    <tr>\n",
       "      <th>0</th>\n",
       "      <td>median_baseline</td>\n",
       "      <td>17.776730</td>\n",
       "      <td>0.000000</td>\n",
       "    </tr>\n",
       "    <tr>\n",
       "      <th>1</th>\n",
       "      <td>OLS Regressor, Select Features</td>\n",
       "      <td>14.408118</td>\n",
       "      <td>0.341824</td>\n",
       "    </tr>\n",
       "    <tr>\n",
       "      <th>2</th>\n",
       "      <td>lasso_alpha_1</td>\n",
       "      <td>17.759770</td>\n",
       "      <td>0.000000</td>\n",
       "    </tr>\n",
       "    <tr>\n",
       "      <th>3</th>\n",
       "      <td>GLM</td>\n",
       "      <td>17.759770</td>\n",
       "      <td>0.000000</td>\n",
       "    </tr>\n",
       "    <tr>\n",
       "      <th>4</th>\n",
       "      <td>quadratic</td>\n",
       "      <td>14.191791</td>\n",
       "      <td>0.361440</td>\n",
       "    </tr>\n",
       "    <tr>\n",
       "      <th>5</th>\n",
       "      <td>Third degree linear regression</td>\n",
       "      <td>14.061988</td>\n",
       "      <td>0.373068</td>\n",
       "    </tr>\n",
       "    <tr>\n",
       "      <th>6</th>\n",
       "      <td>Fourth degree linear regression</td>\n",
       "      <td>14.015386</td>\n",
       "      <td>0.377216</td>\n",
       "    </tr>\n",
       "    <tr>\n",
       "      <th>7</th>\n",
       "      <td>Fifth degree linear regression</td>\n",
       "      <td>14.105908</td>\n",
       "      <td>0.369145</td>\n",
       "    </tr>\n",
       "  </tbody>\n",
       "</table>\n",
       "</div>"
      ],
      "text/plain": [
       "                             model  RMSE_validate  r^2_validate\n",
       "0                  median_baseline      17.776730      0.000000\n",
       "1   OLS Regressor, Select Features      14.408118      0.341824\n",
       "2                    lasso_alpha_1      17.759770      0.000000\n",
       "3                              GLM      17.759770      0.000000\n",
       "4                        quadratic      14.191791      0.361440\n",
       "5   Third degree linear regression      14.061988      0.373068\n",
       "6  Fourth degree linear regression      14.015386      0.377216\n",
       "7   Fifth degree linear regression      14.105908      0.369145"
      ]
     },
     "execution_count": 194,
     "metadata": {},
     "output_type": "execute_result"
    }
   ],
   "source": [
    "metric_df = make_metric_df(y_validate.popularity, y_validate.popularity_pred_lm5,\n",
    "               'Fifth degree linear regression',\n",
    "               metric_df)\n",
    "metric_df"
   ]
  },
  {
   "cell_type": "markdown",
   "id": "272c4fcb",
   "metadata": {},
   "source": [
    "### Compare RMSE Values"
   ]
  },
  {
   "cell_type": "code",
   "execution_count": 195,
   "id": "1cd7d282",
   "metadata": {},
   "outputs": [],
   "source": [
    "metric_df = metric_df.sort_values(by = \"RMSE_validate\")"
   ]
  },
  {
   "cell_type": "code",
   "execution_count": 196,
   "id": "433af337",
   "metadata": {},
   "outputs": [
    {
     "data": {
      "image/png": "[encoded data removed]",
      "text/plain": [
       "<Figure size 432x288 with 1 Axes>"
      ]
     },
     "metadata": {
      "needs_background": "light"
     },
     "output_type": "display_data"
    }
   ],
   "source": [
    "rmse_values = sns.barplot(x = metric_df.RMSE_validate, y= metric_df.model)\n",
    "title = rmse_values.set(title = \"RMSE scores\")"
   ]
  },
  {
   "cell_type": "markdown",
   "id": "c6492d91",
   "metadata": {},
   "source": [
    "The fourth degree linear regression model is our best model. This model performs better than the baseline, thus the fourth degree linear regression model is valid."
   ]
  },
  {
   "cell_type": "markdown",
   "id": "fdba733a",
   "metadata": {},
   "source": [
    "### Which songs are most likely to be hits?\n",
    "\n",
    "Out of curiosity, let's see what song this model predicted to be the most popular."
   ]
  },
  {
   "cell_type": "code",
   "execution_count": 197,
   "id": "ded191ff",
   "metadata": {},
   "outputs": [
    {
     "data": {
      "text/plain": [
       "Int64Index([97695, 53650, 118663], dtype='int64')"
      ]
     },
     "execution_count": 197,
     "metadata": {},
     "output_type": "execute_result"
    }
   ],
   "source": [
    "y_train.sort_values(by = \"popularity_pred_lm4\", ascending = False).head(3).index"
   ]
  },
  {
   "cell_type": "code",
   "execution_count": 146,
   "id": "64925294",
   "metadata": {},
   "outputs": [
    {
     "data": {
      "text/plain": [
       "index                                                          158067\n",
       "id                                             6wxZq37sANWYDJiDN5khyL\n",
       "name                                                      Darte Remix\n",
       "popularity                                                         70\n",
       "duration_ms                                                    512060\n",
       "explicit                                                            1\n",
       "artists             ['Alex Rose', 'Casper Magico', 'Ñengo Flow', '...\n",
       "id_artists          ['2DspEsT7UXGKd2VaaedgG4', '1fux65HMCBvfJHqlBc...\n",
       "release_date                                               2018-07-27\n",
       "danceability                                                    0.809\n",
       "energy                                                          0.634\n",
       "key                                                                 9\n",
       "loudness                                                       -6.432\n",
       "mode                                                                0\n",
       "speechiness                                                    0.0833\n",
       "acousticness                                                    0.147\n",
       "instrumentalness                                             0.000002\n",
       "liveness                                                        0.532\n",
       "valence                                                         0.601\n",
       "tempo                                                         154.979\n",
       "time_signature                                                      4\n",
       "year_of_release                                                  2018\n",
       "Name: 97695, dtype: object"
      ]
     },
     "execution_count": 146,
     "metadata": {},
     "output_type": "execute_result"
    }
   ],
   "source": [
    "df.iloc[97695]"
   ]
  },
  {
   "cell_type": "code",
   "execution_count": 147,
   "id": "f89e83ec",
   "metadata": {},
   "outputs": [
    {
     "data": {
      "text/plain": [
       "index                                    89661\n",
       "id                      7tUXZgLbOCvRJ9FBlairoU\n",
       "name                                     Venom\n",
       "popularity                                  68\n",
       "duration_ms                             134271\n",
       "explicit                                     1\n",
       "artists                         ['Ghostemane']\n",
       "id_artists          ['3uL4UpqShC4p2x1dJutoRW']\n",
       "release_date                        2016-07-03\n",
       "danceability                             0.909\n",
       "energy                                   0.573\n",
       "key                                          5\n",
       "loudness                                -6.856\n",
       "mode                                         1\n",
       "speechiness                              0.181\n",
       "acousticness                            0.0332\n",
       "instrumentalness                        0.0163\n",
       "liveness                                 0.657\n",
       "valence                                  0.392\n",
       "tempo                                  144.946\n",
       "time_signature                               4\n",
       "year_of_release                           2016\n",
       "Name: 53650, dtype: object"
      ]
     },
     "execution_count": 147,
     "metadata": {},
     "output_type": "execute_result"
    }
   ],
   "source": [
    "df.iloc[53650]"
   ]
  },
  {
   "cell_type": "code",
   "execution_count": 148,
   "id": "02c2d042",
   "metadata": {},
   "outputs": [
    {
     "data": {
      "text/plain": [
       "index                                   187969\n",
       "id                      4GVIKZW6a4q0we4Ebc1FdP\n",
       "name                            Big Fan Dulled\n",
       "popularity                                  64\n",
       "duration_ms                             160847\n",
       "explicit                                     0\n",
       "artists                  ['The Noise Project']\n",
       "id_artists          ['3Q614JyDSProXXN4wXYYk1']\n",
       "release_date                        2017-05-07\n",
       "danceability                               0.0\n",
       "energy                                  0.0354\n",
       "key                                          2\n",
       "loudness                               -47.731\n",
       "mode                                         1\n",
       "speechiness                                0.0\n",
       "acousticness                              0.96\n",
       "instrumentalness                       0.00868\n",
       "liveness                                0.0923\n",
       "valence                                    0.0\n",
       "tempo                                      0.0\n",
       "time_signature                               0\n",
       "year_of_release                           2017\n",
       "Name: 118663, dtype: object"
      ]
     },
     "execution_count": 148,
     "metadata": {},
     "output_type": "execute_result"
    }
   ],
   "source": [
    "df.iloc[118663]"
   ]
  },
  {
   "cell_type": "code",
   "execution_count": 151,
   "id": "4e0e46d1",
   "metadata": {},
   "outputs": [
    {
     "data": {
      "text/plain": [
       "Int64Index([2086, 326995, 307995], dtype='int64')"
      ]
     },
     "execution_count": 151,
     "metadata": {},
     "output_type": "execute_result"
    }
   ],
   "source": [
    "y_validate.sort_values(by = \"popularity_pred_lm4\", ascending = False).head(3).index"
   ]
  },
  {
   "cell_type": "code",
   "execution_count": 152,
   "id": "205d37ec",
   "metadata": {},
   "outputs": [
    {
     "data": {
      "text/plain": [
       "index                                     8105\n",
       "id                      6lYqtOrLowtnslyKpyJQqe\n",
       "name                   Till The Cows Come Home\n",
       "popularity                                  36\n",
       "duration_ms                             172973\n",
       "explicit                                     1\n",
       "artists                      ['Lucille Bogan']\n",
       "id_artists          ['2cDKW2JF97WZ5ruG9Obfdf']\n",
       "release_date                              1933\n",
       "danceability                             0.682\n",
       "energy                                   0.132\n",
       "key                                          7\n",
       "loudness                               -11.006\n",
       "mode                                         1\n",
       "speechiness                              0.121\n",
       "acousticness                             0.987\n",
       "instrumentalness                           0.0\n",
       "liveness                                 0.185\n",
       "valence                                  0.731\n",
       "tempo                                  118.436\n",
       "time_signature                               4\n",
       "year_of_release                           1933\n",
       "Name: 2086, dtype: object"
      ]
     },
     "execution_count": 152,
     "metadata": {},
     "output_type": "execute_result"
    }
   ],
   "source": [
    "df.iloc[2086]"
   ]
  },
  {
   "cell_type": "code",
   "execution_count": 153,
   "id": "fe8ff746",
   "metadata": {},
   "outputs": [
    {
     "data": {
      "text/plain": [
       "index                                                          471029\n",
       "id                                             4l53vqkvPJK8gbEPP5Jxsk\n",
       "name                                                 Baby White Noise\n",
       "popularity                                                         58\n",
       "duration_ms                                                     83098\n",
       "explicit                                                            0\n",
       "artists             ['White Noise Radiance', 'White Noise Baby Sle...\n",
       "id_artists          ['0QUBaF6Rtta4TTmxYYfzux', '4W12lEvVl5wectUtRN...\n",
       "release_date                                               2019-07-05\n",
       "danceability                                                      0.0\n",
       "energy                                                        0.00002\n",
       "key                                                                 1\n",
       "loudness                                                       -9.923\n",
       "mode                                                                1\n",
       "speechiness                                                       0.0\n",
       "acousticness                                                      0.0\n",
       "instrumentalness                                                  0.0\n",
       "liveness                                                          0.0\n",
       "valence                                                           0.0\n",
       "tempo                                                             0.0\n",
       "time_signature                                                      0\n",
       "year_of_release                                                  2019\n",
       "Name: 326995, dtype: object"
      ]
     },
     "execution_count": 153,
     "metadata": {},
     "output_type": "execute_result"
    }
   ],
   "source": [
    "df.iloc[326995]"
   ]
  },
  {
   "cell_type": "code",
   "execution_count": 154,
   "id": "a66ea3d9",
   "metadata": {},
   "outputs": [
    {
     "data": {
      "text/plain": [
       "index                                   444437\n",
       "id                      3z3eMdRX4xR3vE5pnxaXx9\n",
       "name                     Baby Sleep Pink Noise\n",
       "popularity                                  52\n",
       "duration_ms                              80000\n",
       "explicit                                     0\n",
       "artists                         ['littleONES']\n",
       "id_artists          ['2p8rLc4EurmlEyJq770JPl']\n",
       "release_date                        2019-11-27\n",
       "danceability                               0.0\n",
       "energy                                 0.00002\n",
       "key                                          2\n",
       "loudness                               -11.126\n",
       "mode                                         1\n",
       "speechiness                                0.0\n",
       "acousticness                               0.0\n",
       "instrumentalness                           0.0\n",
       "liveness                                   0.0\n",
       "valence                                    0.0\n",
       "tempo                                      0.0\n",
       "time_signature                               0\n",
       "year_of_release                           2019\n",
       "Name: 307995, dtype: object"
      ]
     },
     "execution_count": 154,
     "metadata": {},
     "output_type": "execute_result"
    }
   ],
   "source": [
    "df.iloc[307995]"
   ]
  },
  {
   "cell_type": "markdown",
   "id": "fba5590e",
   "metadata": {},
   "source": [
    "Interestingly, our model has predicted several relaxing background noise as the songs most likely to be popular. "
   ]
  },
  {
   "cell_type": "markdown",
   "id": "2d2b3d26",
   "metadata": {},
   "source": [
    "## Out of Sample Evaluation"
   ]
  },
  {
   "cell_type": "code",
   "execution_count": 198,
   "id": "22f0aed3",
   "metadata": {},
   "outputs": [
    {
     "data": {
      "text/html": [
       "<div>\n",
       "<style scoped>\n",
       "    .dataframe tbody tr th:only-of-type {\n",
       "        vertical-align: middle;\n",
       "    }\n",
       "\n",
       "    .dataframe tbody tr th {\n",
       "        vertical-align: top;\n",
       "    }\n",
       "\n",
       "    .dataframe thead th {\n",
       "        text-align: right;\n",
       "    }\n",
       "</style>\n",
       "<table border=\"1\" class=\"dataframe\">\n",
       "  <thead>\n",
       "    <tr style=\"text-align: right;\">\n",
       "      <th></th>\n",
       "      <th>popularity</th>\n",
       "    </tr>\n",
       "  </thead>\n",
       "  <tbody>\n",
       "    <tr>\n",
       "      <th>49416</th>\n",
       "      <td>0</td>\n",
       "    </tr>\n",
       "    <tr>\n",
       "      <th>199305</th>\n",
       "      <td>28</td>\n",
       "    </tr>\n",
       "    <tr>\n",
       "      <th>188400</th>\n",
       "      <td>27</td>\n",
       "    </tr>\n",
       "    <tr>\n",
       "      <th>161999</th>\n",
       "      <td>32</td>\n",
       "    </tr>\n",
       "    <tr>\n",
       "      <th>383661</th>\n",
       "      <td>38</td>\n",
       "    </tr>\n",
       "  </tbody>\n",
       "</table>\n",
       "</div>"
      ],
      "text/plain": [
       "        popularity\n",
       "49416            0\n",
       "199305          28\n",
       "188400          27\n",
       "161999          32\n",
       "383661          38"
      ]
     },
     "execution_count": 198,
     "metadata": {},
     "output_type": "execute_result"
    }
   ],
   "source": [
    "y_test.head()"
   ]
  },
  {
   "cell_type": "code",
   "execution_count": 199,
   "id": "e58750e9",
   "metadata": {},
   "outputs": [],
   "source": [
    "# predict on test\n",
    "y_test['popularity_pred_lm4'] = lm4.predict(X_test_degree4)"
   ]
  },
  {
   "cell_type": "code",
   "execution_count": 200,
   "id": "13028faf",
   "metadata": {},
   "outputs": [
    {
     "name": "stdout",
     "output_type": "stream",
     "text": [
      "RMSE for OLS Model using Fourth Degreee LinearRegression with Polynomial Regression\n",
      "Out-of-Sample Performance:  14.001565084546748\n"
     ]
    }
   ],
   "source": [
    "# evaluate: rmse\n",
    "rmse_test = mean_squared_error(y_test.popularity, y_test.popularity_pred_lm4)**(1/2)\n",
    "\n",
    "print(\"RMSE for OLS Model using Fourth Degreee LinearRegression with Polynomial Regression\\nOut-of-Sample Performance: \", rmse_test)"
   ]
  },
  {
   "cell_type": "markdown",
   "id": "947267da",
   "metadata": {},
   "source": [
    "Our model outperforms baseline on the teset dataset, so it has validity."
   ]
  },
  {
   "cell_type": "code",
   "execution_count": 201,
   "id": "2ef7018e",
   "metadata": {},
   "outputs": [
    {
     "data": {
      "text/html": [
       "<div>\n",
       "<style scoped>\n",
       "    .dataframe tbody tr th:only-of-type {\n",
       "        vertical-align: middle;\n",
       "    }\n",
       "\n",
       "    .dataframe tbody tr th {\n",
       "        vertical-align: top;\n",
       "    }\n",
       "\n",
       "    .dataframe thead th {\n",
       "        text-align: right;\n",
       "    }\n",
       "</style>\n",
       "<table border=\"1\" class=\"dataframe\">\n",
       "  <thead>\n",
       "    <tr style=\"text-align: right;\">\n",
       "      <th></th>\n",
       "      <th>popularity</th>\n",
       "      <th>popularity_pred_lm4</th>\n",
       "    </tr>\n",
       "  </thead>\n",
       "  <tbody>\n",
       "    <tr>\n",
       "      <th>49416</th>\n",
       "      <td>0</td>\n",
       "      <td>37.206747</td>\n",
       "    </tr>\n",
       "    <tr>\n",
       "      <th>199305</th>\n",
       "      <td>28</td>\n",
       "      <td>32.258655</td>\n",
       "    </tr>\n",
       "    <tr>\n",
       "      <th>188400</th>\n",
       "      <td>27</td>\n",
       "      <td>27.383505</td>\n",
       "    </tr>\n",
       "    <tr>\n",
       "      <th>161999</th>\n",
       "      <td>32</td>\n",
       "      <td>21.407111</td>\n",
       "    </tr>\n",
       "    <tr>\n",
       "      <th>383661</th>\n",
       "      <td>38</td>\n",
       "      <td>46.157955</td>\n",
       "    </tr>\n",
       "  </tbody>\n",
       "</table>\n",
       "</div>"
      ],
      "text/plain": [
       "        popularity  popularity_pred_lm4\n",
       "49416            0            37.206747\n",
       "199305          28            32.258655\n",
       "188400          27            27.383505\n",
       "161999          32            21.407111\n",
       "383661          38            46.157955"
      ]
     },
     "execution_count": 201,
     "metadata": {},
     "output_type": "execute_result"
    }
   ],
   "source": [
    "y_test.head()"
   ]
  },
  {
   "cell_type": "code",
   "execution_count": 202,
   "id": "e01d5395",
   "metadata": {},
   "outputs": [
    {
     "data": {
      "image/png": "[encoded data removed]",
      "text/plain": [
       "<Figure size 1152x576 with 1 Axes>"
      ]
     },
     "metadata": {
      "needs_background": "light"
     },
     "output_type": "display_data"
    }
   ],
   "source": [
    "plt.figure(figsize=(16,8))\n",
    "sns.histplot(y_test.popularity_pred_lm4, color='lightblue', alpha=.5, label=\"Model: LinearRegression, 3rd Degree Polynomial\")\n",
    "sns.histplot(y_test.popularity, color='orange', alpha=.5, label=\"Actual Tax Value Dollar Count\")\n",
    "plt.xlim(-2, 100)\n",
    "plt.xlabel(\"Popularity\")\n",
    "plt.ylabel(\"Number of Songs\")\n",
    "plt.title(\"Comparing the Distribution of Tax Value to Distributions of Predicted Tax Value\")\n",
    "plt.legend()\n",
    "plt.show()"
   ]
  },
  {
   "cell_type": "code",
   "execution_count": 204,
   "id": "fa3aee45",
   "metadata": {},
   "outputs": [
    {
     "data": {
      "image/png": "[encoded data removed]",
      "text/plain": [
       "<Figure size 1152x576 with 1 Axes>"
      ]
     },
     "metadata": {
      "needs_background": "light"
     },
     "output_type": "display_data"
    }
   ],
   "source": [
    "# y_validate.head()\n",
    "plt.figure(figsize=(16,8))\n",
    "\n",
    "plt.plot(y_test.popularity, y_test.popularity, alpha=.5, color=\"blue\", label=\"The Ideal Line: Predicted = Actual\")\n",
    "\n",
    "plt.scatter(y_test.popularity, y_test.popularity_pred_lm4, \n",
    "            alpha=.5, color=\"red\", s=100, label=\"Model: Fourth Degree LinearRegression\")\n",
    "plt.legend()\n",
    "plt.xlabel(\"Actual Popularity Index\")\n",
    "plt.ylabel(\"Predicted Popularity Index\")\n",
    "plt.title(\"Actual Versus Predicted Popularity Index\")\n",
    "plt.show()"
   ]
  },
  {
   "cell_type": "markdown",
   "id": "5518b964",
   "metadata": {},
   "source": [
    "## Bonus: Using Clustering to Categorize Music By Genre"
   ]
  },
  {
   "cell_type": "markdown",
   "id": "94a187b9",
   "metadata": {},
   "source": [
    "We have already shown that we can use the features of music to predict the popularity of a song with reasonable accuracy. In this section of the project, I would like to show that we can also use clustering technology to group similar songs together by finding patterns in the data."
   ]
  },
  {
   "cell_type": "code",
   "execution_count": 205,
   "id": "988cb604",
   "metadata": {},
   "outputs": [
    {
     "data": {
      "text/plain": [
       "Index(['id', 'name', 'popularity', 'duration_ms', 'explicit', 'artists',\n",
       "       'id_artists', 'release_date', 'danceability', 'energy', 'key',\n",
       "       'loudness', 'mode', 'speechiness', 'acousticness', 'instrumentalness',\n",
       "       'liveness', 'valence', 'tempo', 'time_signature'],\n",
       "      dtype='object')"
      ]
     },
     "execution_count": 205,
     "metadata": {},
     "output_type": "execute_result"
    }
   ],
   "source": [
    "df.columns"
   ]
  },
  {
   "cell_type": "code",
   "execution_count": 206,
   "id": "cad9f156",
   "metadata": {},
   "outputs": [],
   "source": [
    "X = train[['explicit',\n",
    "'danceability',\n",
    "'energy',\n",
    "'mode',\n",
    "'key',\n",
    "'speechiness',\n",
    "'acousticness',\n",
    "'instrumentalness',\n",
    "'liveness',\n",
    "'tempo',\n",
    "'time_signature',\n",
    "'duration_ms_scaled',\n",
    "'loudness_scaled',\n",
    "'valence',\n",
    "'year_of_release']]"
   ]
  },
  {
   "cell_type": "markdown",
   "id": "086e7dd1",
   "metadata": {},
   "source": [
    "We will use the elbow method to determine our optimum number of clusters. The elbow method means that we will use a line graph to visualize number of cluster vs. inertia. We will look for the \"elbow\" in the line graph, the part where intertia drops off significantly.\n",
    "\n"
   ]
  },
  {
   "cell_type": "code",
   "execution_count": 596,
   "id": "0bc38584",
   "metadata": {},
   "outputs": [
    {
     "data": {
      "image/png": "[encoded data removed]",
      "text/plain": [
       "<Figure size 648x432 with 1 Axes>"
      ]
     },
     "metadata": {},
     "output_type": "display_data"
    }
   ],
   "source": [
    "with plt.style.context('seaborn-whitegrid'):\n",
    "    plt.figure(figsize=(9, 6))\n",
    "    pd.Series({k: KMeans(k).fit(X).inertia_ for k in range(2, 12)}).plot(marker='x')\n",
    "    plt.xticks(range(2, 12))\n",
    "    plt.xlabel('k')\n",
    "    plt.ylabel('inertia')\n",
    "    plt.title('Change in inertia as k increases')"
   ]
  },
  {
   "cell_type": "code",
   "execution_count": 597,
   "id": "ca6aed96",
   "metadata": {},
   "outputs": [
    {
     "data": {
      "text/plain": [
       "array([5, 5, 0, ..., 1, 0, 2], dtype=int32)"
      ]
     },
     "execution_count": 597,
     "metadata": {},
     "output_type": "execute_result"
    }
   ],
   "source": [
    "kmeans = KMeans(n_clusters=6)\n",
    "kmeans.fit(X)\n",
    "\n",
    "kmeans.predict(X)"
   ]
  },
  {
   "cell_type": "code",
   "execution_count": 598,
   "id": "0c1c8778",
   "metadata": {},
   "outputs": [],
   "source": [
    "train['cluster'] = kmeans.predict(X)"
   ]
  },
  {
   "cell_type": "code",
   "execution_count": 599,
   "id": "1eea292b",
   "metadata": {},
   "outputs": [
    {
     "data": {
      "image/png": "[encoded data removed]",
      "text/plain": [
       "<Figure size 432x288 with 1 Axes>"
      ]
     },
     "metadata": {
      "needs_background": "light"
     },
     "output_type": "display_data"
    }
   ],
   "source": [
    "counts_by_cluster = sns.countplot(x = train.cluster)"
   ]
  },
  {
   "cell_type": "code",
   "execution_count": 600,
   "id": "30391a41",
   "metadata": {},
   "outputs": [
    {
     "data": {
      "text/html": [
       "<div>\n",
       "<style scoped>\n",
       "    .dataframe tbody tr th:only-of-type {\n",
       "        vertical-align: middle;\n",
       "    }\n",
       "\n",
       "    .dataframe tbody tr th {\n",
       "        vertical-align: top;\n",
       "    }\n",
       "\n",
       "    .dataframe thead th {\n",
       "        text-align: right;\n",
       "    }\n",
       "</style>\n",
       "<table border=\"1\" class=\"dataframe\">\n",
       "  <thead>\n",
       "    <tr style=\"text-align: right;\">\n",
       "      <th></th>\n",
       "      <th>id</th>\n",
       "      <th>name</th>\n",
       "      <th>popularity</th>\n",
       "      <th>duration_ms</th>\n",
       "      <th>explicit</th>\n",
       "      <th>artists</th>\n",
       "      <th>id_artists</th>\n",
       "      <th>release_date</th>\n",
       "      <th>danceability</th>\n",
       "      <th>energy</th>\n",
       "      <th>...</th>\n",
       "      <th>acousticness</th>\n",
       "      <th>instrumentalness</th>\n",
       "      <th>liveness</th>\n",
       "      <th>valence</th>\n",
       "      <th>tempo</th>\n",
       "      <th>time_signature</th>\n",
       "      <th>year_of_release</th>\n",
       "      <th>duration_ms_scaled</th>\n",
       "      <th>loudness_scaled</th>\n",
       "      <th>cluster</th>\n",
       "    </tr>\n",
       "  </thead>\n",
       "  <tbody>\n",
       "    <tr>\n",
       "      <th>404070</th>\n",
       "      <td>4RoQxXt8eSKeSFmhxLXu3x</td>\n",
       "      <td>Oru Ooril</td>\n",
       "      <td>39</td>\n",
       "      <td>279467</td>\n",
       "      <td>0</td>\n",
       "      <td>['Karthik']</td>\n",
       "      <td>['0LSPREIgGMZXCuKVel7LVD']</td>\n",
       "      <td>2003-09-27</td>\n",
       "      <td>0.594</td>\n",
       "      <td>0.633</td>\n",
       "      <td>...</td>\n",
       "      <td>0.281000</td>\n",
       "      <td>0.000000</td>\n",
       "      <td>0.0559</td>\n",
       "      <td>0.757</td>\n",
       "      <td>169.779</td>\n",
       "      <td>4</td>\n",
       "      <td>2003</td>\n",
       "      <td>0.051132</td>\n",
       "      <td>0.818305</td>\n",
       "      <td>5</td>\n",
       "    </tr>\n",
       "    <tr>\n",
       "      <th>319183</th>\n",
       "      <td>6FxUiq2HJbjyj4dBnXumrb</td>\n",
       "      <td>Lay down (Candles in the rain)</td>\n",
       "      <td>7</td>\n",
       "      <td>274274</td>\n",
       "      <td>0</td>\n",
       "      <td>['Emilíana Torrini']</td>\n",
       "      <td>['08j69Ndyx1P7RLO3Janb5P']</td>\n",
       "      <td>1996-01-01</td>\n",
       "      <td>0.305</td>\n",
       "      <td>0.726</td>\n",
       "      <td>...</td>\n",
       "      <td>0.183000</td>\n",
       "      <td>0.000000</td>\n",
       "      <td>0.1340</td>\n",
       "      <td>0.592</td>\n",
       "      <td>167.728</td>\n",
       "      <td>4</td>\n",
       "      <td>1996</td>\n",
       "      <td>0.050171</td>\n",
       "      <td>0.809412</td>\n",
       "      <td>5</td>\n",
       "    </tr>\n",
       "    <tr>\n",
       "      <th>545921</th>\n",
       "      <td>3GcY5WwLab9cMJimIIqSh1</td>\n",
       "      <td>Playful</td>\n",
       "      <td>28</td>\n",
       "      <td>167413</td>\n",
       "      <td>0</td>\n",
       "      <td>['Frankie Animal']</td>\n",
       "      <td>['1YYYGhGZWuWjLTpxdggqpO']</td>\n",
       "      <td>2019-06-07</td>\n",
       "      <td>0.595</td>\n",
       "      <td>0.594</td>\n",
       "      <td>...</td>\n",
       "      <td>0.040500</td>\n",
       "      <td>0.000066</td>\n",
       "      <td>0.1340</td>\n",
       "      <td>0.566</td>\n",
       "      <td>90.053</td>\n",
       "      <td>4</td>\n",
       "      <td>2019</td>\n",
       "      <td>0.030382</td>\n",
       "      <td>0.781858</td>\n",
       "      <td>0</td>\n",
       "    </tr>\n",
       "    <tr>\n",
       "      <th>113274</th>\n",
       "      <td>0EvOQBSyW3uSfwpcaj5xLe</td>\n",
       "      <td>Time - 2013 Remaster</td>\n",
       "      <td>11</td>\n",
       "      <td>315855</td>\n",
       "      <td>0</td>\n",
       "      <td>['David Bowie']</td>\n",
       "      <td>['0oSGxfWSnnOXhD2fKuz2Gy']</td>\n",
       "      <td>2015-09-25</td>\n",
       "      <td>0.330</td>\n",
       "      <td>0.652</td>\n",
       "      <td>...</td>\n",
       "      <td>0.192000</td>\n",
       "      <td>0.000003</td>\n",
       "      <td>0.1050</td>\n",
       "      <td>0.369</td>\n",
       "      <td>145.186</td>\n",
       "      <td>4</td>\n",
       "      <td>2015</td>\n",
       "      <td>0.057871</td>\n",
       "      <td>0.787433</td>\n",
       "      <td>2</td>\n",
       "    </tr>\n",
       "    <tr>\n",
       "      <th>112835</th>\n",
       "      <td>4i3ilJFJbMwLLK3g0ECkXp</td>\n",
       "      <td>Jy Soen Soos 'n Engel</td>\n",
       "      <td>22</td>\n",
       "      <td>228653</td>\n",
       "      <td>0</td>\n",
       "      <td>['David Fourie']</td>\n",
       "      <td>['3372wrCwHX44K1vjwiZHoA']</td>\n",
       "      <td>2011-04-04</td>\n",
       "      <td>0.601</td>\n",
       "      <td>0.953</td>\n",
       "      <td>...</td>\n",
       "      <td>0.000192</td>\n",
       "      <td>0.000000</td>\n",
       "      <td>0.0971</td>\n",
       "      <td>0.731</td>\n",
       "      <td>125.964</td>\n",
       "      <td>4</td>\n",
       "      <td>2011</td>\n",
       "      <td>0.041723</td>\n",
       "      <td>0.834877</td>\n",
       "      <td>2</td>\n",
       "    </tr>\n",
       "    <tr>\n",
       "      <th>243942</th>\n",
       "      <td>1sapJ0ghCrB804CK2SQoLl</td>\n",
       "      <td>Океан и три реки</td>\n",
       "      <td>47</td>\n",
       "      <td>218867</td>\n",
       "      <td>0</td>\n",
       "      <td>['Valery Meladze']</td>\n",
       "      <td>['2igtm1MhKEpmG3PzToJT40']</td>\n",
       "      <td>2003-01-01</td>\n",
       "      <td>0.606</td>\n",
       "      <td>0.864</td>\n",
       "      <td>...</td>\n",
       "      <td>0.120000</td>\n",
       "      <td>0.000000</td>\n",
       "      <td>0.3880</td>\n",
       "      <td>0.724</td>\n",
       "      <td>95.012</td>\n",
       "      <td>4</td>\n",
       "      <td>2003</td>\n",
       "      <td>0.039911</td>\n",
       "      <td>0.841911</td>\n",
       "      <td>0</td>\n",
       "    </tr>\n",
       "    <tr>\n",
       "      <th>247901</th>\n",
       "      <td>7H9hrwz5IBDcHeHflB7dZh</td>\n",
       "      <td>Ya No Me Arrepiento</td>\n",
       "      <td>19</td>\n",
       "      <td>247693</td>\n",
       "      <td>0</td>\n",
       "      <td>['Sergio Denis']</td>\n",
       "      <td>['6J19N5JZkGRjuONpiizCIe']</td>\n",
       "      <td>1971-01-01</td>\n",
       "      <td>0.430</td>\n",
       "      <td>0.304</td>\n",
       "      <td>...</td>\n",
       "      <td>0.877000</td>\n",
       "      <td>0.000004</td>\n",
       "      <td>0.2170</td>\n",
       "      <td>0.242</td>\n",
       "      <td>77.332</td>\n",
       "      <td>4</td>\n",
       "      <td>1971</td>\n",
       "      <td>0.045249</td>\n",
       "      <td>0.750726</td>\n",
       "      <td>1</td>\n",
       "    </tr>\n",
       "    <tr>\n",
       "      <th>370623</th>\n",
       "      <td>4v3AuNSbedru7LpWlpg1Mp</td>\n",
       "      <td>Zor Yıllar</td>\n",
       "      <td>36</td>\n",
       "      <td>206053</td>\n",
       "      <td>0</td>\n",
       "      <td>['Kemal Sahir Gürel', 'Erdal Güney', 'Hüseyin ...</td>\n",
       "      <td>['1WeO0UYvbcLvA27hupeCYV', '77PSs92ix6empuwnNu...</td>\n",
       "      <td>2007-01-03</td>\n",
       "      <td>0.289</td>\n",
       "      <td>0.414</td>\n",
       "      <td>...</td>\n",
       "      <td>0.894000</td>\n",
       "      <td>0.000008</td>\n",
       "      <td>0.2240</td>\n",
       "      <td>0.527</td>\n",
       "      <td>78.625</td>\n",
       "      <td>3</td>\n",
       "      <td>2007</td>\n",
       "      <td>0.037538</td>\n",
       "      <td>0.817337</td>\n",
       "      <td>0</td>\n",
       "    </tr>\n",
       "    <tr>\n",
       "      <th>145553</th>\n",
       "      <td>47YmRDI67DigzJtlcg0BGK</td>\n",
       "      <td>Sigo Buscando Un Amor</td>\n",
       "      <td>12</td>\n",
       "      <td>409133</td>\n",
       "      <td>0</td>\n",
       "      <td>['Roberto Roena']</td>\n",
       "      <td>['4i5rDrP2IqCdMgde0vIpyB']</td>\n",
       "      <td>1980-12-31</td>\n",
       "      <td>0.536</td>\n",
       "      <td>0.613</td>\n",
       "      <td>...</td>\n",
       "      <td>0.551000</td>\n",
       "      <td>0.007360</td>\n",
       "      <td>0.1290</td>\n",
       "      <td>0.798</td>\n",
       "      <td>104.461</td>\n",
       "      <td>4</td>\n",
       "      <td>1980</td>\n",
       "      <td>0.075144</td>\n",
       "      <td>0.816369</td>\n",
       "      <td>4</td>\n",
       "    </tr>\n",
       "    <tr>\n",
       "      <th>545576</th>\n",
       "      <td>1qBycURgOlsk4UtBsSY8XV</td>\n",
       "      <td>Lendaval Vaibal</td>\n",
       "      <td>16</td>\n",
       "      <td>266573</td>\n",
       "      <td>0</td>\n",
       "      <td>['Smilers']</td>\n",
       "      <td>['3gDHpjemovd3LuV3tHgjOq']</td>\n",
       "      <td>2014-04-16</td>\n",
       "      <td>0.665</td>\n",
       "      <td>0.869</td>\n",
       "      <td>...</td>\n",
       "      <td>0.059800</td>\n",
       "      <td>0.000000</td>\n",
       "      <td>0.5770</td>\n",
       "      <td>0.773</td>\n",
       "      <td>99.533</td>\n",
       "      <td>4</td>\n",
       "      <td>2014</td>\n",
       "      <td>0.048745</td>\n",
       "      <td>0.864105</td>\n",
       "      <td>0</td>\n",
       "    </tr>\n",
       "  </tbody>\n",
       "</table>\n",
       "<p>10 rows × 24 columns</p>\n",
       "</div>"
      ],
      "text/plain": [
       "                            id                            name  popularity  \\\n",
       "404070  4RoQxXt8eSKeSFmhxLXu3x                       Oru Ooril          39   \n",
       "319183  6FxUiq2HJbjyj4dBnXumrb  Lay down (Candles in the rain)           7   \n",
       "545921  3GcY5WwLab9cMJimIIqSh1                         Playful          28   \n",
       "113274  0EvOQBSyW3uSfwpcaj5xLe            Time - 2013 Remaster          11   \n",
       "112835  4i3ilJFJbMwLLK3g0ECkXp           Jy Soen Soos 'n Engel          22   \n",
       "243942  1sapJ0ghCrB804CK2SQoLl                Океан и три реки          47   \n",
       "247901  7H9hrwz5IBDcHeHflB7dZh             Ya No Me Arrepiento          19   \n",
       "370623  4v3AuNSbedru7LpWlpg1Mp                      Zor Yıllar          36   \n",
       "145553  47YmRDI67DigzJtlcg0BGK           Sigo Buscando Un Amor          12   \n",
       "545576  1qBycURgOlsk4UtBsSY8XV                 Lendaval Vaibal          16   \n",
       "\n",
       "        duration_ms  explicit  \\\n",
       "404070       279467         0   \n",
       "319183       274274         0   \n",
       "545921       167413         0   \n",
       "113274       315855         0   \n",
       "112835       228653         0   \n",
       "243942       218867         0   \n",
       "247901       247693         0   \n",
       "370623       206053         0   \n",
       "145553       409133         0   \n",
       "545576       266573         0   \n",
       "\n",
       "                                                  artists  \\\n",
       "404070                                        ['Karthik']   \n",
       "319183                               ['Emilíana Torrini']   \n",
       "545921                                 ['Frankie Animal']   \n",
       "113274                                    ['David Bowie']   \n",
       "112835                                   ['David Fourie']   \n",
       "243942                                 ['Valery Meladze']   \n",
       "247901                                   ['Sergio Denis']   \n",
       "370623  ['Kemal Sahir Gürel', 'Erdal Güney', 'Hüseyin ...   \n",
       "145553                                  ['Roberto Roena']   \n",
       "545576                                        ['Smilers']   \n",
       "\n",
       "                                               id_artists release_date  \\\n",
       "404070                         ['0LSPREIgGMZXCuKVel7LVD']   2003-09-27   \n",
       "319183                         ['08j69Ndyx1P7RLO3Janb5P']   1996-01-01   \n",
       "545921                         ['1YYYGhGZWuWjLTpxdggqpO']   2019-06-07   \n",
       "113274                         ['0oSGxfWSnnOXhD2fKuz2Gy']   2015-09-25   \n",
       "112835                         ['3372wrCwHX44K1vjwiZHoA']   2011-04-04   \n",
       "243942                         ['2igtm1MhKEpmG3PzToJT40']   2003-01-01   \n",
       "247901                         ['6J19N5JZkGRjuONpiizCIe']   1971-01-01   \n",
       "370623  ['1WeO0UYvbcLvA27hupeCYV', '77PSs92ix6empuwnNu...   2007-01-03   \n",
       "145553                         ['4i5rDrP2IqCdMgde0vIpyB']   1980-12-31   \n",
       "545576                         ['3gDHpjemovd3LuV3tHgjOq']   2014-04-16   \n",
       "\n",
       "        danceability  energy  ...  acousticness  instrumentalness  liveness  \\\n",
       "404070         0.594   0.633  ...      0.281000          0.000000    0.0559   \n",
       "319183         0.305   0.726  ...      0.183000          0.000000    0.1340   \n",
       "545921         0.595   0.594  ...      0.040500          0.000066    0.1340   \n",
       "113274         0.330   0.652  ...      0.192000          0.000003    0.1050   \n",
       "112835         0.601   0.953  ...      0.000192          0.000000    0.0971   \n",
       "243942         0.606   0.864  ...      0.120000          0.000000    0.3880   \n",
       "247901         0.430   0.304  ...      0.877000          0.000004    0.2170   \n",
       "370623         0.289   0.414  ...      0.894000          0.000008    0.2240   \n",
       "145553         0.536   0.613  ...      0.551000          0.007360    0.1290   \n",
       "545576         0.665   0.869  ...      0.059800          0.000000    0.5770   \n",
       "\n",
       "        valence    tempo  time_signature  year_of_release  duration_ms_scaled  \\\n",
       "404070    0.757  169.779               4             2003            0.051132   \n",
       "319183    0.592  167.728               4             1996            0.050171   \n",
       "545921    0.566   90.053               4             2019            0.030382   \n",
       "113274    0.369  145.186               4             2015            0.057871   \n",
       "112835    0.731  125.964               4             2011            0.041723   \n",
       "243942    0.724   95.012               4             2003            0.039911   \n",
       "247901    0.242   77.332               4             1971            0.045249   \n",
       "370623    0.527   78.625               3             2007            0.037538   \n",
       "145553    0.798  104.461               4             1980            0.075144   \n",
       "545576    0.773   99.533               4             2014            0.048745   \n",
       "\n",
       "        loudness_scaled  cluster  \n",
       "404070         0.818305        5  \n",
       "319183         0.809412        5  \n",
       "545921         0.781858        0  \n",
       "113274         0.787433        2  \n",
       "112835         0.834877        2  \n",
       "243942         0.841911        0  \n",
       "247901         0.750726        1  \n",
       "370623         0.817337        0  \n",
       "145553         0.816369        4  \n",
       "545576         0.864105        0  \n",
       "\n",
       "[10 rows x 24 columns]"
      ]
     },
     "execution_count": 600,
     "metadata": {},
     "output_type": "execute_result"
    }
   ],
   "source": [
    "train.head(10)"
   ]
  },
  {
   "cell_type": "markdown",
   "id": "a1011d48",
   "metadata": {},
   "source": [
    "We now have six groups of similar sounding songs."
   ]
  },
  {
   "cell_type": "markdown",
   "id": "44d8d697",
   "metadata": {},
   "source": [
    "### Group 0"
   ]
  },
  {
   "cell_type": "code",
   "execution_count": 603,
   "id": "fc0d570d",
   "metadata": {},
   "outputs": [],
   "source": [
    "train_0 = train[train.cluster == 0]"
   ]
  },
  {
   "cell_type": "code",
   "execution_count": 604,
   "id": "628ca8ff",
   "metadata": {},
   "outputs": [
    {
     "data": {
      "text/html": [
       "<div>\n",
       "<style scoped>\n",
       "    .dataframe tbody tr th:only-of-type {\n",
       "        vertical-align: middle;\n",
       "    }\n",
       "\n",
       "    .dataframe tbody tr th {\n",
       "        vertical-align: top;\n",
       "    }\n",
       "\n",
       "    .dataframe thead th {\n",
       "        text-align: right;\n",
       "    }\n",
       "</style>\n",
       "<table border=\"1\" class=\"dataframe\">\n",
       "  <thead>\n",
       "    <tr style=\"text-align: right;\">\n",
       "      <th></th>\n",
       "      <th>id</th>\n",
       "      <th>name</th>\n",
       "      <th>popularity</th>\n",
       "      <th>duration_ms</th>\n",
       "      <th>explicit</th>\n",
       "      <th>artists</th>\n",
       "      <th>id_artists</th>\n",
       "      <th>release_date</th>\n",
       "      <th>danceability</th>\n",
       "      <th>energy</th>\n",
       "      <th>...</th>\n",
       "      <th>acousticness</th>\n",
       "      <th>instrumentalness</th>\n",
       "      <th>liveness</th>\n",
       "      <th>valence</th>\n",
       "      <th>tempo</th>\n",
       "      <th>time_signature</th>\n",
       "      <th>year_of_release</th>\n",
       "      <th>duration_ms_scaled</th>\n",
       "      <th>loudness_scaled</th>\n",
       "      <th>cluster</th>\n",
       "    </tr>\n",
       "  </thead>\n",
       "  <tbody>\n",
       "    <tr>\n",
       "      <th>545921</th>\n",
       "      <td>3GcY5WwLab9cMJimIIqSh1</td>\n",
       "      <td>Playful</td>\n",
       "      <td>28</td>\n",
       "      <td>167413</td>\n",
       "      <td>0</td>\n",
       "      <td>['Frankie Animal']</td>\n",
       "      <td>['1YYYGhGZWuWjLTpxdggqpO']</td>\n",
       "      <td>2019-06-07</td>\n",
       "      <td>0.595</td>\n",
       "      <td>0.59400</td>\n",
       "      <td>...</td>\n",
       "      <td>0.0405</td>\n",
       "      <td>0.000066</td>\n",
       "      <td>0.134</td>\n",
       "      <td>0.566</td>\n",
       "      <td>90.053</td>\n",
       "      <td>4</td>\n",
       "      <td>2019</td>\n",
       "      <td>0.030382</td>\n",
       "      <td>0.781858</td>\n",
       "      <td>0</td>\n",
       "    </tr>\n",
       "    <tr>\n",
       "      <th>243942</th>\n",
       "      <td>1sapJ0ghCrB804CK2SQoLl</td>\n",
       "      <td>Океан и три реки</td>\n",
       "      <td>47</td>\n",
       "      <td>218867</td>\n",
       "      <td>0</td>\n",
       "      <td>['Valery Meladze']</td>\n",
       "      <td>['2igtm1MhKEpmG3PzToJT40']</td>\n",
       "      <td>2003-01-01</td>\n",
       "      <td>0.606</td>\n",
       "      <td>0.86400</td>\n",
       "      <td>...</td>\n",
       "      <td>0.1200</td>\n",
       "      <td>0.000000</td>\n",
       "      <td>0.388</td>\n",
       "      <td>0.724</td>\n",
       "      <td>95.012</td>\n",
       "      <td>4</td>\n",
       "      <td>2003</td>\n",
       "      <td>0.039911</td>\n",
       "      <td>0.841911</td>\n",
       "      <td>0</td>\n",
       "    </tr>\n",
       "    <tr>\n",
       "      <th>370623</th>\n",
       "      <td>4v3AuNSbedru7LpWlpg1Mp</td>\n",
       "      <td>Zor Yıllar</td>\n",
       "      <td>36</td>\n",
       "      <td>206053</td>\n",
       "      <td>0</td>\n",
       "      <td>['Kemal Sahir Gürel', 'Erdal Güney', 'Hüseyin ...</td>\n",
       "      <td>['1WeO0UYvbcLvA27hupeCYV', '77PSs92ix6empuwnNu...</td>\n",
       "      <td>2007-01-03</td>\n",
       "      <td>0.289</td>\n",
       "      <td>0.41400</td>\n",
       "      <td>...</td>\n",
       "      <td>0.8940</td>\n",
       "      <td>0.000008</td>\n",
       "      <td>0.224</td>\n",
       "      <td>0.527</td>\n",
       "      <td>78.625</td>\n",
       "      <td>3</td>\n",
       "      <td>2007</td>\n",
       "      <td>0.037538</td>\n",
       "      <td>0.817337</td>\n",
       "      <td>0</td>\n",
       "    </tr>\n",
       "    <tr>\n",
       "      <th>545576</th>\n",
       "      <td>1qBycURgOlsk4UtBsSY8XV</td>\n",
       "      <td>Lendaval Vaibal</td>\n",
       "      <td>16</td>\n",
       "      <td>266573</td>\n",
       "      <td>0</td>\n",
       "      <td>['Smilers']</td>\n",
       "      <td>['3gDHpjemovd3LuV3tHgjOq']</td>\n",
       "      <td>2014-04-16</td>\n",
       "      <td>0.665</td>\n",
       "      <td>0.86900</td>\n",
       "      <td>...</td>\n",
       "      <td>0.0598</td>\n",
       "      <td>0.000000</td>\n",
       "      <td>0.577</td>\n",
       "      <td>0.773</td>\n",
       "      <td>99.533</td>\n",
       "      <td>4</td>\n",
       "      <td>2014</td>\n",
       "      <td>0.048745</td>\n",
       "      <td>0.864105</td>\n",
       "      <td>0</td>\n",
       "    </tr>\n",
       "    <tr>\n",
       "      <th>415692</th>\n",
       "      <td>5IgHqf44izKwUGgP5dGVlO</td>\n",
       "      <td>Sleep Tight (Instrumental Version)</td>\n",
       "      <td>57</td>\n",
       "      <td>74859</td>\n",
       "      <td>0</td>\n",
       "      <td>['Nursery Rhymes 123']</td>\n",
       "      <td>['47tuSUJMhsa3twW6wgKdIW']</td>\n",
       "      <td>2016-01-26</td>\n",
       "      <td>0.833</td>\n",
       "      <td>0.00417</td>\n",
       "      <td>...</td>\n",
       "      <td>0.9790</td>\n",
       "      <td>0.012900</td>\n",
       "      <td>0.137</td>\n",
       "      <td>0.918</td>\n",
       "      <td>89.900</td>\n",
       "      <td>3</td>\n",
       "      <td>2016</td>\n",
       "      <td>0.013243</td>\n",
       "      <td>0.541139</td>\n",
       "      <td>0</td>\n",
       "    </tr>\n",
       "  </tbody>\n",
       "</table>\n",
       "<p>5 rows × 24 columns</p>\n",
       "</div>"
      ],
      "text/plain": [
       "                            id                                name  \\\n",
       "545921  3GcY5WwLab9cMJimIIqSh1                             Playful   \n",
       "243942  1sapJ0ghCrB804CK2SQoLl                    Океан и три реки   \n",
       "370623  4v3AuNSbedru7LpWlpg1Mp                          Zor Yıllar   \n",
       "545576  1qBycURgOlsk4UtBsSY8XV                     Lendaval Vaibal   \n",
       "415692  5IgHqf44izKwUGgP5dGVlO  Sleep Tight (Instrumental Version)   \n",
       "\n",
       "        popularity  duration_ms  explicit  \\\n",
       "545921          28       167413         0   \n",
       "243942          47       218867         0   \n",
       "370623          36       206053         0   \n",
       "545576          16       266573         0   \n",
       "415692          57        74859         0   \n",
       "\n",
       "                                                  artists  \\\n",
       "545921                                 ['Frankie Animal']   \n",
       "243942                                 ['Valery Meladze']   \n",
       "370623  ['Kemal Sahir Gürel', 'Erdal Güney', 'Hüseyin ...   \n",
       "545576                                        ['Smilers']   \n",
       "415692                             ['Nursery Rhymes 123']   \n",
       "\n",
       "                                               id_artists release_date  \\\n",
       "545921                         ['1YYYGhGZWuWjLTpxdggqpO']   2019-06-07   \n",
       "243942                         ['2igtm1MhKEpmG3PzToJT40']   2003-01-01   \n",
       "370623  ['1WeO0UYvbcLvA27hupeCYV', '77PSs92ix6empuwnNu...   2007-01-03   \n",
       "545576                         ['3gDHpjemovd3LuV3tHgjOq']   2014-04-16   \n",
       "415692                         ['47tuSUJMhsa3twW6wgKdIW']   2016-01-26   \n",
       "\n",
       "        danceability   energy  ...  acousticness  instrumentalness  liveness  \\\n",
       "545921         0.595  0.59400  ...        0.0405          0.000066     0.134   \n",
       "243942         0.606  0.86400  ...        0.1200          0.000000     0.388   \n",
       "370623         0.289  0.41400  ...        0.8940          0.000008     0.224   \n",
       "545576         0.665  0.86900  ...        0.0598          0.000000     0.577   \n",
       "415692         0.833  0.00417  ...        0.9790          0.012900     0.137   \n",
       "\n",
       "        valence   tempo  time_signature  year_of_release  duration_ms_scaled  \\\n",
       "545921    0.566  90.053               4             2019            0.030382   \n",
       "243942    0.724  95.012               4             2003            0.039911   \n",
       "370623    0.527  78.625               3             2007            0.037538   \n",
       "545576    0.773  99.533               4             2014            0.048745   \n",
       "415692    0.918  89.900               3             2016            0.013243   \n",
       "\n",
       "        loudness_scaled  cluster  \n",
       "545921         0.781858        0  \n",
       "243942         0.841911        0  \n",
       "370623         0.817337        0  \n",
       "545576         0.864105        0  \n",
       "415692         0.541139        0  \n",
       "\n",
       "[5 rows x 24 columns]"
      ]
     },
     "execution_count": 604,
     "metadata": {},
     "output_type": "execute_result"
    }
   ],
   "source": [
    "train_0.head()"
   ]
  },
  {
   "cell_type": "markdown",
   "id": "33b53c57",
   "metadata": {},
   "source": [
    "Group 0 seems to be mostly upbeat songs with an electronic sound."
   ]
  },
  {
   "cell_type": "markdown",
   "id": "556f0617",
   "metadata": {},
   "source": [
    "### Group 1"
   ]
  },
  {
   "cell_type": "code",
   "execution_count": 605,
   "id": "4fabbcd8",
   "metadata": {},
   "outputs": [],
   "source": [
    "train_1 = train[train.cluster == 1]"
   ]
  },
  {
   "cell_type": "code",
   "execution_count": 607,
   "id": "8aa615f4",
   "metadata": {},
   "outputs": [
    {
     "data": {
      "text/html": [
       "<div>\n",
       "<style scoped>\n",
       "    .dataframe tbody tr th:only-of-type {\n",
       "        vertical-align: middle;\n",
       "    }\n",
       "\n",
       "    .dataframe tbody tr th {\n",
       "        vertical-align: top;\n",
       "    }\n",
       "\n",
       "    .dataframe thead th {\n",
       "        text-align: right;\n",
       "    }\n",
       "</style>\n",
       "<table border=\"1\" class=\"dataframe\">\n",
       "  <thead>\n",
       "    <tr style=\"text-align: right;\">\n",
       "      <th></th>\n",
       "      <th>id</th>\n",
       "      <th>name</th>\n",
       "      <th>popularity</th>\n",
       "      <th>duration_ms</th>\n",
       "      <th>explicit</th>\n",
       "      <th>artists</th>\n",
       "      <th>id_artists</th>\n",
       "      <th>release_date</th>\n",
       "      <th>danceability</th>\n",
       "      <th>energy</th>\n",
       "      <th>...</th>\n",
       "      <th>acousticness</th>\n",
       "      <th>instrumentalness</th>\n",
       "      <th>liveness</th>\n",
       "      <th>valence</th>\n",
       "      <th>tempo</th>\n",
       "      <th>time_signature</th>\n",
       "      <th>year_of_release</th>\n",
       "      <th>duration_ms_scaled</th>\n",
       "      <th>loudness_scaled</th>\n",
       "      <th>cluster</th>\n",
       "    </tr>\n",
       "  </thead>\n",
       "  <tbody>\n",
       "    <tr>\n",
       "      <th>247901</th>\n",
       "      <td>7H9hrwz5IBDcHeHflB7dZh</td>\n",
       "      <td>Ya No Me Arrepiento</td>\n",
       "      <td>19</td>\n",
       "      <td>247693</td>\n",
       "      <td>0</td>\n",
       "      <td>['Sergio Denis']</td>\n",
       "      <td>['6J19N5JZkGRjuONpiizCIe']</td>\n",
       "      <td>1971-01-01</td>\n",
       "      <td>0.430</td>\n",
       "      <td>0.3040</td>\n",
       "      <td>...</td>\n",
       "      <td>0.877</td>\n",
       "      <td>0.000004</td>\n",
       "      <td>0.2170</td>\n",
       "      <td>0.2420</td>\n",
       "      <td>77.332</td>\n",
       "      <td>4</td>\n",
       "      <td>1971</td>\n",
       "      <td>0.045249</td>\n",
       "      <td>0.750726</td>\n",
       "      <td>1</td>\n",
       "    </tr>\n",
       "    <tr>\n",
       "      <th>305610</th>\n",
       "      <td>01tdB0wTXWY4ue7GAySlWl</td>\n",
       "      <td>I've Got It Bad And That Ain T Good</td>\n",
       "      <td>11</td>\n",
       "      <td>372747</td>\n",
       "      <td>0</td>\n",
       "      <td>['Red Garland Quintet']</td>\n",
       "      <td>['0JsWkl2GlMvsvCQzYUQQ97']</td>\n",
       "      <td>1957-01-01</td>\n",
       "      <td>0.545</td>\n",
       "      <td>0.1710</td>\n",
       "      <td>...</td>\n",
       "      <td>0.965</td>\n",
       "      <td>0.921000</td>\n",
       "      <td>0.0976</td>\n",
       "      <td>0.1450</td>\n",
       "      <td>62.303</td>\n",
       "      <td>4</td>\n",
       "      <td>1957</td>\n",
       "      <td>0.068406</td>\n",
       "      <td>0.722634</td>\n",
       "      <td>1</td>\n",
       "    </tr>\n",
       "    <tr>\n",
       "      <th>44075</th>\n",
       "      <td>3OWfEECAO2MXsUH5u7J4bE</td>\n",
       "      <td>Get Back In Line</td>\n",
       "      <td>40</td>\n",
       "      <td>184160</td>\n",
       "      <td>0</td>\n",
       "      <td>['The Kinks']</td>\n",
       "      <td>['1SQRv42e4PjEYfPhS0Tk9E']</td>\n",
       "      <td>1970-11-27</td>\n",
       "      <td>0.323</td>\n",
       "      <td>0.5540</td>\n",
       "      <td>...</td>\n",
       "      <td>0.142</td>\n",
       "      <td>0.000044</td>\n",
       "      <td>0.2120</td>\n",
       "      <td>0.4200</td>\n",
       "      <td>93.428</td>\n",
       "      <td>4</td>\n",
       "      <td>1970</td>\n",
       "      <td>0.033483</td>\n",
       "      <td>0.800826</td>\n",
       "      <td>1</td>\n",
       "    </tr>\n",
       "    <tr>\n",
       "      <th>337889</th>\n",
       "      <td>5X5YjQO3OqHeAJzpQARMDB</td>\n",
       "      <td>Hallelujah Chorus - From the Oratorio, \"Messiah\"</td>\n",
       "      <td>12</td>\n",
       "      <td>245280</td>\n",
       "      <td>0</td>\n",
       "      <td>['Johnny Mathis']</td>\n",
       "      <td>['21LGsW7bziR4Ledx7WZ1Wf']</td>\n",
       "      <td>1963-10-04</td>\n",
       "      <td>0.404</td>\n",
       "      <td>0.3500</td>\n",
       "      <td>...</td>\n",
       "      <td>0.889</td>\n",
       "      <td>0.000215</td>\n",
       "      <td>0.2290</td>\n",
       "      <td>0.4670</td>\n",
       "      <td>96.672</td>\n",
       "      <td>4</td>\n",
       "      <td>1963</td>\n",
       "      <td>0.044802</td>\n",
       "      <td>0.772044</td>\n",
       "      <td>1</td>\n",
       "    </tr>\n",
       "    <tr>\n",
       "      <th>240147</th>\n",
       "      <td>3D4xY8ldSzNHDMP4Zynady</td>\n",
       "      <td>Amparo</td>\n",
       "      <td>32</td>\n",
       "      <td>219693</td>\n",
       "      <td>0</td>\n",
       "      <td>['Antônio Carlos Jobim']</td>\n",
       "      <td>['3pO5VjZ4wOHCMBXOvbMISG']</td>\n",
       "      <td>1970-01-01</td>\n",
       "      <td>0.225</td>\n",
       "      <td>0.0763</td>\n",
       "      <td>...</td>\n",
       "      <td>0.982</td>\n",
       "      <td>0.887000</td>\n",
       "      <td>0.1280</td>\n",
       "      <td>0.0378</td>\n",
       "      <td>82.881</td>\n",
       "      <td>4</td>\n",
       "      <td>1970</td>\n",
       "      <td>0.040063</td>\n",
       "      <td>0.593006</td>\n",
       "      <td>1</td>\n",
       "    </tr>\n",
       "  </tbody>\n",
       "</table>\n",
       "<p>5 rows × 24 columns</p>\n",
       "</div>"
      ],
      "text/plain": [
       "                            id  \\\n",
       "247901  7H9hrwz5IBDcHeHflB7dZh   \n",
       "305610  01tdB0wTXWY4ue7GAySlWl   \n",
       "44075   3OWfEECAO2MXsUH5u7J4bE   \n",
       "337889  5X5YjQO3OqHeAJzpQARMDB   \n",
       "240147  3D4xY8ldSzNHDMP4Zynady   \n",
       "\n",
       "                                                    name  popularity  \\\n",
       "247901                               Ya No Me Arrepiento          19   \n",
       "305610               I've Got It Bad And That Ain T Good          11   \n",
       "44075                                   Get Back In Line          40   \n",
       "337889  Hallelujah Chorus - From the Oratorio, \"Messiah\"          12   \n",
       "240147                                            Amparo          32   \n",
       "\n",
       "        duration_ms  explicit                   artists  \\\n",
       "247901       247693         0          ['Sergio Denis']   \n",
       "305610       372747         0   ['Red Garland Quintet']   \n",
       "44075        184160         0             ['The Kinks']   \n",
       "337889       245280         0         ['Johnny Mathis']   \n",
       "240147       219693         0  ['Antônio Carlos Jobim']   \n",
       "\n",
       "                        id_artists release_date  danceability  energy  ...  \\\n",
       "247901  ['6J19N5JZkGRjuONpiizCIe']   1971-01-01         0.430  0.3040  ...   \n",
       "305610  ['0JsWkl2GlMvsvCQzYUQQ97']   1957-01-01         0.545  0.1710  ...   \n",
       "44075   ['1SQRv42e4PjEYfPhS0Tk9E']   1970-11-27         0.323  0.5540  ...   \n",
       "337889  ['21LGsW7bziR4Ledx7WZ1Wf']   1963-10-04         0.404  0.3500  ...   \n",
       "240147  ['3pO5VjZ4wOHCMBXOvbMISG']   1970-01-01         0.225  0.0763  ...   \n",
       "\n",
       "        acousticness  instrumentalness  liveness  valence   tempo  \\\n",
       "247901         0.877          0.000004    0.2170   0.2420  77.332   \n",
       "305610         0.965          0.921000    0.0976   0.1450  62.303   \n",
       "44075          0.142          0.000044    0.2120   0.4200  93.428   \n",
       "337889         0.889          0.000215    0.2290   0.4670  96.672   \n",
       "240147         0.982          0.887000    0.1280   0.0378  82.881   \n",
       "\n",
       "        time_signature  year_of_release  duration_ms_scaled  loudness_scaled  \\\n",
       "247901               4             1971            0.045249         0.750726   \n",
       "305610               4             1957            0.068406         0.722634   \n",
       "44075                4             1970            0.033483         0.800826   \n",
       "337889               4             1963            0.044802         0.772044   \n",
       "240147               4             1970            0.040063         0.593006   \n",
       "\n",
       "        cluster  \n",
       "247901        1  \n",
       "305610        1  \n",
       "44075         1  \n",
       "337889        1  \n",
       "240147        1  \n",
       "\n",
       "[5 rows x 24 columns]"
      ]
     },
     "execution_count": 607,
     "metadata": {},
     "output_type": "execute_result"
    }
   ],
   "source": [
    "train_1.head()"
   ]
  },
  {
   "cell_type": "markdown",
   "id": "31d19bd9",
   "metadata": {},
   "source": [
    "Group 1 is more melancholic, slower songs."
   ]
  },
  {
   "cell_type": "markdown",
   "id": "7a048e15",
   "metadata": {},
   "source": [
    "### Group 2"
   ]
  },
  {
   "cell_type": "code",
   "execution_count": 609,
   "id": "d35ade13",
   "metadata": {},
   "outputs": [],
   "source": [
    "train_2 = train[train.cluster == 2]"
   ]
  },
  {
   "cell_type": "code",
   "execution_count": 611,
   "id": "4c11b123",
   "metadata": {},
   "outputs": [
    {
     "data": {
      "text/html": [
       "<div>\n",
       "<style scoped>\n",
       "    .dataframe tbody tr th:only-of-type {\n",
       "        vertical-align: middle;\n",
       "    }\n",
       "\n",
       "    .dataframe tbody tr th {\n",
       "        vertical-align: top;\n",
       "    }\n",
       "\n",
       "    .dataframe thead th {\n",
       "        text-align: right;\n",
       "    }\n",
       "</style>\n",
       "<table border=\"1\" class=\"dataframe\">\n",
       "  <thead>\n",
       "    <tr style=\"text-align: right;\">\n",
       "      <th></th>\n",
       "      <th>id</th>\n",
       "      <th>name</th>\n",
       "      <th>popularity</th>\n",
       "      <th>duration_ms</th>\n",
       "      <th>explicit</th>\n",
       "      <th>artists</th>\n",
       "      <th>id_artists</th>\n",
       "      <th>release_date</th>\n",
       "      <th>danceability</th>\n",
       "      <th>energy</th>\n",
       "      <th>...</th>\n",
       "      <th>acousticness</th>\n",
       "      <th>instrumentalness</th>\n",
       "      <th>liveness</th>\n",
       "      <th>valence</th>\n",
       "      <th>tempo</th>\n",
       "      <th>time_signature</th>\n",
       "      <th>year_of_release</th>\n",
       "      <th>duration_ms_scaled</th>\n",
       "      <th>loudness_scaled</th>\n",
       "      <th>cluster</th>\n",
       "    </tr>\n",
       "  </thead>\n",
       "  <tbody>\n",
       "    <tr>\n",
       "      <th>113274</th>\n",
       "      <td>0EvOQBSyW3uSfwpcaj5xLe</td>\n",
       "      <td>Time - 2013 Remaster</td>\n",
       "      <td>11</td>\n",
       "      <td>315855</td>\n",
       "      <td>0</td>\n",
       "      <td>['David Bowie']</td>\n",
       "      <td>['0oSGxfWSnnOXhD2fKuz2Gy']</td>\n",
       "      <td>2015-09-25</td>\n",
       "      <td>0.330</td>\n",
       "      <td>0.652</td>\n",
       "      <td>...</td>\n",
       "      <td>0.192000</td>\n",
       "      <td>0.000003</td>\n",
       "      <td>0.1050</td>\n",
       "      <td>0.369</td>\n",
       "      <td>145.186</td>\n",
       "      <td>4</td>\n",
       "      <td>2015</td>\n",
       "      <td>0.057871</td>\n",
       "      <td>0.787433</td>\n",
       "      <td>2</td>\n",
       "    </tr>\n",
       "    <tr>\n",
       "      <th>112835</th>\n",
       "      <td>4i3ilJFJbMwLLK3g0ECkXp</td>\n",
       "      <td>Jy Soen Soos 'n Engel</td>\n",
       "      <td>22</td>\n",
       "      <td>228653</td>\n",
       "      <td>0</td>\n",
       "      <td>['David Fourie']</td>\n",
       "      <td>['3372wrCwHX44K1vjwiZHoA']</td>\n",
       "      <td>2011-04-04</td>\n",
       "      <td>0.601</td>\n",
       "      <td>0.953</td>\n",
       "      <td>...</td>\n",
       "      <td>0.000192</td>\n",
       "      <td>0.000000</td>\n",
       "      <td>0.0971</td>\n",
       "      <td>0.731</td>\n",
       "      <td>125.964</td>\n",
       "      <td>4</td>\n",
       "      <td>2011</td>\n",
       "      <td>0.041723</td>\n",
       "      <td>0.834877</td>\n",
       "      <td>2</td>\n",
       "    </tr>\n",
       "    <tr>\n",
       "      <th>284313</th>\n",
       "      <td>27CunNfh9sPzaNhRirLPjA</td>\n",
       "      <td>Fortunate Fool</td>\n",
       "      <td>38</td>\n",
       "      <td>228653</td>\n",
       "      <td>0</td>\n",
       "      <td>['Jack Johnson']</td>\n",
       "      <td>['3GBPw9NK25X1Wt2OUvOwY3']</td>\n",
       "      <td>2001-02-01</td>\n",
       "      <td>0.772</td>\n",
       "      <td>0.284</td>\n",
       "      <td>...</td>\n",
       "      <td>0.542000</td>\n",
       "      <td>0.001720</td>\n",
       "      <td>0.1090</td>\n",
       "      <td>0.328</td>\n",
       "      <td>129.326</td>\n",
       "      <td>4</td>\n",
       "      <td>2001</td>\n",
       "      <td>0.041723</td>\n",
       "      <td>0.766453</td>\n",
       "      <td>2</td>\n",
       "    </tr>\n",
       "    <tr>\n",
       "      <th>262296</th>\n",
       "      <td>2g7ZMGF9V9vuky7fYb2NVZ</td>\n",
       "      <td>Čert a Kača</td>\n",
       "      <td>17</td>\n",
       "      <td>901680</td>\n",
       "      <td>0</td>\n",
       "      <td>['Marián Labuda', 'R.Mihina', 'M.Matejka', 'V....</td>\n",
       "      <td>['1mHKvmQJOQVhd1nLEkiAZr', '6FDvKh65apZwn8Xr0S...</td>\n",
       "      <td>2002-03-07</td>\n",
       "      <td>0.714</td>\n",
       "      <td>0.437</td>\n",
       "      <td>...</td>\n",
       "      <td>0.826000</td>\n",
       "      <td>0.000000</td>\n",
       "      <td>0.0655</td>\n",
       "      <td>0.487</td>\n",
       "      <td>119.787</td>\n",
       "      <td>4</td>\n",
       "      <td>2002</td>\n",
       "      <td>0.166354</td>\n",
       "      <td>0.740405</td>\n",
       "      <td>2</td>\n",
       "    </tr>\n",
       "    <tr>\n",
       "      <th>371127</th>\n",
       "      <td>3VYxTZHWMcuzSSgR03msGs</td>\n",
       "      <td>Eski</td>\n",
       "      <td>41</td>\n",
       "      <td>302138</td>\n",
       "      <td>0</td>\n",
       "      <td>['Şebnem Ferah']</td>\n",
       "      <td>['74xBVPWYoSf5pvo5IkePRO']</td>\n",
       "      <td>2009-12-19</td>\n",
       "      <td>0.552</td>\n",
       "      <td>0.675</td>\n",
       "      <td>...</td>\n",
       "      <td>0.333000</td>\n",
       "      <td>0.000000</td>\n",
       "      <td>0.1070</td>\n",
       "      <td>0.317</td>\n",
       "      <td>125.898</td>\n",
       "      <td>4</td>\n",
       "      <td>2009</td>\n",
       "      <td>0.055331</td>\n",
       "      <td>0.860680</td>\n",
       "      <td>2</td>\n",
       "    </tr>\n",
       "  </tbody>\n",
       "</table>\n",
       "<p>5 rows × 24 columns</p>\n",
       "</div>"
      ],
      "text/plain": [
       "                            id                   name  popularity  \\\n",
       "113274  0EvOQBSyW3uSfwpcaj5xLe   Time - 2013 Remaster          11   \n",
       "112835  4i3ilJFJbMwLLK3g0ECkXp  Jy Soen Soos 'n Engel          22   \n",
       "284313  27CunNfh9sPzaNhRirLPjA         Fortunate Fool          38   \n",
       "262296  2g7ZMGF9V9vuky7fYb2NVZ            Čert a Kača          17   \n",
       "371127  3VYxTZHWMcuzSSgR03msGs                   Eski          41   \n",
       "\n",
       "        duration_ms  explicit  \\\n",
       "113274       315855         0   \n",
       "112835       228653         0   \n",
       "284313       228653         0   \n",
       "262296       901680         0   \n",
       "371127       302138         0   \n",
       "\n",
       "                                                  artists  \\\n",
       "113274                                    ['David Bowie']   \n",
       "112835                                   ['David Fourie']   \n",
       "284313                                   ['Jack Johnson']   \n",
       "262296  ['Marián Labuda', 'R.Mihina', 'M.Matejka', 'V....   \n",
       "371127                                   ['Şebnem Ferah']   \n",
       "\n",
       "                                               id_artists release_date  \\\n",
       "113274                         ['0oSGxfWSnnOXhD2fKuz2Gy']   2015-09-25   \n",
       "112835                         ['3372wrCwHX44K1vjwiZHoA']   2011-04-04   \n",
       "284313                         ['3GBPw9NK25X1Wt2OUvOwY3']   2001-02-01   \n",
       "262296  ['1mHKvmQJOQVhd1nLEkiAZr', '6FDvKh65apZwn8Xr0S...   2002-03-07   \n",
       "371127                         ['74xBVPWYoSf5pvo5IkePRO']   2009-12-19   \n",
       "\n",
       "        danceability  energy  ...  acousticness  instrumentalness  liveness  \\\n",
       "113274         0.330   0.652  ...      0.192000          0.000003    0.1050   \n",
       "112835         0.601   0.953  ...      0.000192          0.000000    0.0971   \n",
       "284313         0.772   0.284  ...      0.542000          0.001720    0.1090   \n",
       "262296         0.714   0.437  ...      0.826000          0.000000    0.0655   \n",
       "371127         0.552   0.675  ...      0.333000          0.000000    0.1070   \n",
       "\n",
       "        valence    tempo  time_signature  year_of_release  duration_ms_scaled  \\\n",
       "113274    0.369  145.186               4             2015            0.057871   \n",
       "112835    0.731  125.964               4             2011            0.041723   \n",
       "284313    0.328  129.326               4             2001            0.041723   \n",
       "262296    0.487  119.787               4             2002            0.166354   \n",
       "371127    0.317  125.898               4             2009            0.055331   \n",
       "\n",
       "        loudness_scaled  cluster  \n",
       "113274         0.787433        2  \n",
       "112835         0.834877        2  \n",
       "284313         0.766453        2  \n",
       "262296         0.740405        2  \n",
       "371127         0.860680        2  \n",
       "\n",
       "[5 rows x 24 columns]"
      ]
     },
     "execution_count": 611,
     "metadata": {},
     "output_type": "execute_result"
    }
   ],
   "source": [
    "train_2.head()"
   ]
  },
  {
   "cell_type": "markdown",
   "id": "829f0640",
   "metadata": {},
   "source": [
    "Group 2 has an acoustic rock-and-roll quality."
   ]
  },
  {
   "cell_type": "markdown",
   "id": "1b6fa948",
   "metadata": {},
   "source": [
    "### Group 3"
   ]
  },
  {
   "cell_type": "code",
   "execution_count": 613,
   "id": "3e137207",
   "metadata": {},
   "outputs": [],
   "source": [
    "train_3 = train[train.cluster == 3]"
   ]
  },
  {
   "cell_type": "code",
   "execution_count": 614,
   "id": "c407ed29",
   "metadata": {},
   "outputs": [
    {
     "data": {
      "text/html": [
       "<div>\n",
       "<style scoped>\n",
       "    .dataframe tbody tr th:only-of-type {\n",
       "        vertical-align: middle;\n",
       "    }\n",
       "\n",
       "    .dataframe tbody tr th {\n",
       "        vertical-align: top;\n",
       "    }\n",
       "\n",
       "    .dataframe thead th {\n",
       "        text-align: right;\n",
       "    }\n",
       "</style>\n",
       "<table border=\"1\" class=\"dataframe\">\n",
       "  <thead>\n",
       "    <tr style=\"text-align: right;\">\n",
       "      <th></th>\n",
       "      <th>id</th>\n",
       "      <th>name</th>\n",
       "      <th>popularity</th>\n",
       "      <th>duration_ms</th>\n",
       "      <th>explicit</th>\n",
       "      <th>artists</th>\n",
       "      <th>id_artists</th>\n",
       "      <th>release_date</th>\n",
       "      <th>danceability</th>\n",
       "      <th>energy</th>\n",
       "      <th>...</th>\n",
       "      <th>acousticness</th>\n",
       "      <th>instrumentalness</th>\n",
       "      <th>liveness</th>\n",
       "      <th>valence</th>\n",
       "      <th>tempo</th>\n",
       "      <th>time_signature</th>\n",
       "      <th>year_of_release</th>\n",
       "      <th>duration_ms_scaled</th>\n",
       "      <th>loudness_scaled</th>\n",
       "      <th>cluster</th>\n",
       "    </tr>\n",
       "  </thead>\n",
       "  <tbody>\n",
       "    <tr>\n",
       "      <th>267026</th>\n",
       "      <td>0St7qoRogQ9B9uIqmLdjIr</td>\n",
       "      <td>Red Clay</td>\n",
       "      <td>20</td>\n",
       "      <td>728533</td>\n",
       "      <td>0</td>\n",
       "      <td>['Freddie Hubbard']</td>\n",
       "      <td>['0fTHKjepK5HWOrb2rkS5Em']</td>\n",
       "      <td>1970-01-01</td>\n",
       "      <td>0.530</td>\n",
       "      <td>0.388</td>\n",
       "      <td>...</td>\n",
       "      <td>0.338</td>\n",
       "      <td>0.261000</td>\n",
       "      <td>0.0958</td>\n",
       "      <td>0.587</td>\n",
       "      <td>139.339</td>\n",
       "      <td>4</td>\n",
       "      <td>1970</td>\n",
       "      <td>0.134290</td>\n",
       "      <td>0.715999</td>\n",
       "      <td>3</td>\n",
       "    </tr>\n",
       "    <tr>\n",
       "      <th>189759</th>\n",
       "      <td>5oD4obArjBOP28YjclhcNr</td>\n",
       "      <td>O Astronauta - Instrumental</td>\n",
       "      <td>19</td>\n",
       "      <td>181613</td>\n",
       "      <td>0</td>\n",
       "      <td>['Odette Lara', 'Vinícius de Moraes']</td>\n",
       "      <td>['1qCTWVxt74ULl0u12pjnTc', '5HlnN6xF2MD87KhGRm...</td>\n",
       "      <td>1963-01-01</td>\n",
       "      <td>0.423</td>\n",
       "      <td>0.479</td>\n",
       "      <td>...</td>\n",
       "      <td>0.186</td>\n",
       "      <td>0.000002</td>\n",
       "      <td>0.2550</td>\n",
       "      <td>0.591</td>\n",
       "      <td>153.212</td>\n",
       "      <td>4</td>\n",
       "      <td>1963</td>\n",
       "      <td>0.033012</td>\n",
       "      <td>0.736872</td>\n",
       "      <td>3</td>\n",
       "    </tr>\n",
       "    <tr>\n",
       "      <th>2186</th>\n",
       "      <td>1P3YFEDFTCSSQ4KVoUgO7t</td>\n",
       "      <td>Smashin' Thirds</td>\n",
       "      <td>4</td>\n",
       "      <td>184920</td>\n",
       "      <td>0</td>\n",
       "      <td>['Fats Waller']</td>\n",
       "      <td>['0DYWCXTkNqGFZIf67SrWEa']</td>\n",
       "      <td>1926-01-01</td>\n",
       "      <td>0.541</td>\n",
       "      <td>0.247</td>\n",
       "      <td>...</td>\n",
       "      <td>0.982</td>\n",
       "      <td>0.868000</td>\n",
       "      <td>0.1310</td>\n",
       "      <td>0.812</td>\n",
       "      <td>111.664</td>\n",
       "      <td>4</td>\n",
       "      <td>1926</td>\n",
       "      <td>0.033624</td>\n",
       "      <td>0.625244</td>\n",
       "      <td>3</td>\n",
       "    </tr>\n",
       "    <tr>\n",
       "      <th>136319</th>\n",
       "      <td>7nKfyxYFXf5HdwSbeLFq1l</td>\n",
       "      <td>Blueberry Hill</td>\n",
       "      <td>0</td>\n",
       "      <td>199101</td>\n",
       "      <td>0</td>\n",
       "      <td>['Russ Morgan']</td>\n",
       "      <td>['4p2WNjwHrHBUD9XJBmbf7H']</td>\n",
       "      <td>1944-01-01</td>\n",
       "      <td>0.313</td>\n",
       "      <td>0.218</td>\n",
       "      <td>...</td>\n",
       "      <td>0.799</td>\n",
       "      <td>0.006770</td>\n",
       "      <td>0.1280</td>\n",
       "      <td>0.316</td>\n",
       "      <td>115.668</td>\n",
       "      <td>4</td>\n",
       "      <td>1944</td>\n",
       "      <td>0.036250</td>\n",
       "      <td>0.739790</td>\n",
       "      <td>3</td>\n",
       "    </tr>\n",
       "    <tr>\n",
       "      <th>514476</th>\n",
       "      <td>08CkhcDtEogvbDzCIOBivc</td>\n",
       "      <td>Summertime</td>\n",
       "      <td>0</td>\n",
       "      <td>201520</td>\n",
       "      <td>0</td>\n",
       "      <td>['']</td>\n",
       "      <td>['0LyfQWJT6nXafLPZqxe9Of']</td>\n",
       "      <td>1950-09-01</td>\n",
       "      <td>0.268</td>\n",
       "      <td>0.322</td>\n",
       "      <td>...</td>\n",
       "      <td>0.988</td>\n",
       "      <td>0.288000</td>\n",
       "      <td>0.6020</td>\n",
       "      <td>0.319</td>\n",
       "      <td>146.201</td>\n",
       "      <td>4</td>\n",
       "      <td>1950</td>\n",
       "      <td>0.036698</td>\n",
       "      <td>0.711699</td>\n",
       "      <td>3</td>\n",
       "    </tr>\n",
       "  </tbody>\n",
       "</table>\n",
       "<p>5 rows × 24 columns</p>\n",
       "</div>"
      ],
      "text/plain": [
       "                            id                         name  popularity  \\\n",
       "267026  0St7qoRogQ9B9uIqmLdjIr                     Red Clay          20   \n",
       "189759  5oD4obArjBOP28YjclhcNr  O Astronauta - Instrumental          19   \n",
       "2186    1P3YFEDFTCSSQ4KVoUgO7t              Smashin' Thirds           4   \n",
       "136319  7nKfyxYFXf5HdwSbeLFq1l               Blueberry Hill           0   \n",
       "514476  08CkhcDtEogvbDzCIOBivc                   Summertime           0   \n",
       "\n",
       "        duration_ms  explicit                                artists  \\\n",
       "267026       728533         0                    ['Freddie Hubbard']   \n",
       "189759       181613         0  ['Odette Lara', 'Vinícius de Moraes']   \n",
       "2186         184920         0                        ['Fats Waller']   \n",
       "136319       199101         0                        ['Russ Morgan']   \n",
       "514476       201520         0                                   ['']   \n",
       "\n",
       "                                               id_artists release_date  \\\n",
       "267026                         ['0fTHKjepK5HWOrb2rkS5Em']   1970-01-01   \n",
       "189759  ['1qCTWVxt74ULl0u12pjnTc', '5HlnN6xF2MD87KhGRm...   1963-01-01   \n",
       "2186                           ['0DYWCXTkNqGFZIf67SrWEa']   1926-01-01   \n",
       "136319                         ['4p2WNjwHrHBUD9XJBmbf7H']   1944-01-01   \n",
       "514476                         ['0LyfQWJT6nXafLPZqxe9Of']   1950-09-01   \n",
       "\n",
       "        danceability  energy  ...  acousticness  instrumentalness  liveness  \\\n",
       "267026         0.530   0.388  ...         0.338          0.261000    0.0958   \n",
       "189759         0.423   0.479  ...         0.186          0.000002    0.2550   \n",
       "2186           0.541   0.247  ...         0.982          0.868000    0.1310   \n",
       "136319         0.313   0.218  ...         0.799          0.006770    0.1280   \n",
       "514476         0.268   0.322  ...         0.988          0.288000    0.6020   \n",
       "\n",
       "        valence    tempo  time_signature  year_of_release  duration_ms_scaled  \\\n",
       "267026    0.587  139.339               4             1970            0.134290   \n",
       "189759    0.591  153.212               4             1963            0.033012   \n",
       "2186      0.812  111.664               4             1926            0.033624   \n",
       "136319    0.316  115.668               4             1944            0.036250   \n",
       "514476    0.319  146.201               4             1950            0.036698   \n",
       "\n",
       "        loudness_scaled  cluster  \n",
       "267026         0.715999        3  \n",
       "189759         0.736872        3  \n",
       "2186           0.625244        3  \n",
       "136319         0.739790        3  \n",
       "514476         0.711699        3  \n",
       "\n",
       "[5 rows x 24 columns]"
      ]
     },
     "execution_count": 614,
     "metadata": {},
     "output_type": "execute_result"
    }
   ],
   "source": [
    "train_3.head()"
   ]
  },
  {
   "cell_type": "markdown",
   "id": "35e997cf",
   "metadata": {},
   "source": [
    "Group 3 has an instrumental, jazzy, old-time feel."
   ]
  },
  {
   "cell_type": "markdown",
   "id": "53b06c33",
   "metadata": {},
   "source": [
    "### Group 4"
   ]
  },
  {
   "cell_type": "code",
   "execution_count": 624,
   "id": "b9f18f6a",
   "metadata": {},
   "outputs": [],
   "source": [
    "train_4 = train[train.cluster == 4]"
   ]
  },
  {
   "cell_type": "code",
   "execution_count": 625,
   "id": "b43551ca",
   "metadata": {},
   "outputs": [
    {
     "data": {
      "text/html": [
       "<div>\n",
       "<style scoped>\n",
       "    .dataframe tbody tr th:only-of-type {\n",
       "        vertical-align: middle;\n",
       "    }\n",
       "\n",
       "    .dataframe tbody tr th {\n",
       "        vertical-align: top;\n",
       "    }\n",
       "\n",
       "    .dataframe thead th {\n",
       "        text-align: right;\n",
       "    }\n",
       "</style>\n",
       "<table border=\"1\" class=\"dataframe\">\n",
       "  <thead>\n",
       "    <tr style=\"text-align: right;\">\n",
       "      <th></th>\n",
       "      <th>id</th>\n",
       "      <th>name</th>\n",
       "      <th>popularity</th>\n",
       "      <th>duration_ms</th>\n",
       "      <th>explicit</th>\n",
       "      <th>artists</th>\n",
       "      <th>id_artists</th>\n",
       "      <th>release_date</th>\n",
       "      <th>danceability</th>\n",
       "      <th>energy</th>\n",
       "      <th>...</th>\n",
       "      <th>acousticness</th>\n",
       "      <th>instrumentalness</th>\n",
       "      <th>liveness</th>\n",
       "      <th>valence</th>\n",
       "      <th>tempo</th>\n",
       "      <th>time_signature</th>\n",
       "      <th>year_of_release</th>\n",
       "      <th>duration_ms_scaled</th>\n",
       "      <th>loudness_scaled</th>\n",
       "      <th>cluster</th>\n",
       "    </tr>\n",
       "  </thead>\n",
       "  <tbody>\n",
       "    <tr>\n",
       "      <th>145553</th>\n",
       "      <td>47YmRDI67DigzJtlcg0BGK</td>\n",
       "      <td>Sigo Buscando Un Amor</td>\n",
       "      <td>12</td>\n",
       "      <td>409133</td>\n",
       "      <td>0</td>\n",
       "      <td>['Roberto Roena']</td>\n",
       "      <td>['4i5rDrP2IqCdMgde0vIpyB']</td>\n",
       "      <td>1980-12-31</td>\n",
       "      <td>0.536</td>\n",
       "      <td>0.613</td>\n",
       "      <td>...</td>\n",
       "      <td>0.5510</td>\n",
       "      <td>0.007360</td>\n",
       "      <td>0.129</td>\n",
       "      <td>0.798</td>\n",
       "      <td>104.461</td>\n",
       "      <td>4</td>\n",
       "      <td>1980</td>\n",
       "      <td>0.075144</td>\n",
       "      <td>0.816369</td>\n",
       "      <td>4</td>\n",
       "    </tr>\n",
       "    <tr>\n",
       "      <th>452182</th>\n",
       "      <td>1i1SZziMzvtv49MXiJKmcv</td>\n",
       "      <td>Evangelina</td>\n",
       "      <td>19</td>\n",
       "      <td>225253</td>\n",
       "      <td>0</td>\n",
       "      <td>['Jonathan Edwards']</td>\n",
       "      <td>['7gyVuJLsatWofXCAw1SGxM']</td>\n",
       "      <td>1977-01-01</td>\n",
       "      <td>0.640</td>\n",
       "      <td>0.325</td>\n",
       "      <td>...</td>\n",
       "      <td>0.4410</td>\n",
       "      <td>0.293000</td>\n",
       "      <td>0.150</td>\n",
       "      <td>0.765</td>\n",
       "      <td>132.707</td>\n",
       "      <td>4</td>\n",
       "      <td>1977</td>\n",
       "      <td>0.041093</td>\n",
       "      <td>0.679553</td>\n",
       "      <td>4</td>\n",
       "    </tr>\n",
       "    <tr>\n",
       "      <th>207534</th>\n",
       "      <td>4AOQOmkh8YT3HA8e0xBw76</td>\n",
       "      <td>Cervecita</td>\n",
       "      <td>16</td>\n",
       "      <td>166547</td>\n",
       "      <td>0</td>\n",
       "      <td>['Los Shapis']</td>\n",
       "      <td>['3LorjMdYWKEtf3wdNtjM6v']</td>\n",
       "      <td>1995-08-08</td>\n",
       "      <td>0.594</td>\n",
       "      <td>0.685</td>\n",
       "      <td>...</td>\n",
       "      <td>0.7190</td>\n",
       "      <td>0.000082</td>\n",
       "      <td>0.224</td>\n",
       "      <td>0.892</td>\n",
       "      <td>113.193</td>\n",
       "      <td>4</td>\n",
       "      <td>1995</td>\n",
       "      <td>0.030222</td>\n",
       "      <td>0.847195</td>\n",
       "      <td>4</td>\n",
       "    </tr>\n",
       "    <tr>\n",
       "      <th>167720</th>\n",
       "      <td>54toym5sP7H1vi8NxMTlFH</td>\n",
       "      <td>Desperate Dreams</td>\n",
       "      <td>37</td>\n",
       "      <td>286933</td>\n",
       "      <td>0</td>\n",
       "      <td>['Survivor']</td>\n",
       "      <td>['26bcq2nyj5GB7uRr558iQg']</td>\n",
       "      <td>1988-09-25</td>\n",
       "      <td>0.625</td>\n",
       "      <td>0.646</td>\n",
       "      <td>...</td>\n",
       "      <td>0.0691</td>\n",
       "      <td>0.000035</td>\n",
       "      <td>0.114</td>\n",
       "      <td>0.362</td>\n",
       "      <td>121.647</td>\n",
       "      <td>4</td>\n",
       "      <td>1988</td>\n",
       "      <td>0.052515</td>\n",
       "      <td>0.754704</td>\n",
       "      <td>4</td>\n",
       "    </tr>\n",
       "    <tr>\n",
       "      <th>377606</th>\n",
       "      <td>6yPVqp3Nt2mFzvdExaIWP9</td>\n",
       "      <td>J'attendrai</td>\n",
       "      <td>33</td>\n",
       "      <td>177973</td>\n",
       "      <td>0</td>\n",
       "      <td>['Claude François']</td>\n",
       "      <td>['0P2p1bqVyP2EgqubwjTBUJ']</td>\n",
       "      <td>1993-01-01</td>\n",
       "      <td>0.521</td>\n",
       "      <td>0.587</td>\n",
       "      <td>...</td>\n",
       "      <td>0.2850</td>\n",
       "      <td>0.000000</td>\n",
       "      <td>0.114</td>\n",
       "      <td>0.619</td>\n",
       "      <td>123.587</td>\n",
       "      <td>4</td>\n",
       "      <td>1993</td>\n",
       "      <td>0.032338</td>\n",
       "      <td>0.852325</td>\n",
       "      <td>4</td>\n",
       "    </tr>\n",
       "  </tbody>\n",
       "</table>\n",
       "<p>5 rows × 24 columns</p>\n",
       "</div>"
      ],
      "text/plain": [
       "                            id                   name  popularity  \\\n",
       "145553  47YmRDI67DigzJtlcg0BGK  Sigo Buscando Un Amor          12   \n",
       "452182  1i1SZziMzvtv49MXiJKmcv             Evangelina          19   \n",
       "207534  4AOQOmkh8YT3HA8e0xBw76              Cervecita          16   \n",
       "167720  54toym5sP7H1vi8NxMTlFH       Desperate Dreams          37   \n",
       "377606  6yPVqp3Nt2mFzvdExaIWP9            J'attendrai          33   \n",
       "\n",
       "        duration_ms  explicit               artists  \\\n",
       "145553       409133         0     ['Roberto Roena']   \n",
       "452182       225253         0  ['Jonathan Edwards']   \n",
       "207534       166547         0        ['Los Shapis']   \n",
       "167720       286933         0          ['Survivor']   \n",
       "377606       177973         0   ['Claude François']   \n",
       "\n",
       "                        id_artists release_date  danceability  energy  ...  \\\n",
       "145553  ['4i5rDrP2IqCdMgde0vIpyB']   1980-12-31         0.536   0.613  ...   \n",
       "452182  ['7gyVuJLsatWofXCAw1SGxM']   1977-01-01         0.640   0.325  ...   \n",
       "207534  ['3LorjMdYWKEtf3wdNtjM6v']   1995-08-08         0.594   0.685  ...   \n",
       "167720  ['26bcq2nyj5GB7uRr558iQg']   1988-09-25         0.625   0.646  ...   \n",
       "377606  ['0P2p1bqVyP2EgqubwjTBUJ']   1993-01-01         0.521   0.587  ...   \n",
       "\n",
       "        acousticness  instrumentalness  liveness  valence    tempo  \\\n",
       "145553        0.5510          0.007360     0.129    0.798  104.461   \n",
       "452182        0.4410          0.293000     0.150    0.765  132.707   \n",
       "207534        0.7190          0.000082     0.224    0.892  113.193   \n",
       "167720        0.0691          0.000035     0.114    0.362  121.647   \n",
       "377606        0.2850          0.000000     0.114    0.619  123.587   \n",
       "\n",
       "        time_signature  year_of_release  duration_ms_scaled  loudness_scaled  \\\n",
       "145553               4             1980            0.075144         0.816369   \n",
       "452182               4             1977            0.041093         0.679553   \n",
       "207534               4             1995            0.030222         0.847195   \n",
       "167720               4             1988            0.052515         0.754704   \n",
       "377606               4             1993            0.032338         0.852325   \n",
       "\n",
       "        cluster  \n",
       "145553        4  \n",
       "452182        4  \n",
       "207534        4  \n",
       "167720        4  \n",
       "377606        4  \n",
       "\n",
       "[5 rows x 24 columns]"
      ]
     },
     "execution_count": 625,
     "metadata": {},
     "output_type": "execute_result"
    }
   ],
   "source": [
    "train_4.head()"
   ]
  },
  {
   "cell_type": "markdown",
   "id": "e1456d06",
   "metadata": {},
   "source": [
    "Group 4 has a traditional Latin/country sound."
   ]
  },
  {
   "cell_type": "markdown",
   "id": "e8833639",
   "metadata": {},
   "source": [
    "### Group 5"
   ]
  },
  {
   "cell_type": "code",
   "execution_count": 621,
   "id": "6090016b",
   "metadata": {},
   "outputs": [],
   "source": [
    "train_5 = train[train.cluster == 5]"
   ]
  },
  {
   "cell_type": "code",
   "execution_count": 622,
   "id": "81834fd3",
   "metadata": {},
   "outputs": [
    {
     "data": {
      "text/html": [
       "<div>\n",
       "<style scoped>\n",
       "    .dataframe tbody tr th:only-of-type {\n",
       "        vertical-align: middle;\n",
       "    }\n",
       "\n",
       "    .dataframe tbody tr th {\n",
       "        vertical-align: top;\n",
       "    }\n",
       "\n",
       "    .dataframe thead th {\n",
       "        text-align: right;\n",
       "    }\n",
       "</style>\n",
       "<table border=\"1\" class=\"dataframe\">\n",
       "  <thead>\n",
       "    <tr style=\"text-align: right;\">\n",
       "      <th></th>\n",
       "      <th>id</th>\n",
       "      <th>name</th>\n",
       "      <th>popularity</th>\n",
       "      <th>duration_ms</th>\n",
       "      <th>explicit</th>\n",
       "      <th>artists</th>\n",
       "      <th>id_artists</th>\n",
       "      <th>release_date</th>\n",
       "      <th>danceability</th>\n",
       "      <th>energy</th>\n",
       "      <th>...</th>\n",
       "      <th>acousticness</th>\n",
       "      <th>instrumentalness</th>\n",
       "      <th>liveness</th>\n",
       "      <th>valence</th>\n",
       "      <th>tempo</th>\n",
       "      <th>time_signature</th>\n",
       "      <th>year_of_release</th>\n",
       "      <th>duration_ms_scaled</th>\n",
       "      <th>loudness_scaled</th>\n",
       "      <th>cluster</th>\n",
       "    </tr>\n",
       "  </thead>\n",
       "  <tbody>\n",
       "    <tr>\n",
       "      <th>404070</th>\n",
       "      <td>4RoQxXt8eSKeSFmhxLXu3x</td>\n",
       "      <td>Oru Ooril</td>\n",
       "      <td>39</td>\n",
       "      <td>279467</td>\n",
       "      <td>0</td>\n",
       "      <td>['Karthik']</td>\n",
       "      <td>['0LSPREIgGMZXCuKVel7LVD']</td>\n",
       "      <td>2003-09-27</td>\n",
       "      <td>0.594</td>\n",
       "      <td>0.633</td>\n",
       "      <td>...</td>\n",
       "      <td>0.2810</td>\n",
       "      <td>0.0</td>\n",
       "      <td>0.0559</td>\n",
       "      <td>0.757</td>\n",
       "      <td>169.779</td>\n",
       "      <td>4</td>\n",
       "      <td>2003</td>\n",
       "      <td>0.051132</td>\n",
       "      <td>0.818305</td>\n",
       "      <td>5</td>\n",
       "    </tr>\n",
       "    <tr>\n",
       "      <th>319183</th>\n",
       "      <td>6FxUiq2HJbjyj4dBnXumrb</td>\n",
       "      <td>Lay down (Candles in the rain)</td>\n",
       "      <td>7</td>\n",
       "      <td>274274</td>\n",
       "      <td>0</td>\n",
       "      <td>['Emilíana Torrini']</td>\n",
       "      <td>['08j69Ndyx1P7RLO3Janb5P']</td>\n",
       "      <td>1996-01-01</td>\n",
       "      <td>0.305</td>\n",
       "      <td>0.726</td>\n",
       "      <td>...</td>\n",
       "      <td>0.1830</td>\n",
       "      <td>0.0</td>\n",
       "      <td>0.1340</td>\n",
       "      <td>0.592</td>\n",
       "      <td>167.728</td>\n",
       "      <td>4</td>\n",
       "      <td>1996</td>\n",
       "      <td>0.050171</td>\n",
       "      <td>0.809412</td>\n",
       "      <td>5</td>\n",
       "    </tr>\n",
       "    <tr>\n",
       "      <th>275579</th>\n",
       "      <td>4B58w2sCk7y7mcIdIoP7Gd</td>\n",
       "      <td>Especially for You</td>\n",
       "      <td>54</td>\n",
       "      <td>223013</td>\n",
       "      <td>0</td>\n",
       "      <td>['MYMP']</td>\n",
       "      <td>['5elcNQkZ6FCZA3grSOMngY']</td>\n",
       "      <td>2005-03-10</td>\n",
       "      <td>0.698</td>\n",
       "      <td>0.398</td>\n",
       "      <td>...</td>\n",
       "      <td>0.4990</td>\n",
       "      <td>0.0</td>\n",
       "      <td>0.1800</td>\n",
       "      <td>0.758</td>\n",
       "      <td>163.028</td>\n",
       "      <td>4</td>\n",
       "      <td>2005</td>\n",
       "      <td>0.040678</td>\n",
       "      <td>0.784838</td>\n",
       "      <td>5</td>\n",
       "    </tr>\n",
       "    <tr>\n",
       "      <th>301637</th>\n",
       "      <td>2QQ0lfEAu3ncUHM3C6Rkg3</td>\n",
       "      <td>Is Anybody Home?</td>\n",
       "      <td>45</td>\n",
       "      <td>218000</td>\n",
       "      <td>0</td>\n",
       "      <td>['Our Lady Peace']</td>\n",
       "      <td>['1lqW59DUEKqvcHc8mVWBtH']</td>\n",
       "      <td>1999-09-06</td>\n",
       "      <td>0.442</td>\n",
       "      <td>0.896</td>\n",
       "      <td>...</td>\n",
       "      <td>0.0219</td>\n",
       "      <td>0.0</td>\n",
       "      <td>0.3830</td>\n",
       "      <td>0.573</td>\n",
       "      <td>155.044</td>\n",
       "      <td>4</td>\n",
       "      <td>1999</td>\n",
       "      <td>0.039750</td>\n",
       "      <td>0.850635</td>\n",
       "      <td>5</td>\n",
       "    </tr>\n",
       "    <tr>\n",
       "      <th>557744</th>\n",
       "      <td>27K9pfqACmZxsvNpJ8FSxq</td>\n",
       "      <td>Return to Myself</td>\n",
       "      <td>40</td>\n",
       "      <td>269110</td>\n",
       "      <td>0</td>\n",
       "      <td>['Mari Hamada']</td>\n",
       "      <td>['2lQwmHGmTnEu1jjfAgUAcq']</td>\n",
       "      <td>2008-10-22</td>\n",
       "      <td>0.390</td>\n",
       "      <td>0.922</td>\n",
       "      <td>...</td>\n",
       "      <td>0.0770</td>\n",
       "      <td>0.0</td>\n",
       "      <td>0.0674</td>\n",
       "      <td>0.560</td>\n",
       "      <td>167.729</td>\n",
       "      <td>4</td>\n",
       "      <td>2008</td>\n",
       "      <td>0.049215</td>\n",
       "      <td>0.880047</td>\n",
       "      <td>5</td>\n",
       "    </tr>\n",
       "  </tbody>\n",
       "</table>\n",
       "<p>5 rows × 24 columns</p>\n",
       "</div>"
      ],
      "text/plain": [
       "                            id                            name  popularity  \\\n",
       "404070  4RoQxXt8eSKeSFmhxLXu3x                       Oru Ooril          39   \n",
       "319183  6FxUiq2HJbjyj4dBnXumrb  Lay down (Candles in the rain)           7   \n",
       "275579  4B58w2sCk7y7mcIdIoP7Gd              Especially for You          54   \n",
       "301637  2QQ0lfEAu3ncUHM3C6Rkg3                Is Anybody Home?          45   \n",
       "557744  27K9pfqACmZxsvNpJ8FSxq                Return to Myself          40   \n",
       "\n",
       "        duration_ms  explicit               artists  \\\n",
       "404070       279467         0           ['Karthik']   \n",
       "319183       274274         0  ['Emilíana Torrini']   \n",
       "275579       223013         0              ['MYMP']   \n",
       "301637       218000         0    ['Our Lady Peace']   \n",
       "557744       269110         0       ['Mari Hamada']   \n",
       "\n",
       "                        id_artists release_date  danceability  energy  ...  \\\n",
       "404070  ['0LSPREIgGMZXCuKVel7LVD']   2003-09-27         0.594   0.633  ...   \n",
       "319183  ['08j69Ndyx1P7RLO3Janb5P']   1996-01-01         0.305   0.726  ...   \n",
       "275579  ['5elcNQkZ6FCZA3grSOMngY']   2005-03-10         0.698   0.398  ...   \n",
       "301637  ['1lqW59DUEKqvcHc8mVWBtH']   1999-09-06         0.442   0.896  ...   \n",
       "557744  ['2lQwmHGmTnEu1jjfAgUAcq']   2008-10-22         0.390   0.922  ...   \n",
       "\n",
       "        acousticness  instrumentalness  liveness  valence    tempo  \\\n",
       "404070        0.2810               0.0    0.0559    0.757  169.779   \n",
       "319183        0.1830               0.0    0.1340    0.592  167.728   \n",
       "275579        0.4990               0.0    0.1800    0.758  163.028   \n",
       "301637        0.0219               0.0    0.3830    0.573  155.044   \n",
       "557744        0.0770               0.0    0.0674    0.560  167.729   \n",
       "\n",
       "        time_signature  year_of_release  duration_ms_scaled  loudness_scaled  \\\n",
       "404070               4             2003            0.051132         0.818305   \n",
       "319183               4             1996            0.050171         0.809412   \n",
       "275579               4             2005            0.040678         0.784838   \n",
       "301637               4             1999            0.039750         0.850635   \n",
       "557744               4             2008            0.049215         0.880047   \n",
       "\n",
       "        cluster  \n",
       "404070        5  \n",
       "319183        5  \n",
       "275579        5  \n",
       "301637        5  \n",
       "557744        5  \n",
       "\n",
       "[5 rows x 24 columns]"
      ]
     },
     "execution_count": 622,
     "metadata": {},
     "output_type": "execute_result"
    }
   ],
   "source": [
    "train_5.head()"
   ]
  },
  {
   "cell_type": "markdown",
   "id": "f9c51ded",
   "metadata": {},
   "source": [
    "Group 5 has an uplifting, energetic, gospel-like quality. "
   ]
  }
 ],
 "metadata": {
  "kernelspec": {
   "display_name": "Python 3",
   "language": "python",
   "name": "python3"
  },
  "language_info": {
   "codemirror_mode": {
    "name": "ipython",
    "version": 3
   },
   "file_extension": ".py",
   "mimetype": "text/x-python",
   "name": "python",
   "nbconvert_exporter": "python",
   "pygments_lexer": "ipython3",
   "version": "3.8.8"
  }
 },
 "nbformat": 4,
 "nbformat_minor": 5
}
